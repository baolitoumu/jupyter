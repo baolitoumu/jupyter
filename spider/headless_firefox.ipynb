{
 "cells": [
  {
   "cell_type": "code",
   "execution_count": 40,
   "metadata": {},
   "outputs": [],
   "source": [
    "from IPython.display import Image\n",
    "\n",
    "from selenium import webdriver\n",
    "from selenium.webdriver.firefox.options import Options\n",
    "options = Options()\n",
    "options.add_argument('-headless')\n",
    "firefox_profile = webdriver.FirefoxProfile()\n",
    "firefox_profile.set_preference(\"permissions.default.stylesheet\", 2)  # 禁用样式表文件 1为允许加载\n",
    "firefox_profile.set_preference(\"permissions.default.image\", 2)  # 不加载图片\n",
    "firefox_profile.set_preference(\"dom.ipc.plugins.enabled.libflashplayer.so\", 2)  # 关flash\n",
    "firefox_profile.update_preferences()  # 更新设置\n",
    "\n",
    "driver = webdriver.Firefox(firefox_profile, timeout=10, firefox_options=options)\n",
    "driver.set_window_size(1024, 5555)\n",
    "\n"
   ]
  },
  {
   "cell_type": "code",
   "execution_count": null,
   "metadata": {},
   "outputs": [],
   "source": [
    "for i in range(1):\n",
    "    #_____________________url参数___________________________\n",
    "    pn='999'\n",
    "    usm='100'\n",
    "    word='免费代理'\n",
    "    sa='np'\n",
    "    rsv_pq=''\n",
    "    rsv_t=''\n",
    "    rqid=''\n",
    "    #_____________________启动浏览器___________________________\n",
    "    url = 'https://m.baidu.com/s?pn='+pn+'&usm='+usm+'&word='+word+'&sa='+sa+'&rsv_pq='+rsv_pq+'&rsv_t='+rsv_t+'&rqid='+rqid\n",
    "    driver.get (url)\n",
    "    contant = driver.page_source\n",
    "    driver.save_screenshot('csdn2.png')\n",
    "    driver.delete_all_cookies()#删除当前会话的所有cookie\n",
    "    #driver.delete_cookie('my_cookie')#删除一个指定的cookie\n",
    "    driver.close()\n",
    "Image(\"csdn2.png\")\n"
   ]
  },
  {
   "cell_type": "code",
   "execution_count": 7,
   "metadata": {},
   "outputs": [],
   "source": [
    "for i in range(1):\n",
    "    #_____________________url参数___________________________\n",
    "    pn='999'\n",
    "    usm='100'\n",
    "    word='免费代理'\n",
    "    sa='np'\n",
    "    rsv_pq=''\n",
    "    rsv_t=''\n",
    "    rqid=''\n",
    "    #_____________________启动浏览器___________________________\n",
    "    url = 'https://m.baidu.com/s?pn='+pn+'&usm='+usm+'&word='+word+'&sa='+sa+'&rsv_pq='+rsv_pq+'&rsv_t='+rsv_t+'&rqid='+rqid\n",
    "    driver.get (url)\n",
    "    contant = driver.page_source\n",
    "    driver.save_screenshot('csdn2.png')\n",
    "    driver.delete_all_cookies()#删除当前会话的所有cookie\n",
    "    #driver.delete_cookie('my_cookie')#删除一个指定的cookie\n",
    "    driver.close()\n",
    "Image(\"csdn2.png\")"
   ]
  },
  {
   "cell_type": "code",
   "execution_count": null,
   "metadata": {},
   "outputs": [],
   "source": []
  }
 ],
 "metadata": {
  "kernelspec": {
   "display_name": "Python 3",
   "language": "python",
   "name": "python3"
  },
  "language_info": {
   "codemirror_mode": {
    "name": "ipython",
    "version": 3
   },
   "file_extension": ".py",
   "mimetype": "text/x-python",
   "name": "python",
   "nbconvert_exporter": "python",
   "pygments_lexer": "ipython3",
   "version": "3.6.3"
  }
 },
 "nbformat": 4,
 "nbformat_minor": 2
}

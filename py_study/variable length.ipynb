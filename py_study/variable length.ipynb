{
 "cells": [
  {
   "cell_type": "code",
   "execution_count": 398,
   "metadata": {
    "collapsed": true
   },
   "outputs": [],
   "source": [
    "from torch.autograd import Variable\n",
    "import torch\n",
    "from torch import nn\n",
    "import pandas as pd\n",
    "import matplotlib.pyplot as plt\n",
    "import torch.nn.functional as F\n",
    "import numpy as np\n",
    "import random"
   ]
  },
  {
   "cell_type": "code",
   "execution_count": 399,
   "metadata": {
    "collapsed": true
   },
   "outputs": [],
   "source": [
    "price_data = pd.read_csv(open('dataset.csv'))\n",
    "train_data = price_data.iloc[1:151,2:3].values\n",
    "test_data = price_data.iloc[152:302,2:3].values\n",
    "\n",
    "input = Variable(torch.from_numpy(train_data)).type(torch.FloatTensor)\n",
    "test = Variable(torch.from_numpy(test_data)).type(torch.FloatTensor)\n",
    "input = input[:,np.newaxis ]\n",
    "test = test[:,np.newaxis ]"
   ]
  },
  {
   "cell_type": "code",
   "execution_count": 400,
   "metadata": {},
   "outputs": [
    {
     "data": {
      "text/plain": [
       "Variable containing:\n",
       "(0 ,.,.) = \n",
       "  1\n",
       "  2\n",
       "  3\n",
       "\n",
       "(1 ,.,.) = \n",
       "  4\n",
       "  5\n",
       "  2\n",
       "\n",
       "(2 ,.,.) = \n",
       "  6\n",
       "  1\n",
       "  0\n",
       "[torch.FloatTensor of size 3x3x1]"
      ]
     },
     "execution_count": 400,
     "metadata": {},
     "output_type": "execute_result"
    }
   ],
   "source": [
    "import torch\n",
    "import torch.nn as nn\n",
    "from torch.autograd import Variable\n",
    "\n",
    "batch_size = 3\n",
    "max_length = 3\n",
    "hidden_size = 1\n",
    "n_layers =1\n",
    "num_input_features = 1\n",
    "input_tensor = torch.zeros(batch_size,max_length,num_input_features)\n",
    "input_tensor[0] = torch.FloatTensor([1,2,3])\n",
    "input_tensor[1] = torch.FloatTensor([4,5,2])\n",
    "input_tensor[2] = torch.FloatTensor([6,1,0])\n",
    "batch_in = Variable(input_tensor)\n",
    "batch_in"
   ]
  },
  {
   "cell_type": "code",
   "execution_count": null,
   "metadata": {
    "collapsed": true
   },
   "outputs": [],
   "source": []
  },
  {
   "cell_type": "code",
   "execution_count": 401,
   "metadata": {},
   "outputs": [
    {
     "name": "stdout",
     "output_type": "stream",
     "text": [
      "PackedSequence(data=Variable containing:\n",
      "    1\n",
      "    4\n",
      "    6\n",
      "    2\n",
      "    5\n",
      "    1\n",
      "    3\n",
      "    2\n",
      "    0\n",
      "[torch.FloatTensor of size 9x1]\n",
      ", batch_sizes=[3, 3, 3])\n"
     ]
    }
   ],
   "source": [
    "seq_lengths = [3,3,9]\n",
    "pack = torch.nn.utils.rnn.pack_padded_sequence(batch_in, seq_lengths, batch_first=True)\n",
    "print (pack)\n"
   ]
  }
 ],
 "metadata": {
  "kernelspec": {
   "display_name": "Python 3",
   "language": "python",
   "name": "python3"
  },
  "language_info": {
   "codemirror_mode": {
    "name": "ipython",
    "version": 3
   },
   "file_extension": ".py",
   "mimetype": "text/x-python",
   "name": "python",
   "nbconvert_exporter": "python",
   "pygments_lexer": "ipython3",
   "version": "3.6.0"
  }
 },
 "nbformat": 4,
 "nbformat_minor": 2
}

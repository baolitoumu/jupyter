{
 "cells": [
  {
   "cell_type": "code",
   "execution_count": 7,
   "metadata": {},
   "outputs": [
    {
     "name": "stdout",
     "output_type": "stream",
     "text": [
      "(##123456)7\n",
      "(##123456)7))\n",
      "(##123456)7))\n"
     ]
    }
   ],
   "source": [
    "string1='1234567'\n",
    "string2=string1[:-1]#去掉尾部一个字符\n",
    "string3=string1[1:-1]#去掉头尾各一个字符\n",
    "string4=string1[1:]#去掉头部一个字符\n",
    "string5='(##123456)7))'\n",
    "string6=string5.rstrip(\")\")#去掉尾部所有#\n",
    "string7=string5.strip('#')#去掉头尾所有#\n",
    "string8=string5.lstrip('#')#去掉头部所有#\n",
    "print(string6)\n",
    "print(string7)\n",
    "print(string8)"
   ]
  },
  {
   "cell_type": "code",
   "execution_count": null,
   "metadata": {},
   "outputs": [],
   "source": [
    "import scrapy\n",
    "import json\n",
    "import re\n",
    "from urllib.parse import quote\n",
    "import re\n",
    "\n",
    "wp='1'\n",
    "_ksTS=''\n",
    "callback='jsonp143'\n",
    "stype='1'\n",
    "catid='57198002'\n",
    "divisionId='110105'\n",
    "st_trust='1'\n",
    "q='代购'\n",
    "q = quote(q.encode(\"gbk\"))\n",
    "ist='1'\n",
    "user_agent = 'Mozilla/5.0 (Windows NT 6.1; WOW64) AppleWebKit/537.36 (KHTML, like Gecko) Chrome/49.0.2623.22 \\\n",
    "                      Safari/537.36 SE 2.X MetaSr 1.0'\n",
    "headers = {'User-Agent': user_agent }\n",
    "start_urls='https://s.2.taobao.com/list/waterfall/waterfall.htm?wp='+wp+'&_ksTS='+_ksTS+'&stype='+stype+'&catid='+catid+'&divisionId='+divisionId+'&st_trust='+st_trust+'&q='+q+'&ist='+ist\n",
    "fetch(start_urls)\n",
    "a = response.body_as_unicode()\n",
    "a = re.sub('[\\r\\n\\t]', '', a)\n",
    "a=a.rstrip(\")\")\n",
    "a=a.lstrip(\"(\")\n",
    "a = json.loads(a)\n",
    "a['currPage']\n",
    "print (jo.keys())"
   ]
  }
 ],
 "metadata": {
  "kernelspec": {
   "display_name": "Python 3",
   "language": "python",
   "name": "python3"
  },
  "language_info": {
   "codemirror_mode": {
    "name": "ipython",
    "version": 3
   },
   "file_extension": ".py",
   "mimetype": "text/x-python",
   "name": "python",
   "nbconvert_exporter": "python",
   "pygments_lexer": "ipython3",
   "version": "3.5.2"
  }
 },
 "nbformat": 4,
 "nbformat_minor": 2
}

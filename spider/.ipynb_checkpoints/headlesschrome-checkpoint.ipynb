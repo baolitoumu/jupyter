{
 "cells": [
  {
   "cell_type": "code",
   "execution_count": 31,
   "metadata": {},
   "outputs": [],
   "source": [
    "from selenium import webdriver\n",
    "import scrapy\n",
    "from scrapy import Selector\n",
    "import string\n",
    "from IPython.display import Image\n",
    "from pyvirtualdisplay import Display\n",
    "from selenium.webdriver.chrome.options import Options\n",
    "from selenium.webdriver.common.desired_capabilities import DesiredCapabilities\n",
    "\n",
    "#_____________________基本设定___________________________\n",
    "CHROME_DRIVER_PATH = r'/usr/bin/chromedriver' \n",
    "#PROXY = \"http://127.0.0.1:8080\"\n",
    "PROXY = \"http://177.69.195.4:3128\" \n",
    "#PROXY = \"http://104.199.205.163:8888\" \n",
    "#_____________________启动参数___________________________\n",
    "options = webdriver.ChromeOptions()\n",
    "#options.add_argument('lang=zh_CN.UTF-8')\n",
    "#options.add_argument('user-agent=\"Mozilla/5.0\"')\n",
    "\n",
    "options.add_argument('--disable-gpu')  \n",
    "options.add_argument(\"window-size=1024,768\")  \n",
    "options.add_argument(\"--no-sandbox\")\n",
    "options.add_argument(\"blink-settings=imagesEnabled=false\")\n",
    "options.add_argument(\"blink-settings=cookieEnabled=false\")\n",
    "options.add_argument('--headless')  \n",
    "#_____________________代理参数___________________________\n",
    "desired_capabilities = options.to_capabilities()\n",
    "desired_capabilities['acceptSslCerts'] = True\n",
    "desired_capabilities['acceptInsecureCerts'] = True\n",
    "\n",
    "desired_capabilities['proxy'] = {\n",
    "    \"httpProxy\": PROXY,\n",
    "    \"ftpProxy\": PROXY,\n",
    "    \"sslProxy\": PROXY,\n",
    "    \"noProxy\": None,\n",
    "    \"proxyType\": \"MANUAL\",\n",
    "    \"class\": \"org.openqa.selenium.Proxy\",\n",
    "    \"autodetect\": False,\n",
    "}\n",
    "\n",
    "#_____________________启动浏览器___________________________\n",
    "driver = webdriver.Chrome(\n",
    "    chrome_options=options, \n",
    "    executable_path=CHROME_DRIVER_PATH,\n",
    "    desired_capabilities = desired_capabilities,\n",
    "                         )"
   ]
  },
  {
   "cell_type": "code",
   "execution_count": 32,
   "metadata": {},
   "outputs": [
    {
     "ename": "TimeoutException",
     "evalue": "Message: timeout: Timed out receiving message from renderer: 10.000\n  (Session info: headless chrome=66.0.3359.181)\n  (Driver info: chromedriver=2.38.552522 (437e6fbedfa8762dec75e2c5b3ddb86763dc9dcb),platform=Linux 4.13.0-46-generic x86_64)\n",
     "output_type": "error",
     "traceback": [
      "\u001b[0;31m---------------------------------------------------------------------------\u001b[0m",
      "\u001b[0;31mTimeoutException\u001b[0m                          Traceback (most recent call last)",
      "\u001b[0;32m<ipython-input-32-a08dda562ba6>\u001b[0m in \u001b[0;36m<module>\u001b[0;34m()\u001b[0m\n\u001b[1;32m     18\u001b[0m     \u001b[0mrqid\u001b[0m\u001b[0;34m=\u001b[0m\u001b[0;34m''\u001b[0m\u001b[0;34m\u001b[0m\u001b[0m\n\u001b[1;32m     19\u001b[0m     \u001b[0murl\u001b[0m \u001b[0;34m=\u001b[0m \u001b[0;34m'https://m.baidu.com/s?pn='\u001b[0m\u001b[0;34m+\u001b[0m\u001b[0mpn\u001b[0m\u001b[0;34m+\u001b[0m\u001b[0;34m'&usm='\u001b[0m\u001b[0;34m+\u001b[0m\u001b[0musm\u001b[0m\u001b[0;34m+\u001b[0m\u001b[0;34m'&word='\u001b[0m\u001b[0;34m+\u001b[0m\u001b[0mword\u001b[0m\u001b[0;34m+\u001b[0m\u001b[0;34m'&sa='\u001b[0m\u001b[0;34m+\u001b[0m\u001b[0msa\u001b[0m\u001b[0;34m+\u001b[0m\u001b[0;34m'&rsv_pq='\u001b[0m\u001b[0;34m+\u001b[0m\u001b[0mrsv_pq\u001b[0m\u001b[0;34m+\u001b[0m\u001b[0;34m'&rsv_t='\u001b[0m\u001b[0;34m+\u001b[0m\u001b[0mrsv_t\u001b[0m\u001b[0;34m+\u001b[0m\u001b[0;34m'&rqid='\u001b[0m\u001b[0;34m+\u001b[0m\u001b[0mrqid\u001b[0m\u001b[0;34m\u001b[0m\u001b[0m\n\u001b[0;32m---> 20\u001b[0;31m     \u001b[0mdriver\u001b[0m\u001b[0;34m.\u001b[0m\u001b[0mget\u001b[0m\u001b[0;34m(\u001b[0m\u001b[0murl\u001b[0m\u001b[0;34m)\u001b[0m\u001b[0;34m\u001b[0m\u001b[0m\n\u001b[0m\u001b[1;32m     21\u001b[0m \u001b[0;34m\u001b[0m\u001b[0m\n\u001b[1;32m     22\u001b[0m \u001b[0;34m\u001b[0m\u001b[0m\n",
      "\u001b[0;32m/usr/local/lib/python3.6/dist-packages/selenium/webdriver/remote/webdriver.py\u001b[0m in \u001b[0;36mget\u001b[0;34m(self, url)\u001b[0m\n\u001b[1;32m    324\u001b[0m         \u001b[0mLoads\u001b[0m \u001b[0ma\u001b[0m \u001b[0mweb\u001b[0m \u001b[0mpage\u001b[0m \u001b[0;32min\u001b[0m \u001b[0mthe\u001b[0m \u001b[0mcurrent\u001b[0m \u001b[0mbrowser\u001b[0m \u001b[0msession\u001b[0m\u001b[0;34m.\u001b[0m\u001b[0;34m\u001b[0m\u001b[0m\n\u001b[1;32m    325\u001b[0m         \"\"\"\n\u001b[0;32m--> 326\u001b[0;31m         \u001b[0mself\u001b[0m\u001b[0;34m.\u001b[0m\u001b[0mexecute\u001b[0m\u001b[0;34m(\u001b[0m\u001b[0mCommand\u001b[0m\u001b[0;34m.\u001b[0m\u001b[0mGET\u001b[0m\u001b[0;34m,\u001b[0m \u001b[0;34m{\u001b[0m\u001b[0;34m'url'\u001b[0m\u001b[0;34m:\u001b[0m \u001b[0murl\u001b[0m\u001b[0;34m}\u001b[0m\u001b[0;34m)\u001b[0m\u001b[0;34m\u001b[0m\u001b[0m\n\u001b[0m\u001b[1;32m    327\u001b[0m \u001b[0;34m\u001b[0m\u001b[0m\n\u001b[1;32m    328\u001b[0m     \u001b[0;34m@\u001b[0m\u001b[0mproperty\u001b[0m\u001b[0;34m\u001b[0m\u001b[0m\n",
      "\u001b[0;32m/usr/local/lib/python3.6/dist-packages/selenium/webdriver/remote/webdriver.py\u001b[0m in \u001b[0;36mexecute\u001b[0;34m(self, driver_command, params)\u001b[0m\n\u001b[1;32m    312\u001b[0m         \u001b[0mresponse\u001b[0m \u001b[0;34m=\u001b[0m \u001b[0mself\u001b[0m\u001b[0;34m.\u001b[0m\u001b[0mcommand_executor\u001b[0m\u001b[0;34m.\u001b[0m\u001b[0mexecute\u001b[0m\u001b[0;34m(\u001b[0m\u001b[0mdriver_command\u001b[0m\u001b[0;34m,\u001b[0m \u001b[0mparams\u001b[0m\u001b[0;34m)\u001b[0m\u001b[0;34m\u001b[0m\u001b[0m\n\u001b[1;32m    313\u001b[0m         \u001b[0;32mif\u001b[0m \u001b[0mresponse\u001b[0m\u001b[0;34m:\u001b[0m\u001b[0;34m\u001b[0m\u001b[0m\n\u001b[0;32m--> 314\u001b[0;31m             \u001b[0mself\u001b[0m\u001b[0;34m.\u001b[0m\u001b[0merror_handler\u001b[0m\u001b[0;34m.\u001b[0m\u001b[0mcheck_response\u001b[0m\u001b[0;34m(\u001b[0m\u001b[0mresponse\u001b[0m\u001b[0;34m)\u001b[0m\u001b[0;34m\u001b[0m\u001b[0m\n\u001b[0m\u001b[1;32m    315\u001b[0m             response['value'] = self._unwrap_value(\n\u001b[1;32m    316\u001b[0m                 response.get('value', None))\n",
      "\u001b[0;32m/usr/local/lib/python3.6/dist-packages/selenium/webdriver/remote/errorhandler.py\u001b[0m in \u001b[0;36mcheck_response\u001b[0;34m(self, response)\u001b[0m\n\u001b[1;32m    240\u001b[0m                 \u001b[0malert_text\u001b[0m \u001b[0;34m=\u001b[0m \u001b[0mvalue\u001b[0m\u001b[0;34m[\u001b[0m\u001b[0;34m'alert'\u001b[0m\u001b[0;34m]\u001b[0m\u001b[0;34m.\u001b[0m\u001b[0mget\u001b[0m\u001b[0;34m(\u001b[0m\u001b[0;34m'text'\u001b[0m\u001b[0;34m)\u001b[0m\u001b[0;34m\u001b[0m\u001b[0m\n\u001b[1;32m    241\u001b[0m             \u001b[0;32mraise\u001b[0m \u001b[0mexception_class\u001b[0m\u001b[0;34m(\u001b[0m\u001b[0mmessage\u001b[0m\u001b[0;34m,\u001b[0m \u001b[0mscreen\u001b[0m\u001b[0;34m,\u001b[0m \u001b[0mstacktrace\u001b[0m\u001b[0;34m,\u001b[0m \u001b[0malert_text\u001b[0m\u001b[0;34m)\u001b[0m\u001b[0;34m\u001b[0m\u001b[0m\n\u001b[0;32m--> 242\u001b[0;31m         \u001b[0;32mraise\u001b[0m \u001b[0mexception_class\u001b[0m\u001b[0;34m(\u001b[0m\u001b[0mmessage\u001b[0m\u001b[0;34m,\u001b[0m \u001b[0mscreen\u001b[0m\u001b[0;34m,\u001b[0m \u001b[0mstacktrace\u001b[0m\u001b[0;34m)\u001b[0m\u001b[0;34m\u001b[0m\u001b[0m\n\u001b[0m\u001b[1;32m    243\u001b[0m \u001b[0;34m\u001b[0m\u001b[0m\n\u001b[1;32m    244\u001b[0m     \u001b[0;32mdef\u001b[0m \u001b[0m_value_or_default\u001b[0m\u001b[0;34m(\u001b[0m\u001b[0mself\u001b[0m\u001b[0;34m,\u001b[0m \u001b[0mobj\u001b[0m\u001b[0;34m,\u001b[0m \u001b[0mkey\u001b[0m\u001b[0;34m,\u001b[0m \u001b[0mdefault\u001b[0m\u001b[0;34m)\u001b[0m\u001b[0;34m:\u001b[0m\u001b[0;34m\u001b[0m\u001b[0m\n",
      "\u001b[0;31mTimeoutException\u001b[0m: Message: timeout: Timed out receiving message from renderer: 10.000\n  (Session info: headless chrome=66.0.3359.181)\n  (Driver info: chromedriver=2.38.552522 (437e6fbedfa8762dec75e2c5b3ddb86763dc9dcb),platform=Linux 4.13.0-46-generic x86_64)\n"
     ]
    }
   ],
   "source": [
    "for i in range(1):\n",
    "    #driver.get('http://httpbin.org/ip')\n",
    "    #driver.get('http://mitm.it/')\n",
    "    \n",
    "    #driver.find_element_by_id(“xxx”).click()\n",
    "    \n",
    "    #driver.get('https://s.2.taobao.com/list/list.htm?_input_charset=utf8&q=%E4%BB%A3%E8%B4%AD')\n",
    "\n",
    "    original_site= \"m.baidu.com\"\n",
    "    keyword = \"ip\"\n",
    "    #_____________________url参数___________________________\n",
    "    pn='1'\n",
    "    usm='1'\n",
    "    word='ip'\n",
    "    sa='np'\n",
    "    rsv_pq=''\n",
    "    rsv_t=''\n",
    "    rqid=''\n",
    "    url = 'https://m.baidu.com/s?pn='+pn+'&usm='+usm+'&word='+word+'&sa='+sa+'&rsv_pq='+rsv_pq+'&rsv_t='+rsv_t+'&rqid='+rqid    \n",
    "    driver.get(url)\n",
    "    \n",
    "    \n",
    "    \n",
    "    \n",
    "    contant = driver.page_source\n",
    "    driver.save_screenshot('csdn.png')\n",
    "    #pages = Selector(text=contant).xpath(\"//html\")\n",
    "    #ip = pages.xpath(\"//span[@style='font-weight: bold; color:green;']/text()\").extract()\n",
    "    #driver.delete_all_cookies()#删除当前会话的所有cookie\n",
    "    #driver.delete_cookie('my_cookie')#删除一个指定的cookie\n",
    "    #refresh() - 刷新当前页面\n",
    "    #print(contant)\n",
    "    \n",
    "    driver.close()\n",
    "    driver.quit()"
   ]
  },
  {
   "cell_type": "code",
   "execution_count": null,
   "metadata": {},
   "outputs": [],
   "source": [
    "Image(\"csdn.png\")"
   ]
  },
  {
   "cell_type": "code",
   "execution_count": null,
   "metadata": {},
   "outputs": [],
   "source": []
  },
  {
   "cell_type": "code",
   "execution_count": null,
   "metadata": {},
   "outputs": [],
   "source": []
  }
 ],
 "metadata": {
  "kernelspec": {
   "display_name": "Python 3",
   "language": "python",
   "name": "python3"
  },
  "language_info": {
   "codemirror_mode": {
    "name": "ipython",
    "version": 3
   },
   "file_extension": ".py",
   "mimetype": "text/x-python",
   "name": "python",
   "nbconvert_exporter": "python",
   "pygments_lexer": "ipython3",
   "version": "3.6.3"
  }
 },
 "nbformat": 4,
 "nbformat_minor": 2
}

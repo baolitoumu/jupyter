{
 "cells": [
  {
   "cell_type": "markdown",
   "metadata": {},
   "source": [
    "# Exporting model from PyTorch to ONNX\n",
    "从pytorch导出模型到onnx\n",
    "\n",
    "In this tutorial, we describe how to use ONNX to convert a model defined\n",
    "in PyTorch into the ONNX format.\n",
    "在这个教程里面，我们将介绍如何使用ONNX将pytorch定义的模型转换为ONNX的模型\n",
    "ONNX exporter is part of the [PyTorch repository](http://pytorch.org/docs/master/onnx.html).\n",
    "ONNX导出器是PyTorch的一个模块\n",
    "\n",
    "For working with this tutorial, you will need to install [onnx](https://github.com/onnx/onnx). You can get binary builds of onnx with\n",
    "为了使用本教程，你需要安装:\n",
    "\n",
    "``conda install -c conda-forge onnx``.\n",
    "\n",
    "``NOTE``: ONNX is under active development so for the best support consider building PyTorch master branch which can be installed by following\n",
    "[the instructions here](https://github.com/pytorch/pytorch#from-source)"
   ]
  },
  {
   "cell_type": "markdown",
   "metadata": {},
   "source": [
    "## Invoking exporter\n",
    "调用导出器\n",
    "\n",
    "Pretty much it's a matter of replacing `my_model(input)` with `torch.onnx.export(my_model, input, \"my_model.onnx\")` in your script.\n",
    "在你的脚本中，用torch.onnx.export（my_model，input，“my_model.onnx”）来代替my_model（input）\n",
    "### Limitations\n",
    "The ONNX exporter is a trace-based exporter,\n",
    "ONNX导出器是一个基础跟踪导出器，\n",
    "\n",
    "which means that it operates by executing your model once, and exporting the operators which were actually run during this run.\n",
    "意思是当执行了一次你的模型，并且导出这次运行中的实际操作者。\n",
    "This means that if your model is dynamic, e.g., changes behavior depending on input data, the export won’t be accurate.\n",
    "这个意思是当你的模型是动态的，例如：根据输入数据改变行为，这个导出将是不准确的\n",
    "Similarly, a trace is might be valid only for a specific input size (which is one reason why we require explicit inputs on tracing).\n",
    "同样的，跟踪仅对特定的输入大小有效（这就是为什么我们要明确跟踪输入的一个原因）\n",
    "Most of the operators export size-agnostic versions and should work on different batch sizes or input sizes. \n",
    "大部分的计算导出位置大小的版本，并且需要在不同的batch size和input size上工作\n",
    "We recommend examining the model trace and making sure the traced operators look reasonable.\n",
    "我们建议检查滨跟踪这个模型，确保跟踪的操作者看起来合理"
   ]
  },
  {
   "cell_type": "code",
   "execution_count": null,
   "metadata": {},
   "outputs": [],
   "source": [
    "import torch.onnx\n",
    "help(torch.onnx.export)"
   ]
  },
  {
   "cell_type": "markdown",
   "metadata": {},
   "source": [
    "## Trying it out on AlexNet\n",
    "\n",
    "If you already have your model built, it's just a few lines:"
   ]
  },
  {
   "cell_type": "code",
   "execution_count": null,
   "metadata": {},
   "outputs": [],
   "source": [
    "from torch.autograd import Variable\n",
    "import torch.onnx\n",
    "import torchvision\n",
    "import netron\n",
    "\n",
    "dummy_input = Variable(torch.randn(1, 3, 224, 224))\n",
    "\n",
    "model = torchvision.models.alexnet(pretrained=True)\n",
    "\n",
    "torch.onnx.export(model, dummy_input, \"output/alexnet.onnx\")"
   ]
  },
  {
   "cell_type": "markdown",
   "metadata": {},
   "source": [
    "**That's it!**\n",
    "\n",
    "## Inspecting model\n",
    "\n",
    "You can also use ONNX tooling to check the validity of the resulting model or inspect the details"
   ]
  },
  {
   "cell_type": "code",
   "execution_count": null,
   "metadata": {},
   "outputs": [],
   "source": [
    "from torch.autograd import Variable\n",
    "import torch.onnx\n",
    "import torchvision\n",
    "\n",
    "# Standard ImageNet input - 3 channels, 224x224,\n",
    "# values don't matter as we care about network structure.\n",
    "# But they can also be real inputs.\n",
    "dummy_input = Variable(torch.randn(1, 3, 224, 224))\n",
    "# Obtain your model, it can be also constructed in your script explicitly\n",
    "model = torchvision.models.alexnet(pretrained=True)\n",
    "# Invoke export\n",
    "torch.onnx.export(model, dummy_input, \"output/alexnet.onnx\")"
   ]
  },
  {
   "cell_type": "markdown",
   "metadata": {},
   "source": [
    "Notice that all parameters are listed as graph's inputs but they also have stored values initialized in `model.graph.initializers`."
   ]
  },
  {
   "cell_type": "code",
   "execution_count": null,
   "metadata": {},
   "outputs": [],
   "source": [
    "## What's next\n",
    "\n",
    "Check [PyTorch documentation on onnx file](http://pytorch.org/docs/master/onnx.html)\n",
    "Take a look at [other tutorials, including importing of ONNX models to other frameworks](https://github.com/onnx/tutorials/tree/master/tutorials)"
   ]
  }
 ],
 "metadata": {
  "kernelspec": {
   "display_name": "Python 3",
   "language": "python",
   "name": "python3"
  },
  "language_info": {
   "codemirror_mode": {
    "name": "ipython",
    "version": 3
   },
   "file_extension": ".py",
   "mimetype": "text/x-python",
   "name": "python",
   "nbconvert_exporter": "python",
   "pygments_lexer": "ipython3",
   "version": "3.6.0"
  }
 },
 "nbformat": 4,
 "nbformat_minor": 2
}

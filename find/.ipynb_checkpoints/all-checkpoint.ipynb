{
 "cells": [
  {
   "cell_type": "code",
   "execution_count": 1,
   "metadata": {},
   "outputs": [],
   "source": [
    "from selenium import webdriver\n",
    "#from twilio.rest import Client\n",
    "from time import sleep\n",
    "from selenium.webdriver.common.keys import Keys"
   ]
  },
  {
   "cell_type": "code",
   "execution_count": 2,
   "metadata": {},
   "outputs": [
    {
     "name": "stderr",
     "output_type": "stream",
     "text": [
      "/usr/local/lib/python3.5/dist-packages/selenium/webdriver/phantomjs/webdriver.py:49: UserWarning: Selenium support for PhantomJS has been deprecated, please use headless versions of Chrome or Firefox instead\n",
      "  warnings.warn('Selenium support for PhantomJS has been deprecated, please use headless '\n"
     ]
    }
   ],
   "source": [
    "#driver = webdriver.Firefox(executable_path = '/root/.jupyter/geckodriver')\n",
    "driver = webdriver.PhantomJS()\n"
   ]
  },
  {
   "cell_type": "code",
   "execution_count": 3,
   "metadata": {},
   "outputs": [
    {
     "name": "stdout",
     "output_type": "stream",
     "text": [
      "<selenium.webdriver.phantomjs.webdriver.WebDriver (session=\"50cff400-3a3a-11e8-b7f7-5371e1cc9e76\")>\n"
     ]
    }
   ],
   "source": [
    "# 用get打开百度页面\n",
    "driver.get(\"www.taobao.com\")\n",
    "\n",
    "print(driver)\n",
    "#driver.findElement(By.cssSelector(\"input[name=username]\"))\n",
    "#driver.findElement_by_cssSelector(\"[background=#f5e588]\")\n",
    "#driver.findElement(By.cssSelector(\"a.s5-shippingLabel s5-shippingLabel--2\"))\n",
    "#driver.find_elements_by_link_text('登录')[0].click()\n",
    "#driver.save_screenshot('csdn.png')\n",
    "#print(len(denglu))\n",
    "\n",
    "# print(driver.find_element_by_link_text(\"入荷待ち\"))\n",
    "# a = driver.find_element_by_link_text(\"入荷待ち\").value_of_css_property(\"background-color\")\n",
    "# print(a)\n",
    "# print(type(a))\n",
    "# b = a.find('245, 229, 136, 1')\n",
    "# if b != 5:\n",
    "#     body = '有货了'\n",
    "# else:\n",
    "#     body = '没货了'\n",
    "\n",
    "\n",
    "#if a = 'rgba(245, 229, 136, 1)':\n",
    "#    print('ok')\n",
    "#fin = driver.find_elements_by_name('入荷待ち')\n",
    "#print(fin)\n",
    "#for a in fin():\n",
    "#    if a.is_displayed():\n",
    "#        print('have')\n",
    "\n",
    "#driver.find_element_by_link_text(\"http://www.sony.jp/store/guide/shopping/stock.html\")\n",
    "#8fcfdf\n",
    "\n",
    "# def sendsms(body):\n",
    "    \n",
    "#     account_sid = \"ACedd76007a88f61e155325a3cb71fb3da\"\n",
    "# # Your Auth Token from twilio.com/console\n",
    "#     auth_token  = \"63ac12761ebb2a562acf883a60e19787\"\n",
    "\n",
    "#     client = Client(account_sid, auth_token)\n",
    "\n",
    "#     message = client.messages.create(to=\"+8613013123381\",from_=\"+12403803744\",body=body)\n",
    "#     return('发送成功')\n",
    "    \n",
    "# sendsms(body)\n",
    "\n",
    "#send_sms(8613013123381)"
   ]
  },
  {
   "cell_type": "code",
   "execution_count": 18,
   "metadata": {},
   "outputs": [],
   "source": [
    "# a = driver.find_element_by_xpath('//*[@class=\"d-title\"]')\n",
    "# print(a)\n",
    "# driver.quit()"
   ]
  },
  {
   "cell_type": "code",
   "execution_count": 4,
   "metadata": {},
   "outputs": [
    {
     "data": {
      "text/plain": [
       "True"
      ]
     },
     "execution_count": 4,
     "metadata": {},
     "output_type": "execute_result"
    }
   ],
   "source": [
    "# 查找页面的“设置”选项，并进行点击\n",
    "#element0=driver.find_elements_by_name(\"tj_login\")\n",
    "#for ele0 in element0:\n",
    "#   if ele0.is_displayed():\n",
    "#        ele0.click()\n",
    "#denglu = driver.find_element_by_link_text(\"登录\")\n",
    "#denglu.click()\n",
    "#driver.find_element_by_id('kw').send_keys('selenium')\n",
    "driver.save_screenshot('csdn.png')"
   ]
  },
  {
   "cell_type": "code",
   "execution_count": 20,
   "metadata": {},
   "outputs": [],
   "source": [
    "# driver.find_elements_by_id('su')[0].click()\n",
    "# sleep(2)\n",
    "# driver.save_screenshot('csdn2.png')"
   ]
  },
  {
   "cell_type": "code",
   "execution_count": 21,
   "metadata": {},
   "outputs": [],
   "source": [
    "# driver.find_elements_by_link_text('搜索设置')[1].click()\n",
    "# sleep(2)\n",
    "# m = driver.find_element_by_id('nr')\n",
    "# sleep(2)\n",
    "# m.find_element_by_xpath('//*[@id=\"nr\"]/option[3]').click()\n",
    "# sleep(2)\n",
    "# # 处理弹出的警告页面\n",
    "# driver.find_element_by_class_name(\"prefpanelgo\").click()\n",
    "# sleep(2)\n",
    "# driver.switch_to_alert().accept()\n",
    "# sleep(2)\n",
    "# # 找到百度的输入框，并输入“selenium”\n",
    "# driver.find_element_by_id('kw').send_keys('selenium')\n",
    "# sleep(2)\n",
    "# # 点击搜索按钮\n",
    "# driver.find_element_by_id('su').click()\n",
    "# sleep(2)\n",
    "# # 在打开的页面中找到“Selenium - 开源中国社区”，并打开这个页面\n",
    "# driver.find_elements_by_link_text('Selenium - 开源中国社区')[0].click()"
   ]
  }
 ],
 "metadata": {
  "kernelspec": {
   "display_name": "Python 3",
   "language": "python",
   "name": "python3"
  },
  "language_info": {
   "codemirror_mode": {
    "name": "ipython",
    "version": 3
   },
   "file_extension": ".py",
   "mimetype": "text/x-python",
   "name": "python",
   "nbconvert_exporter": "python",
   "pygments_lexer": "ipython3",
   "version": "3.5.2"
  }
 },
 "nbformat": 4,
 "nbformat_minor": 2
}

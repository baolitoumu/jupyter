{
 "cells": [
  {
   "cell_type": "code",
   "execution_count": 184,
   "metadata": {},
   "outputs": [],
   "source": [
    "# The usual preamble\n",
    "%matplotlib inline\n",
    "import pandas as pd\n",
    "import matplotlib.pyplot as plt\n",
    "import numpy as np\n",
    "from datetime import datetime\n",
    "import time\n",
    "# This is necessary to show lots of columns in pandas 0.12. \n",
    "# Not necessary in pandas 0.13.\n",
    "pd.set_option('display.width', 5000) \n",
    "pd.set_option('max_colwidth',200)\n",
    "pd.set_option('display.max_columns', 90)\n",
    "pd.set_option('display.max_rows', 90)\n",
    "writer = pd.ExcelWriter('合并数据.xlsx')"
   ]
  },
  {
   "cell_type": "code",
   "execution_count": 185,
   "metadata": {},
   "outputs": [],
   "source": [
    "xls_file = pd.ExcelFile('20171219food.xlsx')"
   ]
  },
  {
   "cell_type": "code",
   "execution_count": 189,
   "metadata": {},
   "outputs": [
    {
     "name": "stdout",
     "output_type": "stream",
     "text": [
      "['商户信息', '订单', '外卖', '扫码点单', '微店铺', '微外卖', '商品数量', '套餐数量', '套餐销售数量', '有规格商品', '有规格商品销售', '无规格商品', '无规格商品销售', '计件商品数量', '计重商品数量', '现金支付订单', '支付宝', '微信', '翼支付', '轻盈支付', '银行卡', '预付卡', '充值卡', '退款', '分类数量', '子分类数量', '先付款后消费无座', '先付款有座', '先消费有座']\n"
     ]
    },
    {
     "data": {
      "text/plain": [
       "29"
      ]
     },
     "execution_count": 189,
     "metadata": {},
     "output_type": "execute_result"
    }
   ],
   "source": [
    "sheetlist = xls_file.sheet_names \n",
    "print(sheetlist)\n",
    "len(sheetlist)\n",
    "#sheetlist.remove('分类商品数量')\n",
    "#print(sheetlist)"
   ]
  },
  {
   "cell_type": "code",
   "execution_count": 187,
   "metadata": {
    "scrolled": true
   },
   "outputs": [
    {
     "name": "stdout",
     "output_type": "stream",
     "text": [
      "d0\n",
      "商户信息\n",
      "当前耗时++++ 0.08333333333333333 分钟\n",
      "d1\n",
      "订单\n",
      "当前耗时++++ 0.08333333333333333 分钟\n",
      "d2\n",
      "外卖\n",
      "当前耗时++++ 0.08333333333333333 分钟\n",
      "d3\n",
      "扫码点单\n",
      "当前耗时++++ 0.08333333333333333 分钟\n",
      "d4\n",
      "微店铺\n",
      "当前耗时++++ 0.08333333333333333 分钟\n",
      "d5\n",
      "微外卖\n",
      "当前耗时++++ 0.08333333333333333 分钟\n",
      "d6\n",
      "商品数量\n",
      "当前耗时++++ 0.08333333333333333 分钟\n",
      "d7\n",
      "套餐数量\n",
      "当前耗时++++ 0.08333333333333333 分钟\n",
      "d8\n",
      "套餐销售数量\n",
      "当前耗时++++ 0.08333333333333333 分钟\n",
      "d9\n",
      "有规格商品\n",
      "当前耗时++++ 0.08333333333333333 分钟\n",
      "d10\n",
      "有规格商品销售\n",
      "当前耗时++++ 0.08333333333333333 分钟\n",
      "d11\n",
      "无规格商品\n",
      "当前耗时++++ 0.08333333333333333 分钟\n",
      "d12\n",
      "无规格商品销售\n",
      "当前耗时++++ 0.08333333333333333 分钟\n",
      "d13\n",
      "计件商品数量\n",
      "当前耗时++++ 0.08333333333333333 分钟\n",
      "d14\n",
      "计重商品数量\n",
      "当前耗时++++ 0.08333333333333333 分钟\n",
      "d15\n",
      "现金支付订单\n",
      "当前耗时++++ 0.08333333333333333 分钟\n",
      "d16\n",
      "支付宝\n",
      "当前耗时++++ 0.08333333333333333 分钟\n",
      "d17\n",
      "微信\n",
      "当前耗时++++ 0.08333333333333333 分钟\n",
      "d18\n",
      "翼支付\n",
      "当前耗时++++ 0.08333333333333333 分钟\n",
      "d19\n",
      "轻盈支付\n",
      "当前耗时++++ 0.08333333333333333 分钟\n",
      "d20\n",
      "银行卡\n",
      "当前耗时++++ 0.08333333333333333 分钟\n",
      "d21\n",
      "预付卡\n",
      "当前耗时++++ 0.08333333333333333 分钟\n",
      "d22\n",
      "充值卡\n",
      "当前耗时++++ 0.08333333333333333 分钟\n",
      "d23\n",
      "退款\n",
      "当前耗时++++ 0.08333333333333333 分钟\n",
      "d24\n",
      "分类数量\n",
      "当前耗时++++ 0.08333333333333333 分钟\n",
      "d25\n",
      "子分类数量\n",
      "当前耗时++++ 0.08333333333333333 分钟\n",
      "d26\n",
      "先付款后消费无座\n",
      "当前耗时++++ 0.08333333333333333 分钟\n",
      "d27\n",
      "先付款有座\n",
      "当前耗时++++ 0.08333333333333333 分钟\n",
      "d28\n",
      "先消费有座\n",
      "当前耗时++++ 0.08333333333333333 分钟\n",
      "总耗时++++ 2.55 分钟\n"
     ]
    }
   ],
   "source": [
    "time_now=datetime.now()\n",
    "x=[]\n",
    "for i in range(len(sheetlist)):\n",
    "    tn = datetime.now()\n",
    "    \n",
    "    \n",
    "    locals()['d'+str(i)]=i\n",
    "    print ('d'+str(i))\n",
    "    print(sheetlist[i])\n",
    "    x.append('d'+str(i))\n",
    "    x[i] = pd.read_excel('20171219food.xlsx',i)\n",
    "    x[i] = x[i].replace(0,np.nan)    \n",
    "    x[i] = x[i].fillna(0)\n",
    "    to = datetime.now()\n",
    "    tx = ((to-tn).seconds)/60\n",
    "    print('当前耗时++++',tx,'分钟')\n",
    "\n",
    "time_out=datetime.now()\n",
    "time_total = ((time_out-time_now).seconds)/60\n",
    "print('总耗时++++',time_total,'分钟')"
   ]
  },
  {
   "cell_type": "code",
   "execution_count": 193,
   "metadata": {},
   "outputs": [
    {
     "ename": "TypeError",
     "evalue": "object of type 'NoneType' has no len()",
     "output_type": "error",
     "traceback": [
      "\u001b[0;31m---------------------------------------------------------------------------\u001b[0m",
      "\u001b[0;31mTypeError\u001b[0m                                 Traceback (most recent call last)",
      "\u001b[0;32m<ipython-input-193-512ea2b3cc8a>\u001b[0m in \u001b[0;36m<module>\u001b[0;34m()\u001b[0m\n\u001b[1;32m      2\u001b[0m \u001b[0madn\u001b[0m \u001b[0;34m=\u001b[0m \u001b[0mx\u001b[0m\u001b[0;34m[\u001b[0m\u001b[0;36m0\u001b[0m\u001b[0;34m]\u001b[0m\u001b[0;34m\u001b[0m\u001b[0m\n\u001b[1;32m      3\u001b[0m \u001b[0;32mfor\u001b[0m \u001b[0mi\u001b[0m \u001b[0;32min\u001b[0m \u001b[0mrange\u001b[0m\u001b[0;34m(\u001b[0m\u001b[0;36m29\u001b[0m\u001b[0;34m)\u001b[0m\u001b[0;34m:\u001b[0m\u001b[0;34m\u001b[0m\u001b[0m\n\u001b[0;32m----> 4\u001b[0;31m     \u001b[0madn\u001b[0m \u001b[0;34m=\u001b[0m \u001b[0mpd\u001b[0m\u001b[0;34m.\u001b[0m\u001b[0mmerge\u001b[0m\u001b[0;34m(\u001b[0m\u001b[0madn\u001b[0m\u001b[0;34m,\u001b[0m\u001b[0mx\u001b[0m\u001b[0;34m[\u001b[0m\u001b[0mi\u001b[0m\u001b[0;34m+\u001b[0m\u001b[0;36m1\u001b[0m\u001b[0;34m]\u001b[0m\u001b[0;34m,\u001b[0m \u001b[0mhow\u001b[0m\u001b[0;34m=\u001b[0m\u001b[0;34m'left'\u001b[0m\u001b[0;34m,\u001b[0m \u001b[0mleft_on\u001b[0m\u001b[0;34m=\u001b[0m\u001b[0;34m'商户id'\u001b[0m\u001b[0;34m)\u001b[0m\u001b[0;34m\u001b[0m\u001b[0m\n\u001b[0m\u001b[1;32m      5\u001b[0m \u001b[0;34m\u001b[0m\u001b[0m\n\u001b[1;32m      6\u001b[0m \u001b[0;34m\u001b[0m\u001b[0m\n",
      "\u001b[0;32m/usr/local/lib/python3.6/site-packages/pandas/core/reshape/merge.py\u001b[0m in \u001b[0;36mmerge\u001b[0;34m(left, right, how, on, left_on, right_on, left_index, right_index, sort, suffixes, copy, indicator, validate)\u001b[0m\n\u001b[1;32m     55\u001b[0m                          \u001b[0mright_index\u001b[0m\u001b[0;34m=\u001b[0m\u001b[0mright_index\u001b[0m\u001b[0;34m,\u001b[0m \u001b[0msort\u001b[0m\u001b[0;34m=\u001b[0m\u001b[0msort\u001b[0m\u001b[0;34m,\u001b[0m \u001b[0msuffixes\u001b[0m\u001b[0;34m=\u001b[0m\u001b[0msuffixes\u001b[0m\u001b[0;34m,\u001b[0m\u001b[0;34m\u001b[0m\u001b[0m\n\u001b[1;32m     56\u001b[0m                          \u001b[0mcopy\u001b[0m\u001b[0;34m=\u001b[0m\u001b[0mcopy\u001b[0m\u001b[0;34m,\u001b[0m \u001b[0mindicator\u001b[0m\u001b[0;34m=\u001b[0m\u001b[0mindicator\u001b[0m\u001b[0;34m,\u001b[0m\u001b[0;34m\u001b[0m\u001b[0m\n\u001b[0;32m---> 57\u001b[0;31m                          validate=validate)\n\u001b[0m\u001b[1;32m     58\u001b[0m     \u001b[0;32mreturn\u001b[0m \u001b[0mop\u001b[0m\u001b[0;34m.\u001b[0m\u001b[0mget_result\u001b[0m\u001b[0;34m(\u001b[0m\u001b[0;34m)\u001b[0m\u001b[0;34m\u001b[0m\u001b[0m\n\u001b[1;32m     59\u001b[0m \u001b[0;34m\u001b[0m\u001b[0m\n",
      "\u001b[0;32m/usr/local/lib/python3.6/site-packages/pandas/core/reshape/merge.py\u001b[0m in \u001b[0;36m__init__\u001b[0;34m(self, left, right, how, on, left_on, right_on, axis, left_index, right_index, sort, suffixes, copy, indicator, validate)\u001b[0m\n\u001b[1;32m    558\u001b[0m             \u001b[0mwarnings\u001b[0m\u001b[0;34m.\u001b[0m\u001b[0mwarn\u001b[0m\u001b[0;34m(\u001b[0m\u001b[0mmsg\u001b[0m\u001b[0;34m,\u001b[0m \u001b[0mUserWarning\u001b[0m\u001b[0;34m)\u001b[0m\u001b[0;34m\u001b[0m\u001b[0m\n\u001b[1;32m    559\u001b[0m \u001b[0;34m\u001b[0m\u001b[0m\n\u001b[0;32m--> 560\u001b[0;31m         \u001b[0mself\u001b[0m\u001b[0;34m.\u001b[0m\u001b[0m_validate_specification\u001b[0m\u001b[0;34m(\u001b[0m\u001b[0;34m)\u001b[0m\u001b[0;34m\u001b[0m\u001b[0m\n\u001b[0m\u001b[1;32m    561\u001b[0m \u001b[0;34m\u001b[0m\u001b[0m\n\u001b[1;32m    562\u001b[0m         \u001b[0;31m# note this function has side effects\u001b[0m\u001b[0;34m\u001b[0m\u001b[0;34m\u001b[0m\u001b[0m\n",
      "\u001b[0;32m/usr/local/lib/python3.6/site-packages/pandas/core/reshape/merge.py\u001b[0m in \u001b[0;36m_validate_specification\u001b[0;34m(self)\u001b[0m\n\u001b[1;32m    975\u001b[0m                                      'of levels in the index of \"left\"')\n\u001b[1;32m    976\u001b[0m                 \u001b[0mself\u001b[0m\u001b[0;34m.\u001b[0m\u001b[0mleft_on\u001b[0m \u001b[0;34m=\u001b[0m \u001b[0;34m[\u001b[0m\u001b[0;32mNone\u001b[0m\u001b[0;34m]\u001b[0m \u001b[0;34m*\u001b[0m \u001b[0mn\u001b[0m\u001b[0;34m\u001b[0m\u001b[0m\n\u001b[0;32m--> 977\u001b[0;31m         \u001b[0;32mif\u001b[0m \u001b[0mlen\u001b[0m\u001b[0;34m(\u001b[0m\u001b[0mself\u001b[0m\u001b[0;34m.\u001b[0m\u001b[0mright_on\u001b[0m\u001b[0;34m)\u001b[0m \u001b[0;34m!=\u001b[0m \u001b[0mlen\u001b[0m\u001b[0;34m(\u001b[0m\u001b[0mself\u001b[0m\u001b[0;34m.\u001b[0m\u001b[0mleft_on\u001b[0m\u001b[0;34m)\u001b[0m\u001b[0;34m:\u001b[0m\u001b[0;34m\u001b[0m\u001b[0m\n\u001b[0m\u001b[1;32m    978\u001b[0m             \u001b[0;32mraise\u001b[0m \u001b[0mValueError\u001b[0m\u001b[0;34m(\u001b[0m\u001b[0;34m\"len(right_on) must equal len(left_on)\"\u001b[0m\u001b[0;34m)\u001b[0m\u001b[0;34m\u001b[0m\u001b[0m\n\u001b[1;32m    979\u001b[0m \u001b[0;34m\u001b[0m\u001b[0m\n",
      "\u001b[0;31mTypeError\u001b[0m: object of type 'NoneType' has no len()"
     ]
    }
   ],
   "source": [
    "\n",
    "adn = x[0]\n",
    "for i in range((len(sheetlist))-1):\n",
    "    adn = pd.merge(adn,x[i+1], how='left', left_on='商户id')  \n",
    "    \n",
    "    \n",
    "\n",
    "#adn = pd.concat(x)\n",
    "#adn = pd.merge(x, how='left', on='商户id') \n",
    "adn = adn.replace(0,np.nan)    \n",
    "adn = adn.fillna(0)\n",
    "#print(adn)\n",
    "print(adn)"
   ]
  },
  {
   "cell_type": "code",
   "execution_count": null,
   "metadata": {},
   "outputs": [],
   "source": [
    "adn.to_excel(writer,'合并后数据')"
   ]
  },
  {
   "cell_type": "code",
   "execution_count": null,
   "metadata": {},
   "outputs": [],
   "source": [
    "writer.save()"
   ]
  },
  {
   "cell_type": "code",
   "execution_count": null,
   "metadata": {},
   "outputs": [],
   "source": []
  }
 ],
 "metadata": {
  "kernelspec": {
   "display_name": "Python 3",
   "language": "python",
   "name": "python3"
  },
  "language_info": {
   "codemirror_mode": {
    "name": "ipython",
    "version": 3
   },
   "file_extension": ".py",
   "mimetype": "text/x-python",
   "name": "python",
   "nbconvert_exporter": "python",
   "pygments_lexer": "ipython3",
   "version": "3.6.0"
  }
 },
 "nbformat": 4,
 "nbformat_minor": 2
}

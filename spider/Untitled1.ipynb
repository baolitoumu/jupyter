{
 "cells": [
  {
   "cell_type": "code",
   "execution_count": 9,
   "metadata": {},
   "outputs": [],
   "source": [
    "import urllib.request;\n",
    "import time;\n",
    "import threading;\n"
   ]
  },
  {
   "cell_type": "code",
   "execution_count": 10,
   "metadata": {},
   "outputs": [
    {
     "name": "stdout",
     "output_type": "stream",
     "text": [
      "b'119.7.87.26:63219\\n'\n"
     ]
    }
   ],
   "source": [
    "# 这里填写无忧代理IP提供的API订单号（请到用户中心获取）\n",
    "order = \"b2842163d1f24e01d3204cea0b07e6a3\"; \n",
    "# 获取IP的API接口｀\n",
    "apiUrl = \"http://api.ip.data5u.com/dynamic/get.html?order=\" + order;\n",
    "res = str(urllib.request.urlopen(apiUrl).read())\n",
    "            \n",
    "res = res.replace('\\n','')\n",
    "\n",
    "# 按照\\n分割获取到的IP\n",
    "print(res)\n"
   ]
  },
  {
   "cell_type": "code",
   "execution_count": null,
   "metadata": {},
   "outputs": [],
   "source": []
  },
  {
   "cell_type": "code",
   "execution_count": null,
   "metadata": {},
   "outputs": [],
   "source": []
  },
  {
   "cell_type": "code",
   "execution_count": null,
   "metadata": {},
   "outputs": [],
   "source": []
  }
 ],
 "metadata": {
  "kernelspec": {
   "display_name": "Python 3",
   "language": "python",
   "name": "python3"
  },
  "language_info": {
   "codemirror_mode": {
    "name": "ipython",
    "version": 3
   },
   "file_extension": ".py",
   "mimetype": "text/x-python",
   "name": "python",
   "nbconvert_exporter": "python",
   "pygments_lexer": "ipython3",
   "version": "3.6.3"
  }
 },
 "nbformat": 4,
 "nbformat_minor": 2
}

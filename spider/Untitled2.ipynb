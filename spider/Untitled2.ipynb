{
 "cells": [
  {
   "cell_type": "code",
   "execution_count": 58,
   "metadata": {},
   "outputs": [
    {
     "name": "stdout",
     "output_type": "stream",
     "text": [
      "30\n",
      "20\n",
      "10\n",
      "1\n"
     ]
    }
   ],
   "source": [
    "for i in range(4-1, -1,-1):\n",
    "    i= i*10\n",
    "    if i == 0:\n",
    "        i =1\n",
    "    print(i)\n"
   ]
  },
  {
   "cell_type": "code",
   "execution_count": 54,
   "metadata": {},
   "outputs": [
    {
     "ename": "SyntaxError",
     "evalue": "unexpected character after line continuation character (<ipython-input-54-647165778d2e>, line 2)",
     "output_type": "error",
     "traceback": [
      "\u001b[0;36m  File \u001b[0;32m\"<ipython-input-54-647165778d2e>\"\u001b[0;36m, line \u001b[0;32m2\u001b[0m\n\u001b[0;31m    comp=re.compile([1-9]\\d*\u001b[0m\n\u001b[0m                            ^\u001b[0m\n\u001b[0;31mSyntaxError\u001b[0m\u001b[0;31m:\u001b[0m unexpected character after line continuation character\n"
     ]
    }
   ],
   "source": [
    "string= '第 77 页'\n",
    "comp=re.compile([1-9]\\d*\n",
    "               )\n",
    "\n",
    "\n",
    "list_str=comp.findall(string)"
   ]
  },
  {
   "cell_type": "code",
   "execution_count": null,
   "metadata": {},
   "outputs": [],
   "source": [
    "import re\n",
    "string = 'asdasdsa127米'\n",
    "a=re.findall(r\"\\d+\\.?\\d*\", string)[0]\n",
    "a"
   ]
  },
  {
   "cell_type": "code",
   "execution_count": 32,
   "metadata": {},
   "outputs": [
    {
     "name": "stdout",
     "output_type": "stream",
     "text": [
      "<class 'type'>\n",
      "<filter object at 0x7fa8e0048dd8>\n"
     ]
    }
   ],
   "source": [
    "string = u'127米'\n",
    "string2 = string.encode('gbk')\n",
    "print (type(str))\n",
    "print (filter(str.isdigit, string2))"
   ]
  },
  {
   "cell_type": "code",
   "execution_count": 39,
   "metadata": {},
   "outputs": [
    {
     "name": "stdout",
     "output_type": "stream",
     "text": [
      "19\n",
      "18\n",
      "17\n",
      "16\n",
      "15\n",
      "14\n",
      "13\n",
      "12\n",
      "11\n",
      "10\n",
      "9\n",
      "8\n",
      "7\n",
      "6\n",
      "5\n",
      "4\n",
      "3\n",
      "2\n",
      "1\n",
      "0\n"
     ]
    }
   ],
   "source": [
    "a = range(20)\n",
    "for i in reversed(a):\n",
    "    \n",
    "    print(i)"
   ]
  },
  {
   "cell_type": "code",
   "execution_count": 61,
   "metadata": {},
   "outputs": [],
   "source": [
    "i = {'saa':1,'bb':2,'cc':3}"
   ]
  },
  {
   "cell_type": "code",
   "execution_count": 63,
   "metadata": {},
   "outputs": [
    {
     "name": "stdout",
     "output_type": "stream",
     "text": [
      "{'saa': 1, 'bb': 2, 'cc': 3}\n",
      "{'saa': 1, 'bb': 2, 'cc': 3}\n",
      "{'saa': 1, 'bb': 2, 'cc': 3}\n"
     ]
    }
   ],
   "source": [
    "for x in i:\n",
    "    print(i)"
   ]
  },
  {
   "cell_type": "code",
   "execution_count": 67,
   "metadata": {},
   "outputs": [
    {
     "ename": "TypeError",
     "evalue": "list indices must be integers or slices, not str",
     "output_type": "error",
     "traceback": [
      "\u001b[0;31m---------------------------------------------------------------------------\u001b[0m",
      "\u001b[0;31mTypeError\u001b[0m                                 Traceback (most recent call last)",
      "\u001b[0;32m<ipython-input-67-b91938e0426d>\u001b[0m in \u001b[0;36m<module>\u001b[0;34m()\u001b[0m\n\u001b[1;32m     19\u001b[0m     \u001b[0murl\u001b[0m \u001b[0;34m=\u001b[0m \u001b[0;34m'https://m.baidu.com/s?pn='\u001b[0m\u001b[0;34m+\u001b[0m\u001b[0mpn\u001b[0m\u001b[0;34m+\u001b[0m\u001b[0;34m'&usm='\u001b[0m\u001b[0;34m+\u001b[0m\u001b[0musm\u001b[0m\u001b[0;34m+\u001b[0m\u001b[0;34m'&word='\u001b[0m\u001b[0;34m+\u001b[0m\u001b[0mword\u001b[0m\u001b[0;34m+\u001b[0m\u001b[0;34m'&sa='\u001b[0m\u001b[0;34m+\u001b[0m\u001b[0msa\u001b[0m\u001b[0;34m+\u001b[0m\u001b[0;34m'&rsv_pq='\u001b[0m\u001b[0;34m+\u001b[0m\u001b[0mrsv_pq\u001b[0m\u001b[0;34m+\u001b[0m\u001b[0;34m'&rsv_t='\u001b[0m\u001b[0;34m+\u001b[0m\u001b[0mrsv_t\u001b[0m\u001b[0;34m+\u001b[0m\u001b[0;34m'&rqid='\u001b[0m\u001b[0;34m+\u001b[0m\u001b[0mrqid\u001b[0m\u001b[0;34m\u001b[0m\u001b[0m\n\u001b[1;32m     20\u001b[0m             \u001b[0;31m#url参数\u001b[0m\u001b[0;34m\u001b[0m\u001b[0;34m\u001b[0m\u001b[0m\n\u001b[0;32m---> 21\u001b[0;31m     \u001b[0mitem\u001b[0m\u001b[0;34m[\u001b[0m\u001b[0;34m'search_url'\u001b[0m\u001b[0;34m]\u001b[0m \u001b[0;34m=\u001b[0m \u001b[0murl\u001b[0m\u001b[0;34m\u001b[0m\u001b[0m\n\u001b[0m\u001b[1;32m     22\u001b[0m     \u001b[0mitem\u001b[0m\u001b[0;34m[\u001b[0m\u001b[0;34m'word'\u001b[0m\u001b[0;34m]\u001b[0m \u001b[0;34m=\u001b[0m \u001b[0mkeyword\u001b[0m\u001b[0;34m\u001b[0m\u001b[0m\n\u001b[1;32m     23\u001b[0m     \u001b[0mitem\u001b[0m\u001b[0;34m[\u001b[0m\u001b[0;34m'page_num'\u001b[0m\u001b[0;34m]\u001b[0m \u001b[0;34m=\u001b[0m \u001b[0mpage_num\u001b[0m\u001b[0;34m\u001b[0m\u001b[0m\n",
      "\u001b[0;31mTypeError\u001b[0m: list indices must be integers or slices, not str"
     ]
    }
   ],
   "source": [
    "page_num = 7\n",
    "items = []\n",
    "for i in range(page_num-1, -1,-1):\n",
    "    item = []\n",
    "    original_site= \"m.baidu.com\"\n",
    "            #url参数\n",
    "    keyword = \"免费代理\"\n",
    "\n",
    "    pn=i*10\n",
    "    if pn == 0:\n",
    "        pn=1\n",
    "    pn = str(pn)\n",
    "    usm='3'\n",
    "    word='as2'\n",
    "    sa='np'\n",
    "    rsv_pq=''\n",
    "    rsv_t=''\n",
    "    rqid=''\n",
    "    url = 'https://m.baidu.com/s?pn='+pn+'&usm='+usm+'&word='+word+'&sa='+sa+'&rsv_pq='+rsv_pq+'&rsv_t='+rsv_t+'&rqid='+rqid\n",
    "            #url参数\n",
    "    item['search_url'] = url\n",
    "    item['word'] = keyword\n",
    "    item['page_num'] = page_num\n",
    "    items.append(item)"
   ]
  },
  {
   "cell_type": "code",
   "execution_count": null,
   "metadata": {},
   "outputs": [],
   "source": []
  }
 ],
 "metadata": {
  "kernelspec": {
   "display_name": "Python 3",
   "language": "python",
   "name": "python3"
  },
  "language_info": {
   "codemirror_mode": {
    "name": "ipython",
    "version": 3
   },
   "file_extension": ".py",
   "mimetype": "text/x-python",
   "name": "python",
   "nbconvert_exporter": "python",
   "pygments_lexer": "ipython3",
   "version": "3.6.3"
  }
 },
 "nbformat": 4,
 "nbformat_minor": 2
}

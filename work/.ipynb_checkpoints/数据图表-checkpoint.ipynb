{
 "cells": [
  {
   "cell_type": "code",
   "execution_count": 7,
   "metadata": {},
   "outputs": [],
   "source": [
    "# -*- coding: gbk -*"
   ]
  },
  {
   "cell_type": "code",
   "execution_count": 8,
   "metadata": {},
   "outputs": [
    {
     "ename": "NameError",
     "evalue": "name '_C' is not defined",
     "output_type": "error",
     "traceback": [
      "\u001b[0;31m---------------------------------------------------------------------------\u001b[0m",
      "\u001b[0;31mNameError\u001b[0m                                 Traceback (most recent call last)",
      "\u001b[0;32m<ipython-input-8-534b2a3fd01e>\u001b[0m in \u001b[0;36m<module>\u001b[0;34m()\u001b[0m\n\u001b[0;32m----> 1\u001b[0;31m \u001b[0;32mfrom\u001b[0m \u001b[0mtorch\u001b[0m\u001b[0;34m.\u001b[0m\u001b[0mautograd\u001b[0m \u001b[0;32mimport\u001b[0m \u001b[0mVariable\u001b[0m\u001b[0;34m\u001b[0m\u001b[0m\n\u001b[0m\u001b[1;32m      2\u001b[0m \u001b[0;32mimport\u001b[0m \u001b[0mtorch\u001b[0m\u001b[0;34m\u001b[0m\u001b[0m\n\u001b[1;32m      3\u001b[0m \u001b[0;32mfrom\u001b[0m \u001b[0mtorch\u001b[0m \u001b[0;32mimport\u001b[0m \u001b[0mnn\u001b[0m\u001b[0;34m\u001b[0m\u001b[0m\n\u001b[1;32m      4\u001b[0m \u001b[0;32mimport\u001b[0m \u001b[0mpandas\u001b[0m \u001b[0;32mas\u001b[0m \u001b[0mpd\u001b[0m\u001b[0;34m\u001b[0m\u001b[0m\n\u001b[1;32m      5\u001b[0m \u001b[0;32mimport\u001b[0m \u001b[0mmatplotlib\u001b[0m\u001b[0;34m.\u001b[0m\u001b[0mpyplot\u001b[0m \u001b[0;32mas\u001b[0m \u001b[0mplt\u001b[0m\u001b[0;34m\u001b[0m\u001b[0m\n",
      "\u001b[0;32m/usr/local/lib/python3.6/site-packages/torch/__init__.py\u001b[0m in \u001b[0;36m<module>\u001b[0;34m()\u001b[0m\n\u001b[1;32m     56\u001b[0m \u001b[0;32mfrom\u001b[0m \u001b[0mtorch\u001b[0m\u001b[0;34m.\u001b[0m\u001b[0m_C\u001b[0m \u001b[0;32mimport\u001b[0m \u001b[0;34m*\u001b[0m\u001b[0;34m\u001b[0m\u001b[0m\n\u001b[1;32m     57\u001b[0m \u001b[0;34m\u001b[0m\u001b[0m\n\u001b[0;32m---> 58\u001b[0;31m __all__ += [name for name in dir(_C)\n\u001b[0m\u001b[1;32m     59\u001b[0m             \u001b[0;32mif\u001b[0m \u001b[0mname\u001b[0m\u001b[0;34m[\u001b[0m\u001b[0;36m0\u001b[0m\u001b[0;34m]\u001b[0m \u001b[0;34m!=\u001b[0m \u001b[0;34m'_'\u001b[0m \u001b[0;32mand\u001b[0m\u001b[0;34m\u001b[0m\u001b[0m\n\u001b[1;32m     60\u001b[0m             not name.endswith('Base')]\n",
      "\u001b[0;31mNameError\u001b[0m: name '_C' is not defined"
     ]
    }
   ],
   "source": [
    "from torch.autograd import Variable\n",
    "import torch\n",
    "from torch import nn\n",
    "import pandas as pd\n",
    "import matplotlib.pyplot as plt\n",
    "import torch.nn.functional as F\n",
    "import numpy as np\n",
    "import random"
   ]
  },
  {
   "cell_type": "code",
   "execution_count": null,
   "metadata": {},
   "outputs": [],
   "source": [
    "data = pd.read_csv(open('data.csv'))\n",
    "data_nan = pd.read_csv(open('data.csv'))\n",
    "data_nan = data_nan.replace(0,np.nan)\n",
    "data = data.fillna(0)\n",
    "print(data)\n",
    "print(data.head(0))\n",
    "sum_all = data.sum()\n",
    "all_count = data_nan.count()\n",
    "print(all_count)\n",
    "#print(sum_all)\n",
    "#print(sum_all['主要客流时间'])"
   ]
  },
  {
   "cell_type": "code",
   "execution_count": null,
   "metadata": {},
   "outputs": [],
   "source": [
    "\n",
    "fig = plt.figure(figsize=(9,6),dpi=150)\n",
    "labels = ['含商品买赠'+str(all_count['包含商品买赠订单数量'])+'家门店',\n",
    "          '含商品折扣'+str(all_count['包含商品折扣订单数量'])+'家门店',\n",
    "          '含电子券'+str(all_count['包含电子券订单数量'])+'家门店',\n",
    "          '含预付卡'+str(all_count['预付卡支付订单数量'])+'家门店',\n",
    "          '会员单商品折扣'+str(all_count['会员单商品折扣'])+'家门店',\n",
    "          '整单优惠'+str(all_count['整单优惠'])+'家门店',\n",
    "         ]\n",
    "ax = fig.add_subplot(1,1,1)\n",
    "\n",
    "sizes = [sum_all['包含商品买赠订单数量'],\n",
    "         sum_all['包含商品折扣订单数量'],\n",
    "         sum_all['包含电子券订单数量'],\n",
    "         sum_all['预付卡支付订单数量'],\n",
    "         sum_all['会员单商品折扣'],\n",
    "         sum_all['整单优惠']]\n",
    "patches,l_text,p_text = plt.pie(sizes,labels=labels,labeldistance = 1.1,autopct = '%3.1f%%',shadow = False,\n",
    "                                startangle = 90,pctdistance = 0.6)\n",
    "\n",
    "ax.set_title('营销和会员的使用占比（不含总单）')\n",
    "for t in l_text:\n",
    "    t.set_size=(30)\n",
    "for t in p_text:\n",
    "    t.set_size=(20)\n",
    "# 设置x，y轴刻度一致，这样饼图才能是圆的\n",
    "plt.axis('equal')\n",
    "plt.legend()\n",
    "plt.show()\n"
   ]
  },
  {
   "cell_type": "code",
   "execution_count": null,
   "metadata": {
    "scrolled": false
   },
   "outputs": [],
   "source": [
    "fig2 = plt.figure(figsize=(9,6),dpi=150)\n",
    "x = ['近一月总订单量'+str(all_count['近一月订单量'])+'家门店',\n",
    "          '含商品买赠'+str(all_count['包含商品买赠订单数量'])+'家门店',\n",
    "          '含商品折扣'+str(all_count['包含商品折扣订单数量'])+'家门店',\n",
    "          '含电子券'+str(all_count['包含电子券订单数量'])+'家门店',\n",
    "          '含预付卡'+str(all_count['预付卡支付订单数量'])+'家门店',\n",
    "          '会员单商品折扣'+str(all_count['会员单商品折扣'])+'家门店',\n",
    "          '整单优惠'+str(all_count['整单优惠'])+'家门店',\n",
    "         ]\n",
    "y = np.array([sum_all['近一月订单量'],\n",
    "         sum_all['包含商品买赠订单数量'],\n",
    "         sum_all['包含商品折扣订单数量'],\n",
    "         sum_all['包含电子券订单数量'],\n",
    "         sum_all['预付卡支付订单数量'],\n",
    "         sum_all['会员单商品折扣'],\n",
    "         sum_all['整单优惠']])\n",
    "\n",
    "colors = ['yellowgreen','red','gold','lightskyblue','white','lightcoral','blue']\n",
    "porcent = 100.*y/y.sum()\n",
    "\n",
    "patches, texts = plt.pie(y, colors=colors, startangle=90, radius=1.2)\n",
    "labels = ['{0} - {1:1.2f} %'.format(i,j) for i,j in zip(x, porcent)]\n",
    "ax = fig2.add_subplot(1,1,1)\n",
    "sort_legend = True\n",
    "if sort_legend:\n",
    "    patches, labels, dummy =  zip(*sorted(zip(patches, labels, y),\n",
    "                                          key=lambda x: x[2],\n",
    "                                          reverse=True))\n",
    "ax.set_title('营销和会员的使用占比（不含总单）')\n",
    "plt.legend(patches, labels, loc='center left', bbox_to_anchor=(-0.1, 1.),\n",
    "           fontsize=8)\n",
    "\n",
    "plt.savefig('piechart.png', bbox_inches='tight')\n",
    "plt.show()"
   ]
  },
  {
   "cell_type": "code",
   "execution_count": null,
   "metadata": {
    "scrolled": false
   },
   "outputs": [],
   "source": [
    "fig3 = plt.figure(figsize=(9,6),dpi=150)\n",
    "a = data['近一月订单量']\n",
    "b = (data['近一月订单销售额'])/100\n",
    "c = data['包含商品买赠订单数量']\n",
    "d = data['包含商品折扣订单数量']\n",
    "e = data['包含电子券订单数量']\n",
    "f = data['预付卡支付订单数量']\n",
    "g = data['会员单商品折扣']\n",
    "h = data['整单优惠']\n",
    "num = np.arange(0,69)\n",
    "a[num].T.plot.bar(color='yellowgreen',alpha=1,label='近一月订单量')\n",
    "b[num].T.plot.bar(color='gold',alpha=0.8,label='近一月订单销售额')\n",
    "c[num].T.plot.bar(color='lightskyblue',alpha=0.7,label='包含商品买赠订单数量')\n",
    "d[num].T.plot.bar(color='white',alpha=0.6,label='包含商品折扣订单数量')\n",
    "e[num].T.plot.bar(color='lightcoral',alpha=0.5,label='包含电子券订单数量')\n",
    "f[num].T.plot.bar(color='blue',alpha=0.4,label='预付卡支付订单数量')\n",
    "g[num].T.plot.bar(color='orange',alpha=0.3,label='会员单商品折扣')\n",
    "h[num].T.plot.bar(color='black',alpha=0.2,label='整单优惠')\n",
    "\n",
    "plt.xlabel('总订单量排行')\n",
    "plt.ylabel('订单数量')\n",
    "\n",
    "plt.title('订单占比走势占比')\n",
    "plt.legend(loc='upper right')\n",
    "plt.show()"
   ]
  },
  {
   "cell_type": "code",
   "execution_count": null,
   "metadata": {},
   "outputs": [],
   "source": [
    "fig4 = plt.figure(figsize=(9,6),dpi=150)\n",
    "a = data['近一月订单量']\n",
    "b = (data['近一月订单销售额'])/100\n",
    "c = data['包含商品买赠订单数量']\n",
    "d = data['包含商品折扣订单数量']\n",
    "e = data['包含电子券订单数量']\n",
    "f = data['预付卡支付订单数量']\n",
    "g = data['会员单商品折扣']\n",
    "h = data['整单优惠']\n",
    "\n",
    "x = np.arange(0,66)\n",
    "\n",
    "\n",
    "plt.plot(x,a,'',label='近一月订单量')\n",
    "plt.plot(x,b,'',label='近一月订单销售额')\n",
    "plt.plot(x,c,'',label='包含商品买赠订单数量')\n",
    "plt.plot(x,d,'',label='包含商品折扣订单数量')\n",
    "plt.plot(x,e,'',label='包含电子券订单数量')\n",
    "plt.plot(x,f,'',label='预付卡支付订单数量')\n",
    "plt.plot(x,g,'',label='整单优惠')\n",
    "plt.legend(loc='upper right')\n",
    "#plt.plot(steps2, out.data.numpy().flatten(), 'b-')\n",
    "ax = fig4.add_subplot(1,1,1)\n",
    "\n",
    "ax.set_title('营销和会员的使用占比（不含总单）')\n",
    "plt.xlabel('销量排行')\n",
    "plt.ylabel('订单量')\n",
    "plt.draw()\n",
    "plt.ioff()\n",
    "plt.show()   "
   ]
  },
  {
   "cell_type": "code",
   "execution_count": null,
   "metadata": {},
   "outputs": [],
   "source": [
    "data.loc[(data[\"会员人数\"] == 0.0) & (data[\"预付卡支付订单数量\"]==0.0), [\"商户ID\", \"商户类型\" , \"商户简称\", \"近一月订单量\"]].head()"
   ]
  },
  {
   "cell_type": "code",
   "execution_count": null,
   "metadata": {},
   "outputs": [],
   "source": []
  }
 ],
 "metadata": {
  "kernelspec": {
   "display_name": "Python 3",
   "language": "python",
   "name": "python3"
  }
 },
 "nbformat": 4,
 "nbformat_minor": 2
}

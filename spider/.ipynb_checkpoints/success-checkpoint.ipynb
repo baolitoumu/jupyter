{
 "cells": [
  {
   "cell_type": "code",
   "execution_count": 98,
   "metadata": {},
   "outputs": [],
   "source": [
    "\n",
    "\n",
    "from pyvirtualdisplay import Display\n",
    "from selenium import webdriver\n",
    "from selenium.webdriver.common.proxy import Proxy\n",
    "from selenium.webdriver.common.proxy import ProxyType\n"
   ]
  },
  {
   "cell_type": "code",
   "execution_count": 99,
   "metadata": {},
   "outputs": [],
   "source": [
    " \n",
    "display = Display(visible=0, size=(800, 600))# 初始化屏幕\n"
   ]
  },
  {
   "cell_type": "code",
   "execution_count": 100,
   "metadata": {},
   "outputs": [
    {
     "data": {
      "text/plain": [
       "<Display cmd_param=['Xvfb', '-br', '-nolisten', 'tcp', '-screen', '0', '800x600x24', ':1051'] cmd=['Xvfb', '-br', '-nolisten', 'tcp', '-screen', '0', '800x600x24', ':1051'] oserror=None return_code=None stdout=\"None\" stderr=\"None\" timeout_happened=False>"
      ]
     },
     "execution_count": 100,
     "metadata": {},
     "output_type": "execute_result"
    }
   ],
   "source": [
    "display.start()\n"
   ]
  },
  {
   "cell_type": "code",
   "execution_count": 101,
   "metadata": {},
   "outputs": [],
   "source": [
    "\n",
    "PROXY = 'proxy.baibianip.com:8000'\n",
    "\n",
    "\n",
    "\n",
    "\n",
    "\n",
    "chrome_options = webdriver.ChromeOptions()\n",
    "chrome_options.add_argument('--proxy-server={0}'.format(PROXY))\n",
    "chrome_options.add_argument('headless')\n",
    "chrome_options.add_argument('no-sandbox')\n",
    "driver = webdriver.Chrome(chrome_options=chrome_options)\n",
    "#(executable_path = '/opt/jupyter/google')# 初始化Chrome\n"
   ]
  },
  {
   "cell_type": "code",
   "execution_count": 102,
   "metadata": {},
   "outputs": [],
   "source": []
  },
  {
   "cell_type": "code",
   "execution_count": 103,
   "metadata": {},
   "outputs": [
    {
     "name": "stdout",
     "output_type": "stream",
     "text": [
      "36.57.78.49\n",
      "121.226.161.161\n",
      "121.226.161.161\n",
      "121.226.161.161\n",
      "121.226.161.161\n",
      "121.226.161.161\n",
      "121.226.161.161\n",
      "121.226.161.161\n",
      "121.226.161.161\n",
      "121.226.161.161\n"
     ]
    }
   ],
   "source": [
    "for i in range(10):\n",
    "    driver.get('https://www.iplocation.net')\n",
    "\n",
    "    #driver.add_cookie({'name':'key-aaaaaaa', 'value':'value-bbbb'})\n",
    "    ip = driver.find_element_by_xpath(\"//span[@style='font-weight: bold; color:green;']\").text\n",
    "    cookie= driver.get_cookies()\n",
    "    #print(cookie)\n",
    "    driver.delete_all_cookies()\n",
    "    print (ip)\n",
    "   # driver.refresh()"
   ]
  },
  {
   "cell_type": "code",
   "execution_count": null,
   "metadata": {},
   "outputs": [],
   "source": [
    "driver.close()"
   ]
  }
 ],
 "metadata": {
  "kernelspec": {
   "display_name": "Python 3",
   "language": "python",
   "name": "python3"
  },
  "language_info": {
   "codemirror_mode": {
    "name": "ipython",
    "version": 3
   },
   "file_extension": ".py",
   "mimetype": "text/x-python",
   "name": "python",
   "nbconvert_exporter": "python",
   "pygments_lexer": "ipython3",
   "version": "3.6.3"
  }
 },
 "nbformat": 4,
 "nbformat_minor": 2
}

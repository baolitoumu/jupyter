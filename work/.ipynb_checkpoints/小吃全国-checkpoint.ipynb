{
 "cells": [
  {
   "cell_type": "code",
   "execution_count": 1,
   "metadata": {},
   "outputs": [
    {
     "data": {
      "text/plain": [
       "916682"
      ]
     },
     "execution_count": 1,
     "metadata": {},
     "output_type": "execute_result"
    }
   ],
   "source": [
    "# The usual preamble\n",
    "%matplotlib inline\n",
    "import pandas as pd\n",
    "import matplotlib.pyplot as plt\n",
    "import numpy as np\n",
    "\n",
    "# This is necessary to show lots of columns in pandas 0.12. \n",
    "# Not necessary in pandas 0.13.\n",
    "pd.set_option('display.width', 5000) \n",
    "pd.set_option('max_colwidth',200)\n",
    "pd.set_option('display.max_columns', 90)\n",
    "pd.set_option('display.max_rows', 90)\n",
    "writer = pd.ExcelWriter('小吃筛选结果.xlsx')\n",
    "916682"
   ]
  },
  {
   "cell_type": "code",
   "execution_count": 2,
   "metadata": {
    "collapsed": true
   },
   "outputs": [],
   "source": [
    "df = pd.read_excel('all_data_xiaochi.xlsx','工作表1',index_col=None)\n",
    "df = df.fillna(0)\n",
    "filter = ['商户ID',\n",
    "#'一级行业',\n",
    "#'二级行业',\n",
    "'商户类型',\n",
    "'商户简称',\n",
    "'商户全称',\n",
    "#'省',\n",
    "#'市',\n",
    "#'区',\n",
    "'地址',\n",
    "'联系方式',\n",
    "'近一月订单量',\n",
    "#'近一月订单销售额',\n",
    "#'近一周订单量',\n",
    "#'主要客流时间',\n",
    "#'主要客流的订单量',\n",
    "#'包含商品买赠订单数量',\n",
    "'包含商品折扣订单数量',\n",
    "'包含电子券订单数量',\n",
    "'预付卡支付订单数量',\n",
    "'会员单商品折扣',\n",
    "'整单优惠',\n",
    "'会员人数',\n",
    "'扫码点单'\n",
    "         ]"
   ]
  },
  {
   "cell_type": "code",
   "execution_count": 3,
   "metadata": {
    "collapsed": true,
    "scrolled": false
   },
   "outputs": [],
   "source": [
    "#df.loc[(df['商户简称'].str.contains('牛哥'))|\n",
    "#      (df['商户全称'].str.contains('凉皮'))&\n",
    "#       (df['二级行业'].str.contains('小吃快餐'))|\n",
    "#       (df['二级行业'].str.contains('小吃'))\n",
    "#           ]\n",
    "#无会员使用情况\n",
    "df.loc[\n",
    "        (df['会员人数'] ==0)  &\n",
    "        (df['会员单商品折扣'] == 0),\n",
    "    \n",
    "        ].sort_values(by=['近一月订单量'],ascending=False).reindex().reset_index(drop=True).to_excel(writer,'无会员门店')"
   ]
  },
  {
   "cell_type": "code",
   "execution_count": 4,
   "metadata": {
    "collapsed": true
   },
   "outputs": [],
   "source": [
    "\n",
    "ng = df.loc[(df['商户简称'].str.contains('牛哥'))|\n",
    "       (df['商户全称'].str.contains('凉皮'))\n",
    "           ]\n"
   ]
  },
  {
   "cell_type": "code",
   "execution_count": 5,
   "metadata": {},
   "outputs": [
    {
     "data": {
      "text/html": [
       "<div>\n",
       "<style>\n",
       "    .dataframe thead tr:only-child th {\n",
       "        text-align: right;\n",
       "    }\n",
       "\n",
       "    .dataframe thead th {\n",
       "        text-align: left;\n",
       "    }\n",
       "\n",
       "    .dataframe tbody tr th {\n",
       "        vertical-align: top;\n",
       "    }\n",
       "</style>\n",
       "<table border=\"1\" class=\"dataframe\">\n",
       "  <thead>\n",
       "    <tr style=\"text-align: right;\">\n",
       "      <th></th>\n",
       "      <th>商户ID</th>\n",
       "      <th>一级行业</th>\n",
       "      <th>二级行业</th>\n",
       "      <th>商户类型</th>\n",
       "      <th>营业时间</th>\n",
       "      <th>商户简称</th>\n",
       "      <th>商户全称</th>\n",
       "      <th>省</th>\n",
       "      <th>市</th>\n",
       "      <th>区</th>\n",
       "      <th>地址</th>\n",
       "      <th>联系方式</th>\n",
       "      <th>开始使用时间</th>\n",
       "      <th>近一月订单量</th>\n",
       "      <th>近一月订单销售额</th>\n",
       "      <th>近一周订单量</th>\n",
       "      <th>主要客流时间</th>\n",
       "      <th>主要客流的订单量</th>\n",
       "      <th>包含商品买赠订单数量</th>\n",
       "      <th>包含商品折扣订单数量</th>\n",
       "      <th>包含电子券订单数量</th>\n",
       "      <th>预付卡支付订单数量</th>\n",
       "      <th>会员单商品折扣</th>\n",
       "      <th>整单优惠</th>\n",
       "      <th>会员人数</th>\n",
       "      <th>扫码点单</th>\n",
       "    </tr>\n",
       "  </thead>\n",
       "  <tbody>\n",
       "  </tbody>\n",
       "</table>\n",
       "</div>"
      ],
      "text/plain": [
       "Empty DataFrame\n",
       "Columns: [商户ID, 一级行业, 二级行业, 商户类型, 营业时间, 商户简称, 商户全称, 省, 市, 区, 地址, 联系方式, 开始使用时间, 近一月订单量, 近一月订单销售额, 近一周订单量, 主要客流时间, 主要客流的订单量, 包含商品买赠订单数量, 包含商品折扣订单数量, 包含电子券订单数量, 预付卡支付订单数量, 会员单商品折扣, 整单优惠, 会员人数, 扫码点单]\n",
       "Index: []"
      ]
     },
     "execution_count": 5,
     "metadata": {},
     "output_type": "execute_result"
    }
   ],
   "source": [
    "ng.loc[(ng['地址'].str.contains('来福士'))\n",
    "           ]"
   ]
  },
  {
   "cell_type": "code",
   "execution_count": null,
   "metadata": {
    "collapsed": true
   },
   "outputs": [],
   "source": []
  }
 ],
 "metadata": {
  "kernelspec": {
   "display_name": "Python 3",
   "language": "python",
   "name": "python3"
  },
  "language_info": {
   "codemirror_mode": {
    "name": "ipython",
    "version": 3
   },
   "file_extension": ".py",
   "mimetype": "text/x-python",
   "name": "python",
   "nbconvert_exporter": "python",
   "pygments_lexer": "ipython3",
   "version": "3.5.2"
  }
 },
 "nbformat": 4,
 "nbformat_minor": 2
}

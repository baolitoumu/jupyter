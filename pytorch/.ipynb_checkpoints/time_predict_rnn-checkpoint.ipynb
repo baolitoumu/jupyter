{
 "cells": [
  {
   "cell_type": "code",
   "execution_count": 2,
   "metadata": {},
   "outputs": [
    {
     "ename": "ModuleNotFoundError",
     "evalue": "No module named 'matplotlib'",
     "output_type": "error",
     "traceback": [
      "\u001b[0;31m---------------------------------------------------------------------------\u001b[0m",
      "\u001b[0;31mModuleNotFoundError\u001b[0m                       Traceback (most recent call last)",
      "\u001b[0;32m<ipython-input-2-534b2a3fd01e>\u001b[0m in \u001b[0;36m<module>\u001b[0;34m()\u001b[0m\n\u001b[1;32m      3\u001b[0m \u001b[0;32mfrom\u001b[0m \u001b[0mtorch\u001b[0m \u001b[0;32mimport\u001b[0m \u001b[0mnn\u001b[0m\u001b[0;34m\u001b[0m\u001b[0m\n\u001b[1;32m      4\u001b[0m \u001b[0;32mimport\u001b[0m \u001b[0mpandas\u001b[0m \u001b[0;32mas\u001b[0m \u001b[0mpd\u001b[0m\u001b[0;34m\u001b[0m\u001b[0m\n\u001b[0;32m----> 5\u001b[0;31m \u001b[0;32mimport\u001b[0m \u001b[0mmatplotlib\u001b[0m\u001b[0;34m.\u001b[0m\u001b[0mpyplot\u001b[0m \u001b[0;32mas\u001b[0m \u001b[0mplt\u001b[0m\u001b[0;34m\u001b[0m\u001b[0m\n\u001b[0m\u001b[1;32m      6\u001b[0m \u001b[0;32mimport\u001b[0m \u001b[0mtorch\u001b[0m\u001b[0;34m.\u001b[0m\u001b[0mnn\u001b[0m\u001b[0;34m.\u001b[0m\u001b[0mfunctional\u001b[0m \u001b[0;32mas\u001b[0m \u001b[0mF\u001b[0m\u001b[0;34m\u001b[0m\u001b[0m\n\u001b[1;32m      7\u001b[0m \u001b[0;32mimport\u001b[0m \u001b[0mnumpy\u001b[0m \u001b[0;32mas\u001b[0m \u001b[0mnp\u001b[0m\u001b[0;34m\u001b[0m\u001b[0m\n",
      "\u001b[0;31mModuleNotFoundError\u001b[0m: No module named 'matplotlib'"
     ]
    }
   ],
   "source": [
    "from torch.autograd import Variable\n",
    "import torch\n",
    "from torch import nn\n",
    "import pandas as pd\n",
    "import matplotlib.pyplot as plt\n",
    "import torch.nn.functional as F\n",
    "import numpy as np\n",
    "import random"
   ]
  },
  {
   "cell_type": "code",
   "execution_count": null,
   "metadata": {},
   "outputs": [],
   "source": [
    "price_data = pd.read_csv(open('dataset.csv'))\n",
    "all_data = price_data.iloc[1:,2:3].values\n",
    "train_data = price_data.iloc[1:151,2:3].values\n",
    "test_data = price_data.iloc[1:152,2:3].values\n",
    "train_data2 = price_data.iloc[2:222,2:3].values\n",
    "print(train_data2.size)"
   ]
  },
  {
   "cell_type": "markdown",
   "metadata": {},
   "source": [
    "rnn 重要参考资料：\n",
    "https://docs.google.com/presentation/d/17VUX7YXhMkJrqO5gNGh6EE5gzBpY-BF9IrfVKcFIb3A/edit#slide=id.g27e9c2914b_0_67"
   ]
  },
  {
   "cell_type": "code",
   "execution_count": null,
   "metadata": {},
   "outputs": [],
   "source": [
    "\n",
    "class RNN(nn.Module):\n",
    "    def __init__(self):\n",
    "        super(RNN,self).__init__()\n",
    "        self.rnn_a = nn.RNN(1,1,1)\n",
    "        self.rnn_b = nn.RNN(1,1,1)\n",
    "        self.linear = nn.Linear(1,1)\n",
    "    def forward(self,input,hn):\n",
    "        outs,hn = self.rnn_a(input,hn) \n",
    "        out,hn = self.rnn_b(outs[-1].view(-1,1,1),hn)\n",
    "            ###方法一\n",
    "        outs = torch.cat((outs,out),0)\n",
    "            ###方法二   \n",
    "            #out = []\n",
    "            #for i in range(outs.size(0)):\n",
    "            #    out.append(self.linear(outs[i,:].view(-1,1)))\n",
    "\n",
    "            #return torch.stack(out, dim=0),h_state\n",
    "\n",
    "        out = self.linear(outs.view(-1,1))\n",
    "        return out,hn\n",
    "rnn = RNN()  \n",
    "optimizer = torch.optim.Adam(rnn.parameters(),lr = 0.02)\n",
    "loss_func = nn.MSELoss()\n",
    "h0 = Variable(torch.zeros(1,1,1))\n",
    "    \n",
    "input = Variable(torch.from_numpy(train_data)).type(torch.FloatTensor)\n",
    "test = Variable(torch.from_numpy(test_data)).type(torch.FloatTensor)\n",
    "input = input.view(-1,1,1) \n",
    "test = test.view(-1,1)\n",
    "\n",
    "print(rnn.state_dict().keys())  \n",
    "for key in rnn.state_dict():#模型参数  \n",
    "    print(key, 'corresponds to', list(rnn.state_dict()[key]) ) \n",
    "for i in range(1):\n",
    "    out,h_state = rnn(input,h0) \n",
    " \n",
    "    h_state = Variable(h_state.data) \n",
    "    loss = loss_func(out,test)   \n",
    "    loss.backward()                         # backpropagation, compute gradients\n",
    "    optimizer.step() \n",
    "    optimizer.zero_grad()                   # clear gradients for this training step\n",
    "steps1 = np.arange(0,150)\n",
    "steps2 = np.arange(0,151)\n",
    "input = input.view(-1)\n",
    "            \n",
    "plt.figure(1,figsize=(8,4),dpi=300) \n",
    "plt.plot(steps1,input.data.numpy().flatten() , 'r-')\n",
    "plt.plot(steps2, out.data.numpy().flatten(), 'b-')\n",
    "\n",
    "plt.draw()\n",
    "plt.ioff()\n",
    "plt.show()   \n"
   ]
  },
  {
   "cell_type": "code",
   "execution_count": null,
   "metadata": {},
   "outputs": [],
   "source": [
    "torch.save(rnn.state_dict(), 'net_params.pkl')   # save only the parameters\n",
    "torch.save(net1, 'net2.pkl')"
   ]
  },
  {
   "cell_type": "code",
   "execution_count": null,
   "metadata": {},
   "outputs": [],
   "source": [
    "rnn.load_state_dict(torch.load('net_params.pkl'))\n",
    "print(list(rnn.state_dict()[key]))"
   ]
  },
  {
   "cell_type": "code",
   "execution_count": null,
   "metadata": {},
   "outputs": [],
   "source": [
    "for key in rnn.state_dict():#模型参数  \n",
    "    print(key, 'corresponds to', list(rnn.state_dict()[key]) )\n",
    "    "
   ]
  },
  {
   "cell_type": "code",
   "execution_count": null,
   "metadata": {},
   "outputs": [],
   "source": [
    "input2 = Variable(torch.from_numpy(train_data2)).type(torch.FloatTensor)\n",
    "print(input2.size)\n",
    "input2 = input2.view(-1,1,1)\n",
    "out,h_state = rnn(input2,h0) \n",
    "print('out=============================',out)\n",
    "                  # clear gradients for this training step\n",
    "steps1 = np.arange(0,220)\n",
    "steps2 = np.arange(0,221)\n",
    "            \n",
    "plt.figure(1,figsize=(8,4),dpi=300) \n",
    "plt.plot(steps1,input2.data.numpy().flatten() , 'r-')\n",
    "plt.plot(steps2, out.data.numpy().flatten(), 'b-')\n",
    "\n",
    "plt.draw()\n",
    "plt.ioff()\n",
    "plt.show()   \n"
   ]
  },
  {
   "cell_type": "code",
   "execution_count": null,
   "metadata": {},
   "outputs": [],
   "source": []
  }
 ],
 "metadata": {
  "kernelspec": {
   "display_name": "Python 3",
   "language": "python",
   "name": "python3"
  },
  "language_info": {
   "codemirror_mode": {
    "name": "ipython",
    "version": 3
   },
   "file_extension": ".py",
   "mimetype": "text/x-python",
   "name": "python",
   "nbconvert_exporter": "python",
   "pygments_lexer": "ipython3",
   "version": "3.6.0"
  }
 },
 "nbformat": 4,
 "nbformat_minor": 2
}

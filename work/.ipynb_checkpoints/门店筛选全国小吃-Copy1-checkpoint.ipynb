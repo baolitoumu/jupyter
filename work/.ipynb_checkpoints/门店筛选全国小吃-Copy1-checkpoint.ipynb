{
 "cells": [
  {
   "cell_type": "code",
   "execution_count": 1,
   "metadata": {
    "collapsed": true
   },
   "outputs": [],
   "source": [
    "# The usual preamble\n",
    "%matplotlib inline\n",
    "import pandas as pd\n",
    "import matplotlib.pyplot as plt\n",
    "import numpy as np\n",
    "\n",
    "# This is necessary to show lots of columns in pandas 0.12. \n",
    "# Not necessary in pandas 0.13.\n",
    "pd.set_option('display.width', 5000) \n",
    "pd.set_option('max_colwidth',200)\n",
    "pd.set_option('display.max_columns', 90)\n",
    "pd.set_option('display.max_rows', 90)\n",
    "writer = pd.ExcelWriter('筛选结果.xlsx')"
   ]
  },
  {
   "cell_type": "code",
   "execution_count": 2,
   "metadata": {},
   "outputs": [
    {
     "ename": "ParserError",
     "evalue": "Error tokenizing data. C error: Expected 24 fields in line 4, saw 26\n",
     "output_type": "error",
     "traceback": [
      "\u001b[0;31m---------------------------------------------------------------------------\u001b[0m",
      "\u001b[0;31mParserError\u001b[0m                               Traceback (most recent call last)",
      "\u001b[0;32m<ipython-input-2-5f89f22baf2d>\u001b[0m in \u001b[0;36m<module>\u001b[0;34m()\u001b[0m\n\u001b[0;32m----> 1\u001b[0;31m \u001b[0mdf\u001b[0m \u001b[0;34m=\u001b[0m \u001b[0mpd\u001b[0m\u001b[0;34m.\u001b[0m\u001b[0mread_csv\u001b[0m\u001b[0;34m(\u001b[0m\u001b[0mopen\u001b[0m\u001b[0;34m(\u001b[0m\u001b[0;34m'allc.csv'\u001b[0m\u001b[0;34m)\u001b[0m\u001b[0;34m)\u001b[0m\u001b[0;34m\u001b[0m\u001b[0m\n\u001b[0m\u001b[1;32m      2\u001b[0m filter = ['商户ID',\n\u001b[1;32m      3\u001b[0m \u001b[0;31m#'一级行业',\u001b[0m\u001b[0;34m\u001b[0m\u001b[0;34m\u001b[0m\u001b[0m\n\u001b[1;32m      4\u001b[0m \u001b[0;31m#'二级行业',\u001b[0m\u001b[0;34m\u001b[0m\u001b[0;34m\u001b[0m\u001b[0m\n\u001b[1;32m      5\u001b[0m \u001b[0;34m'商户类型'\u001b[0m\u001b[0;34m,\u001b[0m\u001b[0;34m\u001b[0m\u001b[0m\n",
      "\u001b[0;32m/usr/local/lib/python3.5/dist-packages/pandas/io/parsers.py\u001b[0m in \u001b[0;36mparser_f\u001b[0;34m(filepath_or_buffer, sep, delimiter, header, names, index_col, usecols, squeeze, prefix, mangle_dupe_cols, dtype, engine, converters, true_values, false_values, skipinitialspace, skiprows, nrows, na_values, keep_default_na, na_filter, verbose, skip_blank_lines, parse_dates, infer_datetime_format, keep_date_col, date_parser, dayfirst, iterator, chunksize, compression, thousands, decimal, lineterminator, quotechar, quoting, escapechar, comment, encoding, dialect, tupleize_cols, error_bad_lines, warn_bad_lines, skipfooter, skip_footer, doublequote, delim_whitespace, as_recarray, compact_ints, use_unsigned, low_memory, buffer_lines, memory_map, float_precision)\u001b[0m\n\u001b[1;32m    653\u001b[0m                     skip_blank_lines=skip_blank_lines)\n\u001b[1;32m    654\u001b[0m \u001b[0;34m\u001b[0m\u001b[0m\n\u001b[0;32m--> 655\u001b[0;31m         \u001b[0;32mreturn\u001b[0m \u001b[0m_read\u001b[0m\u001b[0;34m(\u001b[0m\u001b[0mfilepath_or_buffer\u001b[0m\u001b[0;34m,\u001b[0m \u001b[0mkwds\u001b[0m\u001b[0;34m)\u001b[0m\u001b[0;34m\u001b[0m\u001b[0m\n\u001b[0m\u001b[1;32m    656\u001b[0m \u001b[0;34m\u001b[0m\u001b[0m\n\u001b[1;32m    657\u001b[0m     \u001b[0mparser_f\u001b[0m\u001b[0;34m.\u001b[0m\u001b[0m__name__\u001b[0m \u001b[0;34m=\u001b[0m \u001b[0mname\u001b[0m\u001b[0;34m\u001b[0m\u001b[0m\n",
      "\u001b[0;32m/usr/local/lib/python3.5/dist-packages/pandas/io/parsers.py\u001b[0m in \u001b[0;36m_read\u001b[0;34m(filepath_or_buffer, kwds)\u001b[0m\n\u001b[1;32m    409\u001b[0m \u001b[0;34m\u001b[0m\u001b[0m\n\u001b[1;32m    410\u001b[0m     \u001b[0;32mtry\u001b[0m\u001b[0;34m:\u001b[0m\u001b[0;34m\u001b[0m\u001b[0m\n\u001b[0;32m--> 411\u001b[0;31m         \u001b[0mdata\u001b[0m \u001b[0;34m=\u001b[0m \u001b[0mparser\u001b[0m\u001b[0;34m.\u001b[0m\u001b[0mread\u001b[0m\u001b[0;34m(\u001b[0m\u001b[0mnrows\u001b[0m\u001b[0;34m)\u001b[0m\u001b[0;34m\u001b[0m\u001b[0m\n\u001b[0m\u001b[1;32m    412\u001b[0m     \u001b[0;32mfinally\u001b[0m\u001b[0;34m:\u001b[0m\u001b[0;34m\u001b[0m\u001b[0m\n\u001b[1;32m    413\u001b[0m         \u001b[0mparser\u001b[0m\u001b[0;34m.\u001b[0m\u001b[0mclose\u001b[0m\u001b[0;34m(\u001b[0m\u001b[0;34m)\u001b[0m\u001b[0;34m\u001b[0m\u001b[0m\n",
      "\u001b[0;32m/usr/local/lib/python3.5/dist-packages/pandas/io/parsers.py\u001b[0m in \u001b[0;36mread\u001b[0;34m(self, nrows)\u001b[0m\n\u001b[1;32m   1003\u001b[0m                 \u001b[0;32mraise\u001b[0m \u001b[0mValueError\u001b[0m\u001b[0;34m(\u001b[0m\u001b[0;34m'skipfooter not supported for iteration'\u001b[0m\u001b[0;34m)\u001b[0m\u001b[0;34m\u001b[0m\u001b[0m\n\u001b[1;32m   1004\u001b[0m \u001b[0;34m\u001b[0m\u001b[0m\n\u001b[0;32m-> 1005\u001b[0;31m         \u001b[0mret\u001b[0m \u001b[0;34m=\u001b[0m \u001b[0mself\u001b[0m\u001b[0;34m.\u001b[0m\u001b[0m_engine\u001b[0m\u001b[0;34m.\u001b[0m\u001b[0mread\u001b[0m\u001b[0;34m(\u001b[0m\u001b[0mnrows\u001b[0m\u001b[0;34m)\u001b[0m\u001b[0;34m\u001b[0m\u001b[0m\n\u001b[0m\u001b[1;32m   1006\u001b[0m \u001b[0;34m\u001b[0m\u001b[0m\n\u001b[1;32m   1007\u001b[0m         \u001b[0;32mif\u001b[0m \u001b[0mself\u001b[0m\u001b[0;34m.\u001b[0m\u001b[0moptions\u001b[0m\u001b[0;34m.\u001b[0m\u001b[0mget\u001b[0m\u001b[0;34m(\u001b[0m\u001b[0;34m'as_recarray'\u001b[0m\u001b[0;34m)\u001b[0m\u001b[0;34m:\u001b[0m\u001b[0;34m\u001b[0m\u001b[0m\n",
      "\u001b[0;32m/usr/local/lib/python3.5/dist-packages/pandas/io/parsers.py\u001b[0m in \u001b[0;36mread\u001b[0;34m(self, nrows)\u001b[0m\n\u001b[1;32m   1746\u001b[0m     \u001b[0;32mdef\u001b[0m \u001b[0mread\u001b[0m\u001b[0;34m(\u001b[0m\u001b[0mself\u001b[0m\u001b[0;34m,\u001b[0m \u001b[0mnrows\u001b[0m\u001b[0;34m=\u001b[0m\u001b[0;32mNone\u001b[0m\u001b[0;34m)\u001b[0m\u001b[0;34m:\u001b[0m\u001b[0;34m\u001b[0m\u001b[0m\n\u001b[1;32m   1747\u001b[0m         \u001b[0;32mtry\u001b[0m\u001b[0;34m:\u001b[0m\u001b[0;34m\u001b[0m\u001b[0m\n\u001b[0;32m-> 1748\u001b[0;31m             \u001b[0mdata\u001b[0m \u001b[0;34m=\u001b[0m \u001b[0mself\u001b[0m\u001b[0;34m.\u001b[0m\u001b[0m_reader\u001b[0m\u001b[0;34m.\u001b[0m\u001b[0mread\u001b[0m\u001b[0;34m(\u001b[0m\u001b[0mnrows\u001b[0m\u001b[0;34m)\u001b[0m\u001b[0;34m\u001b[0m\u001b[0m\n\u001b[0m\u001b[1;32m   1749\u001b[0m         \u001b[0;32mexcept\u001b[0m \u001b[0mStopIteration\u001b[0m\u001b[0;34m:\u001b[0m\u001b[0;34m\u001b[0m\u001b[0m\n\u001b[1;32m   1750\u001b[0m             \u001b[0;32mif\u001b[0m \u001b[0mself\u001b[0m\u001b[0;34m.\u001b[0m\u001b[0m_first_chunk\u001b[0m\u001b[0;34m:\u001b[0m\u001b[0;34m\u001b[0m\u001b[0m\n",
      "\u001b[0;32mpandas/_libs/parsers.pyx\u001b[0m in \u001b[0;36mpandas._libs.parsers.TextReader.read (pandas/_libs/parsers.c:10862)\u001b[0;34m()\u001b[0m\n",
      "\u001b[0;32mpandas/_libs/parsers.pyx\u001b[0m in \u001b[0;36mpandas._libs.parsers.TextReader._read_low_memory (pandas/_libs/parsers.c:11138)\u001b[0;34m()\u001b[0m\n",
      "\u001b[0;32mpandas/_libs/parsers.pyx\u001b[0m in \u001b[0;36mpandas._libs.parsers.TextReader._read_rows (pandas/_libs/parsers.c:11884)\u001b[0;34m()\u001b[0m\n",
      "\u001b[0;32mpandas/_libs/parsers.pyx\u001b[0m in \u001b[0;36mpandas._libs.parsers.TextReader._tokenize_rows (pandas/_libs/parsers.c:11755)\u001b[0;34m()\u001b[0m\n",
      "\u001b[0;32mpandas/_libs/parsers.pyx\u001b[0m in \u001b[0;36mpandas._libs.parsers.raise_parser_error (pandas/_libs/parsers.c:28765)\u001b[0;34m()\u001b[0m\n",
      "\u001b[0;31mParserError\u001b[0m: Error tokenizing data. C error: Expected 24 fields in line 4, saw 26\n"
     ]
    }
   ],
   "source": [
    "df = pd.read_excel('all_data_xiaochi.xlsx','工作表1',index_col=None)\n",
    "df = df.fillna(0)\n",
    "filter = ['商户ID',\n",
    "#'一级行业',\n",
    "#'二级行业',\n",
    "'商户类型',\n",
    "'商户简称',\n",
    "'商户全称',\n",
    "#'省',\n",
    "#'市',\n",
    "#'区',\n",
    "'地址',\n",
    "'联系方式',\n",
    "'近一月订单量',\n",
    "#'近一月订单销售额',\n",
    "#'近一周订单量',\n",
    "#'主要客流时间',\n",
    "#'主要客流的订单量',\n",
    "#'包含商品买赠订单数量',\n",
    "'包含商品折扣订单数量',\n",
    "'包含电子券订单数量',\n",
    "'预付卡支付订单数量',\n",
    "'会员单商品折扣',\n",
    "'整单优惠',\n",
    "'会员人数',\n",
    "'扫码点单'\n",
    "         ]\n",
    "\n",
    "\n"
   ]
  },
  {
   "cell_type": "code",
   "execution_count": null,
   "metadata": {
    "collapsed": true,
    "scrolled": false
   },
   "outputs": [],
   "source": [
    "#无会员使用情况\n",
    "df.loc[\n",
    "        (df['会员人数'] ==0)  &\n",
    "        (df['会员单商品折扣'] == 0),\n",
    "    \n",
    "        ].sort_values(by=['近一月订单量'],ascending=False).reindex().reset_index(drop=True).to_excel(writer,'无会员门店')"
   ]
  },
  {
   "cell_type": "code",
   "execution_count": null,
   "metadata": {
    "collapsed": true
   },
   "outputs": [],
   "source": [
    "#mei有任何营销活动的商家\n",
    "df.loc[(df['包含商品买赠订单数量'] == 0) \n",
    "   &   (df['包含商品折扣订单数量'] == 0) \n",
    "   &   (df['包含电子券订单数量'] == 0) \n",
    "   &(df['预付卡支付订单数量'] == 0)\n",
    "   &(df['会员单商品折扣'] == 0) \n",
    "   &(df['会员人数'] == 0) ,\n",
    "    filter\n",
    "  ].sort_values(by=['近一月订单量'],ascending=False).reset_index(drop=True).to_excel(writer,'没有任何营销活动的商家（不包含整单优惠）')"
   ]
  },
  {
   "cell_type": "code",
   "execution_count": null,
   "metadata": {
    "collapsed": true,
    "scrolled": true
   },
   "outputs": [],
   "source": [
    "#使用过任意一种的营销活动\n",
    "df.loc[(\n",
    "    df['会员人数'] > 0) |\n",
    "    (df['包含电子券订单数量'] > 0) |\n",
    "    (df['包含商品折扣订单数量'] > 0) |\n",
    "    (df['预付卡支付订单数量'] > 0) |\n",
    "    (df['包含商品买赠订单数量'] > 0) |\n",
    "    (df['会员单商品折扣'] > 0),\n",
    "    filter\n",
    "].sort_values(by=['近一月订单量'],ascending=False).reindex().reset_index(drop=True).to_excel(writer,'使用过任意一种的营销活动')"
   ]
  },
  {
   "cell_type": "code",
   "execution_count": null,
   "metadata": {
    "collapsed": true
   },
   "outputs": [],
   "source": [
    "#所有营销活动都在使用的\n",
    "df.loc[(\n",
    "    df['会员人数'] > 0) &\n",
    "    (df['包含电子券订单数量'] > 0) &\n",
    "    (df['包含商品折扣订单数量'] > 0) &\n",
    "    (df['预付卡支付订单数量'] > 0) &\n",
    "    (df['包含商品买赠订单数量'] > 0) &\n",
    "    (df['会员单商品折扣'] > 0),\n",
    "    filter\n",
    "].sort_values(by=['近一月订单量'],ascending=False).reindex().reset_index(drop=True).to_excel(writer,'所有营销活动都在使用的')"
   ]
  },
  {
   "cell_type": "code",
   "execution_count": null,
   "metadata": {
    "collapsed": true
   },
   "outputs": [],
   "source": [
    "#二期建议门店高频\n",
    "df.loc[(df['包含商品买赠订单数量'] == 0) \n",
    "   &   (df['包含商品折扣订单数量'] == 0) \n",
    "   &   (df['包含电子券订单数量'] == 0) \n",
    "   &(df['预付卡支付订单数量'] == 0)\n",
    "   &(df['会员单商品折扣'] == 0) \n",
    "    &(df['近一月订单量'] >10000 ) \n",
    "   &(df['会员人数'] == 0) ,\n",
    "    filter\n",
    "  ].sort_values(by=['近一月订单量'],ascending=False).reset_index(drop=True).to_excel(writer,'二期高频门店')"
   ]
  },
  {
   "cell_type": "code",
   "execution_count": null,
   "metadata": {
    "collapsed": true
   },
   "outputs": [],
   "source": [
    "#二期建议门店中频\n",
    "df.loc[(df['包含商品买赠订单数量'] == 0) \n",
    "   &   (df['包含商品折扣订单数量'] == 0) \n",
    "   &   (df['包含电子券订单数量'] == 0) \n",
    "   &(df['预付卡支付订单数量'] == 0)\n",
    "   &(df['会员单商品折扣'] == 0) \n",
    "    &(df['近一月订单量'] >1000 ) \n",
    "    &(df['近一月订单量'] <10000 ) \n",
    "   &(df['会员人数'] == 0) ,\n",
    "    filter\n",
    "  ].sort_values(by=['近一月订单量'],ascending=False).reset_index(drop=True).to_excel(writer,'二期中频门店')"
   ]
  },
  {
   "cell_type": "code",
   "execution_count": null,
   "metadata": {
    "collapsed": true
   },
   "outputs": [],
   "source": [
    "#二期建议门店低频\n",
    "df.loc[(df['包含商品买赠订单数量'] == 0) \n",
    "   &   (df['包含商品折扣订单数量'] == 0) \n",
    "   &   (df['包含电子券订单数量'] == 0) \n",
    "   &(df['预付卡支付订单数量'] == 0)\n",
    "   &(df['会员单商品折扣'] == 0) \n",
    "    &(df['近一月订单量'] <1000 ) \n",
    "   &(df['会员人数'] == 0) ,\n",
    "    filter\n",
    "  ].sort_values(by=['近一月订单量'],ascending=False).reset_index(drop=True).to_excel(writer,'二期低频门店')"
   ]
  },
  {
   "cell_type": "code",
   "execution_count": null,
   "metadata": {
    "collapsed": true
   },
   "outputs": [],
   "source": [
    "#三期建议门店高频\n",
    "df.loc[(\n",
    "    df['会员人数'] > 0) |\n",
    "    (df['包含电子券订单数量'] > 0) |\n",
    "    (df['包含商品折扣订单数量'] > 0) |\n",
    "    (df['预付卡支付订单数量'] > 0) |\n",
    "    (df['近一月订单量'] >10000 ) |\n",
    "    (df['包含商品买赠订单数量'] > 0) |\n",
    "    (df['会员单商品折扣'] > 0),\n",
    "    filter\n",
    "].sort_values(by=['近一月订单量'],ascending=False).reindex().reset_index(drop=True).to_excel(writer,'三期建议门店高频')"
   ]
  },
  {
   "cell_type": "code",
   "execution_count": null,
   "metadata": {
    "collapsed": true
   },
   "outputs": [],
   "source": [
    "#三期建议门店中频\n",
    "df.loc[(\n",
    "    df['会员人数'] > 0) |\n",
    "    (df['包含电子券订单数量'] > 0) |\n",
    "    (df['包含商品折扣订单数量'] > 0) |\n",
    "    (df['预付卡支付订单数量'] > 0) |\n",
    "    (df['近一月订单量'] >1000 ) |\n",
    "    (df['近一月订单量'] <10000 ) |\n",
    "    (df['包含商品买赠订单数量'] > 0) |\n",
    "    (df['会员单商品折扣'] > 0),\n",
    "    filter\n",
    "].sort_values(by=['近一月订单量'],ascending=False).reindex().reset_index(drop=True).to_excel(writer,'三期建议门店中频')"
   ]
  },
  {
   "cell_type": "code",
   "execution_count": null,
   "metadata": {
    "collapsed": true
   },
   "outputs": [],
   "source": [
    "#三期建议门店低频\n",
    "df.loc[(\n",
    "    df['会员人数'] > 0) |\n",
    "    (df['包含电子券订单数量'] > 0) |\n",
    "    (df['包含商品折扣订单数量'] > 0) |\n",
    "    (df['预付卡支付订单数量'] > 0) |\n",
    "    (df['近一月订单量'] <1000 ) |\n",
    "    (df['包含商品买赠订单数量'] > 0) |\n",
    "    (df['会员单商品折扣'] > 0),\n",
    "    filter\n",
    "].sort_values(by=['近一月订单量'],ascending=False).reindex().reset_index(drop=True).to_excel(writer,'三期建议门店低频')"
   ]
  },
  {
   "cell_type": "code",
   "execution_count": null,
   "metadata": {
    "collapsed": true
   },
   "outputs": [],
   "source": [
    "#四期建议门店低频\n",
    "df.loc[(\n",
    "    df['会员人数'] > 0) |\n",
    "    (df['包含电子券订单数量'] > 0) |\n",
    "    (df['包含商品折扣订单数量'] > 0) |\n",
    "    (df['预付卡支付订单数量'] > 0) |\n",
    " #   (df['近一月订单量'] <1000 ) |\n",
    "    (df['包含商品买赠订单数量'] > 0) |\n",
    "    (df['扫码点单'] > 0) |\n",
    "    (df['会员单商品折扣'] > 0),\n",
    "    filter\n",
    "].sort_values(by=['近一月订单量'],ascending=False).reindex().reset_index(drop=True).to_excel(writer,'四期建议门店')"
   ]
  },
  {
   "cell_type": "code",
   "execution_count": null,
   "metadata": {
    "collapsed": true
   },
   "outputs": [],
   "source": [
    "writer.save()"
   ]
  }
 ],
 "metadata": {
  "kernelspec": {
   "display_name": "Python 3",
   "language": "python",
   "name": "python3"
  },
  "language_info": {
   "codemirror_mode": {
    "name": "ipython",
    "version": 3
   },
   "file_extension": ".py",
   "mimetype": "text/x-python",
   "name": "python",
   "nbconvert_exporter": "python",
   "pygments_lexer": "ipython3",
   "version": "3.5.2"
  }
 },
 "nbformat": 4,
 "nbformat_minor": 2
}

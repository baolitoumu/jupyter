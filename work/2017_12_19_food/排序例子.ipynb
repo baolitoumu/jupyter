{
 "cells": [
  {
   "cell_type": "code",
   "execution_count": 3,
   "metadata": {},
   "outputs": [
    {
     "name": "stdout",
     "output_type": "stream",
     "text": [
      "       b  a  d  c\n",
      "one    2  4  1  5\n",
      "two    3  1  4  5\n",
      "three  5  1  4  2\n",
      "b    3\n",
      "a    4\n",
      "d    1\n",
      "c    6\n",
      "dtype: int64\n",
      "series通过索引进行排序：\n",
      "a    4\n",
      "b    3\n",
      "c    6\n",
      "d    1\n",
      "dtype: int64\n",
      "series通过值进行排序:\n",
      "d    1\n",
      "b    3\n",
      "a    4\n",
      "c    6\n",
      "dtype: int64\n",
      "dataframe根据行索引进行降序排序（排序时默认升序，调节ascending参数）：\n",
      "       b  a  d  c\n",
      "two    3  1  4  5\n",
      "three  5  1  4  2\n",
      "one    2  4  1  5\n",
      "dataframe根据列索引进行排序：\n",
      "       a  b  c  d\n",
      "one    4  2  5  1\n",
      "two    1  3  5  4\n",
      "three  1  5  2  4\n",
      "dataframe根据值进行排序：\n",
      "       b  a  d  c\n",
      "two    3  1  4  5\n",
      "three  5  1  4  2\n",
      "one    2  4  1  5\n",
      "通过多个索引进行排序：\n",
      "       b  a  d  c\n",
      "three  5  1  4  2\n",
      "two    3  1  4  5\n",
      "one    2  4  1  5\n"
     ]
    }
   ],
   "source": [
    "#coding=utf-8  \n",
    "import pandas as pd  \n",
    "import numpy as np  \n",
    "#以下实现排序功能。  \n",
    "series=pd.Series([3,4,1,6],index=['b','a','d','c'])  \n",
    "frame=pd.DataFrame([[2,4,1,5],[3,1,4,5],[5,1,4,2]],columns=['b','a','d','c'],index=['one','two','three'])  \n",
    "print (frame)  \n",
    "print (series)  \n",
    "print ('series通过索引进行排序：'  )\n",
    "print (series.sort_index()  )\n",
    "print ('series通过值进行排序:'  )\n",
    "print (series.sort_values() ) \n",
    "print ('dataframe根据行索引进行降序排序（排序时默认升序，调节ascending参数）：'  )\n",
    "print (frame.sort_index(ascending=False) ) \n",
    "print ('dataframe根据列索引进行排序：'  )\n",
    "print (frame.sort_index(axis=1)  )\n",
    "print ('dataframe根据值进行排序：'  )\n",
    "print (frame.sort_values(by='a') ) \n",
    "print ('通过多个索引进行排序：')  \n",
    "print( frame.sort_values(by=['a','c'])  )"
   ]
  },
  {
   "cell_type": "code",
   "execution_count": null,
   "metadata": {},
   "outputs": [],
   "source": []
  }
 ],
 "metadata": {
  "kernelspec": {
   "display_name": "Python 3",
   "language": "python",
   "name": "python3"
  },
  "language_info": {
   "codemirror_mode": {
    "name": "ipython",
    "version": 3
   },
   "file_extension": ".py",
   "mimetype": "text/x-python",
   "name": "python",
   "nbconvert_exporter": "python",
   "pygments_lexer": "ipython3",
   "version": "3.6.0"
  }
 },
 "nbformat": 4,
 "nbformat_minor": 2
}

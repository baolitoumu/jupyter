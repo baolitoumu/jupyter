{
 "cells": [
  {
   "cell_type": "code",
   "execution_count": 1,
   "metadata": {},
   "outputs": [
    {
     "name": "stdout",
     "output_type": "stream",
     "text": [
      "--2018-04-14 14:31:55--  https://pypi.python.org/packages/29/fa/995e364220979e577e7ca232440961db0bf996b6edaf586a7d1bd14d81f1/service_identity-17.0.0-py2.py3-none-any.whl\n",
      "Resolving pypi.python.org (pypi.python.org)... 151.101.0.223, 151.101.64.223, 151.101.128.223, ...\n",
      "Connecting to pypi.python.org (pypi.python.org)|151.101.0.223|:443... connected.\n",
      "HTTP request sent, awaiting response... 200 OK\n",
      "Length: 13043 (13K) [binary/octet-stream]\n",
      "Saving to: ‘service_identity-17.0.0-py2.py3-none-any.whl.1’\n",
      "\n",
      "service_identity-17 100%[===================>]  12.74K  --.-KB/s    in 0.01s   \n",
      "\n",
      "2018-04-14 14:31:55 (1.06 MB/s) - ‘service_identity-17.0.0-py2.py3-none-any.whl.1’ saved [13043/13043]\n",
      "\n"
     ]
    }
   ],
   "source": [
    "!wget https://pypi.python.org/packages/29/fa/995e364220979e577e7ca232440961db0bf996b6edaf586a7d1bd14d81f1/service_identity-17.0.0-py2.py3-none-any.whl#md5=f6f1f379685f2a86f5c1b686acccc45e"
   ]
  },
  {
   "cell_type": "code",
   "execution_count": 4,
   "metadata": {},
   "outputs": [
    {
     "name": "stdout",
     "output_type": "stream",
     "text": [
      "Requirement already satisfied: service-identity==17.0.0 from file:///opt/jupyter/scrapy/tool/service_identity-17.0.0-py2.py3-none-any.whl in /usr/local/lib/python3.5/dist-packages\n",
      "Requirement already satisfied: pyasn1-modules in /usr/local/lib/python3.5/dist-packages (from service-identity==17.0.0)\n",
      "Requirement already satisfied: pyopenssl>=0.12 in /usr/local/lib/python3.5/dist-packages (from service-identity==17.0.0)\n",
      "Requirement already satisfied: attrs in /usr/local/lib/python3.5/dist-packages (from service-identity==17.0.0)\n",
      "Requirement already satisfied: pyasn1 in /usr/lib/python3/dist-packages (from service-identity==17.0.0)\n",
      "Requirement already satisfied: cryptography>=2.1.4 in /usr/local/lib/python3.5/dist-packages (from pyopenssl>=0.12->service-identity==17.0.0)\n",
      "Requirement already satisfied: six>=1.5.2 in /usr/lib/python3/dist-packages (from pyopenssl>=0.12->service-identity==17.0.0)\n",
      "Requirement already satisfied: asn1crypto>=0.21.0 in /usr/local/lib/python3.5/dist-packages (from cryptography>=2.1.4->pyopenssl>=0.12->service-identity==17.0.0)\n",
      "Requirement already satisfied: cffi>=1.7; platform_python_implementation != \"PyPy\" in /usr/local/lib/python3.5/dist-packages (from cryptography>=2.1.4->pyopenssl>=0.12->service-identity==17.0.0)\n",
      "Requirement already satisfied: idna>=2.1 in /usr/local/lib/python3.5/dist-packages (from cryptography>=2.1.4->pyopenssl>=0.12->service-identity==17.0.0)\n",
      "Requirement already satisfied: pycparser in /usr/local/lib/python3.5/dist-packages (from cffi>=1.7; platform_python_implementation != \"PyPy\"->cryptography>=2.1.4->pyopenssl>=0.12->service-identity==17.0.0)\n"
     ]
    }
   ],
   "source": [
    "!pip3 install service_identity-17.0.0-py2.py3-none-any.whl"
   ]
  },
  {
   "cell_type": "code",
   "execution_count": 7,
   "metadata": {},
   "outputs": [
    {
     "name": "stdout",
     "output_type": "stream",
     "text": [
      "Requirement already satisfied: service-identity in /usr/local/lib/python3.5/dist-packages\n",
      "Requirement already satisfied: pyasn1-modules in /usr/local/lib/python3.5/dist-packages (from service-identity)\n",
      "Requirement already satisfied: attrs in /usr/local/lib/python3.5/dist-packages (from service-identity)\n",
      "Requirement already satisfied: pyopenssl>=0.12 in /usr/local/lib/python3.5/dist-packages (from service-identity)\n",
      "Requirement already satisfied: pyasn1 in /usr/lib/python3/dist-packages (from service-identity)\n",
      "Requirement already satisfied: six>=1.5.2 in /usr/lib/python3/dist-packages (from pyopenssl>=0.12->service-identity)\n",
      "Requirement already satisfied: cryptography>=2.1.4 in /usr/local/lib/python3.5/dist-packages (from pyopenssl>=0.12->service-identity)\n",
      "Requirement already satisfied: idna>=2.1 in /usr/local/lib/python3.5/dist-packages (from cryptography>=2.1.4->pyopenssl>=0.12->service-identity)\n",
      "Requirement already satisfied: asn1crypto>=0.21.0 in /usr/local/lib/python3.5/dist-packages (from cryptography>=2.1.4->pyopenssl>=0.12->service-identity)\n",
      "Requirement already satisfied: cffi>=1.7; platform_python_implementation != \"PyPy\" in /usr/local/lib/python3.5/dist-packages (from cryptography>=2.1.4->pyopenssl>=0.12->service-identity)\n",
      "Requirement already satisfied: pycparser in /usr/local/lib/python3.5/dist-packages (from cffi>=1.7; platform_python_implementation != \"PyPy\"->cryptography>=2.1.4->pyopenssl>=0.12->service-identity)\n",
      "Requirement already satisfied: pydispatcher in /usr/local/lib/python3.5/dist-packages\n",
      "Requirement already satisfied: parsel in /usr/local/lib/python3.5/dist-packages\n",
      "Requirement already satisfied: lxml>=2.3 in /usr/local/lib/python3.5/dist-packages (from parsel)\n",
      "Requirement already satisfied: w3lib>=1.8.0 in /usr/local/lib/python3.5/dist-packages (from parsel)\n",
      "Requirement already satisfied: cssselect>=0.9 in /usr/local/lib/python3.5/dist-packages (from parsel)\n",
      "Requirement already satisfied: six>=1.5.2 in /usr/lib/python3/dist-packages (from parsel)\n"
     ]
    }
   ],
   "source": [
    "!pip install service-identity\n",
    "\n",
    "!pip install pydispatcher\n",
    "\n",
    "!pip install parsel"
   ]
  },
  {
   "cell_type": "code",
   "execution_count": 8,
   "metadata": {},
   "outputs": [
    {
     "name": "stdout",
     "output_type": "stream",
     "text": [
      "Collecting service_identity\n",
      "  Using cached service_identity-17.0.0-py2.py3-none-any.whl\n",
      "Collecting attrs (from service_identity)\n",
      "  Using cached attrs-17.4.0-py2.py3-none-any.whl\n",
      "Collecting pyopenssl>=0.12 (from service_identity)\n",
      "  Using cached pyOpenSSL-17.5.0-py2.py3-none-any.whl\n",
      "Collecting pyasn1 (from service_identity)\n",
      "  Downloading pyasn1-0.4.2-py2.py3-none-any.whl (71kB)\n",
      "\u001b[K    100% |████████████████████████████████| 71kB 3.3MB/s \n",
      "\u001b[?25hCollecting pyasn1-modules (from service_identity)\n",
      "  Using cached pyasn1_modules-0.2.1-py2.py3-none-any.whl\n",
      "Collecting six>=1.5.2 (from pyopenssl>=0.12->service_identity)\n",
      "  Downloading six-1.11.0-py2.py3-none-any.whl\n",
      "Collecting cryptography>=2.1.4 (from pyopenssl>=0.12->service_identity)\n",
      "  Using cached cryptography-2.2.2-cp34-abi3-manylinux1_x86_64.whl\n",
      "Collecting cffi>=1.7; platform_python_implementation != \"PyPy\" (from cryptography>=2.1.4->pyopenssl>=0.12->service_identity)\n",
      "  Using cached cffi-1.11.5-cp35-cp35m-manylinux1_x86_64.whl\n",
      "Collecting idna>=2.1 (from cryptography>=2.1.4->pyopenssl>=0.12->service_identity)\n",
      "  Using cached idna-2.6-py2.py3-none-any.whl\n",
      "Collecting asn1crypto>=0.21.0 (from cryptography>=2.1.4->pyopenssl>=0.12->service_identity)\n",
      "  Using cached asn1crypto-0.24.0-py2.py3-none-any.whl\n",
      "Collecting pycparser (from cffi>=1.7; platform_python_implementation != \"PyPy\"->cryptography>=2.1.4->pyopenssl>=0.12->service_identity)\n",
      "Installing collected packages: attrs, six, pycparser, cffi, idna, asn1crypto, cryptography, pyopenssl, pyasn1, pyasn1-modules, service-identity\n",
      "  Found existing installation: attrs 17.4.0\n",
      "    Uninstalling attrs-17.4.0:\n",
      "      Successfully uninstalled attrs-17.4.0\n",
      "  Found existing installation: six 1.10.0\n",
      "    Uninstalling six-1.10.0:\n",
      "      Successfully uninstalled six-1.10.0\n",
      "  Found existing installation: pycparser 2.18\n",
      "    Uninstalling pycparser-2.18:\n",
      "      Successfully uninstalled pycparser-2.18\n",
      "  Found existing installation: cffi 1.11.5\n",
      "    Uninstalling cffi-1.11.5:\n",
      "      Successfully uninstalled cffi-1.11.5\n",
      "  Found existing installation: idna 2.6\n",
      "    Uninstalling idna-2.6:\n",
      "      Successfully uninstalled idna-2.6\n",
      "  Found existing installation: asn1crypto 0.24.0\n",
      "    Uninstalling asn1crypto-0.24.0:\n",
      "      Successfully uninstalled asn1crypto-0.24.0\n",
      "  Found existing installation: cryptography 2.2.2\n",
      "    Uninstalling cryptography-2.2.2:\n",
      "      Successfully uninstalled cryptography-2.2.2\n",
      "  Found existing installation: pyOpenSSL 17.5.0\n",
      "    Uninstalling pyOpenSSL-17.5.0:\n",
      "      Successfully uninstalled pyOpenSSL-17.5.0\n",
      "  Found existing installation: pyasn1 0.1.9\n",
      "    Uninstalling pyasn1-0.1.9:\n",
      "      Successfully uninstalled pyasn1-0.1.9\n",
      "  Found existing installation: pyasn1-modules 0.2.1\n",
      "    Uninstalling pyasn1-modules-0.2.1:\n",
      "      Successfully uninstalled pyasn1-modules-0.2.1\n",
      "  Found existing installation: service-identity 17.0.0\n",
      "    Uninstalling service-identity-17.0.0:\n",
      "      Successfully uninstalled service-identity-17.0.0\n",
      "Successfully installed asn1crypto-0.24.0 attrs-17.4.0 cffi-1.11.5 cryptography-2.2.2 idna-2.6 pyasn1-0.4.2 pyasn1-modules-0.2.1 pycparser-2.18 pyopenssl-17.5.0 service-identity-17.0.0 six-1.11.0\n"
     ]
    }
   ],
   "source": [
    "!pip3 install service_identity --force --upgrade"
   ]
  },
  {
   "cell_type": "code",
   "execution_count": null,
   "metadata": {},
   "outputs": [],
   "source": []
  }
 ],
 "metadata": {
  "kernelspec": {
   "display_name": "Python 3",
   "language": "python",
   "name": "python3"
  },
  "language_info": {
   "codemirror_mode": {
    "name": "ipython",
    "version": 3
   },
   "file_extension": ".py",
   "mimetype": "text/x-python",
   "name": "python",
   "nbconvert_exporter": "python",
   "pygments_lexer": "ipython3",
   "version": "3.5.2"
  }
 },
 "nbformat": 4,
 "nbformat_minor": 2
}

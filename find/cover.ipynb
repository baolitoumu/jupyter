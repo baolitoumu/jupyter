{
 "cells": [
  {
   "cell_type": "code",
   "execution_count": 33,
   "metadata": {},
   "outputs": [
    {
     "name": "stdout",
     "output_type": "stream",
     "text": [
      "name: BIDUPSID \n",
      "value: DDD2CEBB787578052CCBD0B42D9ABE01\n",
      "name: PSTM \n",
      "value: 1515464591\n",
      "name: BD_NOT_HTTPS \n",
      "value: 1\n"
     ]
    }
   ],
   "source": [
    "\n",
    "\n",
    "import urllib.request\n",
    "import http.cookiejar\n",
    "\n",
    "url = 'https://www.baidu.com'\n",
    "# 声明一个CookieJar对象实例来保存cookie\n",
    "cookie = http.cookiejar.CookieJar()\n",
    "# 利用urllib库的HTTPCookieProcessor对象来创建cookie处理器\n",
    "handler = urllib.request.HTTPCookieProcessor(cookie)\n",
    "# 通过handler来构建opener\n",
    "opener = urllib.request.build_opener(handler)\n",
    "# 此处的open方法同urllib的urlopen方法，也可以传入request\n",
    "reponse = opener.open(url)\n",
    "for item in cookie:\n",
    "    print('name: %s \\nvalue: %s' % (item.name, item.value))"
   ]
  },
  {
   "cell_type": "code",
   "execution_count": null,
   "metadata": {},
   "outputs": [],
   "source": []
  }
 ],
 "metadata": {
  "kernelspec": {
   "display_name": "Python 3",
   "language": "python",
   "name": "python3"
  },
  "language_info": {
   "codemirror_mode": {
    "name": "ipython",
    "version": 3
   },
   "file_extension": ".py",
   "mimetype": "text/x-python",
   "name": "python",
   "nbconvert_exporter": "python",
   "pygments_lexer": "ipython3",
   "version": "3.6.0"
  }
 },
 "nbformat": 4,
 "nbformat_minor": 2
}

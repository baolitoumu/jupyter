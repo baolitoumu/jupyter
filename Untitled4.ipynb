{
 "cells": [
  {
   "cell_type": "code",
   "execution_count": 4,
   "metadata": {},
   "outputs": [
    {
     "ename": "SyntaxError",
     "evalue": "invalid syntax (<ipython-input-4-439e2101c2be>, line 14)",
     "output_type": "error",
     "traceback": [
      "\u001b[0;36m  File \u001b[0;32m\"<ipython-input-4-439e2101c2be>\"\u001b[0;36m, line \u001b[0;32m14\u001b[0m\n\u001b[0;31m    url ='https://m.baidu.com/rec?&platform='+platform+'&ms='+ms+'&lsAble='+lsAble+'&rset='+rset+'&ms='+ms+'&ms='+ms+'&ms='+ms+'&ms='+ms+\u001b[0m\n\u001b[0m                                                                                                                                         ^\u001b[0m\n\u001b[0;31mSyntaxError\u001b[0m\u001b[0;31m:\u001b[0m invalid syntax\n"
     ]
    }
   ],
   "source": [
    "    platform='wise'\n",
    "    ms=1\n",
    "    lsAble=1\n",
    "    rset='rcmd'\n",
    "    word='免费代理2'\n",
    "    qid=8396144568311373391\n",
    "    rq='免费代理'\n",
    "    from = \"0\"\n",
    "    baiduid='126A4F890DC00E899F6FB3874F7818C5:FG=1'\n",
    "    tn=''\n",
    "    clientWidth=400\n",
    "    t=1532509517831\n",
    "    r=9203\n",
    "    url ='https://m.baidu.com/rec?&platform='+platform+'&ms='+ms+'&lsAble='+lsAble+'&rset='+rset+'&ms='+ms+'&ms='+ms+'&ms='+ms+'&ms='+ms+\n",
    "    print(url)"
   ]
  },
  {
   "cell_type": "code",
   "execution_count": 9,
   "metadata": {},
   "outputs": [],
   "source": [
    "form= \"0\""
   ]
  },
  {
   "cell_type": "code",
   "execution_count": null,
   "metadata": {},
   "outputs": [],
   "source": []
  }
 ],
 "metadata": {
  "kernelspec": {
   "display_name": "Python 3",
   "language": "python",
   "name": "python3"
  },
  "language_info": {
   "codemirror_mode": {
    "name": "ipython",
    "version": 3
   },
   "file_extension": ".py",
   "mimetype": "text/x-python",
   "name": "python",
   "nbconvert_exporter": "python",
   "pygments_lexer": "ipython3",
   "version": "3.6.3"
  }
 },
 "nbformat": 4,
 "nbformat_minor": 2
}

{
 "cells": [
  {
   "cell_type": "markdown",
   "metadata": {},
   "source": [
    "# Exporting model from PyTorch to ONNX\n",
    "从pytorch导出模型到onnx\n",
    "\n",
    "In this tutorial, we describe how to use ONNX to convert a model defined\n",
    "in PyTorch into the ONNX format.\n",
    "在这个教程里面，我们将介绍如何使用ONNX将pytorch定义的模型转换为ONNX的模型\n",
    "ONNX exporter is part of the [PyTorch repository](http://pytorch.org/docs/master/onnx.html).\n",
    "ONNX导出器是PyTorch的一个模块\n",
    "\n",
    "For working with this tutorial, you will need to install [onnx](https://github.com/onnx/onnx). You can get binary builds of onnx with\n",
    "为了使用本教程，你需要安装:\n",
    "\n",
    "``conda install -c conda-forge onnx``.\n",
    "\n",
    "``NOTE``: ONNX is under active development so for the best support consider building PyTorch master branch which can be installed by following\n",
    "[the instructions here](https://github.com/pytorch/pytorch#from-source)"
   ]
  },
  {
   "cell_type": "markdown",
   "metadata": {},
   "source": [
    "## Invoking exporter\n",
    "调用导出器\n",
    "\n",
    "Pretty much it's a matter of replacing `my_model(input)` with `torch.onnx.export(my_model, input, \"my_model.onnx\")` in your script.\n",
    "在你的脚本中，用torch.onnx.export（my_model，input，“my_model.onnx”）来代替my_model（input）\n",
    "### Limitations\n",
    "The ONNX exporter is a trace-based exporter,\n",
    "ONNX导出器是一个基础跟踪导出器，\n",
    "\n",
    "which means that it operates by executing your model once, and exporting the operators which were actually run during this run.\n",
    "意思是当执行了一次你的模型，并且导出这次运行中的实际操作者。\n",
    "This means that if your model is dynamic, e.g., changes behavior depending on input data, the export won’t be accurate.\n",
    "这个意思是当你的模型是动态的，例如：根据输入数据改变行为，这个导出将是不准确的\n",
    "Similarly, a trace is might be valid only for a specific input size (which is one reason why we require explicit inputs on tracing).\n",
    "同样的，跟踪仅对特定的输入大小有效（这就是为什么我们要明确跟踪输入的一个原因）\n",
    "Most of the operators export size-agnostic versions and should work on different batch sizes or input sizes. \n",
    "大部分的计算导出位置大小的版本，并且需要在不同的batch size和input size上工作\n",
    "We recommend examining the model trace and making sure the traced operators look reasonable.\n",
    "我们建议检查滨跟踪这个模型，确保跟踪的操作者看起来合理"
   ]
  },
  {
   "cell_type": "code",
   "execution_count": 1,
   "metadata": {},
   "outputs": [
    {
     "name": "stdout",
     "output_type": "stream",
     "text": [
      "Help on function export in module torch.onnx:\n",
      "\n",
      "export(model, args, f, export_params=True, verbose=False, training=False)\n",
      "    Export a model into ONNX format.  This exporter runs your model\n",
      "    once in order to get a trace of its execution to be exported; at the\n",
      "    moment, it does not support dynamic models (e.g., RNNs.)\n",
      "    \n",
      "    See also: :ref:`onnx-export`\n",
      "    \n",
      "    Arguments:\n",
      "        model (torch.nn.Module): the model to be exported.\n",
      "        args (tuple of arguments): the inputs to\n",
      "            the model, e.g., such that ``model(*args)`` is a valid\n",
      "            invocation of the model.  Any non-Variable arguments will\n",
      "            be hard-coded into the exported model; any Variable arguments\n",
      "            will become inputs of the exported model, in the order they\n",
      "            occur in args.  If args is a Variable, this is equivalent\n",
      "            to having called it with a 1-ary tuple of that Variable.\n",
      "            (Note: passing keyword arguments to the model is not currently\n",
      "            supported.  Give us a shout if you need it.)\n",
      "        f: a file-like object (has to implement fileno that returns a file descriptor)\n",
      "            or a string containing a file name.  A binary Protobuf will be written\n",
      "            to this file.\n",
      "        export_params (bool, default True): if specified, all parameters will\n",
      "            be exported.  Set this to False if you want to export an untrained model.\n",
      "            In this case, the exported model will first take all of its parameters\n",
      "            as arguments, the ordering as specified by ``model.state_dict().values()``\n",
      "        verbose (bool, default False): if specified, we will print out a debug\n",
      "            description of the trace being exported.\n",
      "        training (bool, default False): export the model in training mode.  At\n",
      "            the moment, ONNX is oriented towards exporting models for inference\n",
      "            only, so you will generally not need to set this to True.\n",
      "\n"
     ]
    }
   ],
   "source": [
    "import torch.onnx\n",
    "help(torch.onnx.export)"
   ]
  },
  {
   "cell_type": "markdown",
   "metadata": {},
   "source": [
    "## Trying it out on AlexNet\n",
    "\n",
    "If you already have your model built, it's just a few lines:"
   ]
  },
  {
   "cell_type": "code",
   "execution_count": 2,
   "metadata": {},
   "outputs": [],
   "source": [
    "from torch.autograd import Variable\n",
    "import torch.onnx\n",
    "import torchvision\n",
    "import netron\n",
    "\n",
    "dummy_input = Variable(torch.randn(1, 3, 224, 224))\n",
    "\n",
    "model = torchvision.models.alexnet(pretrained=True)\n",
    "\n",
    "torch.onnx.export(model, dummy_input, \"output/alexnet.onnx\")"
   ]
  },
  {
   "cell_type": "markdown",
   "metadata": {},
   "source": [
    "**That's it!**\n",
    "\n",
    "## Inspecting model\n",
    "\n",
    "You can also use ONNX tooling to check the validity of the resulting model or inspect the details"
   ]
  },
  {
   "cell_type": "code",
   "execution_count": 3,
   "metadata": {},
   "outputs": [
    {
     "name": "stdout",
     "output_type": "stream",
     "text": [
      "220\n"
     ]
    },
    {
     "ename": "AttributeError",
     "evalue": "Can't get attribute 'RNN' on <module '__main__'>",
     "output_type": "error",
     "traceback": [
      "\u001b[0;31m---------------------------------------------------------------------------\u001b[0m",
      "\u001b[0;31mAttributeError\u001b[0m                            Traceback (most recent call last)",
      "\u001b[0;32m<ipython-input-3-c7003455af01>\u001b[0m in \u001b[0;36m<module>\u001b[0;34m()\u001b[0m\n\u001b[1;32m     20\u001b[0m \u001b[0;31m#dummy_input = Variable(torch.randn(1, 3, 224, 224))\u001b[0m\u001b[0;34m\u001b[0m\u001b[0;34m\u001b[0m\u001b[0m\n\u001b[1;32m     21\u001b[0m \u001b[0;31m# Obtain your model, it can be also constructed in your script explicitly\u001b[0m\u001b[0;34m\u001b[0m\u001b[0;34m\u001b[0m\u001b[0m\n\u001b[0;32m---> 22\u001b[0;31m \u001b[0mmodel\u001b[0m \u001b[0;34m=\u001b[0m \u001b[0mtorch\u001b[0m\u001b[0;34m.\u001b[0m\u001b[0mload\u001b[0m\u001b[0;34m(\u001b[0m\u001b[0;34m'net2.pkl'\u001b[0m\u001b[0;34m)\u001b[0m\u001b[0;34m\u001b[0m\u001b[0m\n\u001b[0m\u001b[1;32m     23\u001b[0m \u001b[0minput2\u001b[0m \u001b[0;34m=\u001b[0m \u001b[0mVariable\u001b[0m\u001b[0;34m(\u001b[0m\u001b[0mtorch\u001b[0m\u001b[0;34m.\u001b[0m\u001b[0mfrom_numpy\u001b[0m\u001b[0;34m(\u001b[0m\u001b[0mtrain_data2\u001b[0m\u001b[0;34m)\u001b[0m\u001b[0;34m)\u001b[0m\u001b[0;34m.\u001b[0m\u001b[0mtype\u001b[0m\u001b[0;34m(\u001b[0m\u001b[0mtorch\u001b[0m\u001b[0;34m.\u001b[0m\u001b[0mFloatTensor\u001b[0m\u001b[0;34m)\u001b[0m\u001b[0;34m\u001b[0m\u001b[0m\n\u001b[1;32m     24\u001b[0m \u001b[0mdummy_input\u001b[0m \u001b[0;34m=\u001b[0m \u001b[0minput2\u001b[0m\u001b[0;34m.\u001b[0m\u001b[0mview\u001b[0m\u001b[0;34m(\u001b[0m\u001b[0;34m-\u001b[0m\u001b[0;36m1\u001b[0m\u001b[0;34m,\u001b[0m\u001b[0;36m1\u001b[0m\u001b[0;34m,\u001b[0m\u001b[0;36m1\u001b[0m\u001b[0;34m)\u001b[0m\u001b[0;34m\u001b[0m\u001b[0m\n",
      "\u001b[0;32m/usr/local/lib/python3.6/site-packages/torch/serialization.py\u001b[0m in \u001b[0;36mload\u001b[0;34m(f, map_location, pickle_module)\u001b[0m\n\u001b[1;32m    259\u001b[0m         \u001b[0mf\u001b[0m \u001b[0;34m=\u001b[0m \u001b[0mopen\u001b[0m\u001b[0;34m(\u001b[0m\u001b[0mf\u001b[0m\u001b[0;34m,\u001b[0m \u001b[0;34m'rb'\u001b[0m\u001b[0;34m)\u001b[0m\u001b[0;34m\u001b[0m\u001b[0m\n\u001b[1;32m    260\u001b[0m     \u001b[0;32mtry\u001b[0m\u001b[0;34m:\u001b[0m\u001b[0;34m\u001b[0m\u001b[0m\n\u001b[0;32m--> 261\u001b[0;31m         \u001b[0;32mreturn\u001b[0m \u001b[0m_load\u001b[0m\u001b[0;34m(\u001b[0m\u001b[0mf\u001b[0m\u001b[0;34m,\u001b[0m \u001b[0mmap_location\u001b[0m\u001b[0;34m,\u001b[0m \u001b[0mpickle_module\u001b[0m\u001b[0;34m)\u001b[0m\u001b[0;34m\u001b[0m\u001b[0m\n\u001b[0m\u001b[1;32m    262\u001b[0m     \u001b[0;32mfinally\u001b[0m\u001b[0;34m:\u001b[0m\u001b[0;34m\u001b[0m\u001b[0m\n\u001b[1;32m    263\u001b[0m         \u001b[0;32mif\u001b[0m \u001b[0mnew_fd\u001b[0m\u001b[0;34m:\u001b[0m\u001b[0;34m\u001b[0m\u001b[0m\n",
      "\u001b[0;32m/usr/local/lib/python3.6/site-packages/torch/serialization.py\u001b[0m in \u001b[0;36m_load\u001b[0;34m(f, map_location, pickle_module)\u001b[0m\n\u001b[1;32m    407\u001b[0m     \u001b[0munpickler\u001b[0m \u001b[0;34m=\u001b[0m \u001b[0mpickle_module\u001b[0m\u001b[0;34m.\u001b[0m\u001b[0mUnpickler\u001b[0m\u001b[0;34m(\u001b[0m\u001b[0mf\u001b[0m\u001b[0;34m)\u001b[0m\u001b[0;34m\u001b[0m\u001b[0m\n\u001b[1;32m    408\u001b[0m     \u001b[0munpickler\u001b[0m\u001b[0;34m.\u001b[0m\u001b[0mpersistent_load\u001b[0m \u001b[0;34m=\u001b[0m \u001b[0mpersistent_load\u001b[0m\u001b[0;34m\u001b[0m\u001b[0m\n\u001b[0;32m--> 409\u001b[0;31m     \u001b[0mresult\u001b[0m \u001b[0;34m=\u001b[0m \u001b[0munpickler\u001b[0m\u001b[0;34m.\u001b[0m\u001b[0mload\u001b[0m\u001b[0;34m(\u001b[0m\u001b[0;34m)\u001b[0m\u001b[0;34m\u001b[0m\u001b[0m\n\u001b[0m\u001b[1;32m    410\u001b[0m \u001b[0;34m\u001b[0m\u001b[0m\n\u001b[1;32m    411\u001b[0m     \u001b[0mdeserialized_storage_keys\u001b[0m \u001b[0;34m=\u001b[0m \u001b[0mpickle_module\u001b[0m\u001b[0;34m.\u001b[0m\u001b[0mload\u001b[0m\u001b[0;34m(\u001b[0m\u001b[0mf\u001b[0m\u001b[0;34m)\u001b[0m\u001b[0;34m\u001b[0m\u001b[0m\n",
      "\u001b[0;31mAttributeError\u001b[0m: Can't get attribute 'RNN' on <module '__main__'>"
     ]
    }
   ],
   "source": [
    "from torch.autograd import Variable\n",
    "import torch\n",
    "from torch import nn\n",
    "import pandas as pd\n",
    "import matplotlib.pyplot as plt\n",
    "import torch.nn.functional as F\n",
    "import numpy as np\n",
    "import random\n",
    "import torch.onnx\n",
    "import torchvision\n",
    "price_data = pd.read_csv(open('dataset.csv'))\n",
    "all_data = price_data.iloc[1:,2:3].values\n",
    "train_data = price_data.iloc[1:151,2:3].values\n",
    "test_data = price_data.iloc[1:152,2:3].values\n",
    "train_data2 = price_data.iloc[2:222,2:3].values\n",
    "print(train_data2.size)\n",
    "# Standard ImageNet input - 3 channels, 224x224,\n",
    "# values don't matter as we care about network structure.\n",
    "# But they can also be real inputs.\n",
    "#dummy_input = Variable(torch.randn(1, 3, 224, 224))\n",
    "# Obtain your model, it can be also constructed in your script explicitly\n",
    "model = torch.load('net2.pkl')\n",
    "input2 = Variable(torch.from_numpy(train_data2)).type(torch.FloatTensor)\n",
    "dummy_input = input2.view(-1,1,1)\n",
    "# Invoke export\n",
    "torch.onnx.export(model,dummy_input, \"output/rnn.onnx\")"
   ]
  },
  {
   "cell_type": "markdown",
   "metadata": {},
   "source": [
    "Notice that all parameters are listed as graph's inputs but they also have stored values initialized in `model.graph.initializers`."
   ]
  },
  {
   "cell_type": "code",
   "execution_count": null,
   "metadata": {},
   "outputs": [],
   "source": [
    "## What's next\n",
    "!du -h output/alexnet.onnx"
   ]
  },
  {
   "cell_type": "code",
   "execution_count": null,
   "metadata": {},
   "outputs": [],
   "source": [
    "\n",
    "Check [PyTorch documentation on onnx file](http://pytorch.org/docs/master/onnx.html)\n",
    "Take a look at [other tutorials, including importing of ONNX models to other frameworks](https://github.com/onnx/tutorials/tree/master/tutorials)"
   ]
  },
  {
   "cell_type": "code",
   "execution_count": null,
   "metadata": {},
   "outputs": [],
   "source": []
  }
 ],
 "metadata": {
  "kernelspec": {
   "display_name": "Python 3",
   "language": "python",
   "name": "python3"
  },
  "language_info": {
   "codemirror_mode": {
    "name": "ipython",
    "version": 3
   },
   "file_extension": ".py",
   "mimetype": "text/x-python",
   "name": "python",
   "nbconvert_exporter": "python",
   "pygments_lexer": "ipython3",
   "version": "3.6.0"
  }
 },
 "nbformat": 4,
 "nbformat_minor": 2
}

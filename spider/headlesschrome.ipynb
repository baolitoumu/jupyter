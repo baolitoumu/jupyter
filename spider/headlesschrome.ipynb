{
 "cells": [
  {
   "cell_type": "code",
   "execution_count": 5,
   "metadata": {},
   "outputs": [],
   "source": [
    "from selenium import webdriver\n",
    "import scrapy\n",
    "from scrapy import Selector\n",
    "import string\n",
    "from IPython.display import Image\n",
    "from pyvirtualdisplay import Display\n",
    "from selenium.webdriver.chrome.options import Options\n",
    "from selenium.webdriver.common.desired_capabilities import DesiredCapabilities\n",
    "\n",
    "#_____________________基本设定___________________________\n",
    "CHROME_DRIVER_PATH = r'/usr/bin/chromedriver' \n",
    "#PROXY = \"http://127.0.0.1:8080\"\n",
    "PROXY = \"https://106.75.164.15:3128\" \n",
    "#PROXY = \"http://104.199.205.163:8888\" \n",
    "#_____________________启动参数___________________________\n",
    "options = webdriver.ChromeOptions()\n",
    "#options.add_argument('lang=zh_CN.UTF-8')\n",
    "#options.add_argument('user-agent=\"Mozilla/5.0\"')\n",
    "\n",
    "options.add_argument('--disable-gpu')  \n",
    "options.add_argument(\"window-size=1024,768\")  \n",
    "options.add_argument(\"--no-sandbox\")\n",
    "options.add_argument(\"blink-settings=imagesEnabled=false\")\n",
    "options.add_argument(\"blink-settings=cookieEnabled=false\")\n",
    "options.add_argument('--headless')  \n",
    "#_____________________代理参数___________________________\n",
    "desired_capabilities = options.to_capabilities()\n",
    "desired_capabilities['acceptSslCerts'] = True\n",
    "desired_capabilities['acceptInsecureCerts'] = True\n",
    "\n",
    "desired_capabilities['proxy'] = {\n",
    "    \"httpProxy\": PROXY,\n",
    "    \"ftpProxy\": PROXY,\n",
    "    \"sslProxy\": PROXY,\n",
    "    \"noProxy\": None,\n",
    "    \"proxyType\": \"MANUAL\",\n",
    "    \"class\": \"org.openqa.selenium.Proxy\",\n",
    "    \"autodetect\": False,\n",
    "}\n",
    "\n",
    "#_____________________启动浏览器___________________________\n",
    "driver = webdriver.Chrome(\n",
    "    chrome_options=options, \n",
    "    executable_path=CHROME_DRIVER_PATH,\n",
    "    desired_capabilities = desired_capabilities,\n",
    "                         )"
   ]
  },
  {
   "cell_type": "code",
   "execution_count": null,
   "metadata": {},
   "outputs": [],
   "source": [
    "for i in range(1):\n",
    "    #driver.get('http://httpbin.org/ip')\n",
    "    #driver.get('http://mitm.it/')\n",
    "    \n",
    "    #driver.find_element_by_id(“xxx”).click()\n",
    "    \n",
    "    #driver.get('https://s.2.taobao.com/list/list.htm?_input_charset=utf8&q=%E4%BB%A3%E8%B4%AD')\n",
    "\n",
    "    original_site= \"m.baidu.com\"\n",
    "    keyword = \"ip\"\n",
    "    #_____________________url参数___________________________\n",
    "    pn='1'\n",
    "    usm='1'\n",
    "    word='ip'\n",
    "    sa='np'\n",
    "    rsv_pq=''\n",
    "    rsv_t=''\n",
    "    rqid=''\n",
    "    url = 'https://m.baidu.com/s?pn='+pn+'&usm='+usm+'&word='+word+'&sa='+sa+'&rsv_pq='+rsv_pq+'&rsv_t='+rsv_t+'&rqid='+rqid    \n",
    "    driver.get(url)\n",
    "    \n",
    "    \n",
    "    \n",
    "    \n",
    "    contant = driver.page_source\n",
    "    driver.save_screenshot('csdn.png')\n",
    "    #pages = Selector(text=contant).xpath(\"//html\")\n",
    "    #ip = pages.xpath(\"//span[@style='font-weight: bold; color:green;']/text()\").extract()\n",
    "    #driver.delete_all_cookies()#删除当前会话的所有cookie\n",
    "    #driver.delete_cookie('my_cookie')#删除一个指定的cookie\n",
    "    #refresh() - 刷新当前页面\n",
    "    #print(contant)\n",
    "    \n",
    "    driver.close()\n",
    "    driver.quit()"
   ]
  },
  {
   "cell_type": "code",
   "execution_count": null,
   "metadata": {},
   "outputs": [],
   "source": [
    "Image(\"csdn.png\")"
   ]
  },
  {
   "cell_type": "code",
   "execution_count": null,
   "metadata": {},
   "outputs": [],
   "source": []
  },
  {
   "cell_type": "code",
   "execution_count": null,
   "metadata": {},
   "outputs": [],
   "source": []
  }
 ],
 "metadata": {
  "kernelspec": {
   "display_name": "Python 3",
   "language": "python",
   "name": "python3"
  },
  "language_info": {
   "codemirror_mode": {
    "name": "ipython",
    "version": 3
   },
   "file_extension": ".py",
   "mimetype": "text/x-python",
   "name": "python",
   "nbconvert_exporter": "python",
   "pygments_lexer": "ipython3",
   "version": "3.6.3"
  }
 },
 "nbformat": 4,
 "nbformat_minor": 2
}

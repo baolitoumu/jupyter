{
 "cells": [
  {
   "cell_type": "code",
   "execution_count": 27,
   "metadata": {},
   "outputs": [],
   "source": [
    "import re"
   ]
  },
  {
   "cell_type": "code",
   "execution_count": 28,
   "metadata": {},
   "outputs": [
    {
     "data": {
      "text/plain": [
       "'({\\n    \"numFound\":1,\\t\"currPage\":1,\\t\"totalPage\":1,\\t\"ershouCount\":0,\\t\"idleCount\":1,\\t\"ershou\":[\\t\\t],\\n\\t\"idle\":[\\t\\t\\t\\t\\t\\t\\t\\t\\t\\n\\t\\t{\\n\\t\\t\\t\"user\":{\\n\\t\\t\\t\\t\"userIcon\":\"//wwc.alicdn.com/avatar/getAvatar.do?userNick=kk玩笑zhu&amp;width=30&amp;height=30&amp;type=sns\",\\t\\t\\t\\t\"userNick\":\"kk玩笑zhu\",\\t\\t\\t\\t\"vipLevel\":2,\\t\\t\\t\\t\"userTypeId\":[],\\t\\t\\t\\t\"isTaobaoWomen\":false,\\t\\t\\t\\t\"taobaoWomenUrl\":\"//mm.taobao.com/2680102980.htm\",\\n\\t\\t\\t\\t\"userCreditUrl\":\"//s.2.taobao.com/list/list.htm?usernick=kk%CD%E6%D0%A6zhu\",\\n\\t\\t\\t\\t\"userItemsUrl\":\"//s.2.taobao.com/list/list.htm?usernick=kk%CD%E6%D0%A6zhu\",\\n\\t\\t\\t\\t\"isSinaV\":false,\\t\\t\\t\\t\"yellowSeller\":false\\t\\t\\t},\\n\\t\\t\\t\"item\":{\\n\\t\\t\\t\\t\"imageUrl\":\"//img.alicdn.com/bao/uploaded/i4/6000000004803/TB2rFOeowvD8KJjSsplXXaIEFXa_!!0-fleamarket.jpg_220x10000.jpg\",\\t\\t\\t\\t\"imageHeight\":720,\\t\\t\\t\\t\"imageWidth\":1280,\\t\\t\\t\\t\"itemUrl\":\"//2.taobao.com/item.htm?id=564454908047&amp;from=list&amp;similarUrl=\",\\t\\t\\t\\t\"isBrandNew\":false,\\t\\t\\t\\t\"price\":\"1500.00\",\\t\\t\\t\\t\"orgPrice\":\"\",\\t\\t\\t\\t\"provcity\":\"重庆重庆\",\\t\\t\\t\\t\"describe\":\"耳机3副索尼IER-nw500n,血色围城OSTRYKC06A酷狗蓝牙耳机M1。手机锤子M1L高通821屏幕有裂痕，相机用不起mp3播放器爱国者M6要哪个的带价反正都便宜\",\\t\\t\\t\\t\"publishTime\":\"2018.01.26\",\\t\\t\\t\\t\"itemFrom\":\"发布自Android客户端\",\\t\\t\\t\\t\"itemFromDesc\":\"Android客户端\",\\n\\t\\t\\t\\t\"itemFromTarget\":\"//2.taobao.com/mobile/iphone.htm\",\\t\\t\\t\\t\"commentCount\":0,\\t\\t\\t\\t\"commentUrl\":\"//2.taobao.com/item.htm?id=564454908047&amp;from=list&amp;similarUrl=#item-comments\",\\t\\t\\t\\t\"collectCount\":0,\\t\\t\\t\\t\"title\":\"来看一看瞧一瞧便宜卖了\"\\n\\t\\t\\t}\\n\\t\\t}\\n\\t\\t\\t\\t]\\n})\\n'"
      ]
     },
     "execution_count": 28,
     "metadata": {},
     "output_type": "execute_result"
    }
   ],
   "source": [
    "contant ='<html xmlns=\"http://www.w3.org/1999/xhtml\"><head></head><body>({\\n    \"numFound\":1,\\t\"currPage\":1,\\t\"totalPage\":1,\\t\"ershouCount\":0,\\t\"idleCount\":1,\\t\"ershou\":[\\t\\t],\\n\\t\"idle\":[\\t\\t\\t\\t\\t\\t\\t\\t\\t\\n\\t\\t{\\n\\t\\t\\t\"user\":{\\n\\t\\t\\t\\t\"userIcon\":\"//wwc.alicdn.com/avatar/getAvatar.do?userNick=kk玩笑zhu&amp;width=30&amp;height=30&amp;type=sns\",\\t\\t\\t\\t\"userNick\":\"kk玩笑zhu\",\\t\\t\\t\\t\"vipLevel\":2,\\t\\t\\t\\t\"userTypeId\":[],\\t\\t\\t\\t\"isTaobaoWomen\":false,\\t\\t\\t\\t\"taobaoWomenUrl\":\"//mm.taobao.com/2680102980.htm\",\\n\\t\\t\\t\\t\"userCreditUrl\":\"//s.2.taobao.com/list/list.htm?usernick=kk%CD%E6%D0%A6zhu\",\\n\\t\\t\\t\\t\"userItemsUrl\":\"//s.2.taobao.com/list/list.htm?usernick=kk%CD%E6%D0%A6zhu\",\\n\\t\\t\\t\\t\"isSinaV\":false,\\t\\t\\t\\t\"yellowSeller\":false\\t\\t\\t},\\n\\t\\t\\t\"item\":{\\n\\t\\t\\t\\t\"imageUrl\":\"//img.alicdn.com/bao/uploaded/i4/6000000004803/TB2rFOeowvD8KJjSsplXXaIEFXa_!!0-fleamarket.jpg_220x10000.jpg\",\\t\\t\\t\\t\"imageHeight\":720,\\t\\t\\t\\t\"imageWidth\":1280,\\t\\t\\t\\t\"itemUrl\":\"//2.taobao.com/item.htm?id=564454908047&amp;from=list&amp;similarUrl=\",\\t\\t\\t\\t\"isBrandNew\":false,\\t\\t\\t\\t\"price\":\"1500.00\",\\t\\t\\t\\t\"orgPrice\":\"\",\\t\\t\\t\\t\"provcity\":\"重庆重庆\",\\t\\t\\t\\t\"describe\":\"耳机3副索尼IER-nw500n,血色围城OSTRYKC06A酷狗蓝牙耳机M1。手机锤子M1L高通821屏幕有裂痕，相机用不起mp3播放器爱国者M6要哪个的带价反正都便宜\",\\t\\t\\t\\t\"publishTime\":\"2018.01.26\",\\t\\t\\t\\t\"itemFrom\":\"发布自Android客户端\",\\t\\t\\t\\t\"itemFromDesc\":\"Android客户端\",\\n\\t\\t\\t\\t\"itemFromTarget\":\"//2.taobao.com/mobile/iphone.htm\",\\t\\t\\t\\t\"commentCount\":0,\\t\\t\\t\\t\"commentUrl\":\"//2.taobao.com/item.htm?id=564454908047&amp;from=list&amp;similarUrl=#item-comments\",\\t\\t\\t\\t\"collectCount\":0,\\t\\t\\t\\t\"title\":\"来看一看瞧一瞧便宜卖了\"\\n\\t\\t\\t}\\n\\t\\t}\\n\\t\\t\\t\\t]\\n})\\n</body></html>'\n",
    "a = contant.replace('<html xmlns=\"http://www.w3.org/1999/xhtml\"><head></head><body>','')\n",
    "a = a.replace('</body></html>','')\n",
    "a"
   ]
  },
  {
   "cell_type": "code",
   "execution_count": 29,
   "metadata": {},
   "outputs": [
    {
     "data": {
      "text/plain": [
       "'({\\n    \"numFound\":1,\\t\"currPage\":1,\\t\"totalPage\":1,\\t\"ershouCount\":0,\\t\"idleCount\":1,\\t\"ershou\":[\\t\\t],\\n\\t\"idle\":[\\t\\t\\t\\t\\t\\t\\t\\t\\t\\n\\t\\t{\\n\\t\\t\\t\"user\":{\\n\\t\\t\\t\\t\"userIcon\":\"//wwc.alicdn.com/avatar/getAvatar.do?userNick=kk玩笑zhu&amp;width=30&amp;height=30&amp;type=sns\",\\t\\t\\t\\t\"userNick\":\"kk玩笑zhu\",\\t\\t\\t\\t\"vipLevel\":2,\\t\\t\\t\\t\"userTypeId\":[],\\t\\t\\t\\t\"isTaobaoWomen\":false,\\t\\t\\t\\t\"taobaoWomenUrl\":\"//mm.taobao.com/2680102980.htm\",\\n\\t\\t\\t\\t\"userCreditUrl\":\"//s.2.taobao.com/list/list.htm?usernick=kk%CD%E6%D0%A6zhu\",\\n\\t\\t\\t\\t\"userItemsUrl\":\"//s.2.taobao.com/list/list.htm?usernick=kk%CD%E6%D0%A6zhu\",\\n\\t\\t\\t\\t\"isSinaV\":false,\\t\\t\\t\\t\"yellowSeller\":false\\t\\t\\t},\\n\\t\\t\\t\"item\":{\\n\\t\\t\\t\\t\"imageUrl\":\"//img.alicdn.com/bao/uploaded/i4/6000000004803/TB2rFOeowvD8KJjSsplXXaIEFXa_!!0-fleamarket.jpg_220x10000.jpg\",\\t\\t\\t\\t\"imageHeight\":720,\\t\\t\\t\\t\"imageWidth\":1280,\\t\\t\\t\\t\"itemUrl\":\"//2.taobao.com/item.htm?id=564454908047&amp;from=list&amp;similarUrl=\",\\t\\t\\t\\t\"isBrandNew\":false,\\t\\t\\t\\t\"price\":\"1500.00\",\\t\\t\\t\\t\"orgPrice\":\"\",\\t\\t\\t\\t\"provcity\":\"重庆重庆\",\\t\\t\\t\\t\"describe\":\"耳机3副索尼IER-nw500n,血色围城OSTRYKC06A酷狗蓝牙耳机M1。手机锤子M1L高通821屏幕有裂痕，相机用不起mp3播放器爱国者M6要哪个的带价反正都便宜\",\\t\\t\\t\\t\"publishTime\":\"2018.01.26\",\\t\\t\\t\\t\"itemFrom\":\"发布自Android客户端\",\\t\\t\\t\\t\"itemFromDesc\":\"Android客户端\",\\n\\t\\t\\t\\t\"itemFromTarget\":\"//2.taobao.com/mobile/iphone.htm\",\\t\\t\\t\\t\"commentCount\":0,\\t\\t\\t\\t\"commentUrl\":\"//2.taobao.com/item.htm?id=564454908047&amp;from=list&amp;similarUrl=#item-comments\",\\t\\t\\t\\t\"collectCount\":0,\\t\\t\\t\\t\"title\":\"来看一看瞧一瞧便宜卖了\"\\n\\t\\t\\t}\\n\\t\\t}\\n\\t\\t\\t\\t]\\n})\\n'"
      ]
     },
     "execution_count": 29,
     "metadata": {},
     "output_type": "execute_result"
    }
   ],
   "source": [
    "a"
   ]
  },
  {
   "cell_type": "code",
   "execution_count": null,
   "metadata": {},
   "outputs": [],
   "source": []
  }
 ],
 "metadata": {
  "kernelspec": {
   "display_name": "Python 3",
   "language": "python",
   "name": "python3"
  },
  "language_info": {
   "codemirror_mode": {
    "name": "ipython",
    "version": 3
   },
   "file_extension": ".py",
   "mimetype": "text/x-python",
   "name": "python",
   "nbconvert_exporter": "python",
   "pygments_lexer": "ipython3",
   "version": "3.5.2"
  }
 },
 "nbformat": 4,
 "nbformat_minor": 2
}

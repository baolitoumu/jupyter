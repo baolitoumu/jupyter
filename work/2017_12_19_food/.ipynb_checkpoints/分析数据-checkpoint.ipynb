{
 "cells": [
  {
   "cell_type": "code",
   "execution_count": null,
   "metadata": {},
   "outputs": [],
   "source": [
    "# The usual preamble\n",
    "%matplotlib inline\n",
    "import pandas as pd\n",
    "import matplotlib.pyplot as plt\n",
    "import numpy as np\n",
    "from datetime import datetime\n",
    "import time\n",
    "# This is necessary to show lots of columns in pandas 0.12. \n",
    "# Not necessary in pandas 0.13.\n",
    "pd.set_option('display.width', 5000) \n",
    "pd.set_option('max_colwidth',200)\n",
    "pd.set_option('display.max_columns', 90)\n",
    "pd.set_option('display.max_rows', 90)"
   ]
  },
  {
   "cell_type": "code",
   "execution_count": null,
   "metadata": {},
   "outputs": [],
   "source": [
    "xls_file = pd.ExcelFile('去掉小于100订单商户.xlsx')\n",
    "xls_file_category = pd.ExcelFile('分类商品数量处理后.xlsx')\n",
    "xls_file_rank = pd.ExcelFile('各店各商品排行处理后.xlsx')"
   ]
  },
  {
   "cell_type": "code",
   "execution_count": null,
   "metadata": {},
   "outputs": [],
   "source": [
    "df = pd.io.excel.ExcelFile.parse(xls_file)\n",
    "dfc = pd.io.excel.ExcelFile.parse(xls_file_category)\n",
    "dfr = pd.io.excel.ExcelFile.parse(xls_file_rank)"
   ]
  },
  {
   "cell_type": "code",
   "execution_count": null,
   "metadata": {},
   "outputs": [],
   "source": [
    "df"
   ]
  },
  {
   "cell_type": "code",
   "execution_count": null,
   "metadata": {},
   "outputs": [],
   "source": [
    "la = list(df.columns.values)\n",
    "print(la)"
   ]
  },
  {
   "cell_type": "code",
   "execution_count": null,
   "metadata": {},
   "outputs": [],
   "source": [
    "#过滤\n",
    "data = df[df['订单总数']>100]  \n",
    "#预付卡\n",
    "yufuka = len(data['预付卡'][data['预付卡']>0])"
   ]
  },
  {
   "cell_type": "code",
   "execution_count": null,
   "metadata": {},
   "outputs": [],
   "source": [
    "#写入文件\n",
    "#writer = pd.ExcelWriter('去掉小于100订单商户.xlsx')\n",
    "#dffiter.to_excel(writer,'a')\n",
    "#writer.save()\n",
    "print(data['订单总数'])"
   ]
  },
  {
   "cell_type": "code",
   "execution_count": null,
   "metadata": {},
   "outputs": [],
   "source": [
    "fig4 = plt.figure(figsize=(9,6),dpi=150)\n",
    "a = (data['订单总数'])/100\n",
    "'''b = data['外卖订单量']\n",
    "c = data['扫码点单销售数量']\n",
    "d = data['微店铺销售数量']\n",
    "e = data['微外卖销售数量']\n",
    "f = data['商品数量']\n",
    "#g = data['整单优惠']\n",
    "'''\n",
    "x = np.arange(0,1045)\n",
    "\n",
    "\n",
    "plt.plot(x,a,'',label='订单总数')\n",
    "'''\n",
    "plt.plot(x,b,'',label='外卖订单量')\n",
    "plt.plot(x,c,'',label='扫码点单销售数量')\n",
    "plt.plot(x,d,'',label='微店铺销售数量')\n",
    "plt.plot(x,e,'',label='微外卖销售数量')\n",
    "plt.plot(x,f,'',label='商品数量')\n",
    "'''\n",
    "plt.legend(loc='upper right')\n",
    "#plt.plot(steps2, out.data.numpy().flatten(), 'b-')\n",
    "ax = fig4.add_subplot(1,1,1)\n",
    "\n",
    "ax.set_title('店铺销售渠道占比分析')\n",
    "plt.xlabel('销量排行')\n",
    "plt.ylabel('订单量')\n",
    "plt.draw()\n",
    "plt.ioff()\n",
    "plt.show()   "
   ]
  },
  {
   "cell_type": "code",
   "execution_count": null,
   "metadata": {},
   "outputs": [],
   "source": [
    "y1 = (data['订单总数'])/100\n",
    "y2 = data['外卖订单量']\n",
    "x1=range(0,len(y1))\n",
    "x2=range(0,len(y2))\n",
    "plt.figure(figsize=(10, 6))\n",
    "plt.plot(x1,y1,'',label=\"2015年\")\n",
    "plt.plot(x2,y2,'',label=\"2016年\")\n",
    "plt.title('2015-2016年月XX事件数')\n",
    "plt.legend(loc='upper right')\n",
    "plt.xticks((0,2,4,6,8,10),('1月','3月','5月','7月','9月','11月'))\n",
    "plt.xlabel('月份')\n",
    "plt.ylabel('XX事件数')\n",
    "plt.grid(x1)\n",
    "plt.show()"
   ]
  },
  {
   "cell_type": "code",
   "execution_count": null,
   "metadata": {},
   "outputs": [],
   "source": []
  }
 ],
 "metadata": {
  "kernelspec": {
   "display_name": "Python 3",
   "language": "python",
   "name": "python3"
  },
  "language_info": {
   "codemirror_mode": {
    "name": "ipython",
    "version": 3
   },
   "file_extension": ".py",
   "mimetype": "text/x-python",
   "name": "python",
   "nbconvert_exporter": "python",
   "pygments_lexer": "ipython3",
   "version": "3.6.0"
  }
 },
 "nbformat": 4,
 "nbformat_minor": 2
}

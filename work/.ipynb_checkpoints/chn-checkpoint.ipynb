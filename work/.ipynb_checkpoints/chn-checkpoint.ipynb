{
 "cells": [
  {
   "cell_type": "code",
   "execution_count": 1,
   "metadata": {},
   "outputs": [
    {
     "name": "stdout",
     "output_type": "stream",
     "text": [
      "--2017-12-17 05:12:17--  http://linux.linuxidc.com/linuxconf/download.php?file=Li9saW51eGZpbGVzL3B1Yi8yMDA5LzExLzEyL8Pmz/JVYnVudHW1xM6iyO3Rxbra19bM5VY2LjAgbXN5aC50dGaxvrXYz8LU2C9tc3loLnR0Zi56aXA=\n",
      "Resolving linux.linuxidc.com (linux.linuxidc.com)... 60.191.177.106\n",
      "Connecting to linux.linuxidc.com (linux.linuxidc.com)|60.191.177.106|:80... connected.\n",
      "HTTP request sent, awaiting response... 200 OK\n",
      "Length: 9044481 (8.6M) [application/octet-stream]\n",
      "Saving to: 'download.php?file=Li9saW51eGZpbGVzL3B1Yi8yMDA5LzExLzEyL8Pmz%2FJVYnVudHW1xM6iyO3Rxbra19bM5VY2LjAgbXN5aC50dGaxvrXYz8LU2C9tc3loLnR0Zi56aXA='\n",
      "\n",
      "download.php?file=L 100%[===================>]   8.62M   332KB/s    in 20s     \n",
      "\n",
      "2017-12-17 05:12:52 (442 KB/s) - 'download.php?file=Li9saW51eGZpbGVzL3B1Yi8yMDA5LzExLzEyL8Pmz%2FJVYnVudHW1xM6iyO3Rxbra19bM5VY2LjAgbXN5aC50dGaxvrXYz8LU2C9tc3loLnR0Zi56aXA=' saved [9044481/9044481]\n",
      "\n"
     ]
    }
   ],
   "source": [
    "!wget http://linux.linuxidc.com/linuxconf/download.php?file=Li9saW51eGZpbGVzL3B1Yi8yMDA5LzExLzEyL8Pmz/JVYnVudHW1xM6iyO3Rxbra19bM5VY2LjAgbXN5aC50dGaxvrXYz8LU2C9tc3loLnR0Zi56aXA="
   ]
  },
  {
   "cell_type": "code",
   "execution_count": 2,
   "metadata": {},
   "outputs": [
    {
     "name": "stdout",
     "output_type": "stream",
     "text": [
      "2.csv\r\n",
      "323.csv\r\n",
      "Untitled-Copy1.ipynb\r\n",
      "Untitled1.ipynb\r\n",
      "__pycache__\r\n",
      "all_data_xiaochi.xlsx\r\n",
      "allc.csv\r\n",
      "allc.xlsx\r\n",
      "alldata.csv\r\n",
      "alldata.xlsx\r\n",
      "ch.txt\r\n",
      "chn.ipynb\r\n",
      "data.csv\r\n",
      "data1.csv\r\n",
      "download.php?file=Li9saW51eGZpbGVzL3B1Yi8yMDA5LzExLzEyL8Pmz%2FJVYnVudHW1xM6iyO3Rxbra19bM5VY2LjAgbXN5aC50dGaxvrXYz8LU2C9tc3loLnR0Zi56aXA=\r\n",
      "hz_xc_recently_data.csv\r\n",
      "ok.csv\r\n",
      "piechart.png\r\n",
      "????????????.ipynb\r\n",
      "??????????????????.xlsx\r\n",
      "????????????.ipynb\r\n",
      "???????????????????????????.xlsx\r\n",
      "????????????.xlsx\r\n",
      "????????????.xlsx\r\n",
      "??????????????????????????????.xlsx\r\n",
      "????????????-Copy1.ipynb\r\n",
      "????????????.ipynb\r\n",
      "????????????????????????-Copy1.ipynb\r\n",
      "????????????????????????.ipynb\r\n"
     ]
    }
   ],
   "source": [
    "!ls"
   ]
  },
  {
   "cell_type": "code",
   "execution_count": 4,
   "metadata": {},
   "outputs": [
    {
     "name": "stdout",
     "output_type": "stream",
     "text": [
      "Bareword found where operator expected at (eval 4) line 1, near \"2FJVYnVudHW1xM6iyO3Rxbra19bM5VY2LjAgbXN5aC50dGaxvrXYz8LU2C9tc3loLnR0Zi56aXA\"\r\n",
      "\t(Missing operator before FJVYnVudHW1xM6iyO3Rxbra19bM5VY2LjAgbXN5aC50dGaxvrXYz8LU2C9tc3loLnR0Zi56aXA?)\r\n",
      "Can't modify constant item in scalar assignment at (user-supplied code), near \"2FJVYnVudHW1xM6iyO3Rxbra19bM5VY2LjAgbXN5aC50dGaxvrXYz8LU2C9tc3loLnR0Zi56aXA\"\r\n",
      "syntax error at (user-supplied code), near \"2FJVYnVudHW1xM6iyO3Rxbra19bM5VY2LjAgbXN5aC50dGaxvrXYz8LU2C9tc3loLnR0Zi56aXA\"\r\n"
     ]
    }
   ],
   "source": [
    "!rename download.php?file=Li9saW51eGZpbGVzL3B1Yi8yMDA5LzExLzEyL8Pmz%2FJVYnVudHW1xM6iyO3Rxbra19bM5VY2LjAgbXN5aC50dGaxvrXYz8LU2C9tc3loLnR0Zi56aXA= msyh.ttf\n"
   ]
  },
  {
   "cell_type": "code",
   "execution_count": null,
   "metadata": {},
   "outputs": [],
   "source": []
  }
 ],
 "metadata": {
  "kernelspec": {
   "display_name": "Python 3",
   "language": "python",
   "name": "python3"
  },
  "language_info": {
   "codemirror_mode": {
    "name": "ipython",
    "version": 3
   },
   "file_extension": ".py",
   "mimetype": "text/x-python",
   "name": "python",
   "nbconvert_exporter": "python",
   "pygments_lexer": "ipython3",
   "version": "3.6.0"
  }
 },
 "nbformat": 4,
 "nbformat_minor": 2
}

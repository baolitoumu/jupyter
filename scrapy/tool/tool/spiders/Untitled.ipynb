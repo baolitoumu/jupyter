{
 "cells": [
  {
   "cell_type": "code",
   "execution_count": 2,
   "metadata": {},
   "outputs": [],
   "source": [
    "from urllib.parse import quote"
   ]
  },
  {
   "cell_type": "code",
   "execution_count": 3,
   "metadata": {},
   "outputs": [
    {
     "data": {
      "text/plain": [
       "'%B4%FA%B9%BA'"
      ]
     },
     "execution_count": 3,
     "metadata": {},
     "output_type": "execute_result"
    }
   ],
   "source": [
    "\n",
    "q='代购'\n",
    "quote(q.encode(\"gbk\"))"
   ]
  },
  {
   "cell_type": "code",
   "execution_count": 10,
   "metadata": {},
   "outputs": [
    {
     "name": "stdout",
     "output_type": "stream",
     "text": [
      "['https://www.xxxxx.biz/b2bpc/cust/intoInnerPrice.do', 'scatId=1&pcatId=32&catCode=D0933N&catId=8+1&catKind=']\n",
      "{'scatId': ['1'], 'pcatId': ['32'], 'catCode': ['D0933N'], 'catId': ['8 1']}\n"
     ]
    }
   ],
   "source": [
    "from urllib import parse\n",
    "url = \"https://www.xxxxx.biz/b2bpc/cust/intoInnerPrice.do?scatId=1&pcatId=32&catCode=D0933N&catId=8+1&catKind=\"\n",
    "urla = url.split(\"?\")\n",
    "print(urla)\n",
    "res = parse.parse_qs(urla[1])\n",
    "print(res)"
   ]
  },
  {
   "cell_type": "code",
   "execution_count": 8,
   "metadata": {},
   "outputs": [
    {
     "name": "stdout",
     "output_type": "stream",
     "text": [
      "['https://www.xxxxx.biz/b2bpc/cust/intoInnerPrice.do', 'scatId=1&pcatId=32&catCode=D0933N&catId=81&catKind=']\n"
     ]
    }
   ],
   "source": [
    "from urllib import parse\n",
    "url = \"https://www.xxxxx.biz/b2bpc/cust/intoInnerPrice.do?scatId=1&pcatId=32&catCode=D0933N&catId=81&catKind=\"\n",
    "urla = url阿.split(\"?\")\n",
    "print(urla)"
   ]
  },
  {
   "cell_type": "code",
   "execution_count": null,
   "metadata": {},
   "outputs": [],
   "source": []
  }
 ],
 "metadata": {
  "kernelspec": {
   "display_name": "Python 3",
   "language": "python",
   "name": "python3"
  },
  "language_info": {
   "codemirror_mode": {
    "name": "ipython",
    "version": 3
   },
   "file_extension": ".py",
   "mimetype": "text/x-python",
   "name": "python",
   "nbconvert_exporter": "python",
   "pygments_lexer": "ipython3",
   "version": "3.5.2"
  }
 },
 "nbformat": 4,
 "nbformat_minor": 2
}

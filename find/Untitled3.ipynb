{
 "cells": [
  {
   "cell_type": "code",
   "execution_count": 17,
   "metadata": {},
   "outputs": [
    {
     "name": "stdout",
     "output_type": "stream",
     "text": [
      "b'60.169.115.137:37547\\n'\n"
     ]
    },
    {
     "name": "stderr",
     "output_type": "stream",
     "text": [
      "Exception in thread Thread-126:\n",
      "Traceback (most recent call last):\n",
      "  File \"/usr/lib/python3.6/threading.py\", line 916, in _bootstrap_inner\n",
      "    self.run()\n",
      "  File \"<ipython-input-17-29a84bf43199>\", line 24, in run\n",
      "    html = urllib.request.urlopen(targetUrl, proxies={'http':'http://' + self.proxyip})\n",
      "TypeError: urlopen() got an unexpected keyword argument 'proxies'\n",
      "\n"
     ]
    },
    {
     "name": "stdout",
     "output_type": "stream",
     "text": [
      "b'180.118.242.142:60946\\n'\n"
     ]
    },
    {
     "name": "stderr",
     "output_type": "stream",
     "text": [
      "Exception in thread Thread-127:\n",
      "Traceback (most recent call last):\n",
      "  File \"/usr/lib/python3.6/threading.py\", line 916, in _bootstrap_inner\n",
      "    self.run()\n",
      "  File \"<ipython-input-17-29a84bf43199>\", line 24, in run\n",
      "    html = urllib.request.urlopen(targetUrl, proxies={'http':'http://' + self.proxyip})\n",
      "TypeError: urlopen() got an unexpected keyword argument 'proxies'\n",
      "\n"
     ]
    },
    {
     "name": "stdout",
     "output_type": "stream",
     "text": [
      "b'180.118.242.142:60946\\n'\n"
     ]
    },
    {
     "name": "stderr",
     "output_type": "stream",
     "text": [
      "Exception in thread Thread-128:\n",
      "Traceback (most recent call last):\n",
      "  File \"/usr/lib/python3.6/threading.py\", line 916, in _bootstrap_inner\n",
      "    self.run()\n",
      "  File \"<ipython-input-17-29a84bf43199>\", line 24, in run\n",
      "    html = urllib.request.urlopen(targetUrl, proxies={'http':'http://' + self.proxyip})\n",
      "TypeError: urlopen() got an unexpected keyword argument 'proxies'\n",
      "\n"
     ]
    },
    {
     "name": "stdout",
     "output_type": "stream",
     "text": [
      "b'1.192.243.157:28420\\n'\n"
     ]
    },
    {
     "name": "stderr",
     "output_type": "stream",
     "text": [
      "Exception in thread Thread-129:\n",
      "Traceback (most recent call last):\n",
      "  File \"/usr/lib/python3.6/threading.py\", line 916, in _bootstrap_inner\n",
      "    self.run()\n",
      "  File \"<ipython-input-17-29a84bf43199>\", line 24, in run\n",
      "    html = urllib.request.urlopen(targetUrl, proxies={'http':'http://' + self.proxyip})\n",
      "TypeError: urlopen() got an unexpected keyword argument 'proxies'\n",
      "\n"
     ]
    },
    {
     "name": "stdout",
     "output_type": "stream",
     "text": [
      "b'1.192.243.157:28420\\n'\n"
     ]
    },
    {
     "name": "stderr",
     "output_type": "stream",
     "text": [
      "Exception in thread Thread-130:\n",
      "Traceback (most recent call last):\n",
      "  File \"/usr/lib/python3.6/threading.py\", line 916, in _bootstrap_inner\n",
      "    self.run()\n",
      "  File \"<ipython-input-17-29a84bf43199>\", line 24, in run\n",
      "    html = urllib.request.urlopen(targetUrl, proxies={'http':'http://' + self.proxyip})\n",
      "TypeError: urlopen() got an unexpected keyword argument 'proxies'\n",
      "\n"
     ]
    },
    {
     "name": "stdout",
     "output_type": "stream",
     "text": [
      "b'110.86.96.36:63983\\n'\n"
     ]
    },
    {
     "name": "stderr",
     "output_type": "stream",
     "text": [
      "Exception in thread Thread-131:\n",
      "Traceback (most recent call last):\n",
      "  File \"/usr/lib/python3.6/threading.py\", line 916, in _bootstrap_inner\n",
      "    self.run()\n",
      "  File \"<ipython-input-17-29a84bf43199>\", line 24, in run\n",
      "    html = urllib.request.urlopen(targetUrl, proxies={'http':'http://' + self.proxyip})\n",
      "TypeError: urlopen() got an unexpected keyword argument 'proxies'\n",
      "\n"
     ]
    },
    {
     "name": "stdout",
     "output_type": "stream",
     "text": [
      "b'110.86.96.36:63983\\n'\n"
     ]
    },
    {
     "name": "stderr",
     "output_type": "stream",
     "text": [
      "Exception in thread Thread-132:\n",
      "Traceback (most recent call last):\n",
      "  File \"/usr/lib/python3.6/threading.py\", line 916, in _bootstrap_inner\n",
      "    self.run()\n",
      "  File \"<ipython-input-17-29a84bf43199>\", line 24, in run\n",
      "    html = urllib.request.urlopen(targetUrl, proxies={'http':'http://' + self.proxyip})\n",
      "TypeError: urlopen() got an unexpected keyword argument 'proxies'\n",
      "\n"
     ]
    },
    {
     "name": "stdout",
     "output_type": "stream",
     "text": [
      "b'218.64.92.154:22740\\n'\n"
     ]
    },
    {
     "name": "stderr",
     "output_type": "stream",
     "text": [
      "Exception in thread Thread-133:\n",
      "Traceback (most recent call last):\n",
      "  File \"/usr/lib/python3.6/threading.py\", line 916, in _bootstrap_inner\n",
      "    self.run()\n",
      "  File \"<ipython-input-17-29a84bf43199>\", line 24, in run\n",
      "    html = urllib.request.urlopen(targetUrl, proxies={'http':'http://' + self.proxyip})\n",
      "TypeError: urlopen() got an unexpected keyword argument 'proxies'\n",
      "\n"
     ]
    },
    {
     "name": "stdout",
     "output_type": "stream",
     "text": [
      "b'218.64.92.154:22740\\n'\n"
     ]
    },
    {
     "name": "stderr",
     "output_type": "stream",
     "text": [
      "Exception in thread Thread-134:\n",
      "Traceback (most recent call last):\n",
      "  File \"/usr/lib/python3.6/threading.py\", line 916, in _bootstrap_inner\n",
      "    self.run()\n",
      "  File \"<ipython-input-17-29a84bf43199>\", line 24, in run\n",
      "    html = urllib.request.urlopen(targetUrl, proxies={'http':'http://' + self.proxyip})\n",
      "TypeError: urlopen() got an unexpected keyword argument 'proxies'\n",
      "\n"
     ]
    },
    {
     "name": "stdout",
     "output_type": "stream",
     "text": [
      "b'121.237.138.215:52619\\n'\n"
     ]
    },
    {
     "name": "stderr",
     "output_type": "stream",
     "text": [
      "Exception in thread Thread-135:\n",
      "Traceback (most recent call last):\n",
      "  File \"/usr/lib/python3.6/threading.py\", line 916, in _bootstrap_inner\n",
      "    self.run()\n",
      "  File \"<ipython-input-17-29a84bf43199>\", line 24, in run\n",
      "    html = urllib.request.urlopen(targetUrl, proxies={'http':'http://' + self.proxyip})\n",
      "TypeError: urlopen() got an unexpected keyword argument 'proxies'\n",
      "\n"
     ]
    },
    {
     "name": "stdout",
     "output_type": "stream",
     "text": [
      "b'121.237.138.215:52619\\n'\n"
     ]
    },
    {
     "name": "stderr",
     "output_type": "stream",
     "text": [
      "Exception in thread Thread-136:\n",
      "Traceback (most recent call last):\n",
      "  File \"/usr/lib/python3.6/threading.py\", line 916, in _bootstrap_inner\n",
      "    self.run()\n",
      "  File \"<ipython-input-17-29a84bf43199>\", line 24, in run\n",
      "    html = urllib.request.urlopen(targetUrl, proxies={'http':'http://' + self.proxyip})\n",
      "TypeError: urlopen() got an unexpected keyword argument 'proxies'\n",
      "\n"
     ]
    },
    {
     "name": "stdout",
     "output_type": "stream",
     "text": [
      "b'49.76.23.94:32878\\n'\n"
     ]
    },
    {
     "name": "stderr",
     "output_type": "stream",
     "text": [
      "Exception in thread Thread-137:\n",
      "Traceback (most recent call last):\n",
      "  File \"/usr/lib/python3.6/threading.py\", line 916, in _bootstrap_inner\n",
      "    self.run()\n",
      "  File \"<ipython-input-17-29a84bf43199>\", line 24, in run\n",
      "    html = urllib.request.urlopen(targetUrl, proxies={'http':'http://' + self.proxyip})\n",
      "TypeError: urlopen() got an unexpected keyword argument 'proxies'\n",
      "\n"
     ]
    },
    {
     "name": "stdout",
     "output_type": "stream",
     "text": [
      "b'49.76.23.94:32878\\n'\n"
     ]
    },
    {
     "name": "stderr",
     "output_type": "stream",
     "text": [
      "Exception in thread Thread-138:\n",
      "Traceback (most recent call last):\n",
      "  File \"/usr/lib/python3.6/threading.py\", line 916, in _bootstrap_inner\n",
      "    self.run()\n",
      "  File \"<ipython-input-17-29a84bf43199>\", line 24, in run\n",
      "    html = urllib.request.urlopen(targetUrl, proxies={'http':'http://' + self.proxyip})\n",
      "TypeError: urlopen() got an unexpected keyword argument 'proxies'\n",
      "\n"
     ]
    },
    {
     "name": "stdout",
     "output_type": "stream",
     "text": [
      "b'49.73.240.43:10230\\n'\n"
     ]
    },
    {
     "name": "stderr",
     "output_type": "stream",
     "text": [
      "Exception in thread Thread-139:\n",
      "Traceback (most recent call last):\n",
      "  File \"/usr/lib/python3.6/threading.py\", line 916, in _bootstrap_inner\n",
      "    self.run()\n",
      "  File \"<ipython-input-17-29a84bf43199>\", line 24, in run\n",
      "    html = urllib.request.urlopen(targetUrl, proxies={'http':'http://' + self.proxyip})\n",
      "TypeError: urlopen() got an unexpected keyword argument 'proxies'\n",
      "\n"
     ]
    },
    {
     "name": "stdout",
     "output_type": "stream",
     "text": [
      "b'49.73.240.43:10230\\n'\n"
     ]
    },
    {
     "name": "stderr",
     "output_type": "stream",
     "text": [
      "Exception in thread Thread-140:\n",
      "Traceback (most recent call last):\n",
      "  File \"/usr/lib/python3.6/threading.py\", line 916, in _bootstrap_inner\n",
      "    self.run()\n",
      "  File \"<ipython-input-17-29a84bf43199>\", line 24, in run\n",
      "    html = urllib.request.urlopen(targetUrl, proxies={'http':'http://' + self.proxyip})\n",
      "TypeError: urlopen() got an unexpected keyword argument 'proxies'\n",
      "\n"
     ]
    },
    {
     "name": "stdout",
     "output_type": "stream",
     "text": [
      "b'221.225.83.151:37806\\n'\n"
     ]
    },
    {
     "name": "stderr",
     "output_type": "stream",
     "text": [
      "Exception in thread Thread-141:\n",
      "Traceback (most recent call last):\n",
      "  File \"/usr/lib/python3.6/threading.py\", line 916, in _bootstrap_inner\n",
      "    self.run()\n",
      "  File \"<ipython-input-17-29a84bf43199>\", line 24, in run\n",
      "    html = urllib.request.urlopen(targetUrl, proxies={'http':'http://' + self.proxyip})\n",
      "TypeError: urlopen() got an unexpected keyword argument 'proxies'\n",
      "\n"
     ]
    },
    {
     "name": "stdout",
     "output_type": "stream",
     "text": [
      "b'221.225.83.151:37806\\n'\n"
     ]
    },
    {
     "name": "stderr",
     "output_type": "stream",
     "text": [
      "Exception in thread Thread-142:\n",
      "Traceback (most recent call last):\n",
      "  File \"/usr/lib/python3.6/threading.py\", line 916, in _bootstrap_inner\n",
      "    self.run()\n",
      "  File \"<ipython-input-17-29a84bf43199>\", line 24, in run\n",
      "    html = urllib.request.urlopen(targetUrl, proxies={'http':'http://' + self.proxyip})\n",
      "TypeError: urlopen() got an unexpected keyword argument 'proxies'\n",
      "\n"
     ]
    },
    {
     "name": "stdout",
     "output_type": "stream",
     "text": [
      "b'218.91.94.118:19709\\n'\n"
     ]
    },
    {
     "name": "stderr",
     "output_type": "stream",
     "text": [
      "Exception in thread Thread-143:\n",
      "Traceback (most recent call last):\n",
      "  File \"/usr/lib/python3.6/threading.py\", line 916, in _bootstrap_inner\n",
      "    self.run()\n",
      "  File \"<ipython-input-17-29a84bf43199>\", line 24, in run\n",
      "    html = urllib.request.urlopen(targetUrl, proxies={'http':'http://' + self.proxyip})\n",
      "TypeError: urlopen() got an unexpected keyword argument 'proxies'\n",
      "\n"
     ]
    },
    {
     "name": "stdout",
     "output_type": "stream",
     "text": [
      "b'218.91.94.118:19709\\n'\n"
     ]
    },
    {
     "name": "stderr",
     "output_type": "stream",
     "text": [
      "Exception in thread Thread-144:\n",
      "Traceback (most recent call last):\n",
      "  File \"/usr/lib/python3.6/threading.py\", line 916, in _bootstrap_inner\n",
      "    self.run()\n",
      "  File \"<ipython-input-17-29a84bf43199>\", line 24, in run\n",
      "    html = urllib.request.urlopen(targetUrl, proxies={'http':'http://' + self.proxyip})\n",
      "TypeError: urlopen() got an unexpected keyword argument 'proxies'\n",
      "\n"
     ]
    },
    {
     "name": "stdout",
     "output_type": "stream",
     "text": [
      "b'36.59.32.58:11935\\n'\n"
     ]
    },
    {
     "name": "stderr",
     "output_type": "stream",
     "text": [
      "Exception in thread Thread-145:\n",
      "Traceback (most recent call last):\n",
      "  File \"/usr/lib/python3.6/threading.py\", line 916, in _bootstrap_inner\n",
      "    self.run()\n",
      "  File \"<ipython-input-17-29a84bf43199>\", line 24, in run\n",
      "    html = urllib.request.urlopen(targetUrl, proxies={'http':'http://' + self.proxyip})\n",
      "TypeError: urlopen() got an unexpected keyword argument 'proxies'\n",
      "\n"
     ]
    },
    {
     "name": "stdout",
     "output_type": "stream",
     "text": [
      "b'36.59.32.58:11935\\n'\n"
     ]
    },
    {
     "name": "stderr",
     "output_type": "stream",
     "text": [
      "Exception in thread Thread-146:\n",
      "Traceback (most recent call last):\n",
      "  File \"/usr/lib/python3.6/threading.py\", line 916, in _bootstrap_inner\n",
      "    self.run()\n",
      "  File \"<ipython-input-17-29a84bf43199>\", line 24, in run\n",
      "    html = urllib.request.urlopen(targetUrl, proxies={'http':'http://' + self.proxyip})\n",
      "TypeError: urlopen() got an unexpected keyword argument 'proxies'\n",
      "\n"
     ]
    },
    {
     "name": "stdout",
     "output_type": "stream",
     "text": [
      "b'112.195.96.226:50454\\n'\n"
     ]
    },
    {
     "name": "stderr",
     "output_type": "stream",
     "text": [
      "Exception in thread Thread-147:\n",
      "Traceback (most recent call last):\n",
      "  File \"/usr/lib/python3.6/threading.py\", line 916, in _bootstrap_inner\n",
      "    self.run()\n",
      "  File \"<ipython-input-17-29a84bf43199>\", line 24, in run\n",
      "    html = urllib.request.urlopen(targetUrl, proxies={'http':'http://' + self.proxyip})\n",
      "TypeError: urlopen() got an unexpected keyword argument 'proxies'\n",
      "\n"
     ]
    },
    {
     "name": "stdout",
     "output_type": "stream",
     "text": [
      "b'112.195.96.226:50454\\n'\n"
     ]
    },
    {
     "name": "stderr",
     "output_type": "stream",
     "text": [
      "Exception in thread Thread-148:\n",
      "Traceback (most recent call last):\n",
      "  File \"/usr/lib/python3.6/threading.py\", line 916, in _bootstrap_inner\n",
      "    self.run()\n",
      "  File \"<ipython-input-17-29a84bf43199>\", line 24, in run\n",
      "    html = urllib.request.urlopen(targetUrl, proxies={'http':'http://' + self.proxyip})\n",
      "TypeError: urlopen() got an unexpected keyword argument 'proxies'\n",
      "\n"
     ]
    },
    {
     "name": "stdout",
     "output_type": "stream",
     "text": [
      "b'180.122.145.176:62915\\n'\n"
     ]
    },
    {
     "name": "stderr",
     "output_type": "stream",
     "text": [
      "Exception in thread Thread-149:\n",
      "Traceback (most recent call last):\n",
      "  File \"/usr/lib/python3.6/threading.py\", line 916, in _bootstrap_inner\n",
      "    self.run()\n",
      "  File \"<ipython-input-17-29a84bf43199>\", line 24, in run\n",
      "    html = urllib.request.urlopen(targetUrl, proxies={'http':'http://' + self.proxyip})\n",
      "TypeError: urlopen() got an unexpected keyword argument 'proxies'\n",
      "\n"
     ]
    },
    {
     "name": "stdout",
     "output_type": "stream",
     "text": [
      "b'180.122.145.176:62915\\n'\n"
     ]
    },
    {
     "name": "stderr",
     "output_type": "stream",
     "text": [
      "Exception in thread Thread-150:\n",
      "Traceback (most recent call last):\n",
      "  File \"/usr/lib/python3.6/threading.py\", line 916, in _bootstrap_inner\n",
      "    self.run()\n",
      "  File \"<ipython-input-17-29a84bf43199>\", line 24, in run\n",
      "    html = urllib.request.urlopen(targetUrl, proxies={'http':'http://' + self.proxyip})\n",
      "TypeError: urlopen() got an unexpected keyword argument 'proxies'\n",
      "\n"
     ]
    },
    {
     "name": "stdout",
     "output_type": "stream",
     "text": [
      "b'112.85.86.239:44744\\n'\n"
     ]
    },
    {
     "name": "stderr",
     "output_type": "stream",
     "text": [
      "Exception in thread Thread-151:\n",
      "Traceback (most recent call last):\n",
      "  File \"/usr/lib/python3.6/threading.py\", line 916, in _bootstrap_inner\n",
      "    self.run()\n",
      "  File \"<ipython-input-17-29a84bf43199>\", line 24, in run\n",
      "    html = urllib.request.urlopen(targetUrl, proxies={'http':'http://' + self.proxyip})\n",
      "TypeError: urlopen() got an unexpected keyword argument 'proxies'\n",
      "\n"
     ]
    },
    {
     "name": "stdout",
     "output_type": "stream",
     "text": [
      "b'112.85.86.239:44744\\n'\n"
     ]
    },
    {
     "name": "stderr",
     "output_type": "stream",
     "text": [
      "Exception in thread Thread-152:\n",
      "Traceback (most recent call last):\n",
      "  File \"/usr/lib/python3.6/threading.py\", line 916, in _bootstrap_inner\n",
      "    self.run()\n",
      "  File \"<ipython-input-17-29a84bf43199>\", line 24, in run\n",
      "    html = urllib.request.urlopen(targetUrl, proxies={'http':'http://' + self.proxyip})\n",
      "TypeError: urlopen() got an unexpected keyword argument 'proxies'\n",
      "\n"
     ]
    },
    {
     "name": "stdout",
     "output_type": "stream",
     "text": [
      "b'117.70.135.108:65418\\n'\n"
     ]
    },
    {
     "name": "stderr",
     "output_type": "stream",
     "text": [
      "Exception in thread Thread-153:\n",
      "Traceback (most recent call last):\n",
      "  File \"/usr/lib/python3.6/threading.py\", line 916, in _bootstrap_inner\n",
      "    self.run()\n",
      "  File \"<ipython-input-17-29a84bf43199>\", line 24, in run\n",
      "    html = urllib.request.urlopen(targetUrl, proxies={'http':'http://' + self.proxyip})\n",
      "TypeError: urlopen() got an unexpected keyword argument 'proxies'\n",
      "\n"
     ]
    },
    {
     "name": "stdout",
     "output_type": "stream",
     "text": [
      "b'117.70.135.108:65418\\n'\n"
     ]
    },
    {
     "name": "stderr",
     "output_type": "stream",
     "text": [
      "Exception in thread Thread-154:\n",
      "Traceback (most recent call last):\n",
      "  File \"/usr/lib/python3.6/threading.py\", line 916, in _bootstrap_inner\n",
      "    self.run()\n",
      "  File \"<ipython-input-17-29a84bf43199>\", line 24, in run\n",
      "    html = urllib.request.urlopen(targetUrl, proxies={'http':'http://' + self.proxyip})\n",
      "TypeError: urlopen() got an unexpected keyword argument 'proxies'\n",
      "\n"
     ]
    },
    {
     "name": "stdout",
     "output_type": "stream",
     "text": [
      "b'60.175.213.65:32029\\n'\n"
     ]
    },
    {
     "name": "stderr",
     "output_type": "stream",
     "text": [
      "Exception in thread Thread-155:\n",
      "Traceback (most recent call last):\n",
      "  File \"/usr/lib/python3.6/threading.py\", line 916, in _bootstrap_inner\n",
      "    self.run()\n",
      "  File \"<ipython-input-17-29a84bf43199>\", line 24, in run\n",
      "    html = urllib.request.urlopen(targetUrl, proxies={'http':'http://' + self.proxyip})\n",
      "TypeError: urlopen() got an unexpected keyword argument 'proxies'\n",
      "\n"
     ]
    },
    {
     "name": "stdout",
     "output_type": "stream",
     "text": [
      "b'60.175.213.65:32029\\n'\n"
     ]
    },
    {
     "name": "stderr",
     "output_type": "stream",
     "text": [
      "Exception in thread Thread-156:\n",
      "Traceback (most recent call last):\n",
      "  File \"/usr/lib/python3.6/threading.py\", line 916, in _bootstrap_inner\n",
      "    self.run()\n",
      "  File \"<ipython-input-17-29a84bf43199>\", line 24, in run\n",
      "    html = urllib.request.urlopen(targetUrl, proxies={'http':'http://' + self.proxyip})\n",
      "TypeError: urlopen() got an unexpected keyword argument 'proxies'\n",
      "\n"
     ]
    },
    {
     "name": "stdout",
     "output_type": "stream",
     "text": [
      "b'117.84.114.135:30981\\n'\n"
     ]
    },
    {
     "name": "stderr",
     "output_type": "stream",
     "text": [
      "Exception in thread Thread-157:\n",
      "Traceback (most recent call last):\n",
      "  File \"/usr/lib/python3.6/threading.py\", line 916, in _bootstrap_inner\n",
      "    self.run()\n",
      "  File \"<ipython-input-17-29a84bf43199>\", line 24, in run\n",
      "    html = urllib.request.urlopen(targetUrl, proxies={'http':'http://' + self.proxyip})\n",
      "TypeError: urlopen() got an unexpected keyword argument 'proxies'\n",
      "\n"
     ]
    },
    {
     "name": "stdout",
     "output_type": "stream",
     "text": [
      "b'117.84.114.135:30981\\n'\n"
     ]
    },
    {
     "name": "stderr",
     "output_type": "stream",
     "text": [
      "Exception in thread Thread-158:\n",
      "Traceback (most recent call last):\n",
      "  File \"/usr/lib/python3.6/threading.py\", line 916, in _bootstrap_inner\n",
      "    self.run()\n",
      "  File \"<ipython-input-17-29a84bf43199>\", line 24, in run\n",
      "    html = urllib.request.urlopen(targetUrl, proxies={'http':'http://' + self.proxyip})\n",
      "TypeError: urlopen() got an unexpected keyword argument 'proxies'\n",
      "\n"
     ]
    },
    {
     "name": "stdout",
     "output_type": "stream",
     "text": [
      "b'36.33.25.36:54467\\n'\n"
     ]
    },
    {
     "name": "stderr",
     "output_type": "stream",
     "text": [
      "Exception in thread Thread-159:\n",
      "Traceback (most recent call last):\n",
      "  File \"/usr/lib/python3.6/threading.py\", line 916, in _bootstrap_inner\n",
      "    self.run()\n",
      "  File \"<ipython-input-17-29a84bf43199>\", line 24, in run\n",
      "    html = urllib.request.urlopen(targetUrl, proxies={'http':'http://' + self.proxyip})\n",
      "TypeError: urlopen() got an unexpected keyword argument 'proxies'\n",
      "\n"
     ]
    },
    {
     "name": "stdout",
     "output_type": "stream",
     "text": [
      "b'36.33.25.36:54467\\n'\n"
     ]
    },
    {
     "name": "stderr",
     "output_type": "stream",
     "text": [
      "Exception in thread Thread-160:\n",
      "Traceback (most recent call last):\n",
      "  File \"/usr/lib/python3.6/threading.py\", line 916, in _bootstrap_inner\n",
      "    self.run()\n",
      "  File \"<ipython-input-17-29a84bf43199>\", line 24, in run\n",
      "    html = urllib.request.urlopen(targetUrl, proxies={'http':'http://' + self.proxyip})\n",
      "TypeError: urlopen() got an unexpected keyword argument 'proxies'\n",
      "\n"
     ]
    },
    {
     "name": "stdout",
     "output_type": "stream",
     "text": [
      "b'42.55.197.17:41188\\n'\n"
     ]
    },
    {
     "name": "stderr",
     "output_type": "stream",
     "text": [
      "Exception in thread Thread-161:\n",
      "Traceback (most recent call last):\n",
      "  File \"/usr/lib/python3.6/threading.py\", line 916, in _bootstrap_inner\n",
      "    self.run()\n",
      "  File \"<ipython-input-17-29a84bf43199>\", line 24, in run\n",
      "    html = urllib.request.urlopen(targetUrl, proxies={'http':'http://' + self.proxyip})\n",
      "TypeError: urlopen() got an unexpected keyword argument 'proxies'\n",
      "\n"
     ]
    },
    {
     "name": "stdout",
     "output_type": "stream",
     "text": [
      "b'42.55.197.17:41188\\n'\n"
     ]
    },
    {
     "name": "stderr",
     "output_type": "stream",
     "text": [
      "Exception in thread Thread-162:\n",
      "Traceback (most recent call last):\n",
      "  File \"/usr/lib/python3.6/threading.py\", line 916, in _bootstrap_inner\n",
      "    self.run()\n",
      "  File \"<ipython-input-17-29a84bf43199>\", line 24, in run\n",
      "    html = urllib.request.urlopen(targetUrl, proxies={'http':'http://' + self.proxyip})\n",
      "TypeError: urlopen() got an unexpected keyword argument 'proxies'\n",
      "\n"
     ]
    },
    {
     "name": "stdout",
     "output_type": "stream",
     "text": [
      "b'115.151.61.236:29219\\n'\n"
     ]
    },
    {
     "name": "stderr",
     "output_type": "stream",
     "text": [
      "Exception in thread Thread-163:\n",
      "Traceback (most recent call last):\n",
      "  File \"/usr/lib/python3.6/threading.py\", line 916, in _bootstrap_inner\n",
      "    self.run()\n",
      "  File \"<ipython-input-17-29a84bf43199>\", line 24, in run\n",
      "    html = urllib.request.urlopen(targetUrl, proxies={'http':'http://' + self.proxyip})\n",
      "TypeError: urlopen() got an unexpected keyword argument 'proxies'\n",
      "\n"
     ]
    },
    {
     "name": "stdout",
     "output_type": "stream",
     "text": [
      "b'115.151.61.236:29219\\n'\n"
     ]
    },
    {
     "name": "stderr",
     "output_type": "stream",
     "text": [
      "Exception in thread Thread-164:\n",
      "Traceback (most recent call last):\n",
      "  File \"/usr/lib/python3.6/threading.py\", line 916, in _bootstrap_inner\n",
      "    self.run()\n",
      "  File \"<ipython-input-17-29a84bf43199>\", line 24, in run\n",
      "    html = urllib.request.urlopen(targetUrl, proxies={'http':'http://' + self.proxyip})\n",
      "TypeError: urlopen() got an unexpected keyword argument 'proxies'\n",
      "\n"
     ]
    },
    {
     "name": "stdout",
     "output_type": "stream",
     "text": [
      "b'112.195.55.60:53887\\n'\n"
     ]
    },
    {
     "name": "stderr",
     "output_type": "stream",
     "text": [
      "Exception in thread Thread-165:\n",
      "Traceback (most recent call last):\n",
      "  File \"/usr/lib/python3.6/threading.py\", line 916, in _bootstrap_inner\n",
      "    self.run()\n",
      "  File \"<ipython-input-17-29a84bf43199>\", line 24, in run\n",
      "    html = urllib.request.urlopen(targetUrl, proxies={'http':'http://' + self.proxyip})\n",
      "TypeError: urlopen() got an unexpected keyword argument 'proxies'\n",
      "\n"
     ]
    },
    {
     "name": "stdout",
     "output_type": "stream",
     "text": [
      "b'171.80.161.171:33449\\n'\n"
     ]
    },
    {
     "name": "stderr",
     "output_type": "stream",
     "text": [
      "Exception in thread Thread-166:\n",
      "Traceback (most recent call last):\n",
      "  File \"/usr/lib/python3.6/threading.py\", line 916, in _bootstrap_inner\n",
      "    self.run()\n",
      "  File \"<ipython-input-17-29a84bf43199>\", line 24, in run\n",
      "    html = urllib.request.urlopen(targetUrl, proxies={'http':'http://' + self.proxyip})\n",
      "TypeError: urlopen() got an unexpected keyword argument 'proxies'\n",
      "\n"
     ]
    },
    {
     "name": "stdout",
     "output_type": "stream",
     "text": [
      "b'171.80.161.171:33449\\n'\n"
     ]
    },
    {
     "name": "stderr",
     "output_type": "stream",
     "text": [
      "Exception in thread Thread-167:\n",
      "Traceback (most recent call last):\n",
      "  File \"/usr/lib/python3.6/threading.py\", line 916, in _bootstrap_inner\n",
      "    self.run()\n",
      "  File \"<ipython-input-17-29a84bf43199>\", line 24, in run\n",
      "    html = urllib.request.urlopen(targetUrl, proxies={'http':'http://' + self.proxyip})\n",
      "TypeError: urlopen() got an unexpected keyword argument 'proxies'\n",
      "\n"
     ]
    },
    {
     "name": "stdout",
     "output_type": "stream",
     "text": [
      "b'220.162.5.152:21610\\n'\n"
     ]
    },
    {
     "name": "stderr",
     "output_type": "stream",
     "text": [
      "Exception in thread Thread-168:\n",
      "Traceback (most recent call last):\n",
      "  File \"/usr/lib/python3.6/threading.py\", line 916, in _bootstrap_inner\n",
      "    self.run()\n",
      "  File \"<ipython-input-17-29a84bf43199>\", line 24, in run\n",
      "    html = urllib.request.urlopen(targetUrl, proxies={'http':'http://' + self.proxyip})\n",
      "TypeError: urlopen() got an unexpected keyword argument 'proxies'\n",
      "\n"
     ]
    },
    {
     "name": "stdout",
     "output_type": "stream",
     "text": [
      "b'220.162.5.152:21610\\n'\n"
     ]
    },
    {
     "name": "stderr",
     "output_type": "stream",
     "text": [
      "Exception in thread Thread-169:\n",
      "Traceback (most recent call last):\n",
      "  File \"/usr/lib/python3.6/threading.py\", line 916, in _bootstrap_inner\n",
      "    self.run()\n",
      "  File \"<ipython-input-17-29a84bf43199>\", line 24, in run\n",
      "    html = urllib.request.urlopen(targetUrl, proxies={'http':'http://' + self.proxyip})\n",
      "TypeError: urlopen() got an unexpected keyword argument 'proxies'\n",
      "\n"
     ]
    },
    {
     "name": "stdout",
     "output_type": "stream",
     "text": [
      "b'114.230.41.10:51263\\n'\n"
     ]
    },
    {
     "name": "stderr",
     "output_type": "stream",
     "text": [
      "Exception in thread Thread-170:\n",
      "Traceback (most recent call last):\n",
      "  File \"/usr/lib/python3.6/threading.py\", line 916, in _bootstrap_inner\n",
      "    self.run()\n",
      "  File \"<ipython-input-17-29a84bf43199>\", line 24, in run\n",
      "    html = urllib.request.urlopen(targetUrl, proxies={'http':'http://' + self.proxyip})\n",
      "TypeError: urlopen() got an unexpected keyword argument 'proxies'\n",
      "\n"
     ]
    },
    {
     "name": "stdout",
     "output_type": "stream",
     "text": [
      "b'114.230.41.10:51263\\n'\n"
     ]
    },
    {
     "name": "stderr",
     "output_type": "stream",
     "text": [
      "Exception in thread Thread-171:\n",
      "Traceback (most recent call last):\n",
      "  File \"/usr/lib/python3.6/threading.py\", line 916, in _bootstrap_inner\n",
      "    self.run()\n",
      "  File \"<ipython-input-17-29a84bf43199>\", line 24, in run\n",
      "    html = urllib.request.urlopen(targetUrl, proxies={'http':'http://' + self.proxyip})\n",
      "TypeError: urlopen() got an unexpected keyword argument 'proxies'\n",
      "\n"
     ]
    },
    {
     "name": "stdout",
     "output_type": "stream",
     "text": [
      "b'175.167.57.158:18914\\n'\n"
     ]
    },
    {
     "name": "stderr",
     "output_type": "stream",
     "text": [
      "Exception in thread Thread-172:\n",
      "Traceback (most recent call last):\n",
      "  File \"/usr/lib/python3.6/threading.py\", line 916, in _bootstrap_inner\n",
      "    self.run()\n",
      "  File \"<ipython-input-17-29a84bf43199>\", line 24, in run\n",
      "    html = urllib.request.urlopen(targetUrl, proxies={'http':'http://' + self.proxyip})\n",
      "TypeError: urlopen() got an unexpected keyword argument 'proxies'\n",
      "\n"
     ]
    },
    {
     "name": "stdout",
     "output_type": "stream",
     "text": [
      "b'175.167.57.158:18914\\n'\n"
     ]
    },
    {
     "name": "stderr",
     "output_type": "stream",
     "text": [
      "Exception in thread Thread-173:\n",
      "Traceback (most recent call last):\n",
      "  File \"/usr/lib/python3.6/threading.py\", line 916, in _bootstrap_inner\n",
      "    self.run()\n",
      "  File \"<ipython-input-17-29a84bf43199>\", line 24, in run\n",
      "    html = urllib.request.urlopen(targetUrl, proxies={'http':'http://' + self.proxyip})\n",
      "TypeError: urlopen() got an unexpected keyword argument 'proxies'\n",
      "\n"
     ]
    },
    {
     "name": "stdout",
     "output_type": "stream",
     "text": [
      "b'36.248.132.152:26681\\n'\n"
     ]
    },
    {
     "name": "stderr",
     "output_type": "stream",
     "text": [
      "Exception in thread Thread-174:\n",
      "Traceback (most recent call last):\n",
      "  File \"/usr/lib/python3.6/threading.py\", line 916, in _bootstrap_inner\n",
      "    self.run()\n",
      "  File \"<ipython-input-17-29a84bf43199>\", line 24, in run\n",
      "    html = urllib.request.urlopen(targetUrl, proxies={'http':'http://' + self.proxyip})\n",
      "TypeError: urlopen() got an unexpected keyword argument 'proxies'\n",
      "\n"
     ]
    },
    {
     "name": "stdout",
     "output_type": "stream",
     "text": [
      "b'36.248.132.152:26681\\n'\n"
     ]
    },
    {
     "name": "stderr",
     "output_type": "stream",
     "text": [
      "Exception in thread Thread-175:\n",
      "Traceback (most recent call last):\n",
      "  File \"/usr/lib/python3.6/threading.py\", line 916, in _bootstrap_inner\n",
      "    self.run()\n",
      "  File \"<ipython-input-17-29a84bf43199>\", line 24, in run\n",
      "    html = urllib.request.urlopen(targetUrl, proxies={'http':'http://' + self.proxyip})\n",
      "TypeError: urlopen() got an unexpected keyword argument 'proxies'\n",
      "\n"
     ]
    },
    {
     "name": "stdout",
     "output_type": "stream",
     "text": [
      "b'171.211.101.31:17278\\n'\n"
     ]
    },
    {
     "name": "stderr",
     "output_type": "stream",
     "text": [
      "Exception in thread Thread-176:\n",
      "Traceback (most recent call last):\n",
      "  File \"/usr/lib/python3.6/threading.py\", line 916, in _bootstrap_inner\n",
      "    self.run()\n",
      "  File \"<ipython-input-17-29a84bf43199>\", line 24, in run\n",
      "    html = urllib.request.urlopen(targetUrl, proxies={'http':'http://' + self.proxyip})\n",
      "TypeError: urlopen() got an unexpected keyword argument 'proxies'\n",
      "\n"
     ]
    },
    {
     "name": "stdout",
     "output_type": "stream",
     "text": [
      "b'171.211.101.31:17278\\n'\n"
     ]
    },
    {
     "name": "stderr",
     "output_type": "stream",
     "text": [
      "Exception in thread Thread-177:\n",
      "Traceback (most recent call last):\n",
      "  File \"/usr/lib/python3.6/threading.py\", line 916, in _bootstrap_inner\n",
      "    self.run()\n",
      "  File \"<ipython-input-17-29a84bf43199>\", line 24, in run\n",
      "    html = urllib.request.urlopen(targetUrl, proxies={'http':'http://' + self.proxyip})\n",
      "TypeError: urlopen() got an unexpected keyword argument 'proxies'\n",
      "\n"
     ]
    },
    {
     "name": "stdout",
     "output_type": "stream",
     "text": [
      "b'61.130.233.89:27952\\n'\n"
     ]
    },
    {
     "name": "stderr",
     "output_type": "stream",
     "text": [
      "Exception in thread Thread-178:\n",
      "Traceback (most recent call last):\n",
      "  File \"/usr/lib/python3.6/threading.py\", line 916, in _bootstrap_inner\n",
      "    self.run()\n",
      "  File \"<ipython-input-17-29a84bf43199>\", line 24, in run\n",
      "    html = urllib.request.urlopen(targetUrl, proxies={'http':'http://' + self.proxyip})\n",
      "TypeError: urlopen() got an unexpected keyword argument 'proxies'\n",
      "\n"
     ]
    },
    {
     "name": "stdout",
     "output_type": "stream",
     "text": [
      "b'61.130.233.89:27952\\n'\n"
     ]
    },
    {
     "name": "stderr",
     "output_type": "stream",
     "text": [
      "Exception in thread Thread-179:\n",
      "Traceback (most recent call last):\n",
      "  File \"/usr/lib/python3.6/threading.py\", line 916, in _bootstrap_inner\n",
      "    self.run()\n",
      "  File \"<ipython-input-17-29a84bf43199>\", line 24, in run\n",
      "    html = urllib.request.urlopen(targetUrl, proxies={'http':'http://' + self.proxyip})\n",
      "TypeError: urlopen() got an unexpected keyword argument 'proxies'\n",
      "\n"
     ]
    },
    {
     "name": "stdout",
     "output_type": "stream",
     "text": [
      "b'27.184.65.199:22760\\n'\n"
     ]
    },
    {
     "name": "stderr",
     "output_type": "stream",
     "text": [
      "Exception in thread Thread-180:\n",
      "Traceback (most recent call last):\n",
      "  File \"/usr/lib/python3.6/threading.py\", line 916, in _bootstrap_inner\n",
      "    self.run()\n",
      "  File \"<ipython-input-17-29a84bf43199>\", line 24, in run\n",
      "    html = urllib.request.urlopen(targetUrl, proxies={'http':'http://' + self.proxyip})\n",
      "TypeError: urlopen() got an unexpected keyword argument 'proxies'\n",
      "\n"
     ]
    },
    {
     "name": "stdout",
     "output_type": "stream",
     "text": [
      "b'27.184.65.199:22760\\n'\n"
     ]
    },
    {
     "name": "stderr",
     "output_type": "stream",
     "text": [
      "Exception in thread Thread-181:\n",
      "Traceback (most recent call last):\n",
      "  File \"/usr/lib/python3.6/threading.py\", line 916, in _bootstrap_inner\n",
      "    self.run()\n",
      "  File \"<ipython-input-17-29a84bf43199>\", line 24, in run\n",
      "    html = urllib.request.urlopen(targetUrl, proxies={'http':'http://' + self.proxyip})\n",
      "TypeError: urlopen() got an unexpected keyword argument 'proxies'\n",
      "\n"
     ]
    },
    {
     "name": "stdout",
     "output_type": "stream",
     "text": [
      "b'218.91.95.25:39227\\n'\n"
     ]
    },
    {
     "name": "stderr",
     "output_type": "stream",
     "text": [
      "Exception in thread Thread-182:\n",
      "Traceback (most recent call last):\n",
      "  File \"/usr/lib/python3.6/threading.py\", line 916, in _bootstrap_inner\n",
      "    self.run()\n",
      "  File \"<ipython-input-17-29a84bf43199>\", line 24, in run\n",
      "    html = urllib.request.urlopen(targetUrl, proxies={'http':'http://' + self.proxyip})\n",
      "TypeError: urlopen() got an unexpected keyword argument 'proxies'\n",
      "\n"
     ]
    },
    {
     "name": "stdout",
     "output_type": "stream",
     "text": [
      "b'218.91.95.25:39227\\n'\n"
     ]
    },
    {
     "name": "stderr",
     "output_type": "stream",
     "text": [
      "Exception in thread Thread-183:\n",
      "Traceback (most recent call last):\n",
      "  File \"/usr/lib/python3.6/threading.py\", line 916, in _bootstrap_inner\n",
      "    self.run()\n",
      "  File \"<ipython-input-17-29a84bf43199>\", line 24, in run\n",
      "    html = urllib.request.urlopen(targetUrl, proxies={'http':'http://' + self.proxyip})\n",
      "TypeError: urlopen() got an unexpected keyword argument 'proxies'\n",
      "\n"
     ]
    },
    {
     "name": "stdout",
     "output_type": "stream",
     "text": [
      "b'27.204.118.245:22674\\n'\n"
     ]
    },
    {
     "name": "stderr",
     "output_type": "stream",
     "text": [
      "Exception in thread Thread-184:\n",
      "Traceback (most recent call last):\n",
      "  File \"/usr/lib/python3.6/threading.py\", line 916, in _bootstrap_inner\n",
      "    self.run()\n",
      "  File \"<ipython-input-17-29a84bf43199>\", line 24, in run\n",
      "    html = urllib.request.urlopen(targetUrl, proxies={'http':'http://' + self.proxyip})\n",
      "TypeError: urlopen() got an unexpected keyword argument 'proxies'\n",
      "\n"
     ]
    },
    {
     "name": "stdout",
     "output_type": "stream",
     "text": [
      "b'27.204.118.245:22674\\n'\n"
     ]
    },
    {
     "name": "stderr",
     "output_type": "stream",
     "text": [
      "Exception in thread Thread-185:\n",
      "Traceback (most recent call last):\n",
      "  File \"/usr/lib/python3.6/threading.py\", line 916, in _bootstrap_inner\n",
      "    self.run()\n",
      "  File \"<ipython-input-17-29a84bf43199>\", line 24, in run\n",
      "    html = urllib.request.urlopen(targetUrl, proxies={'http':'http://' + self.proxyip})\n",
      "TypeError: urlopen() got an unexpected keyword argument 'proxies'\n",
      "\n"
     ]
    },
    {
     "name": "stdout",
     "output_type": "stream",
     "text": [
      "b'182.39.5.183:60255\\n'\n"
     ]
    },
    {
     "name": "stderr",
     "output_type": "stream",
     "text": [
      "Exception in thread Thread-186:\n",
      "Traceback (most recent call last):\n",
      "  File \"/usr/lib/python3.6/threading.py\", line 916, in _bootstrap_inner\n",
      "    self.run()\n",
      "  File \"<ipython-input-17-29a84bf43199>\", line 24, in run\n",
      "    html = urllib.request.urlopen(targetUrl, proxies={'http':'http://' + self.proxyip})\n",
      "TypeError: urlopen() got an unexpected keyword argument 'proxies'\n",
      "\n"
     ]
    },
    {
     "name": "stdout",
     "output_type": "stream",
     "text": [
      "b'182.39.5.183:60255\\n'\n"
     ]
    },
    {
     "name": "stderr",
     "output_type": "stream",
     "text": [
      "Exception in thread Thread-187:\n",
      "Traceback (most recent call last):\n",
      "  File \"/usr/lib/python3.6/threading.py\", line 916, in _bootstrap_inner\n",
      "    self.run()\n",
      "  File \"<ipython-input-17-29a84bf43199>\", line 24, in run\n",
      "    html = urllib.request.urlopen(targetUrl, proxies={'http':'http://' + self.proxyip})\n",
      "TypeError: urlopen() got an unexpected keyword argument 'proxies'\n",
      "\n"
     ]
    },
    {
     "name": "stdout",
     "output_type": "stream",
     "text": [
      "b'117.66.221.203:51805\\n'\n"
     ]
    },
    {
     "name": "stderr",
     "output_type": "stream",
     "text": [
      "Exception in thread Thread-188:\n",
      "Traceback (most recent call last):\n",
      "  File \"/usr/lib/python3.6/threading.py\", line 916, in _bootstrap_inner\n",
      "    self.run()\n",
      "  File \"<ipython-input-17-29a84bf43199>\", line 24, in run\n",
      "    html = urllib.request.urlopen(targetUrl, proxies={'http':'http://' + self.proxyip})\n",
      "TypeError: urlopen() got an unexpected keyword argument 'proxies'\n",
      "\n"
     ]
    },
    {
     "name": "stdout",
     "output_type": "stream",
     "text": [
      "b'117.66.221.203:51805\\n'\n"
     ]
    },
    {
     "name": "stderr",
     "output_type": "stream",
     "text": [
      "Exception in thread Thread-189:\n",
      "Traceback (most recent call last):\n",
      "  File \"/usr/lib/python3.6/threading.py\", line 916, in _bootstrap_inner\n",
      "    self.run()\n",
      "  File \"<ipython-input-17-29a84bf43199>\", line 24, in run\n",
      "    html = urllib.request.urlopen(targetUrl, proxies={'http':'http://' + self.proxyip})\n",
      "TypeError: urlopen() got an unexpected keyword argument 'proxies'\n",
      "\n"
     ]
    },
    {
     "name": "stdout",
     "output_type": "stream",
     "text": [
      "b'49.65.160.24:64579\\n'\n"
     ]
    },
    {
     "name": "stderr",
     "output_type": "stream",
     "text": [
      "Exception in thread Thread-190:\n",
      "Traceback (most recent call last):\n",
      "  File \"/usr/lib/python3.6/threading.py\", line 916, in _bootstrap_inner\n",
      "    self.run()\n",
      "  File \"<ipython-input-17-29a84bf43199>\", line 24, in run\n",
      "    html = urllib.request.urlopen(targetUrl, proxies={'http':'http://' + self.proxyip})\n",
      "TypeError: urlopen() got an unexpected keyword argument 'proxies'\n",
      "\n"
     ]
    },
    {
     "name": "stdout",
     "output_type": "stream",
     "text": [
      "b'49.65.160.24:64579\\n'\n"
     ]
    },
    {
     "name": "stderr",
     "output_type": "stream",
     "text": [
      "Exception in thread Thread-191:\n",
      "Traceback (most recent call last):\n",
      "  File \"/usr/lib/python3.6/threading.py\", line 916, in _bootstrap_inner\n",
      "    self.run()\n",
      "  File \"<ipython-input-17-29a84bf43199>\", line 24, in run\n",
      "    html = urllib.request.urlopen(targetUrl, proxies={'http':'http://' + self.proxyip})\n",
      "TypeError: urlopen() got an unexpected keyword argument 'proxies'\n",
      "\n"
     ]
    },
    {
     "name": "stdout",
     "output_type": "stream",
     "text": [
      "b'121.224.118.94:57507\\n'\n"
     ]
    },
    {
     "name": "stderr",
     "output_type": "stream",
     "text": [
      "Exception in thread Thread-192:\n",
      "Traceback (most recent call last):\n",
      "  File \"/usr/lib/python3.6/threading.py\", line 916, in _bootstrap_inner\n",
      "    self.run()\n",
      "  File \"<ipython-input-17-29a84bf43199>\", line 24, in run\n",
      "    html = urllib.request.urlopen(targetUrl, proxies={'http':'http://' + self.proxyip})\n",
      "TypeError: urlopen() got an unexpected keyword argument 'proxies'\n",
      "\n"
     ]
    },
    {
     "name": "stdout",
     "output_type": "stream",
     "text": [
      "b'121.224.118.94:57507\\n'\n"
     ]
    },
    {
     "name": "stderr",
     "output_type": "stream",
     "text": [
      "Exception in thread Thread-193:\n",
      "Traceback (most recent call last):\n",
      "  File \"/usr/lib/python3.6/threading.py\", line 916, in _bootstrap_inner\n",
      "    self.run()\n",
      "  File \"<ipython-input-17-29a84bf43199>\", line 24, in run\n",
      "    html = urllib.request.urlopen(targetUrl, proxies={'http':'http://' + self.proxyip})\n",
      "TypeError: urlopen() got an unexpected keyword argument 'proxies'\n",
      "\n"
     ]
    },
    {
     "name": "stdout",
     "output_type": "stream",
     "text": [
      "b'221.229.47.216:39704\\n'\n"
     ]
    },
    {
     "name": "stderr",
     "output_type": "stream",
     "text": [
      "Exception in thread Thread-194:\n",
      "Traceback (most recent call last):\n",
      "  File \"/usr/lib/python3.6/threading.py\", line 916, in _bootstrap_inner\n",
      "    self.run()\n",
      "  File \"<ipython-input-17-29a84bf43199>\", line 24, in run\n",
      "    html = urllib.request.urlopen(targetUrl, proxies={'http':'http://' + self.proxyip})\n",
      "TypeError: urlopen() got an unexpected keyword argument 'proxies'\n",
      "\n"
     ]
    },
    {
     "name": "stdout",
     "output_type": "stream",
     "text": [
      "b'221.229.47.216:39704\\n'\n"
     ]
    },
    {
     "name": "stderr",
     "output_type": "stream",
     "text": [
      "Exception in thread Thread-195:\n",
      "Traceback (most recent call last):\n",
      "  File \"/usr/lib/python3.6/threading.py\", line 916, in _bootstrap_inner\n",
      "    self.run()\n",
      "  File \"<ipython-input-17-29a84bf43199>\", line 24, in run\n",
      "    html = urllib.request.urlopen(targetUrl, proxies={'http':'http://' + self.proxyip})\n",
      "TypeError: urlopen() got an unexpected keyword argument 'proxies'\n",
      "\n"
     ]
    },
    {
     "name": "stdout",
     "output_type": "stream",
     "text": [
      "b'27.204.172.143:19780\\n'\n"
     ]
    },
    {
     "name": "stderr",
     "output_type": "stream",
     "text": [
      "Exception in thread Thread-196:\n",
      "Traceback (most recent call last):\n",
      "  File \"/usr/lib/python3.6/threading.py\", line 916, in _bootstrap_inner\n",
      "    self.run()\n",
      "  File \"<ipython-input-17-29a84bf43199>\", line 24, in run\n",
      "    html = urllib.request.urlopen(targetUrl, proxies={'http':'http://' + self.proxyip})\n",
      "TypeError: urlopen() got an unexpected keyword argument 'proxies'\n",
      "\n"
     ]
    },
    {
     "name": "stdout",
     "output_type": "stream",
     "text": [
      "b'27.204.172.143:19780\\n'\n"
     ]
    },
    {
     "name": "stderr",
     "output_type": "stream",
     "text": [
      "Exception in thread Thread-197:\n",
      "Traceback (most recent call last):\n",
      "  File \"/usr/lib/python3.6/threading.py\", line 916, in _bootstrap_inner\n",
      "    self.run()\n",
      "  File \"<ipython-input-17-29a84bf43199>\", line 24, in run\n",
      "    html = urllib.request.urlopen(targetUrl, proxies={'http':'http://' + self.proxyip})\n",
      "TypeError: urlopen() got an unexpected keyword argument 'proxies'\n",
      "\n"
     ]
    },
    {
     "name": "stdout",
     "output_type": "stream",
     "text": [
      "b'121.236.178.87:34701\\n'\n"
     ]
    },
    {
     "name": "stderr",
     "output_type": "stream",
     "text": [
      "Exception in thread Thread-198:\n",
      "Traceback (most recent call last):\n",
      "  File \"/usr/lib/python3.6/threading.py\", line 916, in _bootstrap_inner\n",
      "    self.run()\n",
      "  File \"<ipython-input-17-29a84bf43199>\", line 24, in run\n",
      "    html = urllib.request.urlopen(targetUrl, proxies={'http':'http://' + self.proxyip})\n",
      "TypeError: urlopen() got an unexpected keyword argument 'proxies'\n",
      "\n"
     ]
    },
    {
     "name": "stdout",
     "output_type": "stream",
     "text": [
      "b'121.236.178.87:34701\\n'\n"
     ]
    },
    {
     "name": "stderr",
     "output_type": "stream",
     "text": [
      "Exception in thread Thread-199:\n",
      "Traceback (most recent call last):\n",
      "  File \"/usr/lib/python3.6/threading.py\", line 916, in _bootstrap_inner\n",
      "    self.run()\n",
      "  File \"<ipython-input-17-29a84bf43199>\", line 24, in run\n",
      "    html = urllib.request.urlopen(targetUrl, proxies={'http':'http://' + self.proxyip})\n",
      "TypeError: urlopen() got an unexpected keyword argument 'proxies'\n",
      "\n"
     ]
    },
    {
     "name": "stdout",
     "output_type": "stream",
     "text": [
      "b'101.205.86.50:49459\\n'\n"
     ]
    },
    {
     "name": "stderr",
     "output_type": "stream",
     "text": [
      "Exception in thread Thread-200:\n",
      "Traceback (most recent call last):\n",
      "  File \"/usr/lib/python3.6/threading.py\", line 916, in _bootstrap_inner\n",
      "    self.run()\n",
      "  File \"<ipython-input-17-29a84bf43199>\", line 24, in run\n",
      "    html = urllib.request.urlopen(targetUrl, proxies={'http':'http://' + self.proxyip})\n",
      "TypeError: urlopen() got an unexpected keyword argument 'proxies'\n",
      "\n"
     ]
    },
    {
     "name": "stdout",
     "output_type": "stream",
     "text": [
      "b'101.205.86.50:49459\\n'\n"
     ]
    },
    {
     "name": "stderr",
     "output_type": "stream",
     "text": [
      "Exception in thread Thread-201:\n",
      "Traceback (most recent call last):\n",
      "  File \"/usr/lib/python3.6/threading.py\", line 916, in _bootstrap_inner\n",
      "    self.run()\n",
      "  File \"<ipython-input-17-29a84bf43199>\", line 24, in run\n",
      "    html = urllib.request.urlopen(targetUrl, proxies={'http':'http://' + self.proxyip})\n",
      "TypeError: urlopen() got an unexpected keyword argument 'proxies'\n",
      "\n"
     ]
    },
    {
     "name": "stdout",
     "output_type": "stream",
     "text": [
      "b'122.4.28.232:61977\\n'\n"
     ]
    },
    {
     "name": "stderr",
     "output_type": "stream",
     "text": [
      "Exception in thread Thread-202:\n",
      "Traceback (most recent call last):\n",
      "  File \"/usr/lib/python3.6/threading.py\", line 916, in _bootstrap_inner\n",
      "    self.run()\n",
      "  File \"<ipython-input-17-29a84bf43199>\", line 24, in run\n",
      "    html = urllib.request.urlopen(targetUrl, proxies={'http':'http://' + self.proxyip})\n",
      "TypeError: urlopen() got an unexpected keyword argument 'proxies'\n",
      "\n"
     ]
    },
    {
     "name": "stdout",
     "output_type": "stream",
     "text": [
      "b'122.4.28.232:61977\\n'\n"
     ]
    },
    {
     "name": "stderr",
     "output_type": "stream",
     "text": [
      "Exception in thread Thread-203:\n",
      "Traceback (most recent call last):\n",
      "  File \"/usr/lib/python3.6/threading.py\", line 916, in _bootstrap_inner\n",
      "    self.run()\n",
      "  File \"<ipython-input-17-29a84bf43199>\", line 24, in run\n",
      "    html = urllib.request.urlopen(targetUrl, proxies={'http':'http://' + self.proxyip})\n",
      "TypeError: urlopen() got an unexpected keyword argument 'proxies'\n",
      "\n"
     ]
    },
    {
     "name": "stdout",
     "output_type": "stream",
     "text": [
      "b'175.7.198.12:21247\\n'\n"
     ]
    },
    {
     "name": "stderr",
     "output_type": "stream",
     "text": [
      "Exception in thread Thread-204:\n",
      "Traceback (most recent call last):\n",
      "  File \"/usr/lib/python3.6/threading.py\", line 916, in _bootstrap_inner\n",
      "    self.run()\n",
      "  File \"<ipython-input-17-29a84bf43199>\", line 24, in run\n",
      "    html = urllib.request.urlopen(targetUrl, proxies={'http':'http://' + self.proxyip})\n",
      "TypeError: urlopen() got an unexpected keyword argument 'proxies'\n",
      "\n"
     ]
    },
    {
     "name": "stdout",
     "output_type": "stream",
     "text": [
      "b'175.7.198.12:21247\\n'\n"
     ]
    },
    {
     "name": "stderr",
     "output_type": "stream",
     "text": [
      "Exception in thread Thread-205:\n",
      "Traceback (most recent call last):\n",
      "  File \"/usr/lib/python3.6/threading.py\", line 916, in _bootstrap_inner\n",
      "    self.run()\n",
      "  File \"<ipython-input-17-29a84bf43199>\", line 24, in run\n",
      "    html = urllib.request.urlopen(targetUrl, proxies={'http':'http://' + self.proxyip})\n",
      "TypeError: urlopen() got an unexpected keyword argument 'proxies'\n",
      "\n"
     ]
    },
    {
     "name": "stdout",
     "output_type": "stream",
     "text": [
      "b'27.204.172.143:19780\\n'\n"
     ]
    },
    {
     "name": "stderr",
     "output_type": "stream",
     "text": [
      "Exception in thread Thread-206:\n",
      "Traceback (most recent call last):\n",
      "  File \"/usr/lib/python3.6/threading.py\", line 916, in _bootstrap_inner\n",
      "    self.run()\n",
      "  File \"<ipython-input-17-29a84bf43199>\", line 24, in run\n",
      "    html = urllib.request.urlopen(targetUrl, proxies={'http':'http://' + self.proxyip})\n",
      "TypeError: urlopen() got an unexpected keyword argument 'proxies'\n",
      "\n"
     ]
    },
    {
     "name": "stdout",
     "output_type": "stream",
     "text": [
      "b'27.204.172.143:19780\\n'\n"
     ]
    },
    {
     "name": "stderr",
     "output_type": "stream",
     "text": [
      "Exception in thread Thread-207:\n",
      "Traceback (most recent call last):\n",
      "  File \"/usr/lib/python3.6/threading.py\", line 916, in _bootstrap_inner\n",
      "    self.run()\n",
      "  File \"<ipython-input-17-29a84bf43199>\", line 24, in run\n",
      "    html = urllib.request.urlopen(targetUrl, proxies={'http':'http://' + self.proxyip})\n",
      "TypeError: urlopen() got an unexpected keyword argument 'proxies'\n",
      "\n"
     ]
    },
    {
     "name": "stdout",
     "output_type": "stream",
     "text": [
      "b'175.42.123.30:58080\\n'\n"
     ]
    },
    {
     "name": "stderr",
     "output_type": "stream",
     "text": [
      "Exception in thread Thread-208:\n",
      "Traceback (most recent call last):\n",
      "  File \"/usr/lib/python3.6/threading.py\", line 916, in _bootstrap_inner\n",
      "    self.run()\n",
      "  File \"<ipython-input-17-29a84bf43199>\", line 24, in run\n",
      "    html = urllib.request.urlopen(targetUrl, proxies={'http':'http://' + self.proxyip})\n",
      "TypeError: urlopen() got an unexpected keyword argument 'proxies'\n",
      "\n"
     ]
    },
    {
     "name": "stdout",
     "output_type": "stream",
     "text": [
      "b'175.42.123.30:58080\\n'\n"
     ]
    },
    {
     "name": "stderr",
     "output_type": "stream",
     "text": [
      "Exception in thread Thread-209:\n",
      "Traceback (most recent call last):\n",
      "  File \"/usr/lib/python3.6/threading.py\", line 916, in _bootstrap_inner\n",
      "    self.run()\n",
      "  File \"<ipython-input-17-29a84bf43199>\", line 24, in run\n",
      "    html = urllib.request.urlopen(targetUrl, proxies={'http':'http://' + self.proxyip})\n",
      "TypeError: urlopen() got an unexpected keyword argument 'proxies'\n",
      "\n"
     ]
    },
    {
     "name": "stdout",
     "output_type": "stream",
     "text": [
      "b'180.120.213.214:51391\\n'\n"
     ]
    },
    {
     "name": "stderr",
     "output_type": "stream",
     "text": [
      "Exception in thread Thread-210:\n",
      "Traceback (most recent call last):\n",
      "  File \"/usr/lib/python3.6/threading.py\", line 916, in _bootstrap_inner\n",
      "    self.run()\n",
      "  File \"<ipython-input-17-29a84bf43199>\", line 24, in run\n",
      "    html = urllib.request.urlopen(targetUrl, proxies={'http':'http://' + self.proxyip})\n",
      "TypeError: urlopen() got an unexpected keyword argument 'proxies'\n",
      "\n"
     ]
    },
    {
     "name": "stdout",
     "output_type": "stream",
     "text": [
      "b'180.120.213.214:51391\\n'\n"
     ]
    },
    {
     "name": "stderr",
     "output_type": "stream",
     "text": [
      "Exception in thread Thread-211:\n",
      "Traceback (most recent call last):\n",
      "  File \"/usr/lib/python3.6/threading.py\", line 916, in _bootstrap_inner\n",
      "    self.run()\n",
      "  File \"<ipython-input-17-29a84bf43199>\", line 24, in run\n",
      "    html = urllib.request.urlopen(targetUrl, proxies={'http':'http://' + self.proxyip})\n",
      "TypeError: urlopen() got an unexpected keyword argument 'proxies'\n",
      "\n"
     ]
    },
    {
     "name": "stdout",
     "output_type": "stream",
     "text": [
      "b'101.205.86.50:49459\\n'\n"
     ]
    },
    {
     "name": "stderr",
     "output_type": "stream",
     "text": [
      "Exception in thread Thread-212:\n",
      "Traceback (most recent call last):\n",
      "  File \"/usr/lib/python3.6/threading.py\", line 916, in _bootstrap_inner\n",
      "    self.run()\n",
      "  File \"<ipython-input-17-29a84bf43199>\", line 24, in run\n",
      "    html = urllib.request.urlopen(targetUrl, proxies={'http':'http://' + self.proxyip})\n",
      "TypeError: urlopen() got an unexpected keyword argument 'proxies'\n",
      "\n"
     ]
    },
    {
     "name": "stdout",
     "output_type": "stream",
     "text": [
      "b'101.205.86.50:49459\\n'\n"
     ]
    },
    {
     "name": "stderr",
     "output_type": "stream",
     "text": [
      "Exception in thread Thread-213:\n",
      "Traceback (most recent call last):\n",
      "  File \"/usr/lib/python3.6/threading.py\", line 916, in _bootstrap_inner\n",
      "    self.run()\n",
      "  File \"<ipython-input-17-29a84bf43199>\", line 24, in run\n",
      "    html = urllib.request.urlopen(targetUrl, proxies={'http':'http://' + self.proxyip})\n",
      "TypeError: urlopen() got an unexpected keyword argument 'proxies'\n",
      "\n"
     ]
    },
    {
     "name": "stdout",
     "output_type": "stream",
     "text": [
      "b'27.204.172.143:19780\\n'\n"
     ]
    },
    {
     "name": "stderr",
     "output_type": "stream",
     "text": [
      "Exception in thread Thread-214:\n",
      "Traceback (most recent call last):\n",
      "  File \"/usr/lib/python3.6/threading.py\", line 916, in _bootstrap_inner\n",
      "    self.run()\n",
      "  File \"<ipython-input-17-29a84bf43199>\", line 24, in run\n",
      "    html = urllib.request.urlopen(targetUrl, proxies={'http':'http://' + self.proxyip})\n",
      "TypeError: urlopen() got an unexpected keyword argument 'proxies'\n",
      "\n"
     ]
    },
    {
     "name": "stdout",
     "output_type": "stream",
     "text": [
      "b'27.204.172.143:19780\\n'\n"
     ]
    },
    {
     "name": "stderr",
     "output_type": "stream",
     "text": [
      "Exception in thread Thread-215:\n",
      "Traceback (most recent call last):\n",
      "  File \"/usr/lib/python3.6/threading.py\", line 916, in _bootstrap_inner\n",
      "    self.run()\n",
      "  File \"<ipython-input-17-29a84bf43199>\", line 24, in run\n",
      "    html = urllib.request.urlopen(targetUrl, proxies={'http':'http://' + self.proxyip})\n",
      "TypeError: urlopen() got an unexpected keyword argument 'proxies'\n",
      "\n"
     ]
    },
    {
     "name": "stdout",
     "output_type": "stream",
     "text": [
      "b'122.246.54.31:50946\\n'\n"
     ]
    },
    {
     "name": "stderr",
     "output_type": "stream",
     "text": [
      "Exception in thread Thread-216:\n",
      "Traceback (most recent call last):\n",
      "  File \"/usr/lib/python3.6/threading.py\", line 916, in _bootstrap_inner\n",
      "    self.run()\n",
      "  File \"<ipython-input-17-29a84bf43199>\", line 24, in run\n",
      "    html = urllib.request.urlopen(targetUrl, proxies={'http':'http://' + self.proxyip})\n",
      "TypeError: urlopen() got an unexpected keyword argument 'proxies'\n",
      "\n"
     ]
    },
    {
     "name": "stdout",
     "output_type": "stream",
     "text": [
      "b'122.246.54.31:50946\\n'\n"
     ]
    },
    {
     "name": "stderr",
     "output_type": "stream",
     "text": [
      "Exception in thread Thread-217:\n",
      "Traceback (most recent call last):\n",
      "  File \"/usr/lib/python3.6/threading.py\", line 916, in _bootstrap_inner\n",
      "    self.run()\n",
      "  File \"<ipython-input-17-29a84bf43199>\", line 24, in run\n",
      "    html = urllib.request.urlopen(targetUrl, proxies={'http':'http://' + self.proxyip})\n",
      "TypeError: urlopen() got an unexpected keyword argument 'proxies'\n",
      "\n"
     ]
    },
    {
     "name": "stdout",
     "output_type": "stream",
     "text": [
      "b'180.122.146.104:53993\\n'\n"
     ]
    },
    {
     "name": "stderr",
     "output_type": "stream",
     "text": [
      "Exception in thread Thread-218:\n",
      "Traceback (most recent call last):\n",
      "  File \"/usr/lib/python3.6/threading.py\", line 916, in _bootstrap_inner\n",
      "    self.run()\n",
      "  File \"<ipython-input-17-29a84bf43199>\", line 24, in run\n",
      "    html = urllib.request.urlopen(targetUrl, proxies={'http':'http://' + self.proxyip})\n",
      "TypeError: urlopen() got an unexpected keyword argument 'proxies'\n",
      "\n"
     ]
    },
    {
     "name": "stdout",
     "output_type": "stream",
     "text": [
      "b'180.122.146.104:53993\\n'\n"
     ]
    },
    {
     "name": "stderr",
     "output_type": "stream",
     "text": [
      "Exception in thread Thread-219:\n",
      "Traceback (most recent call last):\n",
      "  File \"/usr/lib/python3.6/threading.py\", line 916, in _bootstrap_inner\n",
      "    self.run()\n",
      "  File \"<ipython-input-17-29a84bf43199>\", line 24, in run\n",
      "    html = urllib.request.urlopen(targetUrl, proxies={'http':'http://' + self.proxyip})\n",
      "TypeError: urlopen() got an unexpected keyword argument 'proxies'\n",
      "\n"
     ]
    },
    {
     "name": "stdout",
     "output_type": "stream",
     "text": [
      "b'114.101.138.72:34694\\n'\n"
     ]
    },
    {
     "name": "stderr",
     "output_type": "stream",
     "text": [
      "Exception in thread Thread-220:\n",
      "Traceback (most recent call last):\n",
      "  File \"/usr/lib/python3.6/threading.py\", line 916, in _bootstrap_inner\n",
      "    self.run()\n",
      "  File \"<ipython-input-17-29a84bf43199>\", line 24, in run\n",
      "    html = urllib.request.urlopen(targetUrl, proxies={'http':'http://' + self.proxyip})\n",
      "TypeError: urlopen() got an unexpected keyword argument 'proxies'\n",
      "\n"
     ]
    },
    {
     "name": "stdout",
     "output_type": "stream",
     "text": [
      "b'114.101.138.72:34694\\n'\n"
     ]
    },
    {
     "name": "stderr",
     "output_type": "stream",
     "text": [
      "Exception in thread Thread-221:\n",
      "Traceback (most recent call last):\n",
      "  File \"/usr/lib/python3.6/threading.py\", line 916, in _bootstrap_inner\n",
      "    self.run()\n",
      "  File \"<ipython-input-17-29a84bf43199>\", line 24, in run\n",
      "    html = urllib.request.urlopen(targetUrl, proxies={'http':'http://' + self.proxyip})\n",
      "TypeError: urlopen() got an unexpected keyword argument 'proxies'\n",
      "\n"
     ]
    },
    {
     "name": "stdout",
     "output_type": "stream",
     "text": [
      "b'113.58.234.19:62137\\n'\n"
     ]
    },
    {
     "name": "stderr",
     "output_type": "stream",
     "text": [
      "Exception in thread Thread-222:\n",
      "Traceback (most recent call last):\n",
      "  File \"/usr/lib/python3.6/threading.py\", line 916, in _bootstrap_inner\n",
      "    self.run()\n",
      "  File \"<ipython-input-17-29a84bf43199>\", line 24, in run\n",
      "    html = urllib.request.urlopen(targetUrl, proxies={'http':'http://' + self.proxyip})\n",
      "TypeError: urlopen() got an unexpected keyword argument 'proxies'\n",
      "\n"
     ]
    },
    {
     "name": "stdout",
     "output_type": "stream",
     "text": [
      "b'113.58.234.19:62137\\n'\n"
     ]
    },
    {
     "name": "stderr",
     "output_type": "stream",
     "text": [
      "Exception in thread Thread-223:\n",
      "Traceback (most recent call last):\n",
      "  File \"/usr/lib/python3.6/threading.py\", line 916, in _bootstrap_inner\n",
      "    self.run()\n",
      "  File \"<ipython-input-17-29a84bf43199>\", line 24, in run\n",
      "    html = urllib.request.urlopen(targetUrl, proxies={'http':'http://' + self.proxyip})\n",
      "TypeError: urlopen() got an unexpected keyword argument 'proxies'\n",
      "\n"
     ]
    },
    {
     "name": "stdout",
     "output_type": "stream",
     "text": [
      "b'123.180.71.254:39934\\n'\n"
     ]
    },
    {
     "name": "stderr",
     "output_type": "stream",
     "text": [
      "Exception in thread Thread-224:\n",
      "Traceback (most recent call last):\n",
      "  File \"/usr/lib/python3.6/threading.py\", line 916, in _bootstrap_inner\n",
      "    self.run()\n",
      "  File \"<ipython-input-17-29a84bf43199>\", line 24, in run\n",
      "    html = urllib.request.urlopen(targetUrl, proxies={'http':'http://' + self.proxyip})\n",
      "TypeError: urlopen() got an unexpected keyword argument 'proxies'\n",
      "\n"
     ]
    },
    {
     "name": "stdout",
     "output_type": "stream",
     "text": [
      "b'123.180.71.254:39934\\n'\n"
     ]
    },
    {
     "name": "stderr",
     "output_type": "stream",
     "text": [
      "Exception in thread Thread-225:\n",
      "Traceback (most recent call last):\n",
      "  File \"/usr/lib/python3.6/threading.py\", line 916, in _bootstrap_inner\n",
      "    self.run()\n",
      "  File \"<ipython-input-17-29a84bf43199>\", line 24, in run\n",
      "    html = urllib.request.urlopen(targetUrl, proxies={'http':'http://' + self.proxyip})\n",
      "TypeError: urlopen() got an unexpected keyword argument 'proxies'\n",
      "\n"
     ]
    },
    {
     "name": "stdout",
     "output_type": "stream",
     "text": [
      "b'171.13.85.233:45436\\n'\n"
     ]
    },
    {
     "name": "stderr",
     "output_type": "stream",
     "text": [
      "Exception in thread Thread-226:\n",
      "Traceback (most recent call last):\n",
      "  File \"/usr/lib/python3.6/threading.py\", line 916, in _bootstrap_inner\n",
      "    self.run()\n",
      "  File \"<ipython-input-17-29a84bf43199>\", line 24, in run\n",
      "    html = urllib.request.urlopen(targetUrl, proxies={'http':'http://' + self.proxyip})\n",
      "TypeError: urlopen() got an unexpected keyword argument 'proxies'\n",
      "\n"
     ]
    },
    {
     "name": "stdout",
     "output_type": "stream",
     "text": [
      "b'171.13.85.233:45436\\n'\n"
     ]
    },
    {
     "name": "stderr",
     "output_type": "stream",
     "text": [
      "Exception in thread Thread-227:\n",
      "Traceback (most recent call last):\n",
      "  File \"/usr/lib/python3.6/threading.py\", line 916, in _bootstrap_inner\n",
      "    self.run()\n",
      "  File \"<ipython-input-17-29a84bf43199>\", line 24, in run\n",
      "    html = urllib.request.urlopen(targetUrl, proxies={'http':'http://' + self.proxyip})\n",
      "TypeError: urlopen() got an unexpected keyword argument 'proxies'\n",
      "\n"
     ]
    },
    {
     "name": "stdout",
     "output_type": "stream",
     "text": [
      "b'115.204.39.82:43746\\n'\n"
     ]
    },
    {
     "name": "stderr",
     "output_type": "stream",
     "text": [
      "Exception in thread Thread-228:\n",
      "Traceback (most recent call last):\n",
      "  File \"/usr/lib/python3.6/threading.py\", line 916, in _bootstrap_inner\n",
      "    self.run()\n",
      "  File \"<ipython-input-17-29a84bf43199>\", line 24, in run\n",
      "    html = urllib.request.urlopen(targetUrl, proxies={'http':'http://' + self.proxyip})\n",
      "TypeError: urlopen() got an unexpected keyword argument 'proxies'\n",
      "\n"
     ]
    },
    {
     "name": "stdout",
     "output_type": "stream",
     "text": [
      "b'115.204.39.82:43746\\n'\n"
     ]
    },
    {
     "name": "stderr",
     "output_type": "stream",
     "text": [
      "Exception in thread Thread-229:\n",
      "Traceback (most recent call last):\n",
      "  File \"/usr/lib/python3.6/threading.py\", line 916, in _bootstrap_inner\n",
      "    self.run()\n",
      "  File \"<ipython-input-17-29a84bf43199>\", line 24, in run\n",
      "    html = urllib.request.urlopen(targetUrl, proxies={'http':'http://' + self.proxyip})\n",
      "TypeError: urlopen() got an unexpected keyword argument 'proxies'\n",
      "\n"
     ]
    },
    {
     "name": "stdout",
     "output_type": "stream",
     "text": [
      "b'125.125.42.214:62176\\n'\n"
     ]
    },
    {
     "name": "stderr",
     "output_type": "stream",
     "text": [
      "Exception in thread Thread-230:\n",
      "Traceback (most recent call last):\n",
      "  File \"/usr/lib/python3.6/threading.py\", line 916, in _bootstrap_inner\n",
      "    self.run()\n",
      "  File \"<ipython-input-17-29a84bf43199>\", line 24, in run\n",
      "    html = urllib.request.urlopen(targetUrl, proxies={'http':'http://' + self.proxyip})\n",
      "TypeError: urlopen() got an unexpected keyword argument 'proxies'\n",
      "\n"
     ]
    },
    {
     "name": "stdout",
     "output_type": "stream",
     "text": [
      "b'125.125.42.214:62176\\n'\n"
     ]
    },
    {
     "name": "stderr",
     "output_type": "stream",
     "text": [
      "Exception in thread Thread-231:\n",
      "Traceback (most recent call last):\n",
      "  File \"/usr/lib/python3.6/threading.py\", line 916, in _bootstrap_inner\n",
      "    self.run()\n",
      "  File \"<ipython-input-17-29a84bf43199>\", line 24, in run\n",
      "    html = urllib.request.urlopen(targetUrl, proxies={'http':'http://' + self.proxyip})\n",
      "TypeError: urlopen() got an unexpected keyword argument 'proxies'\n",
      "\n"
     ]
    },
    {
     "name": "stdout",
     "output_type": "stream",
     "text": [
      "b'59.63.53.192:56563\\n'\n"
     ]
    },
    {
     "name": "stderr",
     "output_type": "stream",
     "text": [
      "Exception in thread Thread-232:\n",
      "Traceback (most recent call last):\n",
      "  File \"/usr/lib/python3.6/threading.py\", line 916, in _bootstrap_inner\n",
      "    self.run()\n",
      "  File \"<ipython-input-17-29a84bf43199>\", line 24, in run\n",
      "    html = urllib.request.urlopen(targetUrl, proxies={'http':'http://' + self.proxyip})\n",
      "TypeError: urlopen() got an unexpected keyword argument 'proxies'\n",
      "\n"
     ]
    },
    {
     "name": "stdout",
     "output_type": "stream",
     "text": [
      "b'59.63.53.192:56563\\n'\n"
     ]
    },
    {
     "name": "stderr",
     "output_type": "stream",
     "text": [
      "Exception in thread Thread-233:\n",
      "Traceback (most recent call last):\n",
      "  File \"/usr/lib/python3.6/threading.py\", line 916, in _bootstrap_inner\n",
      "    self.run()\n",
      "  File \"<ipython-input-17-29a84bf43199>\", line 24, in run\n",
      "    html = urllib.request.urlopen(targetUrl, proxies={'http':'http://' + self.proxyip})\n",
      "TypeError: urlopen() got an unexpected keyword argument 'proxies'\n",
      "\n"
     ]
    },
    {
     "name": "stdout",
     "output_type": "stream",
     "text": [
      "b'49.85.3.66:51367\\n'\n"
     ]
    },
    {
     "name": "stderr",
     "output_type": "stream",
     "text": [
      "Exception in thread Thread-234:\n",
      "Traceback (most recent call last):\n",
      "  File \"/usr/lib/python3.6/threading.py\", line 916, in _bootstrap_inner\n",
      "    self.run()\n",
      "  File \"<ipython-input-17-29a84bf43199>\", line 24, in run\n",
      "    html = urllib.request.urlopen(targetUrl, proxies={'http':'http://' + self.proxyip})\n",
      "TypeError: urlopen() got an unexpected keyword argument 'proxies'\n",
      "\n"
     ]
    },
    {
     "name": "stdout",
     "output_type": "stream",
     "text": [
      "b'49.85.3.66:51367\\n'\n"
     ]
    },
    {
     "name": "stderr",
     "output_type": "stream",
     "text": [
      "Exception in thread Thread-235:\n",
      "Traceback (most recent call last):\n",
      "  File \"/usr/lib/python3.6/threading.py\", line 916, in _bootstrap_inner\n",
      "    self.run()\n",
      "  File \"<ipython-input-17-29a84bf43199>\", line 24, in run\n",
      "    html = urllib.request.urlopen(targetUrl, proxies={'http':'http://' + self.proxyip})\n",
      "TypeError: urlopen() got an unexpected keyword argument 'proxies'\n",
      "\n"
     ]
    },
    {
     "name": "stdout",
     "output_type": "stream",
     "text": [
      "b'1.196.158.216:18719\\n'\n"
     ]
    },
    {
     "name": "stderr",
     "output_type": "stream",
     "text": [
      "Exception in thread Thread-236:\n",
      "Traceback (most recent call last):\n",
      "  File \"/usr/lib/python3.6/threading.py\", line 916, in _bootstrap_inner\n",
      "    self.run()\n",
      "  File \"<ipython-input-17-29a84bf43199>\", line 24, in run\n",
      "    html = urllib.request.urlopen(targetUrl, proxies={'http':'http://' + self.proxyip})\n",
      "TypeError: urlopen() got an unexpected keyword argument 'proxies'\n",
      "\n"
     ]
    },
    {
     "name": "stdout",
     "output_type": "stream",
     "text": [
      "b'1.196.158.216:18719\\n'\n"
     ]
    },
    {
     "name": "stderr",
     "output_type": "stream",
     "text": [
      "Exception in thread Thread-237:\n",
      "Traceback (most recent call last):\n",
      "  File \"/usr/lib/python3.6/threading.py\", line 916, in _bootstrap_inner\n",
      "    self.run()\n",
      "  File \"<ipython-input-17-29a84bf43199>\", line 24, in run\n",
      "    html = urllib.request.urlopen(targetUrl, proxies={'http':'http://' + self.proxyip})\n",
      "TypeError: urlopen() got an unexpected keyword argument 'proxies'\n",
      "\n"
     ]
    },
    {
     "name": "stdout",
     "output_type": "stream",
     "text": [
      "b'182.39.2.147:22429\\n'\n"
     ]
    },
    {
     "name": "stderr",
     "output_type": "stream",
     "text": [
      "Exception in thread Thread-238:\n",
      "Traceback (most recent call last):\n",
      "  File \"/usr/lib/python3.6/threading.py\", line 916, in _bootstrap_inner\n",
      "    self.run()\n",
      "  File \"<ipython-input-17-29a84bf43199>\", line 24, in run\n",
      "    html = urllib.request.urlopen(targetUrl, proxies={'http':'http://' + self.proxyip})\n",
      "TypeError: urlopen() got an unexpected keyword argument 'proxies'\n",
      "\n"
     ]
    },
    {
     "name": "stdout",
     "output_type": "stream",
     "text": [
      "b'182.39.2.147:22429\\n'\n"
     ]
    },
    {
     "name": "stderr",
     "output_type": "stream",
     "text": [
      "Exception in thread Thread-239:\n",
      "Traceback (most recent call last):\n",
      "  File \"/usr/lib/python3.6/threading.py\", line 916, in _bootstrap_inner\n",
      "    self.run()\n",
      "  File \"<ipython-input-17-29a84bf43199>\", line 24, in run\n",
      "    html = urllib.request.urlopen(targetUrl, proxies={'http':'http://' + self.proxyip})\n",
      "TypeError: urlopen() got an unexpected keyword argument 'proxies'\n",
      "\n"
     ]
    },
    {
     "name": "stdout",
     "output_type": "stream",
     "text": [
      "b'114.217.206.13:17853\\n'\n"
     ]
    },
    {
     "name": "stderr",
     "output_type": "stream",
     "text": [
      "Exception in thread Thread-240:\n",
      "Traceback (most recent call last):\n",
      "  File \"/usr/lib/python3.6/threading.py\", line 916, in _bootstrap_inner\n",
      "    self.run()\n",
      "  File \"<ipython-input-17-29a84bf43199>\", line 24, in run\n",
      "    html = urllib.request.urlopen(targetUrl, proxies={'http':'http://' + self.proxyip})\n",
      "TypeError: urlopen() got an unexpected keyword argument 'proxies'\n",
      "\n"
     ]
    },
    {
     "name": "stdout",
     "output_type": "stream",
     "text": [
      "b'114.217.206.13:17853\\n'\n"
     ]
    },
    {
     "name": "stderr",
     "output_type": "stream",
     "text": [
      "Exception in thread Thread-241:\n",
      "Traceback (most recent call last):\n",
      "  File \"/usr/lib/python3.6/threading.py\", line 916, in _bootstrap_inner\n",
      "    self.run()\n",
      "  File \"<ipython-input-17-29a84bf43199>\", line 24, in run\n",
      "    html = urllib.request.urlopen(targetUrl, proxies={'http':'http://' + self.proxyip})\n",
      "TypeError: urlopen() got an unexpected keyword argument 'proxies'\n",
      "\n"
     ]
    },
    {
     "name": "stdout",
     "output_type": "stream",
     "text": [
      "b'27.204.126.204:16861\\n'\n"
     ]
    },
    {
     "name": "stderr",
     "output_type": "stream",
     "text": [
      "Exception in thread Thread-242:\n",
      "Traceback (most recent call last):\n",
      "  File \"/usr/lib/python3.6/threading.py\", line 916, in _bootstrap_inner\n",
      "    self.run()\n",
      "  File \"<ipython-input-17-29a84bf43199>\", line 24, in run\n",
      "    html = urllib.request.urlopen(targetUrl, proxies={'http':'http://' + self.proxyip})\n",
      "TypeError: urlopen() got an unexpected keyword argument 'proxies'\n",
      "\n"
     ]
    },
    {
     "name": "stdout",
     "output_type": "stream",
     "text": [
      "b'27.204.126.204:16861\\n'\n"
     ]
    },
    {
     "name": "stderr",
     "output_type": "stream",
     "text": [
      "Exception in thread Thread-243:\n",
      "Traceback (most recent call last):\n",
      "  File \"/usr/lib/python3.6/threading.py\", line 916, in _bootstrap_inner\n",
      "    self.run()\n",
      "  File \"<ipython-input-17-29a84bf43199>\", line 24, in run\n",
      "    html = urllib.request.urlopen(targetUrl, proxies={'http':'http://' + self.proxyip})\n",
      "TypeError: urlopen() got an unexpected keyword argument 'proxies'\n",
      "\n"
     ]
    },
    {
     "name": "stdout",
     "output_type": "stream",
     "text": [
      "b'171.8.171.239:22874\\n'\n"
     ]
    },
    {
     "name": "stderr",
     "output_type": "stream",
     "text": [
      "Exception in thread Thread-244:\n",
      "Traceback (most recent call last):\n",
      "  File \"/usr/lib/python3.6/threading.py\", line 916, in _bootstrap_inner\n",
      "    self.run()\n",
      "  File \"<ipython-input-17-29a84bf43199>\", line 24, in run\n",
      "    html = urllib.request.urlopen(targetUrl, proxies={'http':'http://' + self.proxyip})\n",
      "TypeError: urlopen() got an unexpected keyword argument 'proxies'\n",
      "\n"
     ]
    },
    {
     "name": "stdout",
     "output_type": "stream",
     "text": [
      "b'171.8.171.239:22874\\n'\n"
     ]
    },
    {
     "name": "stderr",
     "output_type": "stream",
     "text": [
      "Exception in thread Thread-245:\n",
      "Traceback (most recent call last):\n",
      "  File \"/usr/lib/python3.6/threading.py\", line 916, in _bootstrap_inner\n",
      "    self.run()\n",
      "  File \"<ipython-input-17-29a84bf43199>\", line 24, in run\n",
      "    html = urllib.request.urlopen(targetUrl, proxies={'http':'http://' + self.proxyip})\n",
      "TypeError: urlopen() got an unexpected keyword argument 'proxies'\n",
      "\n"
     ]
    },
    {
     "name": "stdout",
     "output_type": "stream",
     "text": [
      "b'1.194.178.10:13732\\n'\n",
      "b'1.194.178.10:13732\\n'\n"
     ]
    },
    {
     "name": "stderr",
     "output_type": "stream",
     "text": [
      "Exception in thread Thread-246:\n",
      "Traceback (most recent call last):\n",
      "  File \"/usr/lib/python3.6/threading.py\", line 916, in _bootstrap_inner\n",
      "    self.run()\n",
      "  File \"<ipython-input-17-29a84bf43199>\", line 24, in run\n",
      "    html = urllib.request.urlopen(targetUrl, proxies={'http':'http://' + self.proxyip})\n",
      "TypeError: urlopen() got an unexpected keyword argument 'proxies'\n",
      "\n",
      "Exception in thread Thread-247:\n",
      "Traceback (most recent call last):\n",
      "  File \"/usr/lib/python3.6/threading.py\", line 916, in _bootstrap_inner\n",
      "    self.run()\n",
      "  File \"<ipython-input-17-29a84bf43199>\", line 24, in run\n",
      "    html = urllib.request.urlopen(targetUrl, proxies={'http':'http://' + self.proxyip})\n",
      "TypeError: urlopen() got an unexpected keyword argument 'proxies'\n",
      "\n"
     ]
    },
    {
     "name": "stdout",
     "output_type": "stream",
     "text": [
      "b'218.13.225.249:16725\\n'\n",
      "b'218.13.225.249:16725\\n'\n"
     ]
    },
    {
     "name": "stderr",
     "output_type": "stream",
     "text": [
      "Exception in thread Thread-248:\n",
      "Traceback (most recent call last):\n",
      "  File \"/usr/lib/python3.6/threading.py\", line 916, in _bootstrap_inner\n",
      "    self.run()\n",
      "  File \"<ipython-input-17-29a84bf43199>\", line 24, in run\n",
      "    html = urllib.request.urlopen(targetUrl, proxies={'http':'http://' + self.proxyip})\n",
      "TypeError: urlopen() got an unexpected keyword argument 'proxies'\n",
      "\n",
      "Exception in thread Thread-249:\n",
      "Traceback (most recent call last):\n",
      "  File \"/usr/lib/python3.6/threading.py\", line 916, in _bootstrap_inner\n",
      "    self.run()\n",
      "  File \"<ipython-input-17-29a84bf43199>\", line 24, in run\n",
      "    html = urllib.request.urlopen(targetUrl, proxies={'http':'http://' + self.proxyip})\n",
      "TypeError: urlopen() got an unexpected keyword argument 'proxies'\n",
      "\n"
     ]
    },
    {
     "name": "stdout",
     "output_type": "stream",
     "text": [
      "b'119.5.1.36:23579\\n'\n"
     ]
    },
    {
     "name": "stderr",
     "output_type": "stream",
     "text": [
      "Exception in thread Thread-250:\n",
      "Traceback (most recent call last):\n",
      "  File \"/usr/lib/python3.6/threading.py\", line 916, in _bootstrap_inner\n",
      "    self.run()\n",
      "  File \"<ipython-input-17-29a84bf43199>\", line 24, in run\n",
      "    html = urllib.request.urlopen(targetUrl, proxies={'http':'http://' + self.proxyip})\n",
      "TypeError: urlopen() got an unexpected keyword argument 'proxies'\n",
      "\n"
     ]
    },
    {
     "name": "stdout",
     "output_type": "stream",
     "text": [
      "b'119.5.1.36:23579\\n'\n"
     ]
    },
    {
     "name": "stderr",
     "output_type": "stream",
     "text": [
      "Exception in thread Thread-251:\n",
      "Traceback (most recent call last):\n",
      "  File \"/usr/lib/python3.6/threading.py\", line 916, in _bootstrap_inner\n",
      "    self.run()\n",
      "  File \"<ipython-input-17-29a84bf43199>\", line 24, in run\n",
      "    html = urllib.request.urlopen(targetUrl, proxies={'http':'http://' + self.proxyip})\n",
      "TypeError: urlopen() got an unexpected keyword argument 'proxies'\n",
      "\n"
     ]
    },
    {
     "name": "stdout",
     "output_type": "stream",
     "text": [
      "b'27.16.163.48:58245\\n'\n",
      "b'27.16.163.48:58245\\n'\n"
     ]
    },
    {
     "name": "stderr",
     "output_type": "stream",
     "text": [
      "Exception in thread Thread-252:\n",
      "Traceback (most recent call last):\n",
      "  File \"/usr/lib/python3.6/threading.py\", line 916, in _bootstrap_inner\n",
      "    self.run()\n",
      "  File \"<ipython-input-17-29a84bf43199>\", line 24, in run\n",
      "    html = urllib.request.urlopen(targetUrl, proxies={'http':'http://' + self.proxyip})\n",
      "TypeError: urlopen() got an unexpected keyword argument 'proxies'\n",
      "\n",
      "Exception in thread Thread-253:\n",
      "Traceback (most recent call last):\n",
      "  File \"/usr/lib/python3.6/threading.py\", line 916, in _bootstrap_inner\n",
      "    self.run()\n",
      "  File \"<ipython-input-17-29a84bf43199>\", line 24, in run\n",
      "    html = urllib.request.urlopen(targetUrl, proxies={'http':'http://' + self.proxyip})\n",
      "TypeError: urlopen() got an unexpected keyword argument 'proxies'\n",
      "\n"
     ]
    },
    {
     "name": "stdout",
     "output_type": "stream",
     "text": [
      "b'114.239.146.236:11669\\n'\n",
      "b'114.239.146.236:11669\\n'\n"
     ]
    },
    {
     "name": "stderr",
     "output_type": "stream",
     "text": [
      "Exception in thread Thread-254:\n",
      "Traceback (most recent call last):\n",
      "  File \"/usr/lib/python3.6/threading.py\", line 916, in _bootstrap_inner\n",
      "    self.run()\n",
      "  File \"<ipython-input-17-29a84bf43199>\", line 24, in run\n",
      "    html = urllib.request.urlopen(targetUrl, proxies={'http':'http://' + self.proxyip})\n",
      "TypeError: urlopen() got an unexpected keyword argument 'proxies'\n",
      "\n",
      "Exception in thread Thread-255:\n",
      "Traceback (most recent call last):\n",
      "  File \"/usr/lib/python3.6/threading.py\", line 916, in _bootstrap_inner\n",
      "    self.run()\n",
      "  File \"<ipython-input-17-29a84bf43199>\", line 24, in run\n",
      "    html = urllib.request.urlopen(targetUrl, proxies={'http':'http://' + self.proxyip})\n",
      "TypeError: urlopen() got an unexpected keyword argument 'proxies'\n",
      "\n"
     ]
    },
    {
     "name": "stdout",
     "output_type": "stream",
     "text": [
      "b'150.255.43.62:57909\\n'\n",
      "b'150.255.43.62:57909\\n'\n"
     ]
    },
    {
     "name": "stderr",
     "output_type": "stream",
     "text": [
      "Exception in thread Thread-256:\n",
      "Traceback (most recent call last):\n",
      "  File \"/usr/lib/python3.6/threading.py\", line 916, in _bootstrap_inner\n",
      "    self.run()\n",
      "  File \"<ipython-input-17-29a84bf43199>\", line 24, in run\n",
      "    html = urllib.request.urlopen(targetUrl, proxies={'http':'http://' + self.proxyip})\n",
      "TypeError: urlopen() got an unexpected keyword argument 'proxies'\n",
      "\n",
      "Exception in thread Thread-257:\n",
      "Traceback (most recent call last):\n",
      "  File \"/usr/lib/python3.6/threading.py\", line 916, in _bootstrap_inner\n",
      "    self.run()\n",
      "  File \"<ipython-input-17-29a84bf43199>\", line 24, in run\n",
      "    html = urllib.request.urlopen(targetUrl, proxies={'http':'http://' + self.proxyip})\n",
      "TypeError: urlopen() got an unexpected keyword argument 'proxies'\n",
      "\n"
     ]
    },
    {
     "name": "stdout",
     "output_type": "stream",
     "text": [
      "b'58.19.81.243:47260\\n'\n",
      "b'58.19.81.243:47260\\n'\n"
     ]
    },
    {
     "name": "stderr",
     "output_type": "stream",
     "text": [
      "Exception in thread Thread-258:\n",
      "Traceback (most recent call last):\n",
      "  File \"/usr/lib/python3.6/threading.py\", line 916, in _bootstrap_inner\n",
      "    self.run()\n",
      "  File \"<ipython-input-17-29a84bf43199>\", line 24, in run\n",
      "    html = urllib.request.urlopen(targetUrl, proxies={'http':'http://' + self.proxyip})\n",
      "TypeError: urlopen() got an unexpected keyword argument 'proxies'\n",
      "\n",
      "Exception in thread Thread-259:\n",
      "Traceback (most recent call last):\n",
      "  File \"/usr/lib/python3.6/threading.py\", line 916, in _bootstrap_inner\n",
      "    self.run()\n",
      "  File \"<ipython-input-17-29a84bf43199>\", line 24, in run\n",
      "    html = urllib.request.urlopen(targetUrl, proxies={'http':'http://' + self.proxyip})\n",
      "TypeError: urlopen() got an unexpected keyword argument 'proxies'\n",
      "\n"
     ]
    },
    {
     "name": "stdout",
     "output_type": "stream",
     "text": [
      "b'117.86.167.133:50222\\n'\n",
      "b'117.86.167.133:50222\\n'\n"
     ]
    },
    {
     "name": "stderr",
     "output_type": "stream",
     "text": [
      "Exception in thread Thread-260:\n",
      "Traceback (most recent call last):\n",
      "  File \"/usr/lib/python3.6/threading.py\", line 916, in _bootstrap_inner\n",
      "    self.run()\n",
      "  File \"<ipython-input-17-29a84bf43199>\", line 24, in run\n",
      "    html = urllib.request.urlopen(targetUrl, proxies={'http':'http://' + self.proxyip})\n",
      "TypeError: urlopen() got an unexpected keyword argument 'proxies'\n",
      "\n",
      "Exception in thread Thread-261:\n",
      "Traceback (most recent call last):\n",
      "  File \"/usr/lib/python3.6/threading.py\", line 916, in _bootstrap_inner\n",
      "    self.run()\n",
      "  File \"<ipython-input-17-29a84bf43199>\", line 24, in run\n",
      "    html = urllib.request.urlopen(targetUrl, proxies={'http':'http://' + self.proxyip})\n",
      "TypeError: urlopen() got an unexpected keyword argument 'proxies'\n",
      "\n",
      "Exception in thread Thread-14:\n",
      "Traceback (most recent call last):\n",
      "  File \"/usr/lib/python3.6/threading.py\", line 916, in _bootstrap_inner\n",
      "    self.run()\n",
      "  File \"<ipython-input-14-7dce05ac8d49>\", line 41, in run\n",
      "    res = str(urllib.request.urlopen(apiUrl).read())\n",
      "  File \"/usr/lib/python3.6/urllib/request.py\", line 223, in urlopen\n",
      "    return opener.open(url, data, timeout)\n",
      "  File \"/usr/lib/python3.6/urllib/request.py\", line 532, in open\n",
      "    response = meth(req, response)\n",
      "  File \"/usr/lib/python3.6/urllib/request.py\", line 642, in http_response\n",
      "    'http', request, response, code, msg, hdrs)\n",
      "  File \"/usr/lib/python3.6/urllib/request.py\", line 570, in error\n",
      "    return self._call_chain(*args)\n",
      "  File \"/usr/lib/python3.6/urllib/request.py\", line 504, in _call_chain\n",
      "    result = func(*args)\n",
      "  File \"/usr/lib/python3.6/urllib/request.py\", line 650, in http_error_default\n",
      "    raise HTTPError(req.full_url, code, msg, hdrs, fp)\n",
      "urllib.error.HTTPError: HTTP Error 429: \n",
      "\n",
      "Exception in thread Thread-262:\n",
      "Traceback (most recent call last):\n",
      "  File \"/usr/lib/python3.6/threading.py\", line 916, in _bootstrap_inner\n",
      "    self.run()\n",
      "  File \"<ipython-input-17-29a84bf43199>\", line 24, in run\n",
      "    html = urllib.request.urlopen(targetUrl, proxies={'http':'http://' + self.proxyip})\n",
      "TypeError: urlopen() got an unexpected keyword argument 'proxies'\n",
      "\n"
     ]
    },
    {
     "name": "stdout",
     "output_type": "stream",
     "text": [
      "b'117.84.210.135:12437\\n'\n",
      "b'122.246.55.45:53999\\n'\n"
     ]
    },
    {
     "name": "stderr",
     "output_type": "stream",
     "text": [
      "Exception in thread Thread-263:\n",
      "Traceback (most recent call last):\n",
      "  File \"/usr/lib/python3.6/threading.py\", line 916, in _bootstrap_inner\n",
      "    self.run()\n",
      "  File \"<ipython-input-17-29a84bf43199>\", line 24, in run\n",
      "    html = urllib.request.urlopen(targetUrl, proxies={'http':'http://' + self.proxyip})\n",
      "TypeError: urlopen() got an unexpected keyword argument 'proxies'\n",
      "\n"
     ]
    },
    {
     "name": "stdout",
     "output_type": "stream",
     "text": [
      "b'114.106.54.55:18254\\n'\n"
     ]
    },
    {
     "name": "stderr",
     "output_type": "stream",
     "text": [
      "Exception in thread Thread-264:\n",
      "Traceback (most recent call last):\n",
      "  File \"/usr/lib/python3.6/threading.py\", line 916, in _bootstrap_inner\n",
      "    self.run()\n",
      "  File \"<ipython-input-17-29a84bf43199>\", line 24, in run\n",
      "    html = urllib.request.urlopen(targetUrl, proxies={'http':'http://' + self.proxyip})\n",
      "TypeError: urlopen() got an unexpected keyword argument 'proxies'\n",
      "\n"
     ]
    },
    {
     "name": "stdout",
     "output_type": "stream",
     "text": [
      "b'115.221.118.119:41638\\n'\n"
     ]
    },
    {
     "name": "stderr",
     "output_type": "stream",
     "text": [
      "Exception in thread Thread-265:\n",
      "Traceback (most recent call last):\n",
      "  File \"/usr/lib/python3.6/threading.py\", line 916, in _bootstrap_inner\n",
      "    self.run()\n",
      "  File \"<ipython-input-17-29a84bf43199>\", line 24, in run\n",
      "    html = urllib.request.urlopen(targetUrl, proxies={'http':'http://' + self.proxyip})\n",
      "TypeError: urlopen() got an unexpected keyword argument 'proxies'\n",
      "\n"
     ]
    },
    {
     "name": "stdout",
     "output_type": "stream",
     "text": [
      "b'114.219.50.231:29205\\n'\n"
     ]
    },
    {
     "name": "stderr",
     "output_type": "stream",
     "text": [
      "Exception in thread Thread-266:\n",
      "Traceback (most recent call last):\n",
      "  File \"/usr/lib/python3.6/threading.py\", line 916, in _bootstrap_inner\n",
      "    self.run()\n",
      "  File \"<ipython-input-17-29a84bf43199>\", line 24, in run\n",
      "    html = urllib.request.urlopen(targetUrl, proxies={'http':'http://' + self.proxyip})\n",
      "TypeError: urlopen() got an unexpected keyword argument 'proxies'\n",
      "\n"
     ]
    },
    {
     "name": "stdout",
     "output_type": "stream",
     "text": [
      "b'112.85.110.92:46531\\n'\n"
     ]
    },
    {
     "name": "stderr",
     "output_type": "stream",
     "text": [
      "Exception in thread Thread-267:\n",
      "Traceback (most recent call last):\n",
      "  File \"/usr/lib/python3.6/threading.py\", line 916, in _bootstrap_inner\n",
      "    self.run()\n",
      "  File \"<ipython-input-17-29a84bf43199>\", line 24, in run\n",
      "    html = urllib.request.urlopen(targetUrl, proxies={'http':'http://' + self.proxyip})\n",
      "TypeError: urlopen() got an unexpected keyword argument 'proxies'\n",
      "\n"
     ]
    },
    {
     "name": "stdout",
     "output_type": "stream",
     "text": [
      "b'113.121.179.147:11926\\n'\n"
     ]
    },
    {
     "name": "stderr",
     "output_type": "stream",
     "text": [
      "Exception in thread Thread-268:\n",
      "Traceback (most recent call last):\n",
      "  File \"/usr/lib/python3.6/threading.py\", line 916, in _bootstrap_inner\n",
      "    self.run()\n",
      "  File \"<ipython-input-17-29a84bf43199>\", line 24, in run\n",
      "    html = urllib.request.urlopen(targetUrl, proxies={'http':'http://' + self.proxyip})\n",
      "TypeError: urlopen() got an unexpected keyword argument 'proxies'\n",
      "\n"
     ]
    },
    {
     "name": "stdout",
     "output_type": "stream",
     "text": [
      "b'171.88.150.172:41119\\n'\n"
     ]
    },
    {
     "name": "stderr",
     "output_type": "stream",
     "text": [
      "Exception in thread Thread-269:\n",
      "Traceback (most recent call last):\n",
      "  File \"/usr/lib/python3.6/threading.py\", line 916, in _bootstrap_inner\n",
      "    self.run()\n",
      "  File \"<ipython-input-17-29a84bf43199>\", line 24, in run\n",
      "    html = urllib.request.urlopen(targetUrl, proxies={'http':'http://' + self.proxyip})\n",
      "TypeError: urlopen() got an unexpected keyword argument 'proxies'\n",
      "\n"
     ]
    },
    {
     "name": "stdout",
     "output_type": "stream",
     "text": [
      "b'183.33.150.10:45631\\n'\n"
     ]
    },
    {
     "name": "stderr",
     "output_type": "stream",
     "text": [
      "Exception in thread Thread-270:\n",
      "Traceback (most recent call last):\n",
      "  File \"/usr/lib/python3.6/threading.py\", line 916, in _bootstrap_inner\n",
      "    self.run()\n",
      "  File \"<ipython-input-17-29a84bf43199>\", line 24, in run\n",
      "    html = urllib.request.urlopen(targetUrl, proxies={'http':'http://' + self.proxyip})\n",
      "TypeError: urlopen() got an unexpected keyword argument 'proxies'\n",
      "\n"
     ]
    },
    {
     "name": "stdout",
     "output_type": "stream",
     "text": [
      "b'171.88.150.146:37695\\n'\n"
     ]
    },
    {
     "name": "stderr",
     "output_type": "stream",
     "text": [
      "Exception in thread Thread-271:\n",
      "Traceback (most recent call last):\n",
      "  File \"/usr/lib/python3.6/threading.py\", line 916, in _bootstrap_inner\n",
      "    self.run()\n",
      "  File \"<ipython-input-17-29a84bf43199>\", line 24, in run\n",
      "    html = urllib.request.urlopen(targetUrl, proxies={'http':'http://' + self.proxyip})\n",
      "TypeError: urlopen() got an unexpected keyword argument 'proxies'\n",
      "\n"
     ]
    },
    {
     "name": "stdout",
     "output_type": "stream",
     "text": [
      "b'122.241.1.200:13628\\n'\n"
     ]
    },
    {
     "name": "stderr",
     "output_type": "stream",
     "text": [
      "Exception in thread Thread-272:\n",
      "Traceback (most recent call last):\n",
      "  File \"/usr/lib/python3.6/threading.py\", line 916, in _bootstrap_inner\n",
      "    self.run()\n",
      "  File \"<ipython-input-17-29a84bf43199>\", line 24, in run\n",
      "    html = urllib.request.urlopen(targetUrl, proxies={'http':'http://' + self.proxyip})\n",
      "TypeError: urlopen() got an unexpected keyword argument 'proxies'\n",
      "\n"
     ]
    },
    {
     "name": "stdout",
     "output_type": "stream",
     "text": [
      "b'183.162.187.137:62235\\n'\n"
     ]
    },
    {
     "name": "stderr",
     "output_type": "stream",
     "text": [
      "Exception in thread Thread-273:\n",
      "Traceback (most recent call last):\n",
      "  File \"/usr/lib/python3.6/threading.py\", line 916, in _bootstrap_inner\n",
      "    self.run()\n",
      "  File \"<ipython-input-17-29a84bf43199>\", line 24, in run\n",
      "    html = urllib.request.urlopen(targetUrl, proxies={'http':'http://' + self.proxyip})\n",
      "TypeError: urlopen() got an unexpected keyword argument 'proxies'\n",
      "\n"
     ]
    },
    {
     "name": "stdout",
     "output_type": "stream",
     "text": [
      "b'117.95.110.97:52904\\n'\n"
     ]
    },
    {
     "name": "stderr",
     "output_type": "stream",
     "text": [
      "Exception in thread Thread-274:\n",
      "Traceback (most recent call last):\n",
      "  File \"/usr/lib/python3.6/threading.py\", line 916, in _bootstrap_inner\n",
      "    self.run()\n",
      "  File \"<ipython-input-17-29a84bf43199>\", line 24, in run\n",
      "    html = urllib.request.urlopen(targetUrl, proxies={'http':'http://' + self.proxyip})\n",
      "TypeError: urlopen() got an unexpected keyword argument 'proxies'\n",
      "\n"
     ]
    },
    {
     "name": "stdout",
     "output_type": "stream",
     "text": [
      "b'114.224.149.153:63569\\n'\n"
     ]
    },
    {
     "name": "stderr",
     "output_type": "stream",
     "text": [
      "Exception in thread Thread-275:\n",
      "Traceback (most recent call last):\n",
      "  File \"/usr/lib/python3.6/threading.py\", line 916, in _bootstrap_inner\n",
      "    self.run()\n",
      "  File \"<ipython-input-17-29a84bf43199>\", line 24, in run\n",
      "    html = urllib.request.urlopen(targetUrl, proxies={'http':'http://' + self.proxyip})\n",
      "TypeError: urlopen() got an unexpected keyword argument 'proxies'\n",
      "\n"
     ]
    },
    {
     "name": "stdout",
     "output_type": "stream",
     "text": [
      "b'140.224.186.200:21848\\n'\n"
     ]
    },
    {
     "name": "stderr",
     "output_type": "stream",
     "text": [
      "Exception in thread Thread-276:\n",
      "Traceback (most recent call last):\n",
      "  File \"/usr/lib/python3.6/threading.py\", line 916, in _bootstrap_inner\n",
      "    self.run()\n",
      "  File \"<ipython-input-17-29a84bf43199>\", line 24, in run\n",
      "    html = urllib.request.urlopen(targetUrl, proxies={'http':'http://' + self.proxyip})\n",
      "TypeError: urlopen() got an unexpected keyword argument 'proxies'\n",
      "\n"
     ]
    },
    {
     "name": "stdout",
     "output_type": "stream",
     "text": [
      "b'171.80.159.182:18866\\n'\n"
     ]
    },
    {
     "name": "stderr",
     "output_type": "stream",
     "text": [
      "Exception in thread Thread-277:\n",
      "Traceback (most recent call last):\n",
      "  File \"/usr/lib/python3.6/threading.py\", line 916, in _bootstrap_inner\n",
      "    self.run()\n",
      "  File \"<ipython-input-17-29a84bf43199>\", line 24, in run\n",
      "    html = urllib.request.urlopen(targetUrl, proxies={'http':'http://' + self.proxyip})\n",
      "TypeError: urlopen() got an unexpected keyword argument 'proxies'\n",
      "\n"
     ]
    },
    {
     "name": "stdout",
     "output_type": "stream",
     "text": [
      "b'114.224.149.153:63569\\n'\n"
     ]
    },
    {
     "name": "stderr",
     "output_type": "stream",
     "text": [
      "Exception in thread Thread-278:\n",
      "Traceback (most recent call last):\n",
      "  File \"/usr/lib/python3.6/threading.py\", line 916, in _bootstrap_inner\n",
      "    self.run()\n",
      "  File \"<ipython-input-17-29a84bf43199>\", line 24, in run\n",
      "    html = urllib.request.urlopen(targetUrl, proxies={'http':'http://' + self.proxyip})\n",
      "TypeError: urlopen() got an unexpected keyword argument 'proxies'\n",
      "\n"
     ]
    },
    {
     "name": "stdout",
     "output_type": "stream",
     "text": [
      "b'222.94.145.239:37230\\n'\n"
     ]
    },
    {
     "name": "stderr",
     "output_type": "stream",
     "text": [
      "Exception in thread Thread-279:\n",
      "Traceback (most recent call last):\n",
      "  File \"/usr/lib/python3.6/threading.py\", line 916, in _bootstrap_inner\n",
      "    self.run()\n",
      "  File \"<ipython-input-17-29a84bf43199>\", line 24, in run\n",
      "    html = urllib.request.urlopen(targetUrl, proxies={'http':'http://' + self.proxyip})\n",
      "TypeError: urlopen() got an unexpected keyword argument 'proxies'\n",
      "\n"
     ]
    },
    {
     "name": "stdout",
     "output_type": "stream",
     "text": [
      "b'27.152.8.25:17201\\n'\n"
     ]
    },
    {
     "name": "stderr",
     "output_type": "stream",
     "text": [
      "Exception in thread Thread-280:\n",
      "Traceback (most recent call last):\n",
      "  File \"/usr/lib/python3.6/threading.py\", line 916, in _bootstrap_inner\n",
      "    self.run()\n",
      "  File \"<ipython-input-17-29a84bf43199>\", line 24, in run\n",
      "    html = urllib.request.urlopen(targetUrl, proxies={'http':'http://' + self.proxyip})\n",
      "TypeError: urlopen() got an unexpected keyword argument 'proxies'\n",
      "\n"
     ]
    },
    {
     "name": "stdout",
     "output_type": "stream",
     "text": [
      "b'59.173.73.215:39108\\n'\n"
     ]
    },
    {
     "name": "stderr",
     "output_type": "stream",
     "text": [
      "Exception in thread Thread-281:\n",
      "Traceback (most recent call last):\n",
      "  File \"/usr/lib/python3.6/threading.py\", line 916, in _bootstrap_inner\n",
      "    self.run()\n",
      "  File \"<ipython-input-17-29a84bf43199>\", line 24, in run\n",
      "    html = urllib.request.urlopen(targetUrl, proxies={'http':'http://' + self.proxyip})\n",
      "TypeError: urlopen() got an unexpected keyword argument 'proxies'\n",
      "\n"
     ]
    },
    {
     "name": "stdout",
     "output_type": "stream",
     "text": [
      "b'117.81.33.150:41753\\n'\n"
     ]
    },
    {
     "name": "stderr",
     "output_type": "stream",
     "text": [
      "Exception in thread Thread-282:\n",
      "Traceback (most recent call last):\n",
      "  File \"/usr/lib/python3.6/threading.py\", line 916, in _bootstrap_inner\n",
      "    self.run()\n",
      "  File \"<ipython-input-17-29a84bf43199>\", line 24, in run\n",
      "    html = urllib.request.urlopen(targetUrl, proxies={'http':'http://' + self.proxyip})\n",
      "TypeError: urlopen() got an unexpected keyword argument 'proxies'\n",
      "\n"
     ]
    },
    {
     "name": "stdout",
     "output_type": "stream",
     "text": [
      "b'119.176.145.43:48794\\n'\n"
     ]
    },
    {
     "name": "stderr",
     "output_type": "stream",
     "text": [
      "Exception in thread Thread-283:\n",
      "Traceback (most recent call last):\n",
      "  File \"/usr/lib/python3.6/threading.py\", line 916, in _bootstrap_inner\n",
      "    self.run()\n",
      "  File \"<ipython-input-17-29a84bf43199>\", line 24, in run\n",
      "    html = urllib.request.urlopen(targetUrl, proxies={'http':'http://' + self.proxyip})\n",
      "TypeError: urlopen() got an unexpected keyword argument 'proxies'\n",
      "\n"
     ]
    },
    {
     "name": "stdout",
     "output_type": "stream",
     "text": [
      "b'27.29.34.140:22671\\n'\n"
     ]
    },
    {
     "name": "stderr",
     "output_type": "stream",
     "text": [
      "Exception in thread Thread-284:\n",
      "Traceback (most recent call last):\n",
      "  File \"/usr/lib/python3.6/threading.py\", line 916, in _bootstrap_inner\n",
      "    self.run()\n",
      "  File \"<ipython-input-17-29a84bf43199>\", line 24, in run\n",
      "    html = urllib.request.urlopen(targetUrl, proxies={'http':'http://' + self.proxyip})\n",
      "TypeError: urlopen() got an unexpected keyword argument 'proxies'\n",
      "\n"
     ]
    },
    {
     "name": "stdout",
     "output_type": "stream",
     "text": [
      "b'49.71.125.251:36126\\n'\n"
     ]
    },
    {
     "name": "stderr",
     "output_type": "stream",
     "text": [
      "Exception in thread Thread-285:\n",
      "Traceback (most recent call last):\n",
      "  File \"/usr/lib/python3.6/threading.py\", line 916, in _bootstrap_inner\n",
      "    self.run()\n",
      "  File \"<ipython-input-17-29a84bf43199>\", line 24, in run\n",
      "    html = urllib.request.urlopen(targetUrl, proxies={'http':'http://' + self.proxyip})\n",
      "TypeError: urlopen() got an unexpected keyword argument 'proxies'\n",
      "\n"
     ]
    },
    {
     "name": "stdout",
     "output_type": "stream",
     "text": [
      "b'27.185.149.240:52829\\n'\n"
     ]
    },
    {
     "name": "stderr",
     "output_type": "stream",
     "text": [
      "Exception in thread Thread-286:\n",
      "Traceback (most recent call last):\n",
      "  File \"/usr/lib/python3.6/threading.py\", line 916, in _bootstrap_inner\n",
      "    self.run()\n",
      "  File \"<ipython-input-17-29a84bf43199>\", line 24, in run\n",
      "    html = urllib.request.urlopen(targetUrl, proxies={'http':'http://' + self.proxyip})\n",
      "TypeError: urlopen() got an unexpected keyword argument 'proxies'\n",
      "\n"
     ]
    },
    {
     "name": "stdout",
     "output_type": "stream",
     "text": [
      "b'221.234.192.149:11051\\n'\n"
     ]
    },
    {
     "name": "stderr",
     "output_type": "stream",
     "text": [
      "Exception in thread Thread-287:\n",
      "Traceback (most recent call last):\n",
      "  File \"/usr/lib/python3.6/threading.py\", line 916, in _bootstrap_inner\n",
      "    self.run()\n",
      "  File \"<ipython-input-17-29a84bf43199>\", line 24, in run\n",
      "    html = urllib.request.urlopen(targetUrl, proxies={'http':'http://' + self.proxyip})\n",
      "TypeError: urlopen() got an unexpected keyword argument 'proxies'\n",
      "\n"
     ]
    },
    {
     "name": "stdout",
     "output_type": "stream",
     "text": [
      "b'114.99.24.66:35244\\n'\n"
     ]
    },
    {
     "name": "stderr",
     "output_type": "stream",
     "text": [
      "Exception in thread Thread-288:\n",
      "Traceback (most recent call last):\n",
      "  File \"/usr/lib/python3.6/threading.py\", line 916, in _bootstrap_inner\n",
      "    self.run()\n",
      "  File \"<ipython-input-17-29a84bf43199>\", line 24, in run\n",
      "    html = urllib.request.urlopen(targetUrl, proxies={'http':'http://' + self.proxyip})\n",
      "TypeError: urlopen() got an unexpected keyword argument 'proxies'\n",
      "\n"
     ]
    },
    {
     "name": "stdout",
     "output_type": "stream",
     "text": [
      "b'115.221.115.220:54058\\n'\n"
     ]
    },
    {
     "name": "stderr",
     "output_type": "stream",
     "text": [
      "Exception in thread Thread-289:\n",
      "Traceback (most recent call last):\n",
      "  File \"/usr/lib/python3.6/threading.py\", line 916, in _bootstrap_inner\n",
      "    self.run()\n",
      "  File \"<ipython-input-17-29a84bf43199>\", line 24, in run\n",
      "    html = urllib.request.urlopen(targetUrl, proxies={'http':'http://' + self.proxyip})\n",
      "TypeError: urlopen() got an unexpected keyword argument 'proxies'\n",
      "\n"
     ]
    },
    {
     "name": "stdout",
     "output_type": "stream",
     "text": [
      "b'183.153.38.12:57154\\n'\n"
     ]
    },
    {
     "name": "stderr",
     "output_type": "stream",
     "text": [
      "Exception in thread Thread-290:\n",
      "Traceback (most recent call last):\n",
      "  File \"/usr/lib/python3.6/threading.py\", line 916, in _bootstrap_inner\n",
      "    self.run()\n",
      "  File \"<ipython-input-17-29a84bf43199>\", line 24, in run\n",
      "    html = urllib.request.urlopen(targetUrl, proxies={'http':'http://' + self.proxyip})\n",
      "TypeError: urlopen() got an unexpected keyword argument 'proxies'\n",
      "\n"
     ]
    },
    {
     "name": "stdout",
     "output_type": "stream",
     "text": [
      "b'223.153.116.168:57812\\n'\n"
     ]
    },
    {
     "name": "stderr",
     "output_type": "stream",
     "text": [
      "Exception in thread Thread-291:\n",
      "Traceback (most recent call last):\n",
      "  File \"/usr/lib/python3.6/threading.py\", line 916, in _bootstrap_inner\n",
      "    self.run()\n",
      "  File \"<ipython-input-17-29a84bf43199>\", line 24, in run\n",
      "    html = urllib.request.urlopen(targetUrl, proxies={'http':'http://' + self.proxyip})\n",
      "TypeError: urlopen() got an unexpected keyword argument 'proxies'\n",
      "\n"
     ]
    },
    {
     "name": "stdout",
     "output_type": "stream",
     "text": [
      "b'223.241.55.0:26940\\n'\n"
     ]
    },
    {
     "name": "stderr",
     "output_type": "stream",
     "text": [
      "Exception in thread Thread-292:\n",
      "Traceback (most recent call last):\n",
      "  File \"/usr/lib/python3.6/threading.py\", line 916, in _bootstrap_inner\n",
      "    self.run()\n",
      "  File \"<ipython-input-17-29a84bf43199>\", line 24, in run\n",
      "    html = urllib.request.urlopen(targetUrl, proxies={'http':'http://' + self.proxyip})\n",
      "TypeError: urlopen() got an unexpected keyword argument 'proxies'\n",
      "\n"
     ]
    },
    {
     "name": "stdout",
     "output_type": "stream",
     "text": [
      "b'110.85.129.186:21537\\n'\n"
     ]
    },
    {
     "name": "stderr",
     "output_type": "stream",
     "text": [
      "Exception in thread Thread-293:\n",
      "Traceback (most recent call last):\n",
      "  File \"/usr/lib/python3.6/threading.py\", line 916, in _bootstrap_inner\n",
      "    self.run()\n",
      "  File \"<ipython-input-17-29a84bf43199>\", line 24, in run\n",
      "    html = urllib.request.urlopen(targetUrl, proxies={'http':'http://' + self.proxyip})\n",
      "TypeError: urlopen() got an unexpected keyword argument 'proxies'\n",
      "\n"
     ]
    },
    {
     "name": "stdout",
     "output_type": "stream",
     "text": [
      "b'60.169.95.0:52921\\n'\n"
     ]
    },
    {
     "name": "stderr",
     "output_type": "stream",
     "text": [
      "Exception in thread Thread-294:\n",
      "Traceback (most recent call last):\n",
      "  File \"/usr/lib/python3.6/threading.py\", line 916, in _bootstrap_inner\n",
      "    self.run()\n",
      "  File \"<ipython-input-17-29a84bf43199>\", line 24, in run\n",
      "    html = urllib.request.urlopen(targetUrl, proxies={'http':'http://' + self.proxyip})\n",
      "TypeError: urlopen() got an unexpected keyword argument 'proxies'\n",
      "\n"
     ]
    },
    {
     "name": "stdout",
     "output_type": "stream",
     "text": [
      "b'183.143.170.167:11618\\n'\n"
     ]
    },
    {
     "name": "stderr",
     "output_type": "stream",
     "text": [
      "Exception in thread Thread-295:\n",
      "Traceback (most recent call last):\n",
      "  File \"/usr/lib/python3.6/threading.py\", line 916, in _bootstrap_inner\n",
      "    self.run()\n",
      "  File \"<ipython-input-17-29a84bf43199>\", line 24, in run\n",
      "    html = urllib.request.urlopen(targetUrl, proxies={'http':'http://' + self.proxyip})\n",
      "TypeError: urlopen() got an unexpected keyword argument 'proxies'\n",
      "\n"
     ]
    },
    {
     "name": "stdout",
     "output_type": "stream",
     "text": [
      "b'119.5.1.34:64553\\n'\n"
     ]
    },
    {
     "name": "stderr",
     "output_type": "stream",
     "text": [
      "Exception in thread Thread-296:\n",
      "Traceback (most recent call last):\n",
      "  File \"/usr/lib/python3.6/threading.py\", line 916, in _bootstrap_inner\n",
      "    self.run()\n",
      "  File \"<ipython-input-17-29a84bf43199>\", line 24, in run\n",
      "    html = urllib.request.urlopen(targetUrl, proxies={'http':'http://' + self.proxyip})\n",
      "TypeError: urlopen() got an unexpected keyword argument 'proxies'\n",
      "\n"
     ]
    },
    {
     "name": "stdout",
     "output_type": "stream",
     "text": [
      "b'49.85.0.13:60016\\n'\n"
     ]
    },
    {
     "name": "stderr",
     "output_type": "stream",
     "text": [
      "Exception in thread Thread-297:\n",
      "Traceback (most recent call last):\n",
      "  File \"/usr/lib/python3.6/threading.py\", line 916, in _bootstrap_inner\n",
      "    self.run()\n",
      "  File \"<ipython-input-17-29a84bf43199>\", line 24, in run\n",
      "    html = urllib.request.urlopen(targetUrl, proxies={'http':'http://' + self.proxyip})\n",
      "TypeError: urlopen() got an unexpected keyword argument 'proxies'\n",
      "\n"
     ]
    },
    {
     "name": "stdout",
     "output_type": "stream",
     "text": [
      "b'115.216.255.78:26520\\n'\n"
     ]
    },
    {
     "name": "stderr",
     "output_type": "stream",
     "text": [
      "Exception in thread Thread-298:\n",
      "Traceback (most recent call last):\n",
      "  File \"/usr/lib/python3.6/threading.py\", line 916, in _bootstrap_inner\n",
      "    self.run()\n",
      "  File \"<ipython-input-17-29a84bf43199>\", line 24, in run\n",
      "    html = urllib.request.urlopen(targetUrl, proxies={'http':'http://' + self.proxyip})\n",
      "TypeError: urlopen() got an unexpected keyword argument 'proxies'\n",
      "\n"
     ]
    },
    {
     "name": "stdout",
     "output_type": "stream",
     "text": [
      "b'42.54.81.221:27341\\n'\n"
     ]
    },
    {
     "name": "stderr",
     "output_type": "stream",
     "text": [
      "Exception in thread Thread-299:\n",
      "Traceback (most recent call last):\n",
      "  File \"/usr/lib/python3.6/threading.py\", line 916, in _bootstrap_inner\n",
      "    self.run()\n",
      "  File \"<ipython-input-17-29a84bf43199>\", line 24, in run\n",
      "    html = urllib.request.urlopen(targetUrl, proxies={'http':'http://' + self.proxyip})\n",
      "TypeError: urlopen() got an unexpected keyword argument 'proxies'\n",
      "\n"
     ]
    },
    {
     "name": "stdout",
     "output_type": "stream",
     "text": [
      "b'125.121.170.201:60397\\n'\n"
     ]
    },
    {
     "name": "stderr",
     "output_type": "stream",
     "text": [
      "Exception in thread Thread-300:\n",
      "Traceback (most recent call last):\n",
      "  File \"/usr/lib/python3.6/threading.py\", line 916, in _bootstrap_inner\n",
      "    self.run()\n",
      "  File \"<ipython-input-17-29a84bf43199>\", line 24, in run\n",
      "    html = urllib.request.urlopen(targetUrl, proxies={'http':'http://' + self.proxyip})\n",
      "TypeError: urlopen() got an unexpected keyword argument 'proxies'\n",
      "\n"
     ]
    },
    {
     "name": "stdout",
     "output_type": "stream",
     "text": [
      "b'49.85.6.192:28280\\n'\n"
     ]
    },
    {
     "name": "stderr",
     "output_type": "stream",
     "text": [
      "Exception in thread Thread-301:\n",
      "Traceback (most recent call last):\n",
      "  File \"/usr/lib/python3.6/threading.py\", line 916, in _bootstrap_inner\n",
      "    self.run()\n",
      "  File \"<ipython-input-17-29a84bf43199>\", line 24, in run\n",
      "    html = urllib.request.urlopen(targetUrl, proxies={'http':'http://' + self.proxyip})\n",
      "TypeError: urlopen() got an unexpected keyword argument 'proxies'\n",
      "\n"
     ]
    },
    {
     "name": "stdout",
     "output_type": "stream",
     "text": [
      "b'27.154.146.79:59411\\n'\n"
     ]
    },
    {
     "name": "stderr",
     "output_type": "stream",
     "text": [
      "Exception in thread Thread-302:\n",
      "Traceback (most recent call last):\n",
      "  File \"/usr/lib/python3.6/threading.py\", line 916, in _bootstrap_inner\n",
      "    self.run()\n",
      "  File \"<ipython-input-17-29a84bf43199>\", line 24, in run\n",
      "    html = urllib.request.urlopen(targetUrl, proxies={'http':'http://' + self.proxyip})\n",
      "TypeError: urlopen() got an unexpected keyword argument 'proxies'\n",
      "\n"
     ]
    },
    {
     "name": "stdout",
     "output_type": "stream",
     "text": [
      "b'115.223.120.87:34100\\n'\n"
     ]
    },
    {
     "name": "stderr",
     "output_type": "stream",
     "text": [
      "Exception in thread Thread-303:\n",
      "Traceback (most recent call last):\n",
      "  File \"/usr/lib/python3.6/threading.py\", line 916, in _bootstrap_inner\n",
      "    self.run()\n",
      "  File \"<ipython-input-17-29a84bf43199>\", line 24, in run\n",
      "    html = urllib.request.urlopen(targetUrl, proxies={'http':'http://' + self.proxyip})\n",
      "TypeError: urlopen() got an unexpected keyword argument 'proxies'\n",
      "\n"
     ]
    },
    {
     "name": "stdout",
     "output_type": "stream",
     "text": [
      "b'1.196.7.46:61613\\n'\n"
     ]
    },
    {
     "name": "stderr",
     "output_type": "stream",
     "text": [
      "Exception in thread Thread-304:\n",
      "Traceback (most recent call last):\n",
      "  File \"/usr/lib/python3.6/threading.py\", line 916, in _bootstrap_inner\n",
      "    self.run()\n",
      "  File \"<ipython-input-17-29a84bf43199>\", line 24, in run\n",
      "    html = urllib.request.urlopen(targetUrl, proxies={'http':'http://' + self.proxyip})\n",
      "TypeError: urlopen() got an unexpected keyword argument 'proxies'\n",
      "\n"
     ]
    },
    {
     "name": "stdout",
     "output_type": "stream",
     "text": [
      "b'117.69.12.68:49370\\n'\n"
     ]
    },
    {
     "name": "stderr",
     "output_type": "stream",
     "text": [
      "Exception in thread Thread-305:\n",
      "Traceback (most recent call last):\n",
      "  File \"/usr/lib/python3.6/threading.py\", line 916, in _bootstrap_inner\n",
      "    self.run()\n",
      "  File \"<ipython-input-17-29a84bf43199>\", line 24, in run\n",
      "    html = urllib.request.urlopen(targetUrl, proxies={'http':'http://' + self.proxyip})\n",
      "TypeError: urlopen() got an unexpected keyword argument 'proxies'\n",
      "\n"
     ]
    },
    {
     "name": "stdout",
     "output_type": "stream",
     "text": [
      "b'49.75.36.84:21608\\n'\n"
     ]
    },
    {
     "name": "stderr",
     "output_type": "stream",
     "text": [
      "Exception in thread Thread-306:\n",
      "Traceback (most recent call last):\n",
      "  File \"/usr/lib/python3.6/threading.py\", line 916, in _bootstrap_inner\n",
      "    self.run()\n",
      "  File \"<ipython-input-17-29a84bf43199>\", line 24, in run\n",
      "    html = urllib.request.urlopen(targetUrl, proxies={'http':'http://' + self.proxyip})\n",
      "TypeError: urlopen() got an unexpected keyword argument 'proxies'\n",
      "\n"
     ]
    },
    {
     "name": "stdout",
     "output_type": "stream",
     "text": [
      "b'121.232.199.226:38286\\n'\n"
     ]
    },
    {
     "name": "stderr",
     "output_type": "stream",
     "text": [
      "Exception in thread Thread-307:\n",
      "Traceback (most recent call last):\n",
      "  File \"/usr/lib/python3.6/threading.py\", line 916, in _bootstrap_inner\n",
      "    self.run()\n",
      "  File \"<ipython-input-17-29a84bf43199>\", line 24, in run\n",
      "    html = urllib.request.urlopen(targetUrl, proxies={'http':'http://' + self.proxyip})\n",
      "TypeError: urlopen() got an unexpected keyword argument 'proxies'\n",
      "\n"
     ]
    },
    {
     "name": "stdout",
     "output_type": "stream",
     "text": [
      "b'120.33.247.39:21123\\n'\n"
     ]
    },
    {
     "name": "stderr",
     "output_type": "stream",
     "text": [
      "Exception in thread Thread-308:\n",
      "Traceback (most recent call last):\n",
      "  File \"/usr/lib/python3.6/threading.py\", line 916, in _bootstrap_inner\n",
      "    self.run()\n",
      "  File \"<ipython-input-17-29a84bf43199>\", line 24, in run\n",
      "    html = urllib.request.urlopen(targetUrl, proxies={'http':'http://' + self.proxyip})\n",
      "TypeError: urlopen() got an unexpected keyword argument 'proxies'\n",
      "\n"
     ]
    },
    {
     "name": "stdout",
     "output_type": "stream",
     "text": [
      "b'1.196.7.63:33675\\n'\n"
     ]
    },
    {
     "name": "stderr",
     "output_type": "stream",
     "text": [
      "Exception in thread Thread-309:\n",
      "Traceback (most recent call last):\n",
      "  File \"/usr/lib/python3.6/threading.py\", line 916, in _bootstrap_inner\n",
      "    self.run()\n",
      "  File \"<ipython-input-17-29a84bf43199>\", line 24, in run\n",
      "    html = urllib.request.urlopen(targetUrl, proxies={'http':'http://' + self.proxyip})\n",
      "TypeError: urlopen() got an unexpected keyword argument 'proxies'\n",
      "\n"
     ]
    },
    {
     "name": "stdout",
     "output_type": "stream",
     "text": [
      "b'114.99.86.63:65038\\n'\n"
     ]
    },
    {
     "name": "stderr",
     "output_type": "stream",
     "text": [
      "Exception in thread Thread-310:\n",
      "Traceback (most recent call last):\n",
      "  File \"/usr/lib/python3.6/threading.py\", line 916, in _bootstrap_inner\n",
      "    self.run()\n",
      "  File \"<ipython-input-17-29a84bf43199>\", line 24, in run\n",
      "    html = urllib.request.urlopen(targetUrl, proxies={'http':'http://' + self.proxyip})\n",
      "TypeError: urlopen() got an unexpected keyword argument 'proxies'\n",
      "\n"
     ]
    },
    {
     "name": "stdout",
     "output_type": "stream",
     "text": [
      "b'120.33.247.39:21123\\n'\n"
     ]
    },
    {
     "name": "stderr",
     "output_type": "stream",
     "text": [
      "Exception in thread Thread-311:\n",
      "Traceback (most recent call last):\n",
      "  File \"/usr/lib/python3.6/threading.py\", line 916, in _bootstrap_inner\n",
      "    self.run()\n",
      "  File \"<ipython-input-17-29a84bf43199>\", line 24, in run\n",
      "    html = urllib.request.urlopen(targetUrl, proxies={'http':'http://' + self.proxyip})\n",
      "TypeError: urlopen() got an unexpected keyword argument 'proxies'\n",
      "\n"
     ]
    },
    {
     "name": "stdout",
     "output_type": "stream",
     "text": [
      "b'114.103.165.139:44447\\n'\n"
     ]
    },
    {
     "name": "stderr",
     "output_type": "stream",
     "text": [
      "Exception in thread Thread-312:\n",
      "Traceback (most recent call last):\n",
      "  File \"/usr/lib/python3.6/threading.py\", line 916, in _bootstrap_inner\n",
      "    self.run()\n",
      "  File \"<ipython-input-17-29a84bf43199>\", line 24, in run\n",
      "    html = urllib.request.urlopen(targetUrl, proxies={'http':'http://' + self.proxyip})\n",
      "TypeError: urlopen() got an unexpected keyword argument 'proxies'\n",
      "\n"
     ]
    },
    {
     "name": "stdout",
     "output_type": "stream",
     "text": [
      "b'175.153.91.193:41197\\n'\n"
     ]
    },
    {
     "name": "stderr",
     "output_type": "stream",
     "text": [
      "Exception in thread Thread-313:\n",
      "Traceback (most recent call last):\n",
      "  File \"/usr/lib/python3.6/threading.py\", line 916, in _bootstrap_inner\n",
      "    self.run()\n",
      "  File \"<ipython-input-17-29a84bf43199>\", line 24, in run\n",
      "    html = urllib.request.urlopen(targetUrl, proxies={'http':'http://' + self.proxyip})\n",
      "TypeError: urlopen() got an unexpected keyword argument 'proxies'\n",
      "\n"
     ]
    },
    {
     "name": "stdout",
     "output_type": "stream",
     "text": [
      "b'222.188.179.34:35650\\n'\n"
     ]
    },
    {
     "name": "stderr",
     "output_type": "stream",
     "text": [
      "Exception in thread Thread-314:\n",
      "Traceback (most recent call last):\n",
      "  File \"/usr/lib/python3.6/threading.py\", line 916, in _bootstrap_inner\n",
      "    self.run()\n",
      "  File \"<ipython-input-17-29a84bf43199>\", line 24, in run\n",
      "    html = urllib.request.urlopen(targetUrl, proxies={'http':'http://' + self.proxyip})\n",
      "TypeError: urlopen() got an unexpected keyword argument 'proxies'\n",
      "\n"
     ]
    },
    {
     "name": "stdout",
     "output_type": "stream",
     "text": [
      "b'223.246.135.249:34391\\n'\n"
     ]
    },
    {
     "name": "stderr",
     "output_type": "stream",
     "text": [
      "Exception in thread Thread-315:\n",
      "Traceback (most recent call last):\n",
      "  File \"/usr/lib/python3.6/threading.py\", line 916, in _bootstrap_inner\n",
      "    self.run()\n",
      "  File \"<ipython-input-17-29a84bf43199>\", line 24, in run\n",
      "    html = urllib.request.urlopen(targetUrl, proxies={'http':'http://' + self.proxyip})\n",
      "TypeError: urlopen() got an unexpected keyword argument 'proxies'\n",
      "\n"
     ]
    },
    {
     "name": "stdout",
     "output_type": "stream",
     "text": [
      "b'101.206.136.21:32685\\n'\n"
     ]
    },
    {
     "name": "stderr",
     "output_type": "stream",
     "text": [
      "Exception in thread Thread-316:\n",
      "Traceback (most recent call last):\n",
      "  File \"/usr/lib/python3.6/threading.py\", line 916, in _bootstrap_inner\n",
      "    self.run()\n",
      "  File \"<ipython-input-17-29a84bf43199>\", line 24, in run\n",
      "    html = urllib.request.urlopen(targetUrl, proxies={'http':'http://' + self.proxyip})\n",
      "TypeError: urlopen() got an unexpected keyword argument 'proxies'\n",
      "\n"
     ]
    },
    {
     "name": "stdout",
     "output_type": "stream",
     "text": [
      "b'171.88.33.124:54204\\n'\n"
     ]
    },
    {
     "name": "stderr",
     "output_type": "stream",
     "text": [
      "Exception in thread Thread-317:\n",
      "Traceback (most recent call last):\n",
      "  File \"/usr/lib/python3.6/threading.py\", line 916, in _bootstrap_inner\n",
      "    self.run()\n",
      "  File \"<ipython-input-17-29a84bf43199>\", line 24, in run\n",
      "    html = urllib.request.urlopen(targetUrl, proxies={'http':'http://' + self.proxyip})\n",
      "TypeError: urlopen() got an unexpected keyword argument 'proxies'\n",
      "\n"
     ]
    },
    {
     "name": "stdout",
     "output_type": "stream",
     "text": [
      "b'121.228.52.60:24869\\n'\n"
     ]
    },
    {
     "name": "stderr",
     "output_type": "stream",
     "text": [
      "Exception in thread Thread-318:\n",
      "Traceback (most recent call last):\n",
      "  File \"/usr/lib/python3.6/threading.py\", line 916, in _bootstrap_inner\n",
      "    self.run()\n",
      "  File \"<ipython-input-17-29a84bf43199>\", line 24, in run\n",
      "    html = urllib.request.urlopen(targetUrl, proxies={'http':'http://' + self.proxyip})\n",
      "TypeError: urlopen() got an unexpected keyword argument 'proxies'\n",
      "\n"
     ]
    },
    {
     "name": "stdout",
     "output_type": "stream",
     "text": [
      "b'115.221.127.207:20371\\n'\n"
     ]
    },
    {
     "name": "stderr",
     "output_type": "stream",
     "text": [
      "Exception in thread Thread-319:\n",
      "Traceback (most recent call last):\n",
      "  File \"/usr/lib/python3.6/threading.py\", line 916, in _bootstrap_inner\n",
      "    self.run()\n",
      "  File \"<ipython-input-17-29a84bf43199>\", line 24, in run\n",
      "    html = urllib.request.urlopen(targetUrl, proxies={'http':'http://' + self.proxyip})\n",
      "TypeError: urlopen() got an unexpected keyword argument 'proxies'\n",
      "\n"
     ]
    },
    {
     "name": "stdout",
     "output_type": "stream",
     "text": [
      "b'114.223.61.10:51926\\n'\n"
     ]
    },
    {
     "name": "stderr",
     "output_type": "stream",
     "text": [
      "Exception in thread Thread-320:\n",
      "Traceback (most recent call last):\n",
      "  File \"/usr/lib/python3.6/threading.py\", line 916, in _bootstrap_inner\n",
      "    self.run()\n",
      "  File \"<ipython-input-17-29a84bf43199>\", line 24, in run\n",
      "    html = urllib.request.urlopen(targetUrl, proxies={'http':'http://' + self.proxyip})\n",
      "TypeError: urlopen() got an unexpected keyword argument 'proxies'\n",
      "\n"
     ]
    },
    {
     "name": "stdout",
     "output_type": "stream",
     "text": [
      "b'115.223.92.63:27211\\n'\n"
     ]
    },
    {
     "name": "stderr",
     "output_type": "stream",
     "text": [
      "Exception in thread Thread-321:\n",
      "Traceback (most recent call last):\n",
      "  File \"/usr/lib/python3.6/threading.py\", line 916, in _bootstrap_inner\n",
      "    self.run()\n",
      "  File \"<ipython-input-17-29a84bf43199>\", line 24, in run\n",
      "    html = urllib.request.urlopen(targetUrl, proxies={'http':'http://' + self.proxyip})\n",
      "TypeError: urlopen() got an unexpected keyword argument 'proxies'\n",
      "\n"
     ]
    },
    {
     "name": "stdout",
     "output_type": "stream",
     "text": [
      "b'180.108.65.229:26333\\n'\n"
     ]
    },
    {
     "name": "stderr",
     "output_type": "stream",
     "text": [
      "Exception in thread Thread-322:\n",
      "Traceback (most recent call last):\n",
      "  File \"/usr/lib/python3.6/threading.py\", line 916, in _bootstrap_inner\n",
      "    self.run()\n",
      "  File \"<ipython-input-17-29a84bf43199>\", line 24, in run\n",
      "    html = urllib.request.urlopen(targetUrl, proxies={'http':'http://' + self.proxyip})\n",
      "TypeError: urlopen() got an unexpected keyword argument 'proxies'\n",
      "\n"
     ]
    },
    {
     "name": "stdout",
     "output_type": "stream",
     "text": [
      "b'42.57.110.205:45252\\n'\n"
     ]
    },
    {
     "name": "stderr",
     "output_type": "stream",
     "text": [
      "Exception in thread Thread-323:\n",
      "Traceback (most recent call last):\n",
      "  File \"/usr/lib/python3.6/threading.py\", line 916, in _bootstrap_inner\n",
      "    self.run()\n",
      "  File \"<ipython-input-17-29a84bf43199>\", line 24, in run\n",
      "    html = urllib.request.urlopen(targetUrl, proxies={'http':'http://' + self.proxyip})\n",
      "TypeError: urlopen() got an unexpected keyword argument 'proxies'\n",
      "\n"
     ]
    },
    {
     "name": "stdout",
     "output_type": "stream",
     "text": [
      "b'222.189.244.93:64788\\n'\n"
     ]
    },
    {
     "name": "stderr",
     "output_type": "stream",
     "text": [
      "Exception in thread Thread-324:\n",
      "Traceback (most recent call last):\n",
      "  File \"/usr/lib/python3.6/threading.py\", line 916, in _bootstrap_inner\n",
      "    self.run()\n",
      "  File \"<ipython-input-17-29a84bf43199>\", line 24, in run\n",
      "    html = urllib.request.urlopen(targetUrl, proxies={'http':'http://' + self.proxyip})\n",
      "TypeError: urlopen() got an unexpected keyword argument 'proxies'\n",
      "\n"
     ]
    },
    {
     "name": "stdout",
     "output_type": "stream",
     "text": [
      "b'58.19.13.110:24103\\n'\n"
     ]
    },
    {
     "name": "stderr",
     "output_type": "stream",
     "text": [
      "Exception in thread Thread-325:\n",
      "Traceback (most recent call last):\n",
      "  File \"/usr/lib/python3.6/threading.py\", line 916, in _bootstrap_inner\n",
      "    self.run()\n",
      "  File \"<ipython-input-17-29a84bf43199>\", line 24, in run\n",
      "    html = urllib.request.urlopen(targetUrl, proxies={'http':'http://' + self.proxyip})\n",
      "TypeError: urlopen() got an unexpected keyword argument 'proxies'\n",
      "\n"
     ]
    },
    {
     "name": "stdout",
     "output_type": "stream",
     "text": [
      "b'175.7.196.15:10891\\n'\n"
     ]
    },
    {
     "name": "stderr",
     "output_type": "stream",
     "text": [
      "Exception in thread Thread-326:\n",
      "Traceback (most recent call last):\n",
      "  File \"/usr/lib/python3.6/threading.py\", line 916, in _bootstrap_inner\n",
      "    self.run()\n",
      "  File \"<ipython-input-17-29a84bf43199>\", line 24, in run\n",
      "    html = urllib.request.urlopen(targetUrl, proxies={'http':'http://' + self.proxyip})\n",
      "TypeError: urlopen() got an unexpected keyword argument 'proxies'\n",
      "\n"
     ]
    },
    {
     "name": "stdout",
     "output_type": "stream",
     "text": [
      "b'222.94.151.186:29809\\n'\n"
     ]
    },
    {
     "name": "stderr",
     "output_type": "stream",
     "text": [
      "Exception in thread Thread-327:\n",
      "Traceback (most recent call last):\n",
      "  File \"/usr/lib/python3.6/threading.py\", line 916, in _bootstrap_inner\n",
      "    self.run()\n",
      "  File \"<ipython-input-17-29a84bf43199>\", line 24, in run\n",
      "    html = urllib.request.urlopen(targetUrl, proxies={'http':'http://' + self.proxyip})\n",
      "TypeError: urlopen() got an unexpected keyword argument 'proxies'\n",
      "\n"
     ]
    },
    {
     "name": "stdout",
     "output_type": "stream",
     "text": [
      "b'113.58.232.105:48233\\n'\n"
     ]
    },
    {
     "name": "stderr",
     "output_type": "stream",
     "text": [
      "Exception in thread Thread-328:\n",
      "Traceback (most recent call last):\n",
      "  File \"/usr/lib/python3.6/threading.py\", line 916, in _bootstrap_inner\n",
      "    self.run()\n",
      "  File \"<ipython-input-17-29a84bf43199>\", line 24, in run\n",
      "    html = urllib.request.urlopen(targetUrl, proxies={'http':'http://' + self.proxyip})\n",
      "TypeError: urlopen() got an unexpected keyword argument 'proxies'\n",
      "\n"
     ]
    },
    {
     "name": "stdout",
     "output_type": "stream",
     "text": [
      "b'36.26.107.164:10694\\n'\n"
     ]
    },
    {
     "name": "stderr",
     "output_type": "stream",
     "text": [
      "Exception in thread Thread-329:\n",
      "Traceback (most recent call last):\n",
      "  File \"/usr/lib/python3.6/threading.py\", line 916, in _bootstrap_inner\n",
      "    self.run()\n",
      "  File \"<ipython-input-17-29a84bf43199>\", line 24, in run\n",
      "    html = urllib.request.urlopen(targetUrl, proxies={'http':'http://' + self.proxyip})\n",
      "TypeError: urlopen() got an unexpected keyword argument 'proxies'\n",
      "\n"
     ]
    },
    {
     "name": "stdout",
     "output_type": "stream",
     "text": [
      "b'183.165.121.219:19220\\n'\n"
     ]
    },
    {
     "name": "stderr",
     "output_type": "stream",
     "text": [
      "Exception in thread Thread-330:\n",
      "Traceback (most recent call last):\n",
      "  File \"/usr/lib/python3.6/threading.py\", line 916, in _bootstrap_inner\n",
      "    self.run()\n",
      "  File \"<ipython-input-17-29a84bf43199>\", line 24, in run\n",
      "    html = urllib.request.urlopen(targetUrl, proxies={'http':'http://' + self.proxyip})\n",
      "TypeError: urlopen() got an unexpected keyword argument 'proxies'\n",
      "\n"
     ]
    },
    {
     "name": "stdout",
     "output_type": "stream",
     "text": [
      "b'114.99.25.116:21610\\n'\n"
     ]
    },
    {
     "name": "stderr",
     "output_type": "stream",
     "text": [
      "Exception in thread Thread-331:\n",
      "Traceback (most recent call last):\n",
      "  File \"/usr/lib/python3.6/threading.py\", line 916, in _bootstrap_inner\n",
      "    self.run()\n",
      "  File \"<ipython-input-17-29a84bf43199>\", line 24, in run\n",
      "    html = urllib.request.urlopen(targetUrl, proxies={'http':'http://' + self.proxyip})\n",
      "TypeError: urlopen() got an unexpected keyword argument 'proxies'\n",
      "\n"
     ]
    },
    {
     "name": "stdout",
     "output_type": "stream",
     "text": [
      "b'42.5.171.187:19187\\n'\n"
     ]
    },
    {
     "name": "stderr",
     "output_type": "stream",
     "text": [
      "Exception in thread Thread-332:\n",
      "Traceback (most recent call last):\n",
      "  File \"/usr/lib/python3.6/threading.py\", line 916, in _bootstrap_inner\n",
      "    self.run()\n",
      "  File \"<ipython-input-17-29a84bf43199>\", line 24, in run\n",
      "    html = urllib.request.urlopen(targetUrl, proxies={'http':'http://' + self.proxyip})\n",
      "TypeError: urlopen() got an unexpected keyword argument 'proxies'\n",
      "\n"
     ]
    },
    {
     "name": "stdout",
     "output_type": "stream",
     "text": [
      "b'59.173.75.119:46290\\n'\n"
     ]
    },
    {
     "name": "stderr",
     "output_type": "stream",
     "text": [
      "Exception in thread Thread-333:\n",
      "Traceback (most recent call last):\n",
      "  File \"/usr/lib/python3.6/threading.py\", line 916, in _bootstrap_inner\n",
      "    self.run()\n",
      "  File \"<ipython-input-17-29a84bf43199>\", line 24, in run\n",
      "    html = urllib.request.urlopen(targetUrl, proxies={'http':'http://' + self.proxyip})\n",
      "TypeError: urlopen() got an unexpected keyword argument 'proxies'\n",
      "\n"
     ]
    },
    {
     "name": "stdout",
     "output_type": "stream",
     "text": [
      "b'171.14.237.32:32411\\n'\n"
     ]
    },
    {
     "name": "stderr",
     "output_type": "stream",
     "text": [
      "Exception in thread Thread-334:\n",
      "Traceback (most recent call last):\n",
      "  File \"/usr/lib/python3.6/threading.py\", line 916, in _bootstrap_inner\n",
      "    self.run()\n",
      "  File \"<ipython-input-17-29a84bf43199>\", line 24, in run\n",
      "    html = urllib.request.urlopen(targetUrl, proxies={'http':'http://' + self.proxyip})\n",
      "TypeError: urlopen() got an unexpected keyword argument 'proxies'\n",
      "\n"
     ]
    },
    {
     "name": "stdout",
     "output_type": "stream",
     "text": [
      "b'1.193.238.17:21314\\n'\n"
     ]
    },
    {
     "name": "stderr",
     "output_type": "stream",
     "text": [
      "Exception in thread Thread-335:\n",
      "Traceback (most recent call last):\n",
      "  File \"/usr/lib/python3.6/threading.py\", line 916, in _bootstrap_inner\n",
      "    self.run()\n",
      "  File \"<ipython-input-17-29a84bf43199>\", line 24, in run\n",
      "    html = urllib.request.urlopen(targetUrl, proxies={'http':'http://' + self.proxyip})\n",
      "TypeError: urlopen() got an unexpected keyword argument 'proxies'\n",
      "\n"
     ]
    },
    {
     "name": "stdout",
     "output_type": "stream",
     "text": [
      "b'122.246.49.19:55013\\n'\n"
     ]
    },
    {
     "name": "stderr",
     "output_type": "stream",
     "text": [
      "Exception in thread Thread-336:\n",
      "Traceback (most recent call last):\n",
      "  File \"/usr/lib/python3.6/threading.py\", line 916, in _bootstrap_inner\n",
      "    self.run()\n",
      "  File \"<ipython-input-17-29a84bf43199>\", line 24, in run\n",
      "    html = urllib.request.urlopen(targetUrl, proxies={'http':'http://' + self.proxyip})\n",
      "TypeError: urlopen() got an unexpected keyword argument 'proxies'\n",
      "\n"
     ]
    },
    {
     "name": "stdout",
     "output_type": "stream",
     "text": [
      "b'180.121.134.186:25996\\n'\n"
     ]
    },
    {
     "name": "stderr",
     "output_type": "stream",
     "text": [
      "Exception in thread Thread-337:\n",
      "Traceback (most recent call last):\n",
      "  File \"/usr/lib/python3.6/threading.py\", line 916, in _bootstrap_inner\n",
      "    self.run()\n",
      "  File \"<ipython-input-17-29a84bf43199>\", line 24, in run\n",
      "    html = urllib.request.urlopen(targetUrl, proxies={'http':'http://' + self.proxyip})\n",
      "TypeError: urlopen() got an unexpected keyword argument 'proxies'\n",
      "\n"
     ]
    },
    {
     "name": "stdout",
     "output_type": "stream",
     "text": [
      "b'124.132.216.175:19765\\n'\n"
     ]
    },
    {
     "name": "stderr",
     "output_type": "stream",
     "text": [
      "Exception in thread Thread-338:\n",
      "Traceback (most recent call last):\n",
      "  File \"/usr/lib/python3.6/threading.py\", line 916, in _bootstrap_inner\n",
      "    self.run()\n",
      "  File \"<ipython-input-17-29a84bf43199>\", line 24, in run\n",
      "    html = urllib.request.urlopen(targetUrl, proxies={'http':'http://' + self.proxyip})\n",
      "TypeError: urlopen() got an unexpected keyword argument 'proxies'\n",
      "\n"
     ]
    },
    {
     "name": "stdout",
     "output_type": "stream",
     "text": [
      "b'1.196.158.218:38039\\n'\n"
     ]
    },
    {
     "name": "stderr",
     "output_type": "stream",
     "text": [
      "Exception in thread Thread-339:\n",
      "Traceback (most recent call last):\n",
      "  File \"/usr/lib/python3.6/threading.py\", line 916, in _bootstrap_inner\n",
      "    self.run()\n",
      "  File \"<ipython-input-17-29a84bf43199>\", line 24, in run\n",
      "    html = urllib.request.urlopen(targetUrl, proxies={'http':'http://' + self.proxyip})\n",
      "TypeError: urlopen() got an unexpected keyword argument 'proxies'\n",
      "\n"
     ]
    },
    {
     "name": "stdout",
     "output_type": "stream",
     "text": [
      "b'112.233.108.41:19289\\n'\n"
     ]
    },
    {
     "name": "stderr",
     "output_type": "stream",
     "text": [
      "Exception in thread Thread-340:\n",
      "Traceback (most recent call last):\n",
      "  File \"/usr/lib/python3.6/threading.py\", line 916, in _bootstrap_inner\n",
      "    self.run()\n",
      "  File \"<ipython-input-17-29a84bf43199>\", line 24, in run\n",
      "    html = urllib.request.urlopen(targetUrl, proxies={'http':'http://' + self.proxyip})\n",
      "TypeError: urlopen() got an unexpected keyword argument 'proxies'\n",
      "\n"
     ]
    },
    {
     "name": "stdout",
     "output_type": "stream",
     "text": [
      "b'49.81.33.55:57201\\n'\n"
     ]
    },
    {
     "name": "stderr",
     "output_type": "stream",
     "text": [
      "Exception in thread Thread-341:\n",
      "Traceback (most recent call last):\n",
      "  File \"/usr/lib/python3.6/threading.py\", line 916, in _bootstrap_inner\n",
      "    self.run()\n",
      "  File \"<ipython-input-17-29a84bf43199>\", line 24, in run\n",
      "    html = urllib.request.urlopen(targetUrl, proxies={'http':'http://' + self.proxyip})\n",
      "TypeError: urlopen() got an unexpected keyword argument 'proxies'\n",
      "\n"
     ]
    },
    {
     "name": "stdout",
     "output_type": "stream",
     "text": [
      "b'49.75.121.50:19303\\n'\n"
     ]
    },
    {
     "name": "stderr",
     "output_type": "stream",
     "text": [
      "Exception in thread Thread-342:\n",
      "Traceback (most recent call last):\n",
      "  File \"/usr/lib/python3.6/threading.py\", line 916, in _bootstrap_inner\n",
      "    self.run()\n",
      "  File \"<ipython-input-17-29a84bf43199>\", line 24, in run\n",
      "    html = urllib.request.urlopen(targetUrl, proxies={'http':'http://' + self.proxyip})\n",
      "TypeError: urlopen() got an unexpected keyword argument 'proxies'\n",
      "\n"
     ]
    },
    {
     "name": "stdout",
     "output_type": "stream",
     "text": [
      "b'175.153.90.236:46450\\n'\n"
     ]
    },
    {
     "name": "stderr",
     "output_type": "stream",
     "text": [
      "Exception in thread Thread-343:\n",
      "Traceback (most recent call last):\n",
      "  File \"/usr/lib/python3.6/threading.py\", line 916, in _bootstrap_inner\n",
      "    self.run()\n",
      "  File \"<ipython-input-17-29a84bf43199>\", line 24, in run\n",
      "    html = urllib.request.urlopen(targetUrl, proxies={'http':'http://' + self.proxyip})\n",
      "TypeError: urlopen() got an unexpected keyword argument 'proxies'\n",
      "\n"
     ]
    },
    {
     "name": "stdout",
     "output_type": "stream",
     "text": [
      "b'113.121.245.6:15986\\n'\n"
     ]
    },
    {
     "name": "stderr",
     "output_type": "stream",
     "text": [
      "Exception in thread Thread-344:\n",
      "Traceback (most recent call last):\n",
      "  File \"/usr/lib/python3.6/threading.py\", line 916, in _bootstrap_inner\n",
      "    self.run()\n",
      "  File \"<ipython-input-17-29a84bf43199>\", line 24, in run\n",
      "    html = urllib.request.urlopen(targetUrl, proxies={'http':'http://' + self.proxyip})\n",
      "TypeError: urlopen() got an unexpected keyword argument 'proxies'\n",
      "\n"
     ]
    },
    {
     "name": "stdout",
     "output_type": "stream",
     "text": [
      "b'27.153.15.113:41969\\n'\n"
     ]
    },
    {
     "name": "stderr",
     "output_type": "stream",
     "text": [
      "Exception in thread Thread-345:\n",
      "Traceback (most recent call last):\n",
      "  File \"/usr/lib/python3.6/threading.py\", line 916, in _bootstrap_inner\n",
      "    self.run()\n",
      "  File \"<ipython-input-17-29a84bf43199>\", line 24, in run\n",
      "    html = urllib.request.urlopen(targetUrl, proxies={'http':'http://' + self.proxyip})\n",
      "TypeError: urlopen() got an unexpected keyword argument 'proxies'\n",
      "\n"
     ]
    },
    {
     "name": "stdout",
     "output_type": "stream",
     "text": [
      "b'171.80.156.159:41900\\n'\n"
     ]
    },
    {
     "name": "stderr",
     "output_type": "stream",
     "text": [
      "Exception in thread Thread-346:\n",
      "Traceback (most recent call last):\n",
      "  File \"/usr/lib/python3.6/threading.py\", line 916, in _bootstrap_inner\n",
      "    self.run()\n",
      "  File \"<ipython-input-17-29a84bf43199>\", line 24, in run\n",
      "    html = urllib.request.urlopen(targetUrl, proxies={'http':'http://' + self.proxyip})\n",
      "TypeError: urlopen() got an unexpected keyword argument 'proxies'\n",
      "\n"
     ]
    },
    {
     "name": "stdout",
     "output_type": "stream",
     "text": [
      "b'60.184.119.229:26093\\n'\n"
     ]
    },
    {
     "name": "stderr",
     "output_type": "stream",
     "text": [
      "Exception in thread Thread-347:\n",
      "Traceback (most recent call last):\n",
      "  File \"/usr/lib/python3.6/threading.py\", line 916, in _bootstrap_inner\n",
      "    self.run()\n",
      "  File \"<ipython-input-17-29a84bf43199>\", line 24, in run\n",
      "    html = urllib.request.urlopen(targetUrl, proxies={'http':'http://' + self.proxyip})\n",
      "TypeError: urlopen() got an unexpected keyword argument 'proxies'\n",
      "\n"
     ]
    },
    {
     "name": "stdout",
     "output_type": "stream",
     "text": [
      "b'123.134.218.22:23935\\n'\n"
     ]
    },
    {
     "name": "stderr",
     "output_type": "stream",
     "text": [
      "Exception in thread Thread-348:\n",
      "Traceback (most recent call last):\n",
      "  File \"/usr/lib/python3.6/threading.py\", line 916, in _bootstrap_inner\n",
      "    self.run()\n",
      "  File \"<ipython-input-17-29a84bf43199>\", line 24, in run\n",
      "    html = urllib.request.urlopen(targetUrl, proxies={'http':'http://' + self.proxyip})\n",
      "TypeError: urlopen() got an unexpected keyword argument 'proxies'\n",
      "\n"
     ]
    },
    {
     "name": "stdout",
     "output_type": "stream",
     "text": [
      "b'125.119.64.243:32819\\n'\n"
     ]
    },
    {
     "name": "stderr",
     "output_type": "stream",
     "text": [
      "Exception in thread Thread-349:\n",
      "Traceback (most recent call last):\n",
      "  File \"/usr/lib/python3.6/threading.py\", line 916, in _bootstrap_inner\n",
      "    self.run()\n",
      "  File \"<ipython-input-17-29a84bf43199>\", line 24, in run\n",
      "    html = urllib.request.urlopen(targetUrl, proxies={'http':'http://' + self.proxyip})\n",
      "TypeError: urlopen() got an unexpected keyword argument 'proxies'\n",
      "\n"
     ]
    }
   ],
   "source": [
    "# -*- coding: UTF-8 -*- \n",
    "    \n",
    "'''\n",
    "无忧代理IP Created on 2017年08月21日\n",
    "描述：本DEMO演示了使用爬虫（动态）代理IP请求网页的过程，代码使用了多线程\n",
    "逻辑：每隔5秒从API接口获取IP，对于每一个IP开启一个线程去抓取网页源码\n",
    "@author: www.data5u.com\n",
    "'''\n",
    "import urllib.request;\n",
    "import time;\n",
    "import threading;\n",
    "\n",
    "ips = [];\n",
    "\n",
    "# 爬数据的线程类\n",
    "class CrawlThread(threading.Thread):\n",
    "    def __init__(self,proxyip):\n",
    "        super(CrawlThread, self).__init__();\n",
    "        self.proxyip=proxyip;\n",
    "    def run(self):\n",
    "        # 开始计时\n",
    "        start = time.time();\n",
    "        # 使用代理IP请求目标网址\n",
    "        html = urllib.request.urlopen(targetUrl, proxies={'http':'http://' + self.proxyip})\n",
    "        # 转码\n",
    "        html = unicode(html.read(), \"gb2312\").encode(\"utf8\");\n",
    "        # 结束计时\n",
    "        end = time.time();\n",
    "        # 输出内容\n",
    "        print(threading.current_thread().getName() +  \"使用代理IP, 耗时 \" + str(end - start) + \"毫秒 \" + self.proxyip + \" 获取到如下HTML内容：\\n\" + html + \"\\n*************\")\n",
    "\n",
    "# 获取代理IP的线程类\n",
    "class GetIpThread(threading.Thread):\n",
    "    def __init__(self,fetchSecond):\n",
    "        super(GetIpThread, self).__init__();\n",
    "        self.fetchSecond=fetchSecond;\n",
    "    def run(self):\n",
    "        global ips;\n",
    "        while True:\n",
    "            # 获取IP列表\n",
    "            res = str(urllib.request.urlopen(apiUrl).read())\n",
    "            \n",
    "            res = res.rstrip(\"\\n\");\n",
    "            print(res)\n",
    "            # 按照\\n分割获取到的IP\n",
    "            ips = res.rsplit(\"\\n\");\n",
    "            # 利用每一个IP\n",
    "            for proxyip in ips:\n",
    "                # 开启一个线程\n",
    "                CrawlThread(proxyip).start();\n",
    "            # 休眠\n",
    "            time.sleep(self.fetchSecond);   \n",
    "\n",
    "if __name__ == '__main__':\n",
    "    # 这里填写无忧代理IP提供的API订单号（请到用户中心获取）\n",
    "    order = \"b2842163d1f24e01d3204cea0b07e6a3\"; \n",
    "    # 获取IP的API接口｀\n",
    "    apiUrl = \"http://api.ip.data5u.com/dynamic/get.html?order=\" + order;\n",
    "    # 要抓取的目标网站地址\n",
    "    targetUrl = \"http://2017.ip138.com/ic.asp\";\n",
    "    # 获取IP时间间隔，建议为5秒\n",
    "    fetchSecond = 5;\n",
    "    # 开始自动获取IP\n",
    "    GetIpThread(fetchSecond).start();"
   ]
  },
  {
   "cell_type": "code",
   "execution_count": null,
   "metadata": {},
   "outputs": [],
   "source": []
  },
  {
   "cell_type": "code",
   "execution_count": null,
   "metadata": {},
   "outputs": [],
   "source": []
  }
 ],
 "metadata": {
  "kernelspec": {
   "display_name": "Python 3",
   "language": "python",
   "name": "python3"
  },
  "language_info": {
   "codemirror_mode": {
    "name": "ipython",
    "version": 3
   },
   "file_extension": ".py",
   "mimetype": "text/x-python",
   "name": "python",
   "nbconvert_exporter": "python",
   "pygments_lexer": "ipython3",
   "version": "3.6.3"
  }
 },
 "nbformat": 4,
 "nbformat_minor": 2
}

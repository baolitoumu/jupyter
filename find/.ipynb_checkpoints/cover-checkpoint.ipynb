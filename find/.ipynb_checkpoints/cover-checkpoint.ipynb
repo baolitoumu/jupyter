{
 "cells": [
  {
   "cell_type": "code",
   "execution_count": null,
   "metadata": {},
   "outputs": [],
   "source": [
    "import urllib2\n",
    "import cookielib\n",
    "#声明一个CookieJar对象实例来保存cookie\n",
    "cookie = cookielib.CookieJar()\n",
    "#利用urllib2库的HTTPCookieProcessor对象来创建cookie处理器\n",
    "handler=urllib2.HTTPCookieProcessor(cookie)\n",
    "#通过handler来构建opener\n",
    "opener = urllib2.build_opener(handler)\n",
    "#此处的open方法同urllib2的urlopen方法，也可以传入request\n",
    "response = opener.open('http://www.baidu.com')\n",
    "for item in cookie:\n",
    "    print 'Name = '+item.name\n",
    "    print 'Value = '+item.value\n",
    "\n",
    "print (r.text)"
   ]
  },
  {
   "cell_type": "code",
   "execution_count": null,
   "metadata": {},
   "outputs": [],
   "source": []
  }
 ],
 "metadata": {
  "kernelspec": {
   "display_name": "Python 3",
   "language": "python",
   "name": "python3"
  },
  "language_info": {
   "codemirror_mode": {
    "name": "ipython",
    "version": 3
   },
   "file_extension": ".py",
   "mimetype": "text/x-python",
   "name": "python",
   "nbconvert_exporter": "python",
   "pygments_lexer": "ipython3",
   "version": "3.6.0"
  }
 },
 "nbformat": 4,
 "nbformat_minor": 2
}

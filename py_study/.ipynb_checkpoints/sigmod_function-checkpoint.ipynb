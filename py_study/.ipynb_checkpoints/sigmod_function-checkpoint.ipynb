{
 "cells": [
  {
   "cell_type": "code",
   "execution_count": 161,
   "metadata": {
    "collapsed": true
   },
   "outputs": [],
   "source": [
    "import numpy as np\n"
   ]
  },
  {
   "cell_type": "code",
   "execution_count": 162,
   "metadata": {
    "collapsed": true
   },
   "outputs": [],
   "source": [
    "def sigmoid(inputs):\n",
    "    sigmoid_scores = [1 / (1 + np.exp(- inputs)) ]\n",
    "    return sigmoid_scores"
   ]
  },
  {
   "cell_type": "code",
   "execution_count": 163,
   "metadata": {},
   "outputs": [
    {
     "name": "stdout",
     "output_type": "stream",
     "text": [
      "[[ 0.1  0.8]\n",
      " [ 0.4  0.6]]\n"
     ]
    }
   ],
   "source": [
    "input_x1 = 0.35\n",
    "input_x2 = 0.9\n",
    "w31 = 0.1\n",
    "w32 = 0.8\n",
    "w41 = 0.4\n",
    "w42 = 0.6\n",
    "y_target = 0.5\n",
    "w53 = 0.3\n",
    "w54 = 0.9\n",
    "w1 = np.array(((w31, w32), (w41, w42)))   #第一到第二层的权重\n",
    "w2 = np.array((w53,w54))    #第二层－第三层的 权重\n",
    "print(w1)"
   ]
  },
  {
   "cell_type": "code",
   "execution_count": 164,
   "metadata": {
    "collapsed": true
   },
   "outputs": [],
   "source": [
    "input_x12 = np.array((input_x1, input_x2))    #相当于y1 y2 的输入，这里不用激活"
   ]
  },
  {
   "cell_type": "code",
   "execution_count": 165,
   "metadata": {
    "scrolled": true
   },
   "outputs": [
    {
     "name": "stdout",
     "output_type": "stream",
     "text": [
      "[ 0.755  0.68 ]\n"
     ]
    }
   ],
   "source": [
    "y3_4_input = w1.dot(input_x12)  #第二层的y3 y4输入值 待激活\n",
    "print(y3_4_input)"
   ]
  },
  {
   "cell_type": "code",
   "execution_count": 166,
   "metadata": {},
   "outputs": [
    {
     "name": "stdout",
     "output_type": "stream",
     "text": [
      "[[ 0.6802672  0.6637387]]\n"
     ]
    }
   ],
   "source": [
    "Y1 = sigmoid(z1)\n",
    "Y1 = np.round(Y1,3)\n",
    "print(Y1)"
   ]
  },
  {
   "cell_type": "code",
   "execution_count": 167,
   "metadata": {},
   "outputs": [],
   "source": [
    "w1 = np.array([w53,w54])\n",
    "Y2 = Y1.dot(w1)\n",
    "print('y2',Y2)\n",
    "z2 = sigmoid(Y2)\n",
    "z2 = np.round(z2,3)\n",
    "print(z2)\n"
   ]
  },
  {
   "cell_type": "code",
   "execution_count": 168,
   "metadata": {},
   "outputs": [
    {
     "ename": "TypeError",
     "evalue": "unsupported operand type(s) for -: 'list' and 'float'",
     "output_type": "error",
     "traceback": [
      "\u001b[0;31m---------------------------------------------------------------------------\u001b[0m",
      "\u001b[0;31mTypeError\u001b[0m                                 Traceback (most recent call last)",
      "\u001b[0;32m<ipython-input-168-c65783129da9>\u001b[0m in \u001b[0;36m<module>\u001b[0;34m()\u001b[0m\n\u001b[0;32m----> 1\u001b[0;31m \u001b[0mc\u001b[0m \u001b[0;34m=\u001b[0m \u001b[0;34m(\u001b[0m\u001b[0mnp\u001b[0m\u001b[0;34m.\u001b[0m\u001b[0msquare\u001b[0m\u001b[0;34m(\u001b[0m\u001b[0my5_output\u001b[0m\u001b[0;34m-\u001b[0m\u001b[0;36m0.5\u001b[0m\u001b[0;34m)\u001b[0m\u001b[0;34m)\u001b[0m\u001b[0;34m/\u001b[0m\u001b[0;36m2\u001b[0m \u001b[0;31m#计算第三层的输出值与target的损失\u001b[0m\u001b[0;34m\u001b[0m\u001b[0m\n\u001b[0m",
      "\u001b[0;31mTypeError\u001b[0m: unsupported operand type(s) for -: 'list' and 'float'"
     ]
    }
   ],
   "source": [
    "c = (np.square(y5_output-0.5))/2 #计算第三层的输出值与target的损失"
   ]
  },
  {
   "cell_type": "code",
   "execution_count": null,
   "metadata": {
    "collapsed": true
   },
   "outputs": [],
   "source": [
    "derivative_w53 = ()"
   ]
  }
 ],
 "metadata": {
  "kernelspec": {
   "display_name": "Python 3",
   "language": "python",
   "name": "python3"
  },
  "language_info": {
   "codemirror_mode": {
    "name": "ipython",
    "version": 3
   },
   "file_extension": ".py",
   "mimetype": "text/x-python",
   "name": "python",
   "nbconvert_exporter": "python",
   "pygments_lexer": "ipython3",
   "version": "3.6.0"
  }
 },
 "nbformat": 4,
 "nbformat_minor": 2
}

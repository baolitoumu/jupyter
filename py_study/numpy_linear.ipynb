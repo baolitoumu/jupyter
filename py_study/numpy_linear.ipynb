{
 "cells": [
  {
   "cell_type": "code",
   "execution_count": 38,
   "metadata": {
    "collapsed": true
   },
   "outputs": [],
   "source": [
    "import numpy as np"
   ]
  },
  {
   "cell_type": "code",
   "execution_count": 39,
   "metadata": {
    "collapsed": true
   },
   "outputs": [],
   "source": [
    "batch_size = 64\n",
    "input_layer_dimension = 1000\n",
    "hidden_layer_dimension = 100\n",
    "output_layer_dimension = 10"
   ]
  },
  {
   "cell_type": "code",
   "execution_count": 40,
   "metadata": {},
   "outputs": [
    {
     "name": "stdout",
     "output_type": "stream",
     "text": [
      "2\n"
     ]
    }
   ],
   "source": [
    "#create random input and output data\n",
    "x = np.random.randn(batch_size,input_layer_dimension)\n",
    "y = np.random.randn(batch_size,output_layer_dimension)\n",
    "y1 = np.random.randn(4,4)\n"
   ]
  },
  {
   "cell_type": "code",
   "execution_count": 41,
   "metadata": {
    "collapsed": true
   },
   "outputs": [],
   "source": [
    "#randomly initialize weights\n",
    "w1 = np.random.randn(input_layer_dimension,hidden_layer_dimension)\n",
    "w2 = np.random.randn(hidden_layer_dimension,output_layer_dimension)"
   ]
  },
  {
   "cell_type": "code",
   "execution_count": 42,
   "metadata": {
    "collapsed": true
   },
   "outputs": [],
   "source": [
    "learning_rate = 1e-6 # 1*10的－6次方"
   ]
  },
  {
   "cell_type": "code",
   "execution_count": 43,
   "metadata": {},
   "outputs": [
    {
     "name": "stdout",
     "output_type": "stream",
     "text": [
      "0 34476932.706\n",
      "1 36033890.4722\n"
     ]
    }
   ],
   "source": [
    "for t in range(2):\n",
    "    #forward pass:compute predicted y\n",
    "    h = x.dot(w1)#compute w1 dot metrix (h = x*w )\n",
    "    h_relu = np.maximum(h, 0) #序列中小于0的都变成0  （激励函数，relu。。效果差不多）隐藏层输出 \n",
    "    y_pred = h_relu.dot(w2)  #  经过relu的h＊w2  最终输出预测y 输出层输出\n",
    "    #初始参数- learning rate *\n",
    "    #compute and print loss\n",
    "    loss = np.square(y_pred - y).sum() #预测值－实际值 的 平方和\n",
    "    print(t, loss)\n",
    "    \n",
    "    # backprop to compute gradients of w1 and w2 with respect to loss\n",
    "    grad_y_pred = 2.0 * (y_pred - y)\n",
    "    grad_w2 = h_relu.T.dot(grad_y_pred)\n",
    "    grad_h_relu = grad_y_pred.dot(w2.T)\n",
    "    grad_h = grad_h_relu.copy()\n",
    "    grad_h[h < 0] = 0\n",
    "    grad_w1 = x.T.dot(grad_h)\n",
    "    \n",
    "    #update weights\n",
    "    w1 -= learning_rate * grad_w1\n",
    "    w2 -= learning_rate * grad_w2"
   ]
  },
  {
   "cell_type": "code",
   "execution_count": 44,
   "metadata": {},
   "outputs": [
    {
     "data": {
      "text/plain": [
       "1.0075"
      ]
     },
     "execution_count": 44,
     "metadata": {},
     "output_type": "execute_result"
    }
   ],
   "source": [
    "0.05*0.15+1"
   ]
  }
 ],
 "metadata": {
  "kernelspec": {
   "display_name": "Python 3",
   "language": "python",
   "name": "python3"
  },
  "language_info": {
   "codemirror_mode": {
    "name": "ipython",
    "version": 3
   },
   "file_extension": ".py",
   "mimetype": "text/x-python",
   "name": "python",
   "nbconvert_exporter": "python",
   "pygments_lexer": "ipython3",
   "version": "3.6.0"
  }
 },
 "nbformat": 4,
 "nbformat_minor": 2
}

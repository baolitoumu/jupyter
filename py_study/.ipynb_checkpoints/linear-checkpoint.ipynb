{
 "cells": [
  {
   "cell_type": "code",
   "execution_count": 37,
   "metadata": {
    "collapsed": true
   },
   "outputs": [],
   "source": [
    "import numpy as np\n",
    "import torch\n",
    "from torch.autograd import Variable\n",
    "import torch.nn as nn\n",
    "import torch.nn.functional as F\n",
    "import matplotlib.pyplot as plt"
   ]
  },
  {
   "cell_type": "code",
   "execution_count": 38,
   "metadata": {
    "collapsed": true
   },
   "outputs": [],
   "source": [
    "x_train = np.array([[3.3], [4.4], [5.5], [6.71], [6.93], [4.168],\n",
    "                    [9.779], [6.182], [7.59], [2.167], [7.042],\n",
    "                    [10.791], [5.313], [7.997], [3.1]], dtype=np.float32)\n",
    "\n",
    "y_train = np.array([[1.7], [2.76], [2.09], [3.19], [1.694], [1.573],\n",
    "                    [3.366], [2.596], [2.53], [1.221], [2.827],\n",
    "                    [3.465], [1.65], [2.904], [1.3]], dtype=np.float32)"
   ]
  },
  {
   "cell_type": "code",
   "execution_count": 39,
   "metadata": {},
   "outputs": [],
   "source": [
    "x_train = torch.from_numpy(x_train)\n",
    "y_train = torch.from_numpy(y_train)"
   ]
  },
  {
   "cell_type": "markdown",
   "metadata": {},
   "source": [
    "#### numpy转换成tensor"
   ]
  },
  {
   "cell_type": "code",
   "execution_count": 40,
   "metadata": {
    "collapsed": true
   },
   "outputs": [],
   "source": [
    "\n",
    "\n",
    "class LinearRegression(nn.Module):\n",
    "    def __init__(self):\n",
    "        super(LinearRegression, self).__init__()\n",
    "        self.linear = nn.Linear(1, 1)  # input and output is 1 dimension\n",
    "\n",
    "    def forward(self, x):\n",
    "        out = self.linear(x)\n",
    "        return out\n",
    "model = LinearRegression()"
   ]
  },
  {
   "cell_type": "code",
   "execution_count": 41,
   "metadata": {},
   "outputs": [],
   "source": [
    "criterion = nn.MSELoss() #loss均方差\n",
    "optimizer = torch.optim.SGD(model.parameters(), lr=1e-4)"
   ]
  },
  {
   "cell_type": "code",
   "execution_count": 42,
   "metadata": {},
   "outputs": [
    {
     "name": "stdout",
     "output_type": "stream",
     "text": [
      "Epoch[20/1000], loss: 0.927706\n",
      "Epoch[40/1000], loss: 0.716602\n",
      "Epoch[60/1000], loss: 0.567394\n",
      "Epoch[80/1000], loss: 0.461931\n",
      "Epoch[100/1000], loss: 0.387383\n",
      "Epoch[120/1000], loss: 0.334685\n",
      "Epoch[140/1000], loss: 0.297430\n",
      "Epoch[160/1000], loss: 0.271088\n",
      "Epoch[180/1000], loss: 0.252459\n",
      "Epoch[200/1000], loss: 0.239282\n",
      "Epoch[220/1000], loss: 0.229957\n",
      "Epoch[240/1000], loss: 0.223355\n",
      "Epoch[260/1000], loss: 0.218678\n",
      "Epoch[280/1000], loss: 0.215361\n",
      "Epoch[300/1000], loss: 0.213005\n",
      "Epoch[320/1000], loss: 0.211328\n",
      "Epoch[340/1000], loss: 0.210132\n",
      "Epoch[360/1000], loss: 0.209274\n",
      "Epoch[380/1000], loss: 0.208657\n",
      "Epoch[400/1000], loss: 0.208209\n",
      "Epoch[420/1000], loss: 0.207881\n",
      "Epoch[440/1000], loss: 0.207638\n",
      "Epoch[460/1000], loss: 0.207454\n",
      "Epoch[480/1000], loss: 0.207313\n",
      "Epoch[500/1000], loss: 0.207202\n",
      "Epoch[520/1000], loss: 0.207112\n",
      "Epoch[540/1000], loss: 0.207037\n",
      "Epoch[560/1000], loss: 0.206972\n",
      "Epoch[580/1000], loss: 0.206916\n",
      "Epoch[600/1000], loss: 0.206864\n",
      "Epoch[620/1000], loss: 0.206816\n",
      "Epoch[640/1000], loss: 0.206771\n",
      "Epoch[660/1000], loss: 0.206727\n",
      "Epoch[680/1000], loss: 0.206685\n",
      "Epoch[700/1000], loss: 0.206644\n",
      "Epoch[720/1000], loss: 0.206604\n",
      "Epoch[740/1000], loss: 0.206564\n",
      "Epoch[760/1000], loss: 0.206525\n",
      "Epoch[780/1000], loss: 0.206486\n",
      "Epoch[800/1000], loss: 0.206447\n",
      "Epoch[820/1000], loss: 0.206408\n",
      "Epoch[840/1000], loss: 0.206369\n",
      "Epoch[860/1000], loss: 0.206331\n",
      "Epoch[880/1000], loss: 0.206292\n",
      "Epoch[900/1000], loss: 0.206254\n",
      "Epoch[920/1000], loss: 0.206215\n",
      "Epoch[940/1000], loss: 0.206177\n",
      "Epoch[960/1000], loss: 0.206139\n",
      "Epoch[980/1000], loss: 0.206100\n",
      "Epoch[1000/1000], loss: 0.206062\n"
     ]
    }
   ],
   "source": [
    "#train\n",
    "num_epochs = 1000\n",
    "for epoch in range(num_epochs):\n",
    "    \n",
    "    inputs = Variable(x_train)\n",
    "    target = Variable(y_train)\n",
    "    \n",
    "    # forward\n",
    "    out = model(inputs) # 前向传播\n",
    "    loss = criterion(out, target) # 计算loss\n",
    "    # backward\n",
    "    optimizer.zero_grad() # 梯度归零\n",
    "    loss.backward() # 方向传播\n",
    "    optimizer.step() # 更新参数\n",
    "\n",
    "    if (epoch+1) % 20 == 0:\n",
    "        print('Epoch[{}/{}], loss: {:.6f}'.format(epoch+1,num_epochs,loss.data[0]))"
   ]
  },
  {
   "cell_type": "code",
   "execution_count": 43,
   "metadata": {
    "collapsed": true
   },
   "outputs": [],
   "source": [
    "#test\n",
    "model.eval()#让model变成测试模式，这主要是对dropout和batch \n",
    "predict = model(Variable(x_train)) #normalization的操作在训练和测试的时候是不一样的\n",
    "predict = predict.data.numpy()"
   ]
  },
  {
   "cell_type": "code",
   "execution_count": 44,
   "metadata": {},
   "outputs": [
    {
     "data": {
      "text/plain": [
       "array([[ 1.32566142],\n",
       "       [ 1.69578362],\n",
       "       [ 2.06590581],\n",
       "       [ 2.4730401 ],\n",
       "       [ 2.5470643 ],\n",
       "       [ 1.61772156],\n",
       "       [ 3.5056808 ],\n",
       "       [ 2.29538155],\n",
       "       [ 2.76913786],\n",
       "       [ 0.94443572],\n",
       "       [ 2.58474946],\n",
       "       [ 3.84619331],\n",
       "       [ 2.002985  ],\n",
       "       [ 2.90608287],\n",
       "       [ 1.25836647]], dtype=float32)"
      ]
     },
     "execution_count": 44,
     "metadata": {},
     "output_type": "execute_result"
    }
   ],
   "source": [
    "predict"
   ]
  },
  {
   "cell_type": "code",
   "execution_count": null,
   "metadata": {
    "collapsed": true
   },
   "outputs": [],
   "source": []
  }
 ],
 "metadata": {
  "kernelspec": {
   "display_name": "Python 3",
   "language": "python",
   "name": "python3"
  },
  "language_info": {
   "codemirror_mode": {
    "name": "ipython",
    "version": 3
   },
   "file_extension": ".py",
   "mimetype": "text/x-python",
   "name": "python",
   "nbconvert_exporter": "python",
   "pygments_lexer": "ipython3",
   "version": "3.6.0"
  }
 },
 "nbformat": 4,
 "nbformat_minor": 2
}

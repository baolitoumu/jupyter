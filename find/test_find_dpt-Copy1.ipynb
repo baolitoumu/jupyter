{
 "cells": [
  {
   "cell_type": "code",
   "execution_count": 1,
   "metadata": {},
   "outputs": [],
   "source": [
    "import unittest\n",
    "from selenium import webdriver\n",
    "from bs4 import BeautifulSoup\n",
    "from twilio.rest import Client\n",
    "from time import sleep\n",
    "import time\n",
    "driver = webdriver.PhantomJS()\n",
    "driver.get('https://www.amazon.com/Sony-DPT-RP1-B-Digital-Paper/dp/B072DXXXN1/ref=sr_1_3?ie=UTF8&qid=1514879751&sr=8-3&keywords=sony+dpt+rp1')\n",
    "\n",
    "#soup = BeautifulSoup(driver.page_source, 'lxml')\n",
    "#titles = soup.find_all('h3', {'class': 'ellipsis'})\n",
    "#nums = soup.find_all('span', {'class': 'dy-num fr'})\n",
    "         \n",
    "         \n",
    "#\n"
   ]
  },
  {
   "cell_type": "code",
   "execution_count": null,
   "metadata": {},
   "outputs": [],
   "source": [
    "def iselem(element):\n",
    "        flag=True\n",
    "        driver.refresh()\n",
    "        try:\n",
    "            driver.find_element_by_xpath(element)\n",
    "            return flag\n",
    "        except:\n",
    "            flag=False\n",
    "            return flag"
   ]
  },
  {
   "cell_type": "code",
   "execution_count": null,
   "metadata": {},
   "outputs": [
    {
     "name": "stdout",
     "output_type": "stream",
     "text": [
      "价格无变动\n",
      "2018-01-05 08:36:56\n",
      "价格无变动\n",
      "2018-01-05 08:37:41\n",
      "价格无变动\n",
      "2018-01-05 08:38:26\n",
      "价格无变动\n",
      "2018-01-05 08:39:11\n",
      "价格无变动\n",
      "2018-01-05 08:39:56\n",
      "价格无变动\n",
      "2018-01-05 08:40:40\n",
      "价格无变动\n",
      "2018-01-05 08:41:24\n",
      "价格无变动\n",
      "2018-01-05 08:42:09\n",
      "价格无变动\n",
      "2018-01-05 08:42:54\n",
      "价格无变动\n",
      "2018-01-05 08:43:37\n",
      "价格无变动\n",
      "2018-01-05 08:44:22\n",
      "价格无变动\n",
      "2018-01-05 08:45:06\n",
      "价格无变动\n",
      "2018-01-05 08:45:51\n",
      "价格无变动\n",
      "2018-01-05 08:46:35\n",
      "价格无变动\n",
      "2018-01-05 08:47:20\n",
      "价格无变动\n",
      "2018-01-05 08:48:05\n",
      "价格无变动\n",
      "2018-01-05 08:48:50\n",
      "价格无变动\n",
      "2018-01-05 08:49:35\n",
      "价格无变动\n",
      "2018-01-05 08:50:20\n"
     ]
    }
   ],
   "source": [
    "classflag3=iselem(\"//*[@id='olp_feature_div']/div/span/*[contains(text(),'699')]\")\n",
    "while (classflag3 == True) :\n",
    "    classflag3=iselem(\"//*[@id='olp_feature_div']/div/span/*[contains(text(),'699')]\")\n",
    "    driver.refresh()\n",
    "    print('价格无变动')\n",
    "    print(time.strftime('%Y-%m-%d %H:%M:%S',time.localtime(time.time())))\n",
    "    \n",
    "    \n",
    "    with open('findlog.txt', 'r+') as f:\n",
    "        content = f.read()        \n",
    "        f.seek(0, 0)\n",
    "        f.write(str(time.strftime('%Y-%m-%d %H:%M:%S',time.localtime(time.time())))+\"\\n\"+content)\n",
    "    \n",
    "    \n",
    "    time.sleep(40)\n",
    "\n",
    "body = '价格改变了++++++++++++++++++'\n",
    "def sendsms(body):\n",
    "    account_sid = \"ACedd76007a88f61e155325a3cb71fb3da\"\n",
    "    auth_token  = \"63ac12761ebb2a562acf883a60e19787\"\n",
    "    client = Client(account_sid, auth_token)\n",
    "    message = client.messages.create(to=\"+8618100180209\",from_=\"+12403803744\",body=body)\n",
    "    with open('findlog.txt', 'r+') as f:\n",
    "        content = f.read()        \n",
    "        f.seek(0, 0)\n",
    "        f.write(str(time.strftime('%Y-%m-%d %H:%M:%S',time.localtime(time.time())))+'价格改变了'+\"\\n\"+content)\n",
    "       # f.write(str('有货了')+\"\\n\"+content)\n",
    "        \n",
    "    return('价格改变了')    \n",
    "    \n",
    "\n",
    "sendsms(body)     "
   ]
  },
  {
   "cell_type": "code",
   "execution_count": null,
   "metadata": {},
   "outputs": [],
   "source": []
  }
 ],
 "metadata": {
  "kernelspec": {
   "display_name": "Python 3",
   "language": "python",
   "name": "python3"
  },
  "language_info": {
   "codemirror_mode": {
    "name": "ipython",
    "version": 3
   },
   "file_extension": ".py",
   "mimetype": "text/x-python",
   "name": "python",
   "nbconvert_exporter": "python",
   "pygments_lexer": "ipython3",
   "version": "3.5.2"
  }
 },
 "nbformat": 4,
 "nbformat_minor": 2
}

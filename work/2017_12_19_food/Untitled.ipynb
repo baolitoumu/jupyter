{
 "cells": [
  {
   "cell_type": "code",
   "execution_count": 36,
   "metadata": {},
   "outputs": [
    {
     "name": "stdout",
     "output_type": "stream",
     "text": [
      "    ss    sss  商户id     22 su33bject_id\n",
      "0  NaN    Amy     1  Billy         sub2\n",
      "1  NaN  Allen     2  Brian         sub4\n"
     ]
    }
   ],
   "source": [
    "import pandas as pd\n",
    "left = pd.DataFrame({\n",
    "         '商户id':[1,2,3,4,5],\n",
    "         'sss': ['Alex', 'Amy', 'Allen', 'Alice', 'Ayoung'],\n",
    "         'ss':['sub1','sub2','sub4','sub6','sub5']})\n",
    "right = pd.DataFrame(\n",
    "         {'商户id':[1,2],\n",
    "         '22': ['Billy', 'Brian',],\n",
    "          'sss': [ 'Amy', 'Allen', ],\n",
    "         'su33bject_id':['sub2','sub4']})\n",
    "rs = pd.merge(left,right,how='left')\n",
    "print(rs)\n",
    "print(join(self, other, on=None, how='left', lsuffix='', rsuffix='',sort=False))  "
   ]
  },
  {
   "cell_type": "code",
   "execution_count": 5,
   "metadata": {},
   "outputs": [],
   "source": [
    "In [41]: left = pd.DataFrame({'key1': ['K0', 'K0', 'K1', 'K2'],\n",
    "   ....:                      'key2': ['K0', 'K1', 'K0', 'K1'],\n",
    "   ....:                      'A': ['A0', 'A1', 'A2', 'A3'],\n",
    "   ....:                      'B': ['B0', 'B1', 'B2', 'B3']})"
   ]
  },
  {
   "cell_type": "code",
   "execution_count": 28,
   "metadata": {},
   "outputs": [
    {
     "name": "stdout",
     "output_type": "stream",
     "text": [
      "1\n",
      "2\n",
      "3\n",
      "4\n",
      "5\n",
      "6\n",
      "7\n",
      "8\n",
      "9\n"
     ]
    }
   ],
   "source": [
    "i=1\n",
    "for i in range(9):\n",
    "    print(i+1)"
   ]
  },
  {
   "cell_type": "code",
   "execution_count": null,
   "metadata": {},
   "outputs": [],
   "source": []
  }
 ],
 "metadata": {
  "kernelspec": {
   "display_name": "Python 3",
   "language": "python",
   "name": "python3"
  },
  "language_info": {
   "codemirror_mode": {
    "name": "ipython",
    "version": 3
   },
   "file_extension": ".py",
   "mimetype": "text/x-python",
   "name": "python",
   "nbconvert_exporter": "python",
   "pygments_lexer": "ipython3",
   "version": "3.6.0"
  }
 },
 "nbformat": 4,
 "nbformat_minor": 2
}

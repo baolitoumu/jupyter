{
 "cells": [
  {
   "cell_type": "code",
   "execution_count": 1,
   "metadata": {
    "collapsed": true
   },
   "outputs": [],
   "source": [
    "# The usual preamble\n",
    "%matplotlib inline\n",
    "import pandas as pd\n",
    "import matplotlib.pyplot as plt\n",
    "import numpy as np\n",
    "\n",
    "# This is necessary to show lots of columns in pandas 0.12. \n",
    "# Not necessary in pandas 0.13.\n",
    "pd.set_option('display.width', 5000) \n",
    "pd.set_option('max_colwidth',200)\n",
    "pd.set_option('display.max_columns', 90)\n",
    "pd.set_option('display.max_rows', 90)\n",
    "writer = pd.ExcelWriter('无营销活动门店举例.xlsx')"
   ]
  },
  {
   "cell_type": "code",
   "execution_count": 2,
   "metadata": {
    "collapsed": true
   },
   "outputs": [],
   "source": [
    "df = pd.read_csv(open('data.csv'))\n",
    "filter = ['商户ID',\n",
    "#'一级行业',\n",
    "#'二级行业',\n",
    "'商户类型',\n",
    "'商户简称',\n",
    "'商户全称',\n",
    "#'省',\n",
    "#'市',\n",
    "#'区',\n",
    "'地址',\n",
    "'联系方式',\n",
    "'近一月订单量',\n",
    "#'近一月订单销售额',\n",
    "#'近一周订单量',\n",
    "#'主要客流时间',\n",
    "#'主要客流的订单量',\n",
    "#'包含商品买赠订单数量',\n",
    "'包含商品折扣订单数量',\n",
    "'包含电子券订单数量',\n",
    "'预付卡支付订单数量',\n",
    "'会员单商品折扣',\n",
    "'整单优惠',\n",
    "'会员人数',\n",
    "'扫码点单'\n",
    "         ]\n",
    "\n",
    "\n"
   ]
  },
  {
   "cell_type": "code",
   "execution_count": null,
   "metadata": {
    "collapsed": true,
    "scrolled": false
   },
   "outputs": [],
   "source": []
  },
  {
   "cell_type": "code",
   "execution_count": 3,
   "metadata": {
    "collapsed": true
   },
   "outputs": [],
   "source": [
    "#mei有任何营销活动的商家\n",
    "df.loc[(df['包含商品买赠订单数量'] == 0) \n",
    "   &   (df['包含商品折扣订单数量'] == 0) \n",
    "   &   (df['包含电子券订单数量'] == 0) \n",
    "   &(df['预付卡支付订单数量'] == 0)\n",
    "   &(df['会员单商品折扣'] == 0) \n",
    "   &(df['会员人数'] == 0) ,\n",
    "    filter\n",
    "  ].sort_values(by=['近一月订单量'],ascending=False).reset_index(drop=True).to_excel(writer,'无营销活动举例门店')"
   ]
  },
  {
   "cell_type": "code",
   "execution_count": 4,
   "metadata": {
    "collapsed": true
   },
   "outputs": [],
   "source": [
    "writer.save()"
   ]
  }
 ],
 "metadata": {
  "kernelspec": {
   "display_name": "Python 3",
   "language": "python",
   "name": "python3"
  },
  "language_info": {
   "codemirror_mode": {
    "name": "ipython",
    "version": 3
   },
   "file_extension": ".py",
   "mimetype": "text/x-python",
   "name": "python",
   "nbconvert_exporter": "python",
   "pygments_lexer": "ipython3",
   "version": "3.5.2"
  }
 },
 "nbformat": 4,
 "nbformat_minor": 2
}

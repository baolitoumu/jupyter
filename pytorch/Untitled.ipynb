{
 "cells": [
  {
   "cell_type": "code",
   "execution_count": 2,
   "metadata": {},
   "outputs": [
    {
     "ename": "NameError",
     "evalue": "name 'pn' is not defined",
     "output_type": "error",
     "traceback": [
      "\u001b[0;31m---------------------------------------------------------------------------\u001b[0m",
      "\u001b[0;31mNameError\u001b[0m                                 Traceback (most recent call last)",
      "\u001b[0;32m<ipython-input-2-79c30814b1ae>\u001b[0m in \u001b[0;36m<module>\u001b[0;34m()\u001b[0m\n\u001b[0;32m----> 1\u001b[0;31m \u001b[0murl\u001b[0m \u001b[0;34m=\u001b[0m \u001b[0;34m'https://m.baidu.com/s?pn='\u001b[0m\u001b[0;34m+\u001b[0m\u001b[0mpn\u001b[0m\u001b[0;34m+\u001b[0m\u001b[0;34m'&usm='\u001b[0m\u001b[0;34m+\u001b[0m\u001b[0musm\u001b[0m\u001b[0;34m+\u001b[0m\u001b[0;34m'&word='\u001b[0m\u001b[0;34m+\u001b[0m\u001b[0mword\u001b[0m\u001b[0;34m+\u001b[0m\u001b[0;34m'&sa='\u001b[0m\u001b[0;34m+\u001b[0m\u001b[0msa\u001b[0m\u001b[0;34m+\u001b[0m\u001b[0;34m'&rsv_pq='\u001b[0m\u001b[0;34m+\u001b[0m\u001b[0mrsv_pq\u001b[0m\u001b[0;34m+\u001b[0m\u001b[0;34m'&rsv_t='\u001b[0m\u001b[0;34m+\u001b[0m\u001b[0mrsv_t\u001b[0m\u001b[0;34m+\u001b[0m\u001b[0;34m'&rqid='\u001b[0m\u001b[0;34m+\u001b[0m\u001b[0mrqid\u001b[0m\u001b[0;34m\u001b[0m\u001b[0m\n\u001b[0m",
      "\u001b[0;31mNameError\u001b[0m: name 'pn' is not defined"
     ]
    }
   ],
   "source": []
  },
  {
   "cell_type": "code",
   "execution_count": null,
   "metadata": {},
   "outputs": [],
   "source": []
  }
 ],
 "metadata": {
  "kernelspec": {
   "display_name": "Python 3",
   "language": "python",
   "name": "python3"
  },
  "language_info": {
   "codemirror_mode": {
    "name": "ipython",
    "version": 3
   },
   "file_extension": ".py",
   "mimetype": "text/x-python",
   "name": "python",
   "nbconvert_exporter": "python",
   "pygments_lexer": "ipython3",
   "version": "3.6.3"
  }
 },
 "nbformat": 4,
 "nbformat_minor": 2
}

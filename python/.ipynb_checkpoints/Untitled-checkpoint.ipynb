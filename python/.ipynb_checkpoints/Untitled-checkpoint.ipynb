{
 "cells": [
  {
   "cell_type": "code",
   "execution_count": 22,
   "metadata": {},
   "outputs": [],
   "source": [
    "import re"
   ]
  },
  {
   "cell_type": "code",
   "execution_count": 23,
   "metadata": {},
   "outputs": [
    {
     "ename": "error",
     "evalue": "missing ), unterminated subpattern at position 62",
     "output_type": "error",
     "traceback": [
      "\u001b[0;31m---------------------------------------------------------------------------\u001b[0m",
      "\u001b[0;31merror\u001b[0m                                     Traceback (most recent call last)",
      "\u001b[0;32m<ipython-input-23-dc0f9f709d6b>\u001b[0m in \u001b[0;36m<module>\u001b[0;34m()\u001b[0m\n\u001b[1;32m      1\u001b[0m \u001b[0mcontant\u001b[0m \u001b[0;34m=\u001b[0m\u001b[0;34m'<html xmlns=\"http://www.w3.org/1999/xhtml\"><head></head><body>({\\n    \"numFound\":1,\\t\"currPage\":1,\\t\"totalPage\":1,\\t\"ershouCount\":0,\\t\"idleCount\":1,\\t\"ershou\":[\\t\\t],\\n\\t\"idle\":[\\t\\t\\t\\t\\t\\t\\t\\t\\t\\n\\t\\t{\\n\\t\\t\\t\"user\":{\\n\\t\\t\\t\\t\"userIcon\":\"//wwc.alicdn.com/avatar/getAvatar.do?userNick=kk玩笑zhu&amp;width=30&amp;height=30&amp;type=sns\",\\t\\t\\t\\t\"userNick\":\"kk玩笑zhu\",\\t\\t\\t\\t\"vipLevel\":2,\\t\\t\\t\\t\"userTypeId\":[],\\t\\t\\t\\t\"isTaobaoWomen\":false,\\t\\t\\t\\t\"taobaoWomenUrl\":\"//mm.taobao.com/2680102980.htm\",\\n\\t\\t\\t\\t\"userCreditUrl\":\"//s.2.taobao.com/list/list.htm?usernick=kk%CD%E6%D0%A6zhu\",\\n\\t\\t\\t\\t\"userItemsUrl\":\"//s.2.taobao.com/list/list.htm?usernick=kk%CD%E6%D0%A6zhu\",\\n\\t\\t\\t\\t\"isSinaV\":false,\\t\\t\\t\\t\"yellowSeller\":false\\t\\t\\t},\\n\\t\\t\\t\"item\":{\\n\\t\\t\\t\\t\"imageUrl\":\"//img.alicdn.com/bao/uploaded/i4/6000000004803/TB2rFOeowvD8KJjSsplXXaIEFXa_!!0-fleamarket.jpg_220x10000.jpg\",\\t\\t\\t\\t\"imageHeight\":720,\\t\\t\\t\\t\"imageWidth\":1280,\\t\\t\\t\\t\"itemUrl\":\"//2.taobao.com/item.htm?id=564454908047&amp;from=list&amp;similarUrl=\",\\t\\t\\t\\t\"isBrandNew\":false,\\t\\t\\t\\t\"price\":\"1500.00\",\\t\\t\\t\\t\"orgPrice\":\"\",\\t\\t\\t\\t\"provcity\":\"重庆重庆\",\\t\\t\\t\\t\"describe\":\"耳机3副索尼IER-nw500n,血色围城OSTRYKC06A酷狗蓝牙耳机M1。手机锤子M1L高通821屏幕有裂痕，相机用不起mp3播放器爱国者M6要哪个的带价反正都便宜\",\\t\\t\\t\\t\"publishTime\":\"2018.01.26\",\\t\\t\\t\\t\"itemFrom\":\"发布自Android客户端\",\\t\\t\\t\\t\"itemFromDesc\":\"Android客户端\",\\n\\t\\t\\t\\t\"itemFromTarget\":\"//2.taobao.com/mobile/iphone.htm\",\\t\\t\\t\\t\"commentCount\":0,\\t\\t\\t\\t\"commentUrl\":\"//2.taobao.com/item.htm?id=564454908047&amp;from=list&amp;similarUrl=#item-comments\",\\t\\t\\t\\t\"collectCount\":0,\\t\\t\\t\\t\"title\":\"来看一看瞧一瞧便宜卖了\"\\n\\t\\t\\t}\\n\\t\\t}\\n\\t\\t\\t\\t]\\n})\\n</body></html>'\u001b[0m\u001b[0;34m\u001b[0m\u001b[0m\n\u001b[0;32m----> 2\u001b[0;31m \u001b[0ma\u001b[0m \u001b[0;34m=\u001b[0m \u001b[0mre\u001b[0m\u001b[0;34m.\u001b[0m\u001b[0msub\u001b[0m\u001b[0;34m(\u001b[0m\u001b[0;34m'<html xmlns=\"http://www.w3.org/1999/xhtml\"><head></head><body>({'\u001b[0m\u001b[0;34m,\u001b[0m\u001b[0;34m''\u001b[0m\u001b[0;34m,\u001b[0m\u001b[0mcontant\u001b[0m\u001b[0;34m)\u001b[0m\u001b[0;34m\u001b[0m\u001b[0m\n\u001b[0m\u001b[1;32m      3\u001b[0m \u001b[0ma\u001b[0m\u001b[0;34m\u001b[0m\u001b[0m\n",
      "\u001b[0;32m/usr/lib/python3.5/re.py\u001b[0m in \u001b[0;36msub\u001b[0;34m(pattern, repl, string, count, flags)\u001b[0m\n\u001b[1;32m    180\u001b[0m     \u001b[0ma\u001b[0m \u001b[0mcallable\u001b[0m\u001b[0;34m,\u001b[0m \u001b[0mit\u001b[0m\u001b[0;31m'\u001b[0m\u001b[0ms\u001b[0m \u001b[0mpassed\u001b[0m \u001b[0mthe\u001b[0m \u001b[0mmatch\u001b[0m \u001b[0mobject\u001b[0m \u001b[0;32mand\u001b[0m \u001b[0mmust\u001b[0m \u001b[0;32mreturn\u001b[0m\u001b[0;34m\u001b[0m\u001b[0m\n\u001b[1;32m    181\u001b[0m     a replacement string to be used.\"\"\"\n\u001b[0;32m--> 182\u001b[0;31m     \u001b[0;32mreturn\u001b[0m \u001b[0m_compile\u001b[0m\u001b[0;34m(\u001b[0m\u001b[0mpattern\u001b[0m\u001b[0;34m,\u001b[0m \u001b[0mflags\u001b[0m\u001b[0;34m)\u001b[0m\u001b[0;34m.\u001b[0m\u001b[0msub\u001b[0m\u001b[0;34m(\u001b[0m\u001b[0mrepl\u001b[0m\u001b[0;34m,\u001b[0m \u001b[0mstring\u001b[0m\u001b[0;34m,\u001b[0m \u001b[0mcount\u001b[0m\u001b[0;34m)\u001b[0m\u001b[0;34m\u001b[0m\u001b[0m\n\u001b[0m\u001b[1;32m    183\u001b[0m \u001b[0;34m\u001b[0m\u001b[0m\n\u001b[1;32m    184\u001b[0m \u001b[0;32mdef\u001b[0m \u001b[0msubn\u001b[0m\u001b[0;34m(\u001b[0m\u001b[0mpattern\u001b[0m\u001b[0;34m,\u001b[0m \u001b[0mrepl\u001b[0m\u001b[0;34m,\u001b[0m \u001b[0mstring\u001b[0m\u001b[0;34m,\u001b[0m \u001b[0mcount\u001b[0m\u001b[0;34m=\u001b[0m\u001b[0;36m0\u001b[0m\u001b[0;34m,\u001b[0m \u001b[0mflags\u001b[0m\u001b[0;34m=\u001b[0m\u001b[0;36m0\u001b[0m\u001b[0;34m)\u001b[0m\u001b[0;34m:\u001b[0m\u001b[0;34m\u001b[0m\u001b[0m\n",
      "\u001b[0;32m/usr/lib/python3.5/re.py\u001b[0m in \u001b[0;36m_compile\u001b[0;34m(pattern, flags)\u001b[0m\n\u001b[1;32m    291\u001b[0m     \u001b[0;32mif\u001b[0m \u001b[0;32mnot\u001b[0m \u001b[0msre_compile\u001b[0m\u001b[0;34m.\u001b[0m\u001b[0misstring\u001b[0m\u001b[0;34m(\u001b[0m\u001b[0mpattern\u001b[0m\u001b[0;34m)\u001b[0m\u001b[0;34m:\u001b[0m\u001b[0;34m\u001b[0m\u001b[0m\n\u001b[1;32m    292\u001b[0m         \u001b[0;32mraise\u001b[0m \u001b[0mTypeError\u001b[0m\u001b[0;34m(\u001b[0m\u001b[0;34m\"first argument must be string or compiled pattern\"\u001b[0m\u001b[0;34m)\u001b[0m\u001b[0;34m\u001b[0m\u001b[0m\n\u001b[0;32m--> 293\u001b[0;31m     \u001b[0mp\u001b[0m \u001b[0;34m=\u001b[0m \u001b[0msre_compile\u001b[0m\u001b[0;34m.\u001b[0m\u001b[0mcompile\u001b[0m\u001b[0;34m(\u001b[0m\u001b[0mpattern\u001b[0m\u001b[0;34m,\u001b[0m \u001b[0mflags\u001b[0m\u001b[0;34m)\u001b[0m\u001b[0;34m\u001b[0m\u001b[0m\n\u001b[0m\u001b[1;32m    294\u001b[0m     \u001b[0;32mif\u001b[0m \u001b[0;32mnot\u001b[0m \u001b[0;34m(\u001b[0m\u001b[0mflags\u001b[0m \u001b[0;34m&\u001b[0m \u001b[0mDEBUG\u001b[0m\u001b[0;34m)\u001b[0m\u001b[0;34m:\u001b[0m\u001b[0;34m\u001b[0m\u001b[0m\n\u001b[1;32m    295\u001b[0m         \u001b[0;32mif\u001b[0m \u001b[0mlen\u001b[0m\u001b[0;34m(\u001b[0m\u001b[0m_cache\u001b[0m\u001b[0;34m)\u001b[0m \u001b[0;34m>=\u001b[0m \u001b[0m_MAXCACHE\u001b[0m\u001b[0;34m:\u001b[0m\u001b[0;34m\u001b[0m\u001b[0m\n",
      "\u001b[0;32m/usr/lib/python3.5/sre_compile.py\u001b[0m in \u001b[0;36mcompile\u001b[0;34m(p, flags)\u001b[0m\n\u001b[1;32m    534\u001b[0m     \u001b[0;32mif\u001b[0m \u001b[0misstring\u001b[0m\u001b[0;34m(\u001b[0m\u001b[0mp\u001b[0m\u001b[0;34m)\u001b[0m\u001b[0;34m:\u001b[0m\u001b[0;34m\u001b[0m\u001b[0m\n\u001b[1;32m    535\u001b[0m         \u001b[0mpattern\u001b[0m \u001b[0;34m=\u001b[0m \u001b[0mp\u001b[0m\u001b[0;34m\u001b[0m\u001b[0m\n\u001b[0;32m--> 536\u001b[0;31m         \u001b[0mp\u001b[0m \u001b[0;34m=\u001b[0m \u001b[0msre_parse\u001b[0m\u001b[0;34m.\u001b[0m\u001b[0mparse\u001b[0m\u001b[0;34m(\u001b[0m\u001b[0mp\u001b[0m\u001b[0;34m,\u001b[0m \u001b[0mflags\u001b[0m\u001b[0;34m)\u001b[0m\u001b[0;34m\u001b[0m\u001b[0m\n\u001b[0m\u001b[1;32m    537\u001b[0m     \u001b[0;32melse\u001b[0m\u001b[0;34m:\u001b[0m\u001b[0;34m\u001b[0m\u001b[0m\n\u001b[1;32m    538\u001b[0m         \u001b[0mpattern\u001b[0m \u001b[0;34m=\u001b[0m \u001b[0;32mNone\u001b[0m\u001b[0;34m\u001b[0m\u001b[0m\n",
      "\u001b[0;32m/usr/lib/python3.5/sre_parse.py\u001b[0m in \u001b[0;36mparse\u001b[0;34m(str, flags, pattern)\u001b[0m\n\u001b[1;32m    827\u001b[0m     \u001b[0mpattern\u001b[0m\u001b[0;34m.\u001b[0m\u001b[0mstr\u001b[0m \u001b[0;34m=\u001b[0m \u001b[0mstr\u001b[0m\u001b[0;34m\u001b[0m\u001b[0m\n\u001b[1;32m    828\u001b[0m \u001b[0;34m\u001b[0m\u001b[0m\n\u001b[0;32m--> 829\u001b[0;31m     \u001b[0mp\u001b[0m \u001b[0;34m=\u001b[0m \u001b[0m_parse_sub\u001b[0m\u001b[0;34m(\u001b[0m\u001b[0msource\u001b[0m\u001b[0;34m,\u001b[0m \u001b[0mpattern\u001b[0m\u001b[0;34m,\u001b[0m \u001b[0;36m0\u001b[0m\u001b[0;34m)\u001b[0m\u001b[0;34m\u001b[0m\u001b[0m\n\u001b[0m\u001b[1;32m    830\u001b[0m     \u001b[0mp\u001b[0m\u001b[0;34m.\u001b[0m\u001b[0mpattern\u001b[0m\u001b[0;34m.\u001b[0m\u001b[0mflags\u001b[0m \u001b[0;34m=\u001b[0m \u001b[0mfix_flags\u001b[0m\u001b[0;34m(\u001b[0m\u001b[0mstr\u001b[0m\u001b[0;34m,\u001b[0m \u001b[0mp\u001b[0m\u001b[0;34m.\u001b[0m\u001b[0mpattern\u001b[0m\u001b[0;34m.\u001b[0m\u001b[0mflags\u001b[0m\u001b[0;34m)\u001b[0m\u001b[0;34m\u001b[0m\u001b[0m\n\u001b[1;32m    831\u001b[0m \u001b[0;34m\u001b[0m\u001b[0m\n",
      "\u001b[0;32m/usr/lib/python3.5/sre_parse.py\u001b[0m in \u001b[0;36m_parse_sub\u001b[0;34m(source, state, nested)\u001b[0m\n\u001b[1;32m    435\u001b[0m     \u001b[0mstart\u001b[0m \u001b[0;34m=\u001b[0m \u001b[0msource\u001b[0m\u001b[0;34m.\u001b[0m\u001b[0mtell\u001b[0m\u001b[0;34m(\u001b[0m\u001b[0;34m)\u001b[0m\u001b[0;34m\u001b[0m\u001b[0m\n\u001b[1;32m    436\u001b[0m     \u001b[0;32mwhile\u001b[0m \u001b[0;32mTrue\u001b[0m\u001b[0;34m:\u001b[0m\u001b[0;34m\u001b[0m\u001b[0m\n\u001b[0;32m--> 437\u001b[0;31m         \u001b[0mitemsappend\u001b[0m\u001b[0;34m(\u001b[0m\u001b[0m_parse\u001b[0m\u001b[0;34m(\u001b[0m\u001b[0msource\u001b[0m\u001b[0;34m,\u001b[0m \u001b[0mstate\u001b[0m\u001b[0;34m)\u001b[0m\u001b[0;34m)\u001b[0m\u001b[0;34m\u001b[0m\u001b[0m\n\u001b[0m\u001b[1;32m    438\u001b[0m         \u001b[0;32mif\u001b[0m \u001b[0;32mnot\u001b[0m \u001b[0msourcematch\u001b[0m\u001b[0;34m(\u001b[0m\u001b[0;34m\"|\"\u001b[0m\u001b[0;34m)\u001b[0m\u001b[0;34m:\u001b[0m\u001b[0;34m\u001b[0m\u001b[0m\n\u001b[1;32m    439\u001b[0m             \u001b[0;32mbreak\u001b[0m\u001b[0;34m\u001b[0m\u001b[0m\n",
      "\u001b[0;32m/usr/lib/python3.5/sre_parse.py\u001b[0m in \u001b[0;36m_parse\u001b[0;34m(source, state)\u001b[0m\n\u001b[1;32m    779\u001b[0m             \u001b[0;32mif\u001b[0m \u001b[0;32mnot\u001b[0m \u001b[0msource\u001b[0m\u001b[0;34m.\u001b[0m\u001b[0mmatch\u001b[0m\u001b[0;34m(\u001b[0m\u001b[0;34m\")\"\u001b[0m\u001b[0;34m)\u001b[0m\u001b[0;34m:\u001b[0m\u001b[0;34m\u001b[0m\u001b[0m\n\u001b[1;32m    780\u001b[0m                 raise source.error(\"missing ), unterminated subpattern\",\n\u001b[0;32m--> 781\u001b[0;31m                                    source.tell() - start)\n\u001b[0m\u001b[1;32m    782\u001b[0m             \u001b[0;32mif\u001b[0m \u001b[0mgroup\u001b[0m \u001b[0;32mis\u001b[0m \u001b[0;32mnot\u001b[0m \u001b[0;32mNone\u001b[0m\u001b[0;34m:\u001b[0m\u001b[0;34m\u001b[0m\u001b[0m\n\u001b[1;32m    783\u001b[0m                 \u001b[0mstate\u001b[0m\u001b[0;34m.\u001b[0m\u001b[0mclosegroup\u001b[0m\u001b[0;34m(\u001b[0m\u001b[0mgroup\u001b[0m\u001b[0;34m,\u001b[0m \u001b[0mp\u001b[0m\u001b[0;34m)\u001b[0m\u001b[0;34m\u001b[0m\u001b[0m\n",
      "\u001b[0;31merror\u001b[0m: missing ), unterminated subpattern at position 62"
     ]
    }
   ],
   "source": [
    "contant ='<html xmlns=\"http://www.w3.org/1999/xhtml\"><head></head><body>({\\n    \"numFound\":1,\\t\"currPage\":1,\\t\"totalPage\":1,\\t\"ershouCount\":0,\\t\"idleCount\":1,\\t\"ershou\":[\\t\\t],\\n\\t\"idle\":[\\t\\t\\t\\t\\t\\t\\t\\t\\t\\n\\t\\t{\\n\\t\\t\\t\"user\":{\\n\\t\\t\\t\\t\"userIcon\":\"//wwc.alicdn.com/avatar/getAvatar.do?userNick=kk玩笑zhu&amp;width=30&amp;height=30&amp;type=sns\",\\t\\t\\t\\t\"userNick\":\"kk玩笑zhu\",\\t\\t\\t\\t\"vipLevel\":2,\\t\\t\\t\\t\"userTypeId\":[],\\t\\t\\t\\t\"isTaobaoWomen\":false,\\t\\t\\t\\t\"taobaoWomenUrl\":\"//mm.taobao.com/2680102980.htm\",\\n\\t\\t\\t\\t\"userCreditUrl\":\"//s.2.taobao.com/list/list.htm?usernick=kk%CD%E6%D0%A6zhu\",\\n\\t\\t\\t\\t\"userItemsUrl\":\"//s.2.taobao.com/list/list.htm?usernick=kk%CD%E6%D0%A6zhu\",\\n\\t\\t\\t\\t\"isSinaV\":false,\\t\\t\\t\\t\"yellowSeller\":false\\t\\t\\t},\\n\\t\\t\\t\"item\":{\\n\\t\\t\\t\\t\"imageUrl\":\"//img.alicdn.com/bao/uploaded/i4/6000000004803/TB2rFOeowvD8KJjSsplXXaIEFXa_!!0-fleamarket.jpg_220x10000.jpg\",\\t\\t\\t\\t\"imageHeight\":720,\\t\\t\\t\\t\"imageWidth\":1280,\\t\\t\\t\\t\"itemUrl\":\"//2.taobao.com/item.htm?id=564454908047&amp;from=list&amp;similarUrl=\",\\t\\t\\t\\t\"isBrandNew\":false,\\t\\t\\t\\t\"price\":\"1500.00\",\\t\\t\\t\\t\"orgPrice\":\"\",\\t\\t\\t\\t\"provcity\":\"重庆重庆\",\\t\\t\\t\\t\"describe\":\"耳机3副索尼IER-nw500n,血色围城OSTRYKC06A酷狗蓝牙耳机M1。手机锤子M1L高通821屏幕有裂痕，相机用不起mp3播放器爱国者M6要哪个的带价反正都便宜\",\\t\\t\\t\\t\"publishTime\":\"2018.01.26\",\\t\\t\\t\\t\"itemFrom\":\"发布自Android客户端\",\\t\\t\\t\\t\"itemFromDesc\":\"Android客户端\",\\n\\t\\t\\t\\t\"itemFromTarget\":\"//2.taobao.com/mobile/iphone.htm\",\\t\\t\\t\\t\"commentCount\":0,\\t\\t\\t\\t\"commentUrl\":\"//2.taobao.com/item.htm?id=564454908047&amp;from=list&amp;similarUrl=#item-comments\",\\t\\t\\t\\t\"collectCount\":0,\\t\\t\\t\\t\"title\":\"来看一看瞧一瞧便宜卖了\"\\n\\t\\t\\t}\\n\\t\\t}\\n\\t\\t\\t\\t]\\n})\\n</body></html>'\n",
    "a = contant.replace('html','')\n",
    "a"
   ]
  },
  {
   "cell_type": "code",
   "execution_count": 14,
   "metadata": {},
   "outputs": [
    {
     "data": {
      "text/plain": [
       "''"
      ]
     },
     "execution_count": 14,
     "metadata": {},
     "output_type": "execute_result"
    }
   ],
   "source": [
    "a"
   ]
  },
  {
   "cell_type": "code",
   "execution_count": null,
   "metadata": {},
   "outputs": [],
   "source": []
  }
 ],
 "metadata": {
  "kernelspec": {
   "display_name": "Python 3",
   "language": "python",
   "name": "python3"
  },
  "language_info": {
   "codemirror_mode": {
    "name": "ipython",
    "version": 3
   },
   "file_extension": ".py",
   "mimetype": "text/x-python",
   "name": "python",
   "nbconvert_exporter": "python",
   "pygments_lexer": "ipython3",
   "version": "3.5.2"
  }
 },
 "nbformat": 4,
 "nbformat_minor": 2
}
